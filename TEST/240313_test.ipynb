{
 "cells": [
  {
   "cell_type": "code",
   "outputs": [],
   "source": [
    "import torch"
   ],
   "metadata": {
    "collapsed": false,
    "ExecuteTime": {
     "end_time": "2024-03-13T00:13:14.459510Z",
     "start_time": "2024-03-13T00:13:14.455341Z"
    }
   },
   "id": "9c5e8ec2594cfbc3",
   "execution_count": 5
  },
  {
   "cell_type": "markdown",
   "source": [
    "1. 화면상에서 Pytorch에서 데이터를 저장하는 단위는 (  )입니다."
   ],
   "metadata": {
    "collapsed": false
   },
   "id": "e50fba35a2bb81cf"
  },
  {
   "cell_type": "markdown",
   "source": [
    "tensor"
   ],
   "metadata": {
    "collapsed": false
   },
   "id": "aebabcf60b6793e7"
  },
  {
   "cell_type": "markdown",
   "source": [
    "2. 1번 문제에 해당하는 것의 특징을 간력히 설명해 보세요."
   ],
   "metadata": {
    "collapsed": false
   },
   "id": "b50633ec0332f426"
  },
  {
   "cell_type": "markdown",
   "source": [
    "스칼라, 0차원"
   ],
   "metadata": {
    "collapsed": false
   },
   "id": "5be0358930e843ab"
  },
  {
   "cell_type": "markdown",
   "source": [
    "3. Pytorch에서 정수형 데이터를 저장하는 데이터 타입을 모두 나열하세요.\n",
    "간단한 데이터 타입의 크기 설명도 함께 작성하세요."
   ],
   "metadata": {
    "collapsed": false
   },
   "id": "ae91b693eaaffadd"
  },
  {
   "cell_type": "markdown",
   "source": [
    "IntTensor"
   ],
   "metadata": {
    "collapsed": false
   },
   "id": "ffcab1b78f0e0025"
  },
  {
   "cell_type": "markdown",
   "source": [
    "4. Pytorch에 논리형 데이터로 저장 후 속성을 출력하는 코드를 작성하세요.\n",
    "데이터 : 10 -5 1.4 7 0 -1 0"
   ],
   "metadata": {
    "collapsed": false
   },
   "id": "e0d524b24622988d"
  },
  {
   "cell_type": "code",
   "outputs": [
    {
     "data": {
      "text/plain": "(bool, bool, bool, bool, bool, bool, bool)"
     },
     "execution_count": 114,
     "metadata": {},
     "output_type": "execute_result"
    }
   ],
   "source": [
    "a1 = torch.dtype=bool(10)\n",
    "a2 = torch.dtype=bool(-5)\n",
    "a3 = torch.dtype=bool(1.4)\n",
    "a4 = torch.dtype=bool(7)\n",
    "a5 = torch.dtype=bool(0)\n",
    "a6 = torch.dtype=bool(-1)\n",
    "a7 = torch.dtype=bool(0)\n",
    "\n",
    "type(a1), type(a2), type(a3), type(a4), type(a5), type(a6), type(a7)"
   ],
   "metadata": {
    "collapsed": false,
    "ExecuteTime": {
     "end_time": "2024-03-13T00:41:53.421994Z",
     "start_time": "2024-03-13T00:41:53.416140Z"
    }
   },
   "id": "3931097913fa2677",
   "execution_count": 114
  },
  {
   "cell_type": "markdown",
   "source": [
    "5. 10개의 0 데이터를 2차원으로 저장 코드를 작성하세요."
   ],
   "metadata": {
    "collapsed": false
   },
   "id": "d36f50fbe5ea76b4"
  },
  {
   "cell_type": "code",
   "outputs": [
    {
     "data": {
      "text/plain": "tensor([[0., 0., 0., 0., 0.],\n        [0., 0., 0., 0., 0.]])"
     },
     "execution_count": 115,
     "metadata": {},
     "output_type": "execute_result"
    }
   ],
   "source": [
    "b1 = torch.zeros(2,5)\n",
    "b1"
   ],
   "metadata": {
    "collapsed": false,
    "ExecuteTime": {
     "end_time": "2024-03-13T00:41:53.578808Z",
     "start_time": "2024-03-13T00:41:53.573745Z"
    }
   },
   "id": "581ff0426802b5cd",
   "execution_count": 115
  },
  {
   "cell_type": "markdown",
   "source": [
    "6. 5개의 1 데이터가 대각선으로 저장되는 2차원 저장 코드를 작성하세요."
   ],
   "metadata": {
    "collapsed": false
   },
   "id": "29af7d1e380a941f"
  },
  {
   "cell_type": "code",
   "outputs": [
    {
     "data": {
      "text/plain": "tensor([[1., 0., 0., 0., 0.],\n        [0., 1., 0., 0., 0.],\n        [0., 0., 1., 0., 0.],\n        [0., 0., 0., 1., 0.],\n        [0., 0., 0., 0., 1.]])"
     },
     "execution_count": 116,
     "metadata": {},
     "output_type": "execute_result"
    }
   ],
   "source": [
    "torch.eye(5,5)"
   ],
   "metadata": {
    "collapsed": false,
    "ExecuteTime": {
     "end_time": "2024-03-13T00:41:53.745474Z",
     "start_time": "2024-03-13T00:41:53.741639Z"
    }
   },
   "id": "c20c4cf067de52e6",
   "execution_count": 116
  },
  {
   "cell_type": "markdown",
   "source": [
    "7. 5번에서 저장된 형태와 동일하지만 값이 3이 저장된 코드를 작성하세요."
   ],
   "metadata": {
    "collapsed": false
   },
   "id": "db22a1824abf3f70"
  },
  {
   "cell_type": "code",
   "outputs": [
    {
     "data": {
      "text/plain": "tensor([[3., 3., 3., 3., 3.],\n        [3., 3., 3., 3., 3.]])"
     },
     "execution_count": 117,
     "metadata": {},
     "output_type": "execute_result"
    }
   ],
   "source": [
    "torch.full_like(b1, 3)"
   ],
   "metadata": {
    "collapsed": false,
    "ExecuteTime": {
     "end_time": "2024-03-13T00:41:53.912299Z",
     "start_time": "2024-03-13T00:41:53.908372Z"
    }
   },
   "id": "c7871318962ff1aa",
   "execution_count": 117
  },
  {
   "cell_type": "markdown",
   "source": [],
   "metadata": {
    "collapsed": false
   },
   "id": "7136bb4884d21426"
  },
  {
   "cell_type": "markdown",
   "source": [
    "8. ndarray데이터를 Pytorch에 저장하는 코드를 작성하세요.\n",
    "데이터 : 1 ~ 100 범위에서 7의 배수\n",
    "데이터 타입 : float32\n",
    "생서 방식 : 공유"
   ],
   "metadata": {
    "collapsed": false
   },
   "id": "5b23b86f6a38d3d6"
  },
  {
   "cell_type": "code",
   "outputs": [
    {
     "data": {
      "text/plain": "tensor([[0.7255, 0.2439, 0.1629],\n        [0.0217, 0.7694, 0.0217],\n        [0.6265, 0.5756, 0.6969],\n        [0.2216, 0.3649, 0.9519],\n        [0.5680, 0.3450, 0.8619]])"
     },
     "execution_count": 118,
     "metadata": {},
     "output_type": "execute_result"
    }
   ],
   "source": [
    "torch.rand(5,3)"
   ],
   "metadata": {
    "collapsed": false,
    "ExecuteTime": {
     "end_time": "2024-03-13T00:41:54.166664Z",
     "start_time": "2024-03-13T00:41:54.160321Z"
    }
   },
   "id": "68d22537aaef18ba",
   "execution_count": 118
  },
  {
   "cell_type": "markdown",
   "source": [
    "9. 아래 조건에 맞는 데이터를 Pytorch에 저장하는 코드를 작성하세요.\n",
    "이미지 파일 : flower.jpg 파일\n",
    "이미지 크기 : 120 x 80\n",
    "데이터 타입 : int8\n",
    "데이터 : 임의의 값"
   ],
   "metadata": {
    "collapsed": false
   },
   "id": "1f75832a99a7a67f"
  },
  {
   "cell_type": "markdown",
   "source": [
    "#### tensor는 세로, 가로 순으로 들어가므로 80x120으로 만들거나 120x80.T해야"
   ],
   "metadata": {
    "collapsed": false
   },
   "id": "a940413647fef69a"
  },
  {
   "cell_type": "markdown",
   "source": [
    "10. 아래 조건에 맞도록 코드를 작성하세요.\n",
    "데이터 : 임의의 정수 10개\n",
    "(1) 1D으로 저장\n",
    "(2) (1)에서 저장된 데이터를 요소 수 변경 없이 3D로 변환\n",
    "(3) (2)에서 저장된 데이터의 2개 차원 변경한 3D로 변환\n",
    "(4) (2)에서 저장된 데이터의 3개 차원 모두 변경한 3D로 변환"
   ],
   "metadata": {
    "collapsed": false
   },
   "id": "447743d579809ed8"
  },
  {
   "cell_type": "code",
   "outputs": [
    {
     "data": {
      "text/plain": "tensor([1, 2, 3, 4, 5, 6, 7, 8, 9, 0])"
     },
     "execution_count": 119,
     "metadata": {},
     "output_type": "execute_result"
    }
   ],
   "source": [
    "c1 = [1,2,3,4,5,6,7,8,9,0]\n",
    "c2 = torch.tensor(c1)\n",
    "c2"
   ],
   "metadata": {
    "collapsed": false,
    "ExecuteTime": {
     "end_time": "2024-03-13T00:41:54.410244Z",
     "start_time": "2024-03-13T00:41:54.406438Z"
    }
   },
   "id": "48030f99d4cea27",
   "execution_count": 119
  },
  {
   "cell_type": "code",
   "outputs": [
    {
     "data": {
      "text/plain": "tensor([[1],\n        [2],\n        [3],\n        [4],\n        [5],\n        [6],\n        [7],\n        [8],\n        [9],\n        [0]])"
     },
     "execution_count": 120,
     "metadata": {},
     "output_type": "execute_result"
    }
   ],
   "source": [
    "torch.unsqueeze(c2, 1)"
   ],
   "metadata": {
    "collapsed": false,
    "ExecuteTime": {
     "end_time": "2024-03-13T00:41:54.499176Z",
     "start_time": "2024-03-13T00:41:54.495737Z"
    }
   },
   "id": "f7a3b137ef1bfbfa",
   "execution_count": 120
  },
  {
   "cell_type": "markdown",
   "source": [
    "11. 아래 조건에 맞도록 코드를 작성하세요."
   ],
   "metadata": {
    "collapsed": false
   },
   "id": "c03eb8b1450f5484"
  },
  {
   "cell_type": "markdown",
   "source": [
    "11. 아래 조건에 맞도록 코드를 작성하세요.\n",
    "데이터\n",
    "- 국어 90, 70, 80\n",
    "- 영어 70, 100, 80\n",
    "- 수학 99, 88, 77\n",
    "(1) 위에 데이터를 저장\n",
    "(2) 과목별 합계, 평균, 최고점수 출력\n",
    "(3) 한 사람의 국어, 영어, 수학 점수 합계, 평균, 최고점수 출력\n"
   ],
   "metadata": {
    "collapsed": false
   },
   "id": "a5d5da23e26ab63d"
  },
  {
   "cell_type": "code",
   "outputs": [
    {
     "name": "stdout",
     "output_type": "stream",
     "text": [
      "(1) tensor(90) tensor(100) tensor(99)\n"
     ]
    }
   ],
   "source": [
    "e1 = torch.tensor([[90, 70, 80], [70,100,80],[99,88,77]])\n",
    "print('(1)', torch.max(e1[0]), torch.max(e1[1]), torch.max(e1[2]))"
   ],
   "metadata": {
    "collapsed": false,
    "ExecuteTime": {
     "end_time": "2024-03-13T00:41:54.744843Z",
     "start_time": "2024-03-13T00:41:54.740468Z"
    }
   },
   "id": "27b31ba82a5c3c7c",
   "execution_count": 121
  },
  {
   "cell_type": "code",
   "outputs": [
    {
     "name": "stdout",
     "output_type": "stream",
     "text": [
      "(2)\n",
      "tensor(240) tensor(90)\n",
      "tensor(250) tensor(100)\n",
      "tensor(264) tensor(99)\n"
     ]
    }
   ],
   "source": [
    "print('(2)')\n",
    "for i in range(3):\n",
    "    print(torch.sum(e1[i]), torch.max(e1[i]))"
   ],
   "metadata": {
    "collapsed": false,
    "ExecuteTime": {
     "end_time": "2024-03-13T00:41:54.829545Z",
     "start_time": "2024-03-13T00:41:54.826344Z"
    }
   },
   "id": "6df37e7772f8b092",
   "execution_count": 122
  },
  {
   "cell_type": "code",
   "outputs": [
    {
     "name": "stdout",
     "output_type": "stream",
     "text": [
      "(3)\n"
     ]
    },
    {
     "data": {
      "text/plain": "(tensor(754), tensor(100))"
     },
     "execution_count": 123,
     "metadata": {},
     "output_type": "execute_result"
    }
   ],
   "source": [
    "print('(3)')\n",
    "torch.sum(e1), torch.max(e1)"
   ],
   "metadata": {
    "collapsed": false,
    "ExecuteTime": {
     "end_time": "2024-03-13T00:41:55.209803Z",
     "start_time": "2024-03-13T00:41:55.206207Z"
    }
   },
   "id": "7db6b2bdae044ca9",
   "execution_count": 123
  },
  {
   "cell_type": "markdown",
   "source": [
    "12. 아래 조건에 맞도록 코드를 작성하세요.\n",
    "\n",
    "데이터 1\n",
    "- 국어 90, 70, 80\n",
    "- 영어 70, 100, 80\n",
    "- 수학 99, 88, 77\n",
    "\n",
    "데이터 2\n",
    "- 05, 02, 0.7\n",
    "\n",
    "(1) 위에 데이터를 저장\n",
    "(2) 데이터1과 데이터2의 사칙연산 결과\n",
    "(3) 데이터1과 데이터2의 행렬곱셈"
   ],
   "metadata": {
    "collapsed": false
   },
   "id": "4af0ea3ed21a2a34"
  },
  {
   "cell_type": "code",
   "outputs": [],
   "source": [
    "m1 = torch.tensor([[90,70,80], [70,100,80], [99,88,77]])\n",
    "m2 = torch.tensor([5, 2, 0.7])"
   ],
   "metadata": {
    "collapsed": false,
    "ExecuteTime": {
     "end_time": "2024-03-13T00:41:55.558317Z",
     "start_time": "2024-03-13T00:41:55.554747Z"
    }
   },
   "id": "76a57752b507a0ed",
   "execution_count": 124
  },
  {
   "cell_type": "code",
   "outputs": [
    {
     "data": {
      "text/plain": "tensor([[ 95.0000,  72.0000,  80.7000],\n        [ 75.0000, 102.0000,  80.7000],\n        [104.0000,  90.0000,  77.7000]])"
     },
     "execution_count": 125,
     "metadata": {},
     "output_type": "execute_result"
    }
   ],
   "source": [
    "m1.add(m2)"
   ],
   "metadata": {
    "collapsed": false,
    "ExecuteTime": {
     "end_time": "2024-03-13T00:41:55.802555Z",
     "start_time": "2024-03-13T00:41:55.798Z"
    }
   },
   "id": "715a111ad8e16404",
   "execution_count": 125
  },
  {
   "cell_type": "code",
   "outputs": [
    {
     "ename": "SyntaxError",
     "evalue": "invalid syntax (246543544.py, line 1)",
     "output_type": "error",
     "traceback": [
      "\u001B[0;36m  Cell \u001B[0;32mIn[126], line 1\u001B[0;36m\u001B[0m\n\u001B[0;31m    m1.\u001B[0m\n\u001B[0m       ^\u001B[0m\n\u001B[0;31mSyntaxError\u001B[0m\u001B[0;31m:\u001B[0m invalid syntax\n"
     ]
    }
   ],
   "source": [
    "m1."
   ],
   "metadata": {
    "collapsed": false,
    "ExecuteTime": {
     "end_time": "2024-03-13T00:41:56.032092Z",
     "start_time": "2024-03-13T00:41:56.028284Z"
    }
   },
   "id": "2a299100a5ff71c6",
   "execution_count": 126
  },
  {
   "cell_type": "code",
   "outputs": [
    {
     "data": {
      "text/plain": "tensor([[450.0000, 140.0000,  56.0000],\n        [350.0000, 200.0000,  56.0000],\n        [495.0000, 176.0000,  53.9000]])"
     },
     "execution_count": 127,
     "metadata": {},
     "output_type": "execute_result"
    }
   ],
   "source": [
    "m1.mul(m2)"
   ],
   "metadata": {
    "collapsed": false,
    "ExecuteTime": {
     "end_time": "2024-03-13T00:41:56.242833Z",
     "start_time": "2024-03-13T00:41:56.237016Z"
    }
   },
   "id": "aea729884001ecb5",
   "execution_count": 127
  },
  {
   "cell_type": "code",
   "outputs": [
    {
     "data": {
      "text/plain": "tensor([[ 18.0000,  35.0000, 114.2857],\n        [ 14.0000,  50.0000, 114.2857],\n        [ 19.8000,  44.0000, 110.0000]])"
     },
     "execution_count": 128,
     "metadata": {},
     "output_type": "execute_result"
    }
   ],
   "source": [
    "m1.div(m2)"
   ],
   "metadata": {
    "collapsed": false,
    "ExecuteTime": {
     "end_time": "2024-03-13T00:41:56.581998Z",
     "start_time": "2024-03-13T00:41:56.578735Z"
    }
   },
   "id": "6d885695ebee7354",
   "execution_count": 128
  },
  {
   "cell_type": "code",
   "outputs": [],
   "source": [],
   "metadata": {
    "collapsed": false,
    "ExecuteTime": {
     "end_time": "2024-03-13T00:41:56.965571Z",
     "start_time": "2024-03-13T00:41:56.960572Z"
    }
   },
   "id": "1f886b58001594ad",
   "execution_count": 128
  },
  {
   "cell_type": "code",
   "outputs": [],
   "source": [],
   "metadata": {
    "collapsed": false
   },
   "id": "e824755be3e644ee"
  }
 ],
 "metadata": {
  "kernelspec": {
   "display_name": "Python 3",
   "language": "python",
   "name": "python3"
  },
  "language_info": {
   "codemirror_mode": {
    "name": "ipython",
    "version": 2
   },
   "file_extension": ".py",
   "mimetype": "text/x-python",
   "name": "python",
   "nbconvert_exporter": "python",
   "pygments_lexer": "ipython2",
   "version": "2.7.6"
  }
 },
 "nbformat": 4,
 "nbformat_minor": 5
}
