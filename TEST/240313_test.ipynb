{
 "cells": [
  {
   "cell_type": "code",
   "outputs": [],
   "source": [
    "import torch"
   ],
   "metadata": {
    "collapsed": false,
    "ExecuteTime": {
     "end_time": "2024-03-13T07:57:03.081656Z",
     "start_time": "2024-03-13T07:57:03.046111Z"
    }
   },
   "id": "9c5e8ec2594cfbc3",
   "execution_count": 131
  },
  {
   "cell_type": "markdown",
   "source": [
    "1. 화면상에서 Pytorch에서 데이터를 저장하는 단위는 (  )입니다."
   ],
   "metadata": {
    "collapsed": false
   },
   "id": "e50fba35a2bb81cf"
  },
  {
   "cell_type": "markdown",
   "source": [
    "tensor"
   ],
   "metadata": {
    "collapsed": false
   },
   "id": "aebabcf60b6793e7"
  },
  {
   "cell_type": "markdown",
   "source": [
    "2. 1번 문제에 해당하는 것의 특징을 간력히 설명해 보세요."
   ],
   "metadata": {
    "collapsed": false
   },
   "id": "b50633ec0332f426"
  },
  {
   "cell_type": "markdown",
   "source": [
    "연산이 빠름"
   ],
   "metadata": {
    "collapsed": false
   },
   "id": "5be0358930e843ab"
  },
  {
   "cell_type": "markdown",
   "source": [
    "3. Pytorch에서 정수형 데이터를 저장하는 데이터 타입을 모두 나열하세요.\n",
    "간단한 데이터 타입의 크기 설명도 함께 작성하세요."
   ],
   "metadata": {
    "collapsed": false
   },
   "id": "ae91b693eaaffadd"
  },
  {
   "cell_type": "markdown",
   "source": [
    "IntTensor"
   ],
   "metadata": {
    "collapsed": false
   },
   "id": "ffcab1b78f0e0025"
  },
  {
   "cell_type": "markdown",
   "source": [
    "4. Pytorch에 논리형 데이터로 저장 후 속성을 출력하는 코드를 작성하세요.\n",
    "데이터 : 10 -5 1.4 7 0 -1 0"
   ],
   "metadata": {
    "collapsed": false
   },
   "id": "e0d524b24622988d"
  },
  {
   "cell_type": "code",
   "outputs": [
    {
     "data": {
      "text/plain": "(bool, bool, bool, bool, bool, bool, bool)"
     },
     "execution_count": 132,
     "metadata": {},
     "output_type": "execute_result"
    }
   ],
   "source": [
    "a1 = torch.dtype=bool(10)\n",
    "a2 = torch.dtype=bool(-5)\n",
    "a3 = torch.dtype=bool(1.4)\n",
    "a4 = torch.dtype=bool(7)\n",
    "a5 = torch.dtype=bool(0)\n",
    "a6 = torch.dtype=bool(-1)\n",
    "a7 = torch.dtype=bool(0)\n",
    "\n",
    "type(a1), type(a2), type(a3), type(a4), type(a5), type(a6), type(a7)"
   ],
   "metadata": {
    "collapsed": false,
    "ExecuteTime": {
     "end_time": "2024-03-13T07:57:03.092963Z",
     "start_time": "2024-03-13T07:57:03.079145Z"
    }
   },
   "id": "3931097913fa2677",
   "execution_count": 132
  },
  {
   "cell_type": "markdown",
   "source": [
    "5. 10개의 0 데이터를 2차원으로 저장 코드를 작성하세요."
   ],
   "metadata": {
    "collapsed": false
   },
   "id": "d36f50fbe5ea76b4"
  },
  {
   "cell_type": "code",
   "outputs": [
    {
     "data": {
      "text/plain": "tensor([[0., 0., 0., 0., 0.],\n        [0., 0., 0., 0., 0.]])"
     },
     "execution_count": 133,
     "metadata": {},
     "output_type": "execute_result"
    }
   ],
   "source": [
    "b1 = torch.zeros(2,5)\n",
    "b1"
   ],
   "metadata": {
    "collapsed": false,
    "ExecuteTime": {
     "end_time": "2024-03-13T07:57:03.096763Z",
     "start_time": "2024-03-13T07:57:03.090787Z"
    }
   },
   "id": "581ff0426802b5cd",
   "execution_count": 133
  },
  {
   "cell_type": "markdown",
   "source": [
    "6. 5개의 1 데이터가 대각선으로 저장되는 2차원 저장 코드를 작성하세요."
   ],
   "metadata": {
    "collapsed": false
   },
   "id": "29af7d1e380a941f"
  },
  {
   "cell_type": "code",
   "outputs": [
    {
     "data": {
      "text/plain": "tensor([[1., 0., 0., 0., 0.],\n        [0., 1., 0., 0., 0.],\n        [0., 0., 1., 0., 0.],\n        [0., 0., 0., 1., 0.],\n        [0., 0., 0., 0., 1.]])"
     },
     "execution_count": 134,
     "metadata": {},
     "output_type": "execute_result"
    }
   ],
   "source": [
    "torch.eye(5,5)"
   ],
   "metadata": {
    "collapsed": false,
    "ExecuteTime": {
     "end_time": "2024-03-13T07:57:03.103525Z",
     "start_time": "2024-03-13T07:57:03.097046Z"
    }
   },
   "id": "c20c4cf067de52e6",
   "execution_count": 134
  },
  {
   "cell_type": "markdown",
   "source": [
    "7. 5번에서 저장된 형태와 동일하지만 값이 3이 저장된 코드를 작성하세요."
   ],
   "metadata": {
    "collapsed": false
   },
   "id": "db22a1824abf3f70"
  },
  {
   "cell_type": "code",
   "outputs": [
    {
     "data": {
      "text/plain": "tensor([[3., 3., 3., 3., 3.],\n        [3., 3., 3., 3., 3.]])"
     },
     "execution_count": 135,
     "metadata": {},
     "output_type": "execute_result"
    }
   ],
   "source": [
    "torch.full_like(b1, 3)"
   ],
   "metadata": {
    "collapsed": false,
    "ExecuteTime": {
     "end_time": "2024-03-13T07:57:03.106605Z",
     "start_time": "2024-03-13T07:57:03.102590Z"
    }
   },
   "id": "c7871318962ff1aa",
   "execution_count": 135
  },
  {
   "cell_type": "markdown",
   "source": [],
   "metadata": {
    "collapsed": false
   },
   "id": "7136bb4884d21426"
  },
  {
   "cell_type": "markdown",
   "source": [
    "8. ndarray데이터를 Pytorch에 저장하는 코드를 작성하세요.\n",
    "데이터 : 1 ~ 100 범위에서 7의 배수\n",
    "데이터 타입 : float32\n",
    "생서 방식 : 공유"
   ],
   "metadata": {
    "collapsed": false
   },
   "id": "5b23b86f6a38d3d6"
  },
  {
   "cell_type": "code",
   "outputs": [
    {
     "data": {
      "text/plain": "tensor([[30, 94],\n        [58, 87],\n        [75, 59],\n        [ 5, 63],\n        [24, 32]])"
     },
     "execution_count": 155,
     "metadata": {},
     "output_type": "execute_result"
    }
   ],
   "source": [
    "torch.randint(1, 100, (5,2))"
   ],
   "metadata": {
    "collapsed": false,
    "ExecuteTime": {
     "end_time": "2024-03-13T08:04:23.439152Z",
     "start_time": "2024-03-13T08:04:23.431973Z"
    }
   },
   "id": "68d22537aaef18ba",
   "execution_count": 155
  },
  {
   "cell_type": "code",
   "outputs": [],
   "source": [
    "# 8. ndarray데이터를 Pytorch에 저장하는 코드를 작성하세요.(dtype = float32)\n",
    "import numpy as np\n",
    "array1 = np.arange(1, 101, 7)\n",
    "data8 = torch.as_tensor(array1, dtype=torch.float32)\n",
    "# data8 = torch.from_numpy(array1) # from_numpy는 dtype은 못 받음\n",
    "data8, data8.dtype"
   ],
   "metadata": {
    "collapsed": false
   },
   "id": "4e171422807fa43d"
  },
  {
   "cell_type": "markdown",
   "source": [
    "9. 아래 조건에 맞는 데이터를 Pytorch에 저장하는 코드를 작성하세요.\n",
    "이미지 파일 : flower.jpg 파일\n",
    "이미지 크기 : 120 x 80\n",
    "데이터 타입 : int8\n",
    "데이터 : 임의의 값"
   ],
   "metadata": {
    "collapsed": false
   },
   "id": "1f75832a99a7a67f"
  },
  {
   "cell_type": "markdown",
   "source": [
    "#### tensor는 세로, 가로 순으로 들어가므로 80x120으로 만들거나 120x80.T해야\n",
    "randint(0,255)"
   ],
   "metadata": {
    "collapsed": false
   },
   "id": "a940413647fef69a"
  },
  {
   "cell_type": "markdown",
   "source": [
    "10. 아래 조건에 맞도록 코드를 작성하세요.\n",
    "데이터 : 임의의 정수 10개\n",
    "(1) 1D으로 저장\n",
    "(2) (1)에서 저장된 데이터를 요소 수 변경 없이 3D로 변환\n",
    "(3) (2)에서 저장된 데이터의 2개 차원 변경한 3D로 변환\n",
    "(4) (2)에서 저장된 데이터의 3개 차원 모두 변경한 3D로 변환"
   ],
   "metadata": {
    "collapsed": false
   },
   "id": "447743d579809ed8"
  },
  {
   "cell_type": "code",
   "outputs": [],
   "source": [
    "c1 = [1,2,3,4,5,6,7,8,9,0]\n",
    "c2 = torch.tensor(c1)\n",
    "c2"
   ],
   "metadata": {
    "collapsed": false,
    "ExecuteTime": {
     "start_time": "2024-03-13T07:57:03.117814Z"
    }
   },
   "id": "48030f99d4cea27",
   "execution_count": null
  },
  {
   "cell_type": "code",
   "outputs": [],
   "source": [
    "torch.unsqueeze(c2, 1)\n",
    "torch.transpose()\n",
    "torch.permute()"
   ],
   "metadata": {
    "collapsed": false,
    "ExecuteTime": {
     "start_time": "2024-03-13T07:57:03.119001Z"
    }
   },
   "id": "f7a3b137ef1bfbfa",
   "execution_count": null
  },
  {
   "cell_type": "markdown",
   "source": [
    "11. 아래 조건에 맞도록 코드를 작성하세요."
   ],
   "metadata": {
    "collapsed": false
   },
   "id": "c03eb8b1450f5484"
  },
  {
   "cell_type": "markdown",
   "source": [
    "11. 아래 조건에 맞도록 코드를 작성하세요.\n",
    "데이터\n",
    "- 국어 90, 70, 80\n",
    "- 영어 70, 100, 80\n",
    "- 수학 99, 88, 77\n",
    "(1) 위에 데이터를 저장\n",
    "(2) 과목별 합계, 평균, 최고점수 출력\n",
    "(3) 한 사람의 국어, 영어, 수학 점수 합계, 평균, 최고점수 출력\n"
   ],
   "metadata": {
    "collapsed": false
   },
   "id": "a5d5da23e26ab63d"
  },
  {
   "cell_type": "code",
   "outputs": [],
   "source": [
    "e1 = torch.tensor([[90, 70, 80], [70,100,80],[99,88,77]])\n",
    "print('(1)', torch.max(e1[0]), torch.max(e1[1]), torch.max(e1[2]))"
   ],
   "metadata": {
    "collapsed": false,
    "ExecuteTime": {
     "start_time": "2024-03-13T07:57:03.120041Z"
    }
   },
   "id": "27b31ba82a5c3c7c",
   "execution_count": null
  },
  {
   "cell_type": "code",
   "outputs": [
    {
     "name": "stdout",
     "output_type": "stream",
     "text": [
      "(2)\n",
      "tensor(240) tensor(90)\n",
      "tensor(250) tensor(100)\n",
      "tensor(264) tensor(99)\n"
     ]
    }
   ],
   "source": [
    "print('(2)')\n",
    "for i in range(3):\n",
    "    print(torch.sum(e1[i]), torch.max(e1[i]))"
   ],
   "metadata": {
    "collapsed": false,
    "ExecuteTime": {
     "end_time": "2024-03-13T07:57:03.161734Z",
     "start_time": "2024-03-13T07:57:03.138785Z"
    }
   },
   "id": "6df37e7772f8b092",
   "execution_count": 137
  },
  {
   "cell_type": "code",
   "outputs": [
    {
     "name": "stdout",
     "output_type": "stream",
     "text": [
      "(3)\n"
     ]
    },
    {
     "data": {
      "text/plain": "(tensor(754), tensor(100))"
     },
     "execution_count": 138,
     "metadata": {},
     "output_type": "execute_result"
    }
   ],
   "source": [
    "print('(3)')\n",
    "torch.sum(e1), torch.max(e1)"
   ],
   "metadata": {
    "collapsed": false,
    "ExecuteTime": {
     "end_time": "2024-03-13T07:57:03.183764Z",
     "start_time": "2024-03-13T07:57:03.160740Z"
    }
   },
   "id": "7db6b2bdae044ca9",
   "execution_count": 138
  },
  {
   "cell_type": "markdown",
   "source": [
    "12. 아래 조건에 맞도록 코드를 작성하세요.\n",
    "\n",
    "데이터 1\n",
    "- 국어 90, 70, 80\n",
    "- 영어 70, 100, 80\n",
    "- 수학 99, 88, 77\n",
    "\n",
    "데이터 2\n",
    "- 05, 02, 0.7\n",
    "\n",
    "(1) 위에 데이터를 저장\n",
    "(2) 데이터1과 데이터2의 사칙연산 결과\n",
    "(3) 데이터1과 데이터2의 행렬곱셈"
   ],
   "metadata": {
    "collapsed": false
   },
   "id": "4af0ea3ed21a2a34"
  },
  {
   "cell_type": "code",
   "outputs": [],
   "source": [
    "m1 = torch.tensor([[90,70,80], [70,100,80], [99,88,77]], dtype=torch.float32)\n",
    "m2 = torch.tensor([0.5, 0.2, 0.7])"
   ],
   "metadata": {
    "collapsed": false,
    "ExecuteTime": {
     "end_time": "2024-03-13T08:15:02.058238Z",
     "start_time": "2024-03-13T08:15:02.051273Z"
    }
   },
   "id": "76a57752b507a0ed",
   "execution_count": 163
  },
  {
   "cell_type": "code",
   "outputs": [
    {
     "data": {
      "text/plain": "tensor([[ 90.5000,  70.2000,  80.7000],\n        [ 70.5000, 100.2000,  80.7000],\n        [ 99.5000,  88.2000,  77.7000]])"
     },
     "execution_count": 164,
     "metadata": {},
     "output_type": "execute_result"
    }
   ],
   "source": [
    "m1.add(m2)"
   ],
   "metadata": {
    "collapsed": false,
    "ExecuteTime": {
     "end_time": "2024-03-13T08:15:02.313917Z",
     "start_time": "2024-03-13T08:15:02.309397Z"
    }
   },
   "id": "715a111ad8e16404",
   "execution_count": 164
  },
  {
   "cell_type": "code",
   "outputs": [
    {
     "data": {
      "text/plain": "tensor([[89.5000, 69.8000, 79.3000],\n        [69.5000, 99.8000, 79.3000],\n        [98.5000, 87.8000, 76.3000]])"
     },
     "execution_count": 165,
     "metadata": {},
     "output_type": "execute_result"
    }
   ],
   "source": [
    "m1.sub(m2)"
   ],
   "metadata": {
    "collapsed": false,
    "ExecuteTime": {
     "end_time": "2024-03-13T08:15:02.517720Z",
     "start_time": "2024-03-13T08:15:02.513810Z"
    }
   },
   "id": "2a299100a5ff71c6",
   "execution_count": 165
  },
  {
   "cell_type": "code",
   "outputs": [
    {
     "data": {
      "text/plain": "tensor([[45.0000, 14.0000, 56.0000],\n        [35.0000, 20.0000, 56.0000],\n        [49.5000, 17.6000, 53.9000]])"
     },
     "execution_count": 166,
     "metadata": {},
     "output_type": "execute_result"
    }
   ],
   "source": [
    "m1.mul(m2)"
   ],
   "metadata": {
    "collapsed": false,
    "ExecuteTime": {
     "end_time": "2024-03-13T08:15:02.720803Z",
     "start_time": "2024-03-13T08:15:02.715018Z"
    }
   },
   "id": "aea729884001ecb5",
   "execution_count": 166
  },
  {
   "cell_type": "code",
   "outputs": [
    {
     "data": {
      "text/plain": "tensor([[180.0000, 350.0000, 114.2857],\n        [140.0000, 500.0000, 114.2857],\n        [198.0000, 440.0000, 110.0000]])"
     },
     "execution_count": 167,
     "metadata": {},
     "output_type": "execute_result"
    }
   ],
   "source": [
    "m1.div(m2)"
   ],
   "metadata": {
    "collapsed": false,
    "ExecuteTime": {
     "end_time": "2024-03-13T08:15:02.908828Z",
     "start_time": "2024-03-13T08:15:02.904603Z"
    }
   },
   "id": "6d885695ebee7354",
   "execution_count": 167
  },
  {
   "cell_type": "code",
   "outputs": [
    {
     "data": {
      "text/plain": "tensor([115., 111., 121.])"
     },
     "execution_count": 169,
     "metadata": {},
     "output_type": "execute_result"
    }
   ],
   "source": [
    "# m1.dtype=torch.float32\n",
    "m1.matmul(m2)"
   ],
   "metadata": {
    "collapsed": false,
    "ExecuteTime": {
     "end_time": "2024-03-13T08:15:06.524728Z",
     "start_time": "2024-03-13T08:15:06.506204Z"
    }
   },
   "id": "1f886b58001594ad",
   "execution_count": 169
  },
  {
   "cell_type": "code",
   "outputs": [
    {
     "ename": "NameError",
     "evalue": "name 'dtype' is not defined",
     "output_type": "error",
     "traceback": [
      "\u001B[0;31m---------------------------------------------------------------------------\u001B[0m",
      "\u001B[0;31mNameError\u001B[0m                                 Traceback (most recent call last)",
      "Cell \u001B[0;32mIn[171], line 2\u001B[0m\n\u001B[1;32m      1\u001B[0m m1\u001B[38;5;241m.\u001B[39mfloat()\n\u001B[0;32m----> 2\u001B[0m \u001B[43mdtype\u001B[49m(m1)\n",
      "\u001B[0;31mNameError\u001B[0m: name 'dtype' is not defined"
     ]
    }
   ],
   "source": [
    "m1.float()\n"
   ],
   "metadata": {
    "collapsed": false,
    "ExecuteTime": {
     "end_time": "2024-03-13T08:15:36.790694Z",
     "start_time": "2024-03-13T08:15:36.782071Z"
    }
   },
   "id": "e824755be3e644ee",
   "execution_count": 171
  },
  {
   "cell_type": "code",
   "outputs": [],
   "source": [],
   "metadata": {
    "collapsed": false
   },
   "id": "d6b02a422affd57a"
  }
 ],
 "metadata": {
  "kernelspec": {
   "display_name": "Python 3",
   "language": "python",
   "name": "python3"
  },
  "language_info": {
   "codemirror_mode": {
    "name": "ipython",
    "version": 2
   },
   "file_extension": ".py",
   "mimetype": "text/x-python",
   "name": "python",
   "nbconvert_exporter": "python",
   "pygments_lexer": "ipython2",
   "version": "2.7.6"
  }
 },
 "nbformat": 4,
 "nbformat_minor": 5
}
