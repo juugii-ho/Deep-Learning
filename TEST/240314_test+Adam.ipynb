{
 "cells": [
  {
   "cell_type": "code",
   "execution_count": 339,
   "id": "initial_id",
   "metadata": {
    "collapsed": true,
    "ExecuteTime": {
     "end_time": "2024-03-14T04:27:52.804749Z",
     "start_time": "2024-03-14T04:27:52.656065Z"
    }
   },
   "outputs": [],
   "source": [
    "import torch"
   ]
  },
  {
   "cell_type": "markdown",
   "source": [
    "#### [ 미니 테스트  2024-03-14 ]<hr>\n",
    "[1] 지도학습에 대한 설명과 종류에 대해서 간략하게 설명해 주세요."
   ],
   "metadata": {
    "collapsed": false
   },
   "id": "e90b494410c8f21"
  },
  {
   "cell_type": "markdown",
   "source": [
    "지도학습 : 비지도학습과 달리 정답을 훈련과정에 제공하면서 학습을 시키는 것\n",
    "\n",
    "종류 : 회귀 - LinearRegression, KNeightborsRegression\n",
    "      분류 - LogisiticRegression, KNeighborsClassifier"
   ],
   "metadata": {
    "collapsed": false
   },
   "id": "aebc9b7610aee640"
  },
  {
   "cell_type": "markdown",
   "source": [
    "\n",
    "[2] 지도학습의 학습 프로세스를 간략하게 설명해 주세요."
   ],
   "metadata": {
    "collapsed": false
   },
   "id": "f82969eb5880919e"
  },
  {
   "cell_type": "markdown",
   "source": [
    "- 데이터 전처리\n",
    "- 학습\n",
    "- 예측값의 오차 역전파\n",
    "- 반복을 통해 최종 값 도출"
   ],
   "metadata": {
    "collapsed": false
   },
   "id": "dda2d13cbf66c9c2"
  },
  {
   "cell_type": "markdown",
   "source": [
    "\n",
    "[3] 선형회귀 대해 간략하게 설명해주세요.  \n",
    "    - 개념  \n",
    "    - 조건  \n",
    "    - 동작원리  \n",
    "    - 선형식  \n",
    "    - 오차/잔차 계산 방법  "
   ],
   "metadata": {
    "collapsed": false
   },
   "id": "ece3f6c9eef7ac17"
  },
  {
   "cell_type": "markdown",
   "source": [
    "개념 : 각 데이터의 분포에 전체 분포와의 오차 합이 가장 작은 선을 찾아 데이터를 설명하는 것\n",
    "조건 : 선형관계\n",
    "동작원리 : 오차 합 최소화\n",
    "선형식 : w1x1+w2x2+...+wnxn+b\n",
    "오차/잔차 계산 방법 : MSE"
   ],
   "metadata": {
    "collapsed": false
   },
   "id": "4c99dfec407cb8bd"
  },
  {
   "cell_type": "markdown",
   "source": [
    " \n",
    "[4] 로지스틱회귀 대해 간략하게 설명해주세요.  \n",
    "   - 개념  \n",
    "   - 조건  \n",
    "   - 동작원리  \n",
    "   - 선형식  \n",
    "   - 오차/잔차 계산 방법  "
   ],
   "metadata": {
    "collapsed": false
   },
   "id": "977a3087fb22b1b3"
  },
  {
   "cell_type": "markdown",
   "source": [
    "개념 : 선형관계를 바탕으로 이진분류\n",
    "조건 : 이진분류 관계\n",
    "동작원리 : 시그모이드 함수\n",
    "선형식 :\n",
    "오차/잔차 계산 방법 : 크로스-엔트로피"
   ],
   "metadata": {
    "collapsed": false
   },
   "id": "a2755b04e541a9c4"
  },
  {
   "cell_type": "markdown",
   "source": [
    " \n",
    "[5] Fashion MNIST 데이터셋에서 10개 카테고리 중 하나를 선택해서 2진 분류로 구현해 주세요.  \n",
    "- 데이터셋 : scikit-learn의 datasets 사용\n",
    "    - from sklearn.datasets import fetch_openml \n",
    "    - db_name = 'Fashion-MNIST'\n",
    "    - fashion_data = fetch_openml(name=db_name, parser='auto')\n",
    "  \n"
   ],
   "metadata": {
    "collapsed": false
   },
   "id": "b5fe77b156a0897f"
  },
  {
   "cell_type": "code",
   "outputs": [],
   "source": [
    "from sklearn.datasets import fetch_openml \n",
    "db_name = 'Fashion-MNIST'\n",
    "fashion_data = fetch_openml(name=db_name, parser='auto')"
   ],
   "metadata": {
    "collapsed": false,
    "ExecuteTime": {
     "end_time": "2024-03-14T04:27:55.956210Z",
     "start_time": "2024-03-14T04:27:52.807214Z"
    }
   },
   "id": "80bfd3facd8a148",
   "execution_count": 340
  },
  {
   "cell_type": "code",
   "outputs": [
    {
     "data": {
      "text/plain": "{'data':        pixel1  pixel2  pixel3  pixel4  pixel5  pixel6  pixel7  pixel8  pixel9  \\\n 0           0       0       0       0       0       0       0       0       0   \n 1           0       0       0       0       0       1       0       0       0   \n 2           0       0       0       0       0       0       0       0       0   \n 3           0       0       0       0       0       0       0       0      33   \n 4           0       0       0       0       0       0       0       0       0   \n ...       ...     ...     ...     ...     ...     ...     ...     ...     ...   \n 69995       0       0       0       0       0       0       0       0       0   \n 69996       0       0       0       0       0       0       0       0       0   \n 69997       0       0       0       0       0       0       0       0       0   \n 69998       0       0       0       0       0       0       0       0       0   \n 69999       0       0       0       0       0       0       0       0       0   \n \n        pixel10  ...  pixel775  pixel776  pixel777  pixel778  pixel779  \\\n 0            0  ...         0         0         0         0         0   \n 1            0  ...       119       114       130        76         0   \n 2           22  ...         0         0         1         0         0   \n 3           96  ...         0         0         0         0         0   \n 4            0  ...         0         0         0         0         0   \n ...        ...  ...       ...       ...       ...       ...       ...   \n 69995        0  ...         0         0         0         0         0   \n 69996       31  ...         0         0         0         0         0   \n 69997        0  ...        27         0         0         0         0   \n 69998        0  ...         0         0         0         0         0   \n 69999        0  ...         0         0         0         0         0   \n \n        pixel780  pixel781  pixel782  pixel783  pixel784  \n 0             0         0         0         0         0  \n 1             0         0         0         0         0  \n 2             0         0         0         0         0  \n 3             0         0         0         0         0  \n 4             0         0         0         0         0  \n ...         ...       ...       ...       ...       ...  \n 69995         0         0         0         0         0  \n 69996         0         0         0         0         0  \n 69997         0         0         0         0         0  \n 69998         0         0         0         0         0  \n 69999         0         0         0         0         0  \n \n [70000 rows x 784 columns],\n 'target': 0        9\n 1        0\n 2        0\n 3        3\n 4        0\n         ..\n 69995    9\n 69996    1\n 69997    8\n 69998    1\n 69999    5\n Name: class, Length: 70000, dtype: category\n Categories (10, object): ['0', '1', '2', '3', ..., '6', '7', '8', '9'],\n 'frame':        pixel1  pixel2  pixel3  pixel4  pixel5  pixel6  pixel7  pixel8  pixel9  \\\n 0           0       0       0       0       0       0       0       0       0   \n 1           0       0       0       0       0       1       0       0       0   \n 2           0       0       0       0       0       0       0       0       0   \n 3           0       0       0       0       0       0       0       0      33   \n 4           0       0       0       0       0       0       0       0       0   \n ...       ...     ...     ...     ...     ...     ...     ...     ...     ...   \n 69995       0       0       0       0       0       0       0       0       0   \n 69996       0       0       0       0       0       0       0       0       0   \n 69997       0       0       0       0       0       0       0       0       0   \n 69998       0       0       0       0       0       0       0       0       0   \n 69999       0       0       0       0       0       0       0       0       0   \n \n        pixel10  ...  pixel776  pixel777  pixel778  pixel779  pixel780  \\\n 0            0  ...         0         0         0         0         0   \n 1            0  ...       114       130        76         0         0   \n 2           22  ...         0         1         0         0         0   \n 3           96  ...         0         0         0         0         0   \n 4            0  ...         0         0         0         0         0   \n ...        ...  ...       ...       ...       ...       ...       ...   \n 69995        0  ...         0         0         0         0         0   \n 69996       31  ...         0         0         0         0         0   \n 69997        0  ...         0         0         0         0         0   \n 69998        0  ...         0         0         0         0         0   \n 69999        0  ...         0         0         0         0         0   \n \n        pixel781  pixel782  pixel783  pixel784  class  \n 0             0         0         0         0      9  \n 1             0         0         0         0      0  \n 2             0         0         0         0      0  \n 3             0         0         0         0      3  \n 4             0         0         0         0      0  \n ...         ...       ...       ...       ...    ...  \n 69995         0         0         0         0      9  \n 69996         0         0         0         0      1  \n 69997         0         0         0         0      8  \n 69998         0         0         0         0      1  \n 69999         0         0         0         0      5  \n \n [70000 rows x 785 columns],\n 'categories': None,\n 'feature_names': ['pixel1',\n  'pixel2',\n  'pixel3',\n  'pixel4',\n  'pixel5',\n  'pixel6',\n  'pixel7',\n  'pixel8',\n  'pixel9',\n  'pixel10',\n  'pixel11',\n  'pixel12',\n  'pixel13',\n  'pixel14',\n  'pixel15',\n  'pixel16',\n  'pixel17',\n  'pixel18',\n  'pixel19',\n  'pixel20',\n  'pixel21',\n  'pixel22',\n  'pixel23',\n  'pixel24',\n  'pixel25',\n  'pixel26',\n  'pixel27',\n  'pixel28',\n  'pixel29',\n  'pixel30',\n  'pixel31',\n  'pixel32',\n  'pixel33',\n  'pixel34',\n  'pixel35',\n  'pixel36',\n  'pixel37',\n  'pixel38',\n  'pixel39',\n  'pixel40',\n  'pixel41',\n  'pixel42',\n  'pixel43',\n  'pixel44',\n  'pixel45',\n  'pixel46',\n  'pixel47',\n  'pixel48',\n  'pixel49',\n  'pixel50',\n  'pixel51',\n  'pixel52',\n  'pixel53',\n  'pixel54',\n  'pixel55',\n  'pixel56',\n  'pixel57',\n  'pixel58',\n  'pixel59',\n  'pixel60',\n  'pixel61',\n  'pixel62',\n  'pixel63',\n  'pixel64',\n  'pixel65',\n  'pixel66',\n  'pixel67',\n  'pixel68',\n  'pixel69',\n  'pixel70',\n  'pixel71',\n  'pixel72',\n  'pixel73',\n  'pixel74',\n  'pixel75',\n  'pixel76',\n  'pixel77',\n  'pixel78',\n  'pixel79',\n  'pixel80',\n  'pixel81',\n  'pixel82',\n  'pixel83',\n  'pixel84',\n  'pixel85',\n  'pixel86',\n  'pixel87',\n  'pixel88',\n  'pixel89',\n  'pixel90',\n  'pixel91',\n  'pixel92',\n  'pixel93',\n  'pixel94',\n  'pixel95',\n  'pixel96',\n  'pixel97',\n  'pixel98',\n  'pixel99',\n  'pixel100',\n  'pixel101',\n  'pixel102',\n  'pixel103',\n  'pixel104',\n  'pixel105',\n  'pixel106',\n  'pixel107',\n  'pixel108',\n  'pixel109',\n  'pixel110',\n  'pixel111',\n  'pixel112',\n  'pixel113',\n  'pixel114',\n  'pixel115',\n  'pixel116',\n  'pixel117',\n  'pixel118',\n  'pixel119',\n  'pixel120',\n  'pixel121',\n  'pixel122',\n  'pixel123',\n  'pixel124',\n  'pixel125',\n  'pixel126',\n  'pixel127',\n  'pixel128',\n  'pixel129',\n  'pixel130',\n  'pixel131',\n  'pixel132',\n  'pixel133',\n  'pixel134',\n  'pixel135',\n  'pixel136',\n  'pixel137',\n  'pixel138',\n  'pixel139',\n  'pixel140',\n  'pixel141',\n  'pixel142',\n  'pixel143',\n  'pixel144',\n  'pixel145',\n  'pixel146',\n  'pixel147',\n  'pixel148',\n  'pixel149',\n  'pixel150',\n  'pixel151',\n  'pixel152',\n  'pixel153',\n  'pixel154',\n  'pixel155',\n  'pixel156',\n  'pixel157',\n  'pixel158',\n  'pixel159',\n  'pixel160',\n  'pixel161',\n  'pixel162',\n  'pixel163',\n  'pixel164',\n  'pixel165',\n  'pixel166',\n  'pixel167',\n  'pixel168',\n  'pixel169',\n  'pixel170',\n  'pixel171',\n  'pixel172',\n  'pixel173',\n  'pixel174',\n  'pixel175',\n  'pixel176',\n  'pixel177',\n  'pixel178',\n  'pixel179',\n  'pixel180',\n  'pixel181',\n  'pixel182',\n  'pixel183',\n  'pixel184',\n  'pixel185',\n  'pixel186',\n  'pixel187',\n  'pixel188',\n  'pixel189',\n  'pixel190',\n  'pixel191',\n  'pixel192',\n  'pixel193',\n  'pixel194',\n  'pixel195',\n  'pixel196',\n  'pixel197',\n  'pixel198',\n  'pixel199',\n  'pixel200',\n  'pixel201',\n  'pixel202',\n  'pixel203',\n  'pixel204',\n  'pixel205',\n  'pixel206',\n  'pixel207',\n  'pixel208',\n  'pixel209',\n  'pixel210',\n  'pixel211',\n  'pixel212',\n  'pixel213',\n  'pixel214',\n  'pixel215',\n  'pixel216',\n  'pixel217',\n  'pixel218',\n  'pixel219',\n  'pixel220',\n  'pixel221',\n  'pixel222',\n  'pixel223',\n  'pixel224',\n  'pixel225',\n  'pixel226',\n  'pixel227',\n  'pixel228',\n  'pixel229',\n  'pixel230',\n  'pixel231',\n  'pixel232',\n  'pixel233',\n  'pixel234',\n  'pixel235',\n  'pixel236',\n  'pixel237',\n  'pixel238',\n  'pixel239',\n  'pixel240',\n  'pixel241',\n  'pixel242',\n  'pixel243',\n  'pixel244',\n  'pixel245',\n  'pixel246',\n  'pixel247',\n  'pixel248',\n  'pixel249',\n  'pixel250',\n  'pixel251',\n  'pixel252',\n  'pixel253',\n  'pixel254',\n  'pixel255',\n  'pixel256',\n  'pixel257',\n  'pixel258',\n  'pixel259',\n  'pixel260',\n  'pixel261',\n  'pixel262',\n  'pixel263',\n  'pixel264',\n  'pixel265',\n  'pixel266',\n  'pixel267',\n  'pixel268',\n  'pixel269',\n  'pixel270',\n  'pixel271',\n  'pixel272',\n  'pixel273',\n  'pixel274',\n  'pixel275',\n  'pixel276',\n  'pixel277',\n  'pixel278',\n  'pixel279',\n  'pixel280',\n  'pixel281',\n  'pixel282',\n  'pixel283',\n  'pixel284',\n  'pixel285',\n  'pixel286',\n  'pixel287',\n  'pixel288',\n  'pixel289',\n  'pixel290',\n  'pixel291',\n  'pixel292',\n  'pixel293',\n  'pixel294',\n  'pixel295',\n  'pixel296',\n  'pixel297',\n  'pixel298',\n  'pixel299',\n  'pixel300',\n  'pixel301',\n  'pixel302',\n  'pixel303',\n  'pixel304',\n  'pixel305',\n  'pixel306',\n  'pixel307',\n  'pixel308',\n  'pixel309',\n  'pixel310',\n  'pixel311',\n  'pixel312',\n  'pixel313',\n  'pixel314',\n  'pixel315',\n  'pixel316',\n  'pixel317',\n  'pixel318',\n  'pixel319',\n  'pixel320',\n  'pixel321',\n  'pixel322',\n  'pixel323',\n  'pixel324',\n  'pixel325',\n  'pixel326',\n  'pixel327',\n  'pixel328',\n  'pixel329',\n  'pixel330',\n  'pixel331',\n  'pixel332',\n  'pixel333',\n  'pixel334',\n  'pixel335',\n  'pixel336',\n  'pixel337',\n  'pixel338',\n  'pixel339',\n  'pixel340',\n  'pixel341',\n  'pixel342',\n  'pixel343',\n  'pixel344',\n  'pixel345',\n  'pixel346',\n  'pixel347',\n  'pixel348',\n  'pixel349',\n  'pixel350',\n  'pixel351',\n  'pixel352',\n  'pixel353',\n  'pixel354',\n  'pixel355',\n  'pixel356',\n  'pixel357',\n  'pixel358',\n  'pixel359',\n  'pixel360',\n  'pixel361',\n  'pixel362',\n  'pixel363',\n  'pixel364',\n  'pixel365',\n  'pixel366',\n  'pixel367',\n  'pixel368',\n  'pixel369',\n  'pixel370',\n  'pixel371',\n  'pixel372',\n  'pixel373',\n  'pixel374',\n  'pixel375',\n  'pixel376',\n  'pixel377',\n  'pixel378',\n  'pixel379',\n  'pixel380',\n  'pixel381',\n  'pixel382',\n  'pixel383',\n  'pixel384',\n  'pixel385',\n  'pixel386',\n  'pixel387',\n  'pixel388',\n  'pixel389',\n  'pixel390',\n  'pixel391',\n  'pixel392',\n  'pixel393',\n  'pixel394',\n  'pixel395',\n  'pixel396',\n  'pixel397',\n  'pixel398',\n  'pixel399',\n  'pixel400',\n  'pixel401',\n  'pixel402',\n  'pixel403',\n  'pixel404',\n  'pixel405',\n  'pixel406',\n  'pixel407',\n  'pixel408',\n  'pixel409',\n  'pixel410',\n  'pixel411',\n  'pixel412',\n  'pixel413',\n  'pixel414',\n  'pixel415',\n  'pixel416',\n  'pixel417',\n  'pixel418',\n  'pixel419',\n  'pixel420',\n  'pixel421',\n  'pixel422',\n  'pixel423',\n  'pixel424',\n  'pixel425',\n  'pixel426',\n  'pixel427',\n  'pixel428',\n  'pixel429',\n  'pixel430',\n  'pixel431',\n  'pixel432',\n  'pixel433',\n  'pixel434',\n  'pixel435',\n  'pixel436',\n  'pixel437',\n  'pixel438',\n  'pixel439',\n  'pixel440',\n  'pixel441',\n  'pixel442',\n  'pixel443',\n  'pixel444',\n  'pixel445',\n  'pixel446',\n  'pixel447',\n  'pixel448',\n  'pixel449',\n  'pixel450',\n  'pixel451',\n  'pixel452',\n  'pixel453',\n  'pixel454',\n  'pixel455',\n  'pixel456',\n  'pixel457',\n  'pixel458',\n  'pixel459',\n  'pixel460',\n  'pixel461',\n  'pixel462',\n  'pixel463',\n  'pixel464',\n  'pixel465',\n  'pixel466',\n  'pixel467',\n  'pixel468',\n  'pixel469',\n  'pixel470',\n  'pixel471',\n  'pixel472',\n  'pixel473',\n  'pixel474',\n  'pixel475',\n  'pixel476',\n  'pixel477',\n  'pixel478',\n  'pixel479',\n  'pixel480',\n  'pixel481',\n  'pixel482',\n  'pixel483',\n  'pixel484',\n  'pixel485',\n  'pixel486',\n  'pixel487',\n  'pixel488',\n  'pixel489',\n  'pixel490',\n  'pixel491',\n  'pixel492',\n  'pixel493',\n  'pixel494',\n  'pixel495',\n  'pixel496',\n  'pixel497',\n  'pixel498',\n  'pixel499',\n  'pixel500',\n  'pixel501',\n  'pixel502',\n  'pixel503',\n  'pixel504',\n  'pixel505',\n  'pixel506',\n  'pixel507',\n  'pixel508',\n  'pixel509',\n  'pixel510',\n  'pixel511',\n  'pixel512',\n  'pixel513',\n  'pixel514',\n  'pixel515',\n  'pixel516',\n  'pixel517',\n  'pixel518',\n  'pixel519',\n  'pixel520',\n  'pixel521',\n  'pixel522',\n  'pixel523',\n  'pixel524',\n  'pixel525',\n  'pixel526',\n  'pixel527',\n  'pixel528',\n  'pixel529',\n  'pixel530',\n  'pixel531',\n  'pixel532',\n  'pixel533',\n  'pixel534',\n  'pixel535',\n  'pixel536',\n  'pixel537',\n  'pixel538',\n  'pixel539',\n  'pixel540',\n  'pixel541',\n  'pixel542',\n  'pixel543',\n  'pixel544',\n  'pixel545',\n  'pixel546',\n  'pixel547',\n  'pixel548',\n  'pixel549',\n  'pixel550',\n  'pixel551',\n  'pixel552',\n  'pixel553',\n  'pixel554',\n  'pixel555',\n  'pixel556',\n  'pixel557',\n  'pixel558',\n  'pixel559',\n  'pixel560',\n  'pixel561',\n  'pixel562',\n  'pixel563',\n  'pixel564',\n  'pixel565',\n  'pixel566',\n  'pixel567',\n  'pixel568',\n  'pixel569',\n  'pixel570',\n  'pixel571',\n  'pixel572',\n  'pixel573',\n  'pixel574',\n  'pixel575',\n  'pixel576',\n  'pixel577',\n  'pixel578',\n  'pixel579',\n  'pixel580',\n  'pixel581',\n  'pixel582',\n  'pixel583',\n  'pixel584',\n  'pixel585',\n  'pixel586',\n  'pixel587',\n  'pixel588',\n  'pixel589',\n  'pixel590',\n  'pixel591',\n  'pixel592',\n  'pixel593',\n  'pixel594',\n  'pixel595',\n  'pixel596',\n  'pixel597',\n  'pixel598',\n  'pixel599',\n  'pixel600',\n  'pixel601',\n  'pixel602',\n  'pixel603',\n  'pixel604',\n  'pixel605',\n  'pixel606',\n  'pixel607',\n  'pixel608',\n  'pixel609',\n  'pixel610',\n  'pixel611',\n  'pixel612',\n  'pixel613',\n  'pixel614',\n  'pixel615',\n  'pixel616',\n  'pixel617',\n  'pixel618',\n  'pixel619',\n  'pixel620',\n  'pixel621',\n  'pixel622',\n  'pixel623',\n  'pixel624',\n  'pixel625',\n  'pixel626',\n  'pixel627',\n  'pixel628',\n  'pixel629',\n  'pixel630',\n  'pixel631',\n  'pixel632',\n  'pixel633',\n  'pixel634',\n  'pixel635',\n  'pixel636',\n  'pixel637',\n  'pixel638',\n  'pixel639',\n  'pixel640',\n  'pixel641',\n  'pixel642',\n  'pixel643',\n  'pixel644',\n  'pixel645',\n  'pixel646',\n  'pixel647',\n  'pixel648',\n  'pixel649',\n  'pixel650',\n  'pixel651',\n  'pixel652',\n  'pixel653',\n  'pixel654',\n  'pixel655',\n  'pixel656',\n  'pixel657',\n  'pixel658',\n  'pixel659',\n  'pixel660',\n  'pixel661',\n  'pixel662',\n  'pixel663',\n  'pixel664',\n  'pixel665',\n  'pixel666',\n  'pixel667',\n  'pixel668',\n  'pixel669',\n  'pixel670',\n  'pixel671',\n  'pixel672',\n  'pixel673',\n  'pixel674',\n  'pixel675',\n  'pixel676',\n  'pixel677',\n  'pixel678',\n  'pixel679',\n  'pixel680',\n  'pixel681',\n  'pixel682',\n  'pixel683',\n  'pixel684',\n  'pixel685',\n  'pixel686',\n  'pixel687',\n  'pixel688',\n  'pixel689',\n  'pixel690',\n  'pixel691',\n  'pixel692',\n  'pixel693',\n  'pixel694',\n  'pixel695',\n  'pixel696',\n  'pixel697',\n  'pixel698',\n  'pixel699',\n  'pixel700',\n  'pixel701',\n  'pixel702',\n  'pixel703',\n  'pixel704',\n  'pixel705',\n  'pixel706',\n  'pixel707',\n  'pixel708',\n  'pixel709',\n  'pixel710',\n  'pixel711',\n  'pixel712',\n  'pixel713',\n  'pixel714',\n  'pixel715',\n  'pixel716',\n  'pixel717',\n  'pixel718',\n  'pixel719',\n  'pixel720',\n  'pixel721',\n  'pixel722',\n  'pixel723',\n  'pixel724',\n  'pixel725',\n  'pixel726',\n  'pixel727',\n  'pixel728',\n  'pixel729',\n  'pixel730',\n  'pixel731',\n  'pixel732',\n  'pixel733',\n  'pixel734',\n  'pixel735',\n  'pixel736',\n  'pixel737',\n  'pixel738',\n  'pixel739',\n  'pixel740',\n  'pixel741',\n  'pixel742',\n  'pixel743',\n  'pixel744',\n  'pixel745',\n  'pixel746',\n  'pixel747',\n  'pixel748',\n  'pixel749',\n  'pixel750',\n  'pixel751',\n  'pixel752',\n  'pixel753',\n  'pixel754',\n  'pixel755',\n  'pixel756',\n  'pixel757',\n  'pixel758',\n  'pixel759',\n  'pixel760',\n  'pixel761',\n  'pixel762',\n  'pixel763',\n  'pixel764',\n  'pixel765',\n  'pixel766',\n  'pixel767',\n  'pixel768',\n  'pixel769',\n  'pixel770',\n  'pixel771',\n  'pixel772',\n  'pixel773',\n  'pixel774',\n  'pixel775',\n  'pixel776',\n  'pixel777',\n  'pixel778',\n  'pixel779',\n  'pixel780',\n  'pixel781',\n  'pixel782',\n  'pixel783',\n  'pixel784'],\n 'target_names': ['class'],\n 'DESCR': \"**Author**: Han Xiao, Kashif Rasul, Roland Vollgraf  \\n**Source**: [Zalando Research](https://github.com/zalandoresearch/fashion-mnist)  \\n**Please cite**: Han Xiao and Kashif Rasul and Roland Vollgraf, Fashion-MNIST: a Novel Image Dataset for Benchmarking Machine Learning Algorithms, arXiv, cs.LG/1708.07747  \\n\\nFashion-MNIST is a dataset of Zalando's article images, consisting of a training set of 60,000 examples and a test set of 10,000 examples. Each example is a 28x28 grayscale image, associated with a label from 10 classes. Fashion-MNIST is intended to serve as a direct drop-in replacement for the original MNIST dataset for benchmarking machine learning algorithms. It shares the same image size and structure of training and testing splits. \\n\\nRaw data available at: https://github.com/zalandoresearch/fashion-mnist\\n\\n### Target classes\\nEach training and test example is assigned to one of the following labels:\\nLabel  Description  \\n0  T-shirt/top  \\n1  Trouser  \\n2  Pullover  \\n3  Dress  \\n4  Coat  \\n5  Sandal  \\n6  Shirt  \\n7  Sneaker  \\n8  Bag  \\n9  Ankle boot\\n\\nDownloaded from openml.org.\",\n 'details': {'id': '40996',\n  'name': 'Fashion-MNIST',\n  'version': '1',\n  'description_version': '1',\n  'format': 'ARFF',\n  'creator': ['Han Xiao', 'Kashif Rasul', 'Roland Vollgraf'],\n  'upload_date': '2017-12-20T13:28:27',\n  'licence': 'Public',\n  'url': 'https://api.openml.org/data/v1/download/18238735/Fashion-MNIST.arff',\n  'parquet_url': 'https://openml1.win.tue.nl/datasets/0004/40996/dataset_40996.pq',\n  'file_id': '18238735',\n  'default_target_attribute': 'class',\n  'version_label': '1.0',\n  'citation': '@online{xiao2017/online,\\n  author       = {Han Xiao and Kashif Rasul and Roland Vollgraf},\\n  title        = {Fashion-MNIST: a Novel Image Dataset for Benchmarking Machine Learning Algorithms},\\n  date         = {2017-08-28},\\n  year         = {2017},\\n  eprintclass  = {cs.LG},\\n  eprinttype   = {arXiv},\\n  eprint       = {cs.LG/1708.07747},\\n}',\n  'tag': ['Meteorology',\n   'OpenML-CC18',\n   'study_218',\n   'study_99',\n   'Transportation',\n   'vision'],\n  'visibility': 'public',\n  'original_data_url': 'https://github.com/zalandoresearch/fashion-mnist',\n  'paper_url': 'Fashion-MNIST: a Novel Image Dataset for Benchmarking Machine Learning Algorithms. Han Xiao, Kashif Rasul, Roland Vollgraf. arXiv:1708.07747',\n  'minio_url': 'https://openml1.win.tue.nl/datasets/0004/40996/dataset_40996.pq',\n  'status': 'active',\n  'processing_date': '2018-10-04 07:21:31',\n  'md5_checksum': 'cdfc9c58cb9fe86ffaa76af247ae2ef2'},\n 'url': 'https://www.openml.org/d/40996'}"
     },
     "execution_count": 341,
     "metadata": {},
     "output_type": "execute_result"
    }
   ],
   "source": [
    "fashion_data"
   ],
   "metadata": {
    "collapsed": false,
    "ExecuteTime": {
     "end_time": "2024-03-14T04:27:55.973570Z",
     "start_time": "2024-03-14T04:27:55.956289Z"
    }
   },
   "id": "acf23163f5e47fdf",
   "execution_count": 341
  },
  {
   "cell_type": "code",
   "outputs": [],
   "source": [
    "import pandas as pd\n",
    "import numpy as np\n",
    "\n",
    "# pd.DataFrame(fashion_data)"
   ],
   "metadata": {
    "collapsed": false,
    "ExecuteTime": {
     "end_time": "2024-03-14T04:27:55.976212Z",
     "start_time": "2024-03-14T04:27:55.973343Z"
    }
   },
   "id": "1fbb74553596b1de",
   "execution_count": 342
  },
  {
   "cell_type": "code",
   "outputs": [
    {
     "data": {
      "text/plain": "dict_keys(['data', 'target', 'frame', 'categories', 'feature_names', 'target_names', 'DESCR', 'details', 'url'])"
     },
     "execution_count": 343,
     "metadata": {},
     "output_type": "execute_result"
    }
   ],
   "source": [
    "fashion_data.keys()"
   ],
   "metadata": {
    "collapsed": false,
    "ExecuteTime": {
     "end_time": "2024-03-14T04:27:56.001955Z",
     "start_time": "2024-03-14T04:27:55.977608Z"
    }
   },
   "id": "17de6728fa8ba3d2",
   "execution_count": 343
  },
  {
   "cell_type": "code",
   "outputs": [
    {
     "data": {
      "text/plain": "0        9\n1        0\n2        0\n3        3\n4        0\n        ..\n69995    9\n69996    1\n69997    8\n69998    1\n69999    5\nName: class, Length: 70000, dtype: category\nCategories (10, object): ['0', '1', '2', '3', ..., '6', '7', '8', '9']"
     },
     "execution_count": 344,
     "metadata": {},
     "output_type": "execute_result"
    }
   ],
   "source": [
    "fashion_data.target"
   ],
   "metadata": {
    "collapsed": false,
    "ExecuteTime": {
     "end_time": "2024-03-14T04:27:56.011431Z",
     "start_time": "2024-03-14T04:27:55.979847Z"
    }
   },
   "id": "aba45a983d583440",
   "execution_count": 344
  },
  {
   "cell_type": "code",
   "outputs": [],
   "source": [],
   "metadata": {
    "collapsed": false,
    "ExecuteTime": {
     "end_time": "2024-03-14T04:27:56.012357Z",
     "start_time": "2024-03-14T04:27:55.985357Z"
    }
   },
   "id": "2b2a2919872e984c",
   "execution_count": 344
  },
  {
   "cell_type": "code",
   "outputs": [
    {
     "data": {
      "text/plain": "0        9\n1        0\n2        0\n3        3\n4        0\n        ..\n69995    9\n69996    1\n69997    8\n69998    1\n69999    5\nName: class, Length: 70000, dtype: category\nCategories (10, object): ['0', '1', '2', '3', ..., '6', '7', '8', '9']"
     },
     "execution_count": 345,
     "metadata": {},
     "output_type": "execute_result"
    }
   ],
   "source": [
    "fashion_data.target"
   ],
   "metadata": {
    "collapsed": false,
    "ExecuteTime": {
     "end_time": "2024-03-14T04:27:56.013274Z",
     "start_time": "2024-03-14T04:27:55.988836Z"
    }
   },
   "id": "4af9e165c4e9e0b",
   "execution_count": 345
  },
  {
   "cell_type": "code",
   "outputs": [
    {
     "data": {
      "text/plain": "       pixel1  pixel2  pixel3  pixel4  pixel5  pixel6  pixel7  pixel8  pixel9  \\\n0           0       0       0       0       0       0       0       0       0   \n1           0       0       0       0       0       1       0       0       0   \n2           0       0       0       0       0       0       0       0       0   \n3           0       0       0       0       0       0       0       0      33   \n4           0       0       0       0       0       0       0       0       0   \n...       ...     ...     ...     ...     ...     ...     ...     ...     ...   \n69995       0       0       0       0       0       0       0       0       0   \n69996       0       0       0       0       0       0       0       0       0   \n69997       0       0       0       0       0       0       0       0       0   \n69998       0       0       0       0       0       0       0       0       0   \n69999       0       0       0       0       0       0       0       0       0   \n\n       pixel10  ...  pixel775  pixel776  pixel777  pixel778  pixel779  \\\n0            0  ...         0         0         0         0         0   \n1            0  ...       119       114       130        76         0   \n2           22  ...         0         0         1         0         0   \n3           96  ...         0         0         0         0         0   \n4            0  ...         0         0         0         0         0   \n...        ...  ...       ...       ...       ...       ...       ...   \n69995        0  ...         0         0         0         0         0   \n69996       31  ...         0         0         0         0         0   \n69997        0  ...        27         0         0         0         0   \n69998        0  ...         0         0         0         0         0   \n69999        0  ...         0         0         0         0         0   \n\n       pixel780  pixel781  pixel782  pixel783  pixel784  \n0             0         0         0         0         0  \n1             0         0         0         0         0  \n2             0         0         0         0         0  \n3             0         0         0         0         0  \n4             0         0         0         0         0  \n...         ...       ...       ...       ...       ...  \n69995         0         0         0         0         0  \n69996         0         0         0         0         0  \n69997         0         0         0         0         0  \n69998         0         0         0         0         0  \n69999         0         0         0         0         0  \n\n[70000 rows x 784 columns]",
      "text/html": "<div>\n<style scoped>\n    .dataframe tbody tr th:only-of-type {\n        vertical-align: middle;\n    }\n\n    .dataframe tbody tr th {\n        vertical-align: top;\n    }\n\n    .dataframe thead th {\n        text-align: right;\n    }\n</style>\n<table border=\"1\" class=\"dataframe\">\n  <thead>\n    <tr style=\"text-align: right;\">\n      <th></th>\n      <th>pixel1</th>\n      <th>pixel2</th>\n      <th>pixel3</th>\n      <th>pixel4</th>\n      <th>pixel5</th>\n      <th>pixel6</th>\n      <th>pixel7</th>\n      <th>pixel8</th>\n      <th>pixel9</th>\n      <th>pixel10</th>\n      <th>...</th>\n      <th>pixel775</th>\n      <th>pixel776</th>\n      <th>pixel777</th>\n      <th>pixel778</th>\n      <th>pixel779</th>\n      <th>pixel780</th>\n      <th>pixel781</th>\n      <th>pixel782</th>\n      <th>pixel783</th>\n      <th>pixel784</th>\n    </tr>\n  </thead>\n  <tbody>\n    <tr>\n      <th>0</th>\n      <td>0</td>\n      <td>0</td>\n      <td>0</td>\n      <td>0</td>\n      <td>0</td>\n      <td>0</td>\n      <td>0</td>\n      <td>0</td>\n      <td>0</td>\n      <td>0</td>\n      <td>...</td>\n      <td>0</td>\n      <td>0</td>\n      <td>0</td>\n      <td>0</td>\n      <td>0</td>\n      <td>0</td>\n      <td>0</td>\n      <td>0</td>\n      <td>0</td>\n      <td>0</td>\n    </tr>\n    <tr>\n      <th>1</th>\n      <td>0</td>\n      <td>0</td>\n      <td>0</td>\n      <td>0</td>\n      <td>0</td>\n      <td>1</td>\n      <td>0</td>\n      <td>0</td>\n      <td>0</td>\n      <td>0</td>\n      <td>...</td>\n      <td>119</td>\n      <td>114</td>\n      <td>130</td>\n      <td>76</td>\n      <td>0</td>\n      <td>0</td>\n      <td>0</td>\n      <td>0</td>\n      <td>0</td>\n      <td>0</td>\n    </tr>\n    <tr>\n      <th>2</th>\n      <td>0</td>\n      <td>0</td>\n      <td>0</td>\n      <td>0</td>\n      <td>0</td>\n      <td>0</td>\n      <td>0</td>\n      <td>0</td>\n      <td>0</td>\n      <td>22</td>\n      <td>...</td>\n      <td>0</td>\n      <td>0</td>\n      <td>1</td>\n      <td>0</td>\n      <td>0</td>\n      <td>0</td>\n      <td>0</td>\n      <td>0</td>\n      <td>0</td>\n      <td>0</td>\n    </tr>\n    <tr>\n      <th>3</th>\n      <td>0</td>\n      <td>0</td>\n      <td>0</td>\n      <td>0</td>\n      <td>0</td>\n      <td>0</td>\n      <td>0</td>\n      <td>0</td>\n      <td>33</td>\n      <td>96</td>\n      <td>...</td>\n      <td>0</td>\n      <td>0</td>\n      <td>0</td>\n      <td>0</td>\n      <td>0</td>\n      <td>0</td>\n      <td>0</td>\n      <td>0</td>\n      <td>0</td>\n      <td>0</td>\n    </tr>\n    <tr>\n      <th>4</th>\n      <td>0</td>\n      <td>0</td>\n      <td>0</td>\n      <td>0</td>\n      <td>0</td>\n      <td>0</td>\n      <td>0</td>\n      <td>0</td>\n      <td>0</td>\n      <td>0</td>\n      <td>...</td>\n      <td>0</td>\n      <td>0</td>\n      <td>0</td>\n      <td>0</td>\n      <td>0</td>\n      <td>0</td>\n      <td>0</td>\n      <td>0</td>\n      <td>0</td>\n      <td>0</td>\n    </tr>\n    <tr>\n      <th>...</th>\n      <td>...</td>\n      <td>...</td>\n      <td>...</td>\n      <td>...</td>\n      <td>...</td>\n      <td>...</td>\n      <td>...</td>\n      <td>...</td>\n      <td>...</td>\n      <td>...</td>\n      <td>...</td>\n      <td>...</td>\n      <td>...</td>\n      <td>...</td>\n      <td>...</td>\n      <td>...</td>\n      <td>...</td>\n      <td>...</td>\n      <td>...</td>\n      <td>...</td>\n      <td>...</td>\n    </tr>\n    <tr>\n      <th>69995</th>\n      <td>0</td>\n      <td>0</td>\n      <td>0</td>\n      <td>0</td>\n      <td>0</td>\n      <td>0</td>\n      <td>0</td>\n      <td>0</td>\n      <td>0</td>\n      <td>0</td>\n      <td>...</td>\n      <td>0</td>\n      <td>0</td>\n      <td>0</td>\n      <td>0</td>\n      <td>0</td>\n      <td>0</td>\n      <td>0</td>\n      <td>0</td>\n      <td>0</td>\n      <td>0</td>\n    </tr>\n    <tr>\n      <th>69996</th>\n      <td>0</td>\n      <td>0</td>\n      <td>0</td>\n      <td>0</td>\n      <td>0</td>\n      <td>0</td>\n      <td>0</td>\n      <td>0</td>\n      <td>0</td>\n      <td>31</td>\n      <td>...</td>\n      <td>0</td>\n      <td>0</td>\n      <td>0</td>\n      <td>0</td>\n      <td>0</td>\n      <td>0</td>\n      <td>0</td>\n      <td>0</td>\n      <td>0</td>\n      <td>0</td>\n    </tr>\n    <tr>\n      <th>69997</th>\n      <td>0</td>\n      <td>0</td>\n      <td>0</td>\n      <td>0</td>\n      <td>0</td>\n      <td>0</td>\n      <td>0</td>\n      <td>0</td>\n      <td>0</td>\n      <td>0</td>\n      <td>...</td>\n      <td>27</td>\n      <td>0</td>\n      <td>0</td>\n      <td>0</td>\n      <td>0</td>\n      <td>0</td>\n      <td>0</td>\n      <td>0</td>\n      <td>0</td>\n      <td>0</td>\n    </tr>\n    <tr>\n      <th>69998</th>\n      <td>0</td>\n      <td>0</td>\n      <td>0</td>\n      <td>0</td>\n      <td>0</td>\n      <td>0</td>\n      <td>0</td>\n      <td>0</td>\n      <td>0</td>\n      <td>0</td>\n      <td>...</td>\n      <td>0</td>\n      <td>0</td>\n      <td>0</td>\n      <td>0</td>\n      <td>0</td>\n      <td>0</td>\n      <td>0</td>\n      <td>0</td>\n      <td>0</td>\n      <td>0</td>\n    </tr>\n    <tr>\n      <th>69999</th>\n      <td>0</td>\n      <td>0</td>\n      <td>0</td>\n      <td>0</td>\n      <td>0</td>\n      <td>0</td>\n      <td>0</td>\n      <td>0</td>\n      <td>0</td>\n      <td>0</td>\n      <td>...</td>\n      <td>0</td>\n      <td>0</td>\n      <td>0</td>\n      <td>0</td>\n      <td>0</td>\n      <td>0</td>\n      <td>0</td>\n      <td>0</td>\n      <td>0</td>\n      <td>0</td>\n    </tr>\n  </tbody>\n</table>\n<p>70000 rows × 784 columns</p>\n</div>"
     },
     "execution_count": 346,
     "metadata": {},
     "output_type": "execute_result"
    }
   ],
   "source": [
    "dataDF = fashion_data.data\n",
    "dataDF"
   ],
   "metadata": {
    "collapsed": false,
    "ExecuteTime": {
     "end_time": "2024-03-14T04:27:56.022146Z",
     "start_time": "2024-03-14T04:27:55.992582Z"
    }
   },
   "id": "f83a66e6bb5a9b3f",
   "execution_count": 346
  },
  {
   "cell_type": "code",
   "outputs": [
    {
     "data": {
      "text/plain": "((70000, 784), (70000,))"
     },
     "execution_count": 347,
     "metadata": {},
     "output_type": "execute_result"
    }
   ],
   "source": [
    "# dataDF = dataDF.\n",
    "feature = dataDF\n",
    "target = fashion_data.target\n",
    "feature.shape, target.shape"
   ],
   "metadata": {
    "collapsed": false,
    "ExecuteTime": {
     "end_time": "2024-03-14T04:27:56.051409Z",
     "start_time": "2024-03-14T04:27:56.003438Z"
    }
   },
   "id": "209e0e746a11d8d8",
   "execution_count": 347
  },
  {
   "cell_type": "code",
   "outputs": [],
   "source": [
    "# dataDF.corr()\n"
   ],
   "metadata": {
    "collapsed": false,
    "ExecuteTime": {
     "end_time": "2024-03-14T04:27:56.052532Z",
     "start_time": "2024-03-14T04:27:56.008107Z"
    }
   },
   "id": "f1c051d81def622b",
   "execution_count": 348
  },
  {
   "cell_type": "code",
   "outputs": [],
   "source": [
    "# import seaborn as sns\n",
    "# \n",
    "# sns.heatmap(dataDF.corr())"
   ],
   "metadata": {
    "collapsed": false,
    "ExecuteTime": {
     "end_time": "2024-03-14T04:27:56.056762Z",
     "start_time": "2024-03-14T04:27:56.011237Z"
    }
   },
   "id": "9b1f1c2656db7357",
   "execution_count": 349
  },
  {
   "cell_type": "code",
   "outputs": [
    {
     "data": {
      "text/plain": "0        9\n1        0\n2        0\n3        3\n4        0\n        ..\n69995    9\n69996    1\n69997    8\n69998    1\n69999    5\nName: class, Length: 70000, dtype: category\nCategories (10, object): ['0', '1', '2', '3', ..., '6', '7', '8', '9']"
     },
     "execution_count": 350,
     "metadata": {},
     "output_type": "execute_result"
    }
   ],
   "source": [
    "target.unique()\n",
    "target"
   ],
   "metadata": {
    "collapsed": false,
    "ExecuteTime": {
     "end_time": "2024-03-14T04:27:56.067516Z",
     "start_time": "2024-03-14T04:27:56.013868Z"
    }
   },
   "id": "aec6c434fb5c82b4",
   "execution_count": 350
  },
  {
   "cell_type": "code",
   "outputs": [],
   "source": [
    "# target = target.replace({1:0,2:0,3:0,4:0,5:1,6:1,7:1,8:1,9:1})"
   ],
   "metadata": {
    "collapsed": false,
    "ExecuteTime": {
     "end_time": "2024-03-14T04:27:56.068310Z",
     "start_time": "2024-03-14T04:27:56.018007Z"
    }
   },
   "id": "eafe2a2abc8f3375",
   "execution_count": 351
  },
  {
   "cell_type": "code",
   "outputs": [
    {
     "data": {
      "text/plain": "['9', '0', '3', '2', '7', '5', '1', '6', '4', '8']\nCategories (10, object): ['0', '1', '2', '3', ..., '6', '7', '8', '9']"
     },
     "execution_count": 352,
     "metadata": {},
     "output_type": "execute_result"
    }
   ],
   "source": [
    "target.unique()"
   ],
   "metadata": {
    "collapsed": false,
    "ExecuteTime": {
     "end_time": "2024-03-14T04:27:56.070845Z",
     "start_time": "2024-03-14T04:27:56.021435Z"
    }
   },
   "id": "4a89d094cfc1d270",
   "execution_count": 352
  },
  {
   "cell_type": "code",
   "outputs": [
    {
     "data": {
      "text/plain": "       pixel1  pixel2  pixel3  pixel4  pixel5  pixel6  pixel7  pixel8  pixel9  \\\n0           0       0       0       0       0       0       0       0       0   \n1           0       0       0       0       0       1       0       0       0   \n2           0       0       0       0       0       0       0       0       0   \n3           0       0       0       0       0       0       0       0      33   \n4           0       0       0       0       0       0       0       0       0   \n...       ...     ...     ...     ...     ...     ...     ...     ...     ...   \n69995       0       0       0       0       0       0       0       0       0   \n69996       0       0       0       0       0       0       0       0       0   \n69997       0       0       0       0       0       0       0       0       0   \n69998       0       0       0       0       0       0       0       0       0   \n69999       0       0       0       0       0       0       0       0       0   \n\n       pixel10  ...  pixel775  pixel776  pixel777  pixel778  pixel779  \\\n0            0  ...         0         0         0         0         0   \n1            0  ...       119       114       130        76         0   \n2           22  ...         0         0         1         0         0   \n3           96  ...         0         0         0         0         0   \n4            0  ...         0         0         0         0         0   \n...        ...  ...       ...       ...       ...       ...       ...   \n69995        0  ...         0         0         0         0         0   \n69996       31  ...         0         0         0         0         0   \n69997        0  ...        27         0         0         0         0   \n69998        0  ...         0         0         0         0         0   \n69999        0  ...         0         0         0         0         0   \n\n       pixel780  pixel781  pixel782  pixel783  pixel784  \n0             0         0         0         0         0  \n1             0         0         0         0         0  \n2             0         0         0         0         0  \n3             0         0         0         0         0  \n4             0         0         0         0         0  \n...         ...       ...       ...       ...       ...  \n69995         0         0         0         0         0  \n69996         0         0         0         0         0  \n69997         0         0         0         0         0  \n69998         0         0         0         0         0  \n69999         0         0         0         0         0  \n\n[70000 rows x 784 columns]",
      "text/html": "<div>\n<style scoped>\n    .dataframe tbody tr th:only-of-type {\n        vertical-align: middle;\n    }\n\n    .dataframe tbody tr th {\n        vertical-align: top;\n    }\n\n    .dataframe thead th {\n        text-align: right;\n    }\n</style>\n<table border=\"1\" class=\"dataframe\">\n  <thead>\n    <tr style=\"text-align: right;\">\n      <th></th>\n      <th>pixel1</th>\n      <th>pixel2</th>\n      <th>pixel3</th>\n      <th>pixel4</th>\n      <th>pixel5</th>\n      <th>pixel6</th>\n      <th>pixel7</th>\n      <th>pixel8</th>\n      <th>pixel9</th>\n      <th>pixel10</th>\n      <th>...</th>\n      <th>pixel775</th>\n      <th>pixel776</th>\n      <th>pixel777</th>\n      <th>pixel778</th>\n      <th>pixel779</th>\n      <th>pixel780</th>\n      <th>pixel781</th>\n      <th>pixel782</th>\n      <th>pixel783</th>\n      <th>pixel784</th>\n    </tr>\n  </thead>\n  <tbody>\n    <tr>\n      <th>0</th>\n      <td>0</td>\n      <td>0</td>\n      <td>0</td>\n      <td>0</td>\n      <td>0</td>\n      <td>0</td>\n      <td>0</td>\n      <td>0</td>\n      <td>0</td>\n      <td>0</td>\n      <td>...</td>\n      <td>0</td>\n      <td>0</td>\n      <td>0</td>\n      <td>0</td>\n      <td>0</td>\n      <td>0</td>\n      <td>0</td>\n      <td>0</td>\n      <td>0</td>\n      <td>0</td>\n    </tr>\n    <tr>\n      <th>1</th>\n      <td>0</td>\n      <td>0</td>\n      <td>0</td>\n      <td>0</td>\n      <td>0</td>\n      <td>1</td>\n      <td>0</td>\n      <td>0</td>\n      <td>0</td>\n      <td>0</td>\n      <td>...</td>\n      <td>119</td>\n      <td>114</td>\n      <td>130</td>\n      <td>76</td>\n      <td>0</td>\n      <td>0</td>\n      <td>0</td>\n      <td>0</td>\n      <td>0</td>\n      <td>0</td>\n    </tr>\n    <tr>\n      <th>2</th>\n      <td>0</td>\n      <td>0</td>\n      <td>0</td>\n      <td>0</td>\n      <td>0</td>\n      <td>0</td>\n      <td>0</td>\n      <td>0</td>\n      <td>0</td>\n      <td>22</td>\n      <td>...</td>\n      <td>0</td>\n      <td>0</td>\n      <td>1</td>\n      <td>0</td>\n      <td>0</td>\n      <td>0</td>\n      <td>0</td>\n      <td>0</td>\n      <td>0</td>\n      <td>0</td>\n    </tr>\n    <tr>\n      <th>3</th>\n      <td>0</td>\n      <td>0</td>\n      <td>0</td>\n      <td>0</td>\n      <td>0</td>\n      <td>0</td>\n      <td>0</td>\n      <td>0</td>\n      <td>33</td>\n      <td>96</td>\n      <td>...</td>\n      <td>0</td>\n      <td>0</td>\n      <td>0</td>\n      <td>0</td>\n      <td>0</td>\n      <td>0</td>\n      <td>0</td>\n      <td>0</td>\n      <td>0</td>\n      <td>0</td>\n    </tr>\n    <tr>\n      <th>4</th>\n      <td>0</td>\n      <td>0</td>\n      <td>0</td>\n      <td>0</td>\n      <td>0</td>\n      <td>0</td>\n      <td>0</td>\n      <td>0</td>\n      <td>0</td>\n      <td>0</td>\n      <td>...</td>\n      <td>0</td>\n      <td>0</td>\n      <td>0</td>\n      <td>0</td>\n      <td>0</td>\n      <td>0</td>\n      <td>0</td>\n      <td>0</td>\n      <td>0</td>\n      <td>0</td>\n    </tr>\n    <tr>\n      <th>...</th>\n      <td>...</td>\n      <td>...</td>\n      <td>...</td>\n      <td>...</td>\n      <td>...</td>\n      <td>...</td>\n      <td>...</td>\n      <td>...</td>\n      <td>...</td>\n      <td>...</td>\n      <td>...</td>\n      <td>...</td>\n      <td>...</td>\n      <td>...</td>\n      <td>...</td>\n      <td>...</td>\n      <td>...</td>\n      <td>...</td>\n      <td>...</td>\n      <td>...</td>\n      <td>...</td>\n    </tr>\n    <tr>\n      <th>69995</th>\n      <td>0</td>\n      <td>0</td>\n      <td>0</td>\n      <td>0</td>\n      <td>0</td>\n      <td>0</td>\n      <td>0</td>\n      <td>0</td>\n      <td>0</td>\n      <td>0</td>\n      <td>...</td>\n      <td>0</td>\n      <td>0</td>\n      <td>0</td>\n      <td>0</td>\n      <td>0</td>\n      <td>0</td>\n      <td>0</td>\n      <td>0</td>\n      <td>0</td>\n      <td>0</td>\n    </tr>\n    <tr>\n      <th>69996</th>\n      <td>0</td>\n      <td>0</td>\n      <td>0</td>\n      <td>0</td>\n      <td>0</td>\n      <td>0</td>\n      <td>0</td>\n      <td>0</td>\n      <td>0</td>\n      <td>31</td>\n      <td>...</td>\n      <td>0</td>\n      <td>0</td>\n      <td>0</td>\n      <td>0</td>\n      <td>0</td>\n      <td>0</td>\n      <td>0</td>\n      <td>0</td>\n      <td>0</td>\n      <td>0</td>\n    </tr>\n    <tr>\n      <th>69997</th>\n      <td>0</td>\n      <td>0</td>\n      <td>0</td>\n      <td>0</td>\n      <td>0</td>\n      <td>0</td>\n      <td>0</td>\n      <td>0</td>\n      <td>0</td>\n      <td>0</td>\n      <td>...</td>\n      <td>27</td>\n      <td>0</td>\n      <td>0</td>\n      <td>0</td>\n      <td>0</td>\n      <td>0</td>\n      <td>0</td>\n      <td>0</td>\n      <td>0</td>\n      <td>0</td>\n    </tr>\n    <tr>\n      <th>69998</th>\n      <td>0</td>\n      <td>0</td>\n      <td>0</td>\n      <td>0</td>\n      <td>0</td>\n      <td>0</td>\n      <td>0</td>\n      <td>0</td>\n      <td>0</td>\n      <td>0</td>\n      <td>...</td>\n      <td>0</td>\n      <td>0</td>\n      <td>0</td>\n      <td>0</td>\n      <td>0</td>\n      <td>0</td>\n      <td>0</td>\n      <td>0</td>\n      <td>0</td>\n      <td>0</td>\n    </tr>\n    <tr>\n      <th>69999</th>\n      <td>0</td>\n      <td>0</td>\n      <td>0</td>\n      <td>0</td>\n      <td>0</td>\n      <td>0</td>\n      <td>0</td>\n      <td>0</td>\n      <td>0</td>\n      <td>0</td>\n      <td>...</td>\n      <td>0</td>\n      <td>0</td>\n      <td>0</td>\n      <td>0</td>\n      <td>0</td>\n      <td>0</td>\n      <td>0</td>\n      <td>0</td>\n      <td>0</td>\n      <td>0</td>\n    </tr>\n  </tbody>\n</table>\n<p>70000 rows × 784 columns</p>\n</div>"
     },
     "execution_count": 353,
     "metadata": {},
     "output_type": "execute_result"
    }
   ],
   "source": [
    "feature"
   ],
   "metadata": {
    "collapsed": false,
    "ExecuteTime": {
     "end_time": "2024-03-14T04:27:56.081362Z",
     "start_time": "2024-03-14T04:27:56.024284Z"
    }
   },
   "id": "e9c4ecf40d66678d",
   "execution_count": 353
  },
  {
   "cell_type": "code",
   "outputs": [],
   "source": [
    "# from sklearn.preprocessing import LabelEncoder\n",
    "# \n",
    "# encoder = LabelEncoder()\n",
    "# encoder.fit(target)\n",
    "# target = encoder.transform(target)\n",
    "# target"
   ],
   "metadata": {
    "collapsed": false,
    "ExecuteTime": {
     "end_time": "2024-03-14T04:27:56.082751Z",
     "start_time": "2024-03-14T04:27:56.034526Z"
    }
   },
   "id": "362ea3cc2baf9d4b",
   "execution_count": 354
  },
  {
   "cell_type": "code",
   "outputs": [],
   "source": [
    "from sklearn.preprocessing import StandardScaler, RobustScaler, MinMaxScaler, PolynomialFeatures\n",
    "from sklearn.model_selection import train_test_split\n",
    "from sklearn.linear_model   import LogisticRegression\n",
    "from sklearn.multiclass import OneVsRestClassifier\n",
    "\n",
    "X_train, x_test, y_train, y_test = train_test_split(feature,\n",
    "                                                    target)\n",
    "scaler = StandardScaler()\n",
    "scaler.fit(X_train)\n",
    "train = scaler.transform(X_train)\n",
    "test = scaler.transform(x_test)\n",
    "\n",
    "# model = LogisticRegression(solver='liblinear')\n",
    "# # model.fit(train, y_train)\n",
    "# \n",
    "# ovrmodel = OneVsRestClassifier(model)\n",
    "# ovrmodel.fit(X_train, y_train)\n",
    "# ovrmodel.predict(x_test)\n",
    "# ovrmodel.decision_function(x_test)\n",
    "# \n",
    "# print(f'[Train Score] {ovrmodel.score(X_train, y_train)}\\n[Test Score] {ovrmodel.score(x_test, y_test)}')\n"
   ],
   "metadata": {
    "collapsed": false,
    "ExecuteTime": {
     "end_time": "2024-03-14T04:27:56.793189Z",
     "start_time": "2024-03-14T04:27:56.039619Z"
    }
   },
   "id": "de30c9b94ad2e5b1",
   "execution_count": 355
  },
  {
   "cell_type": "code",
   "outputs": [],
   "source": [
    "# from sklearn.metrics import accuracy_score, f1_score, precision_score, recall_score, confusion_matrix, classification_report\n",
    "# \n",
    "# print(classification_report(y_test, model.predict(x_test), zero_division=0)) "
   ],
   "metadata": {
    "collapsed": false,
    "ExecuteTime": {
     "end_time": "2024-03-14T04:27:56.800769Z",
     "start_time": "2024-03-14T04:27:56.793427Z"
    }
   },
   "id": "4986d3f046c1e32",
   "execution_count": 356
  },
  {
   "cell_type": "code",
   "outputs": [],
   "source": [],
   "metadata": {
    "collapsed": false,
    "ExecuteTime": {
     "end_time": "2024-03-14T04:27:56.801895Z",
     "start_time": "2024-03-14T04:27:56.795910Z"
    }
   },
   "id": "23816b6b19fc81e7",
   "execution_count": 356
  },
  {
   "cell_type": "code",
   "outputs": [
    {
     "ename": "TypeError",
     "evalue": "can't convert np.ndarray of type numpy.object_. The only supported types are: float64, float32, float16, complex64, complex128, int64, int32, int16, int8, uint8, and bool.",
     "output_type": "error",
     "traceback": [
      "\u001B[0;31m---------------------------------------------------------------------------\u001B[0m",
      "\u001B[0;31mTypeError\u001B[0m                                 Traceback (most recent call last)",
      "Cell \u001B[0;32mIn[357], line 4\u001B[0m\n\u001B[1;32m      2\u001B[0m x_test \u001B[38;5;241m=\u001B[39m torch\u001B[38;5;241m.\u001B[39mfrom_numpy(np\u001B[38;5;241m.\u001B[39marray(x_test))\n\u001B[1;32m      3\u001B[0m \u001B[38;5;66;03m# X_train.shape, x_test.shape\u001B[39;00m\n\u001B[0;32m----> 4\u001B[0m y_train \u001B[38;5;241m=\u001B[39m \u001B[43mtorch\u001B[49m\u001B[38;5;241;43m.\u001B[39;49m\u001B[43mfrom_numpy\u001B[49m\u001B[43m(\u001B[49m\u001B[43mnp\u001B[49m\u001B[38;5;241;43m.\u001B[39;49m\u001B[43marray\u001B[49m\u001B[43m(\u001B[49m\u001B[43my_train\u001B[49m\u001B[43m)\u001B[49m\u001B[43m)\u001B[49m\n\u001B[1;32m      5\u001B[0m y_test \u001B[38;5;241m=\u001B[39m torch\u001B[38;5;241m.\u001B[39mfrom_numpy(np\u001B[38;5;241m.\u001B[39marray(y_test))\n",
      "\u001B[0;31mTypeError\u001B[0m: can't convert np.ndarray of type numpy.object_. The only supported types are: float64, float32, float16, complex64, complex128, int64, int32, int16, int8, uint8, and bool."
     ]
    }
   ],
   "source": [
    "X_train = torch.from_numpy(np.array(X_train))\n",
    "x_test = torch.from_numpy(np.array(x_test))\n",
    "# X_train.shape, x_test.shape\n",
    "y_train = torch.from_numpy(np.array(y_train))\n",
    "y_test = torch.from_numpy(np.array(y_test))"
   ],
   "metadata": {
    "collapsed": false,
    "ExecuteTime": {
     "end_time": "2024-03-14T04:27:56.885052Z",
     "start_time": "2024-03-14T04:27:56.799895Z"
    }
   },
   "id": "3cd73f0836e6a01f",
   "execution_count": 357
  },
  {
   "cell_type": "code",
   "outputs": [],
   "source": [
    "import torch.nn as nn\n",
    "import torch.nn.functional as F\n",
    "import torch.optim as optim\n",
    "\n",
    "model = nn.Sequential(\n",
    "    nn.Linear(784, 1),\n",
    "    nn.LogSigmoid()\n",
    ")"
   ],
   "metadata": {
    "collapsed": false,
    "ExecuteTime": {
     "end_time": "2024-03-14T04:27:56.914354Z",
     "start_time": "2024-03-14T04:27:56.885768Z"
    }
   },
   "id": "5a3ba5e9b0083a0"
  },
  {
   "cell_type": "code",
   "outputs": [],
   "source": [
    "nb_epochs = 1000\n",
    "y_train1 = torch.from_numpy(np.array(y_train)).unsqueeze(1).float()  \n",
    "\n",
    "for epoch in range(nb_epochs+1):\n",
    "    # hypothesis = model(train)\n",
    "\n",
    "    hypothesis = torch.sigmoid(model(train))\n",
    "    # print(hypothesis)\n",
    "    # print(train.shape, y_train1.shape)\n",
    "    # print(y_train.unsqueeze(1).shape)\n",
    "    # print(y_train1)\n",
    "\n",
    "\n",
    "    cost = F.binary_cross_entropy(hypothesis, y_train1)\n",
    "\n",
    "    optimizer.zero_grad()\n",
    "    cost.backward()\n",
    "    optimizer.step()\n",
    "\n",
    "    if epoch % 10 == 0:\n",
    "        prediction = (hypothesis >= 0.5).float()\n",
    "        correct_prediction = prediction == y_train1\n",
    "        accuracy = correct_prediction.sum().item() / len(correct_prediction)\n",
    "        print(f'Epoch {epoch}/{nb_epochs}, Cost: {cost.item():.4f}, Accuracy: {accuracy*100:.2f}%')"
   ],
   "metadata": {
    "collapsed": false,
    "ExecuteTime": {
     "start_time": "2024-03-14T04:27:56.887470Z"
    }
   },
   "id": "2b98f9c02d438c9c",
   "execution_count": null
  },
  {
   "cell_type": "markdown",
   "source": [
    "# 답안"
   ],
   "metadata": {
    "collapsed": false
   },
   "id": "b7f44a517b24fa28"
  },
  {
   "cell_type": "code",
   "outputs": [],
   "source": [
    "# 모듈 로딩\n",
    "from sklearn.datasets import fetch_openml\n",
    "import pandas as pd\n",
    "import numpy as np\n",
    "\n",
    "import torch\n",
    "import torch.nn as nn                   # LinearRegression 기능의 클래스 Linear\n",
    "import torch.nn.functional as F         # 손실함수\n",
    "import torch.optim as optim             # 경사하강법 기반의 최적화 관련 모듈 "
   ],
   "metadata": {
    "collapsed": false,
    "ExecuteTime": {
     "end_time": "2024-03-14T04:37:22.145913Z",
     "start_time": "2024-03-14T04:37:22.138570Z"
    }
   },
   "id": "2e1ef379f8346868",
   "execution_count": 447
  },
  {
   "cell_type": "code",
   "outputs": [],
   "source": [
    "### => 데이터 준비\n",
    "fashion_db = 'fashion-mnist'\n",
    "fashion_data = fetch_openml(name=fashion_db, parser='auto') # (, as frame=False)"
   ],
   "metadata": {
    "collapsed": false,
    "ExecuteTime": {
     "end_time": "2024-03-14T04:37:26.114426Z",
     "start_time": "2024-03-14T04:37:22.779717Z"
    }
   },
   "id": "5d0e91a1235a468c",
   "execution_count": 448
  },
  {
   "cell_type": "code",
   "outputs": [],
   "source": [
    "### => 데이터 확인\n",
    "feature = fashion_data['data']\n",
    "target = fashion_data['target']\n"
   ],
   "metadata": {
    "collapsed": false,
    "ExecuteTime": {
     "end_time": "2024-03-14T04:37:26.137573Z",
     "start_time": "2024-03-14T04:37:26.124471Z"
    }
   },
   "id": "d2399f3be837c972",
   "execution_count": 449
  },
  {
   "cell_type": "code",
   "outputs": [
    {
     "data": {
      "text/plain": "0        9\n1        0\n2        0\n3        3\n4        0\n        ..\n69995    9\n69996    1\n69997    8\n69998    1\n69999    5\nName: class, Length: 70000, dtype: category\nCategories (10, object): ['0', '1', '2', '3', ..., '6', '7', '8', '9']"
     },
     "execution_count": 450,
     "metadata": {},
     "output_type": "execute_result"
    }
   ],
   "source": [
    "target\n"
   ],
   "metadata": {
    "collapsed": false,
    "ExecuteTime": {
     "end_time": "2024-03-14T04:37:26.941817Z",
     "start_time": "2024-03-14T04:37:26.938056Z"
    }
   },
   "id": "6aff3273dd2d1d9f",
   "execution_count": 450
  },
  {
   "cell_type": "code",
   "outputs": [
    {
     "name": "stdout",
     "output_type": "stream",
     "text": [
      "Feature => (70000, 784), 2D\n",
      "Target => (70000,), 1D\n"
     ]
    }
   ],
   "source": [
    "# 피쳐와 타겟 갯수 확인\n",
    "print(f'Feature => {feature.shape}, {feature.ndim}D')\n",
    "print(f'Target => {target.shape}, {target.ndim}D')"
   ],
   "metadata": {
    "collapsed": false,
    "ExecuteTime": {
     "end_time": "2024-03-14T04:37:27.443309Z",
     "start_time": "2024-03-14T04:37:27.438568Z"
    }
   },
   "id": "668c12b8bcb522d8",
   "execution_count": 451
  },
  {
   "cell_type": "code",
   "outputs": [
    {
     "data": {
      "text/plain": "dict_keys(['data', 'target', 'frame', 'categories', 'feature_names', 'target_names', 'DESCR', 'details', 'url'])"
     },
     "execution_count": 452,
     "metadata": {},
     "output_type": "execute_result"
    }
   ],
   "source": [
    "fashion_data.keys()"
   ],
   "metadata": {
    "collapsed": false,
    "ExecuteTime": {
     "end_time": "2024-03-14T04:37:27.937391Z",
     "start_time": "2024-03-14T04:37:27.931779Z"
    }
   },
   "id": "9cb94940a892299a",
   "execution_count": 452
  },
  {
   "cell_type": "code",
   "outputs": [
    {
     "name": "stdout",
     "output_type": "stream",
     "text": [
      "Feature name => ['pixel1', 'pixel2', 'pixel3', 'pixel4', 'pixel5', 'pixel6', 'pixel7', 'pixel8', 'pixel9', 'pixel10', 'pixel11', 'pixel12', 'pixel13', 'pixel14', 'pixel15', 'pixel16', 'pixel17', 'pixel18', 'pixel19', 'pixel20', 'pixel21', 'pixel22', 'pixel23', 'pixel24', 'pixel25', 'pixel26', 'pixel27', 'pixel28', 'pixel29', 'pixel30', 'pixel31', 'pixel32', 'pixel33', 'pixel34', 'pixel35', 'pixel36', 'pixel37', 'pixel38', 'pixel39', 'pixel40', 'pixel41', 'pixel42', 'pixel43', 'pixel44', 'pixel45', 'pixel46', 'pixel47', 'pixel48', 'pixel49', 'pixel50', 'pixel51', 'pixel52', 'pixel53', 'pixel54', 'pixel55', 'pixel56', 'pixel57', 'pixel58', 'pixel59', 'pixel60', 'pixel61', 'pixel62', 'pixel63', 'pixel64', 'pixel65', 'pixel66', 'pixel67', 'pixel68', 'pixel69', 'pixel70', 'pixel71', 'pixel72', 'pixel73', 'pixel74', 'pixel75', 'pixel76', 'pixel77', 'pixel78', 'pixel79', 'pixel80', 'pixel81', 'pixel82', 'pixel83', 'pixel84', 'pixel85', 'pixel86', 'pixel87', 'pixel88', 'pixel89', 'pixel90', 'pixel91', 'pixel92', 'pixel93', 'pixel94', 'pixel95', 'pixel96', 'pixel97', 'pixel98', 'pixel99', 'pixel100', 'pixel101', 'pixel102', 'pixel103', 'pixel104', 'pixel105', 'pixel106', 'pixel107', 'pixel108', 'pixel109', 'pixel110', 'pixel111', 'pixel112', 'pixel113', 'pixel114', 'pixel115', 'pixel116', 'pixel117', 'pixel118', 'pixel119', 'pixel120', 'pixel121', 'pixel122', 'pixel123', 'pixel124', 'pixel125', 'pixel126', 'pixel127', 'pixel128', 'pixel129', 'pixel130', 'pixel131', 'pixel132', 'pixel133', 'pixel134', 'pixel135', 'pixel136', 'pixel137', 'pixel138', 'pixel139', 'pixel140', 'pixel141', 'pixel142', 'pixel143', 'pixel144', 'pixel145', 'pixel146', 'pixel147', 'pixel148', 'pixel149', 'pixel150', 'pixel151', 'pixel152', 'pixel153', 'pixel154', 'pixel155', 'pixel156', 'pixel157', 'pixel158', 'pixel159', 'pixel160', 'pixel161', 'pixel162', 'pixel163', 'pixel164', 'pixel165', 'pixel166', 'pixel167', 'pixel168', 'pixel169', 'pixel170', 'pixel171', 'pixel172', 'pixel173', 'pixel174', 'pixel175', 'pixel176', 'pixel177', 'pixel178', 'pixel179', 'pixel180', 'pixel181', 'pixel182', 'pixel183', 'pixel184', 'pixel185', 'pixel186', 'pixel187', 'pixel188', 'pixel189', 'pixel190', 'pixel191', 'pixel192', 'pixel193', 'pixel194', 'pixel195', 'pixel196', 'pixel197', 'pixel198', 'pixel199', 'pixel200', 'pixel201', 'pixel202', 'pixel203', 'pixel204', 'pixel205', 'pixel206', 'pixel207', 'pixel208', 'pixel209', 'pixel210', 'pixel211', 'pixel212', 'pixel213', 'pixel214', 'pixel215', 'pixel216', 'pixel217', 'pixel218', 'pixel219', 'pixel220', 'pixel221', 'pixel222', 'pixel223', 'pixel224', 'pixel225', 'pixel226', 'pixel227', 'pixel228', 'pixel229', 'pixel230', 'pixel231', 'pixel232', 'pixel233', 'pixel234', 'pixel235', 'pixel236', 'pixel237', 'pixel238', 'pixel239', 'pixel240', 'pixel241', 'pixel242', 'pixel243', 'pixel244', 'pixel245', 'pixel246', 'pixel247', 'pixel248', 'pixel249', 'pixel250', 'pixel251', 'pixel252', 'pixel253', 'pixel254', 'pixel255', 'pixel256', 'pixel257', 'pixel258', 'pixel259', 'pixel260', 'pixel261', 'pixel262', 'pixel263', 'pixel264', 'pixel265', 'pixel266', 'pixel267', 'pixel268', 'pixel269', 'pixel270', 'pixel271', 'pixel272', 'pixel273', 'pixel274', 'pixel275', 'pixel276', 'pixel277', 'pixel278', 'pixel279', 'pixel280', 'pixel281', 'pixel282', 'pixel283', 'pixel284', 'pixel285', 'pixel286', 'pixel287', 'pixel288', 'pixel289', 'pixel290', 'pixel291', 'pixel292', 'pixel293', 'pixel294', 'pixel295', 'pixel296', 'pixel297', 'pixel298', 'pixel299', 'pixel300', 'pixel301', 'pixel302', 'pixel303', 'pixel304', 'pixel305', 'pixel306', 'pixel307', 'pixel308', 'pixel309', 'pixel310', 'pixel311', 'pixel312', 'pixel313', 'pixel314', 'pixel315', 'pixel316', 'pixel317', 'pixel318', 'pixel319', 'pixel320', 'pixel321', 'pixel322', 'pixel323', 'pixel324', 'pixel325', 'pixel326', 'pixel327', 'pixel328', 'pixel329', 'pixel330', 'pixel331', 'pixel332', 'pixel333', 'pixel334', 'pixel335', 'pixel336', 'pixel337', 'pixel338', 'pixel339', 'pixel340', 'pixel341', 'pixel342', 'pixel343', 'pixel344', 'pixel345', 'pixel346', 'pixel347', 'pixel348', 'pixel349', 'pixel350', 'pixel351', 'pixel352', 'pixel353', 'pixel354', 'pixel355', 'pixel356', 'pixel357', 'pixel358', 'pixel359', 'pixel360', 'pixel361', 'pixel362', 'pixel363', 'pixel364', 'pixel365', 'pixel366', 'pixel367', 'pixel368', 'pixel369', 'pixel370', 'pixel371', 'pixel372', 'pixel373', 'pixel374', 'pixel375', 'pixel376', 'pixel377', 'pixel378', 'pixel379', 'pixel380', 'pixel381', 'pixel382', 'pixel383', 'pixel384', 'pixel385', 'pixel386', 'pixel387', 'pixel388', 'pixel389', 'pixel390', 'pixel391', 'pixel392', 'pixel393', 'pixel394', 'pixel395', 'pixel396', 'pixel397', 'pixel398', 'pixel399', 'pixel400', 'pixel401', 'pixel402', 'pixel403', 'pixel404', 'pixel405', 'pixel406', 'pixel407', 'pixel408', 'pixel409', 'pixel410', 'pixel411', 'pixel412', 'pixel413', 'pixel414', 'pixel415', 'pixel416', 'pixel417', 'pixel418', 'pixel419', 'pixel420', 'pixel421', 'pixel422', 'pixel423', 'pixel424', 'pixel425', 'pixel426', 'pixel427', 'pixel428', 'pixel429', 'pixel430', 'pixel431', 'pixel432', 'pixel433', 'pixel434', 'pixel435', 'pixel436', 'pixel437', 'pixel438', 'pixel439', 'pixel440', 'pixel441', 'pixel442', 'pixel443', 'pixel444', 'pixel445', 'pixel446', 'pixel447', 'pixel448', 'pixel449', 'pixel450', 'pixel451', 'pixel452', 'pixel453', 'pixel454', 'pixel455', 'pixel456', 'pixel457', 'pixel458', 'pixel459', 'pixel460', 'pixel461', 'pixel462', 'pixel463', 'pixel464', 'pixel465', 'pixel466', 'pixel467', 'pixel468', 'pixel469', 'pixel470', 'pixel471', 'pixel472', 'pixel473', 'pixel474', 'pixel475', 'pixel476', 'pixel477', 'pixel478', 'pixel479', 'pixel480', 'pixel481', 'pixel482', 'pixel483', 'pixel484', 'pixel485', 'pixel486', 'pixel487', 'pixel488', 'pixel489', 'pixel490', 'pixel491', 'pixel492', 'pixel493', 'pixel494', 'pixel495', 'pixel496', 'pixel497', 'pixel498', 'pixel499', 'pixel500', 'pixel501', 'pixel502', 'pixel503', 'pixel504', 'pixel505', 'pixel506', 'pixel507', 'pixel508', 'pixel509', 'pixel510', 'pixel511', 'pixel512', 'pixel513', 'pixel514', 'pixel515', 'pixel516', 'pixel517', 'pixel518', 'pixel519', 'pixel520', 'pixel521', 'pixel522', 'pixel523', 'pixel524', 'pixel525', 'pixel526', 'pixel527', 'pixel528', 'pixel529', 'pixel530', 'pixel531', 'pixel532', 'pixel533', 'pixel534', 'pixel535', 'pixel536', 'pixel537', 'pixel538', 'pixel539', 'pixel540', 'pixel541', 'pixel542', 'pixel543', 'pixel544', 'pixel545', 'pixel546', 'pixel547', 'pixel548', 'pixel549', 'pixel550', 'pixel551', 'pixel552', 'pixel553', 'pixel554', 'pixel555', 'pixel556', 'pixel557', 'pixel558', 'pixel559', 'pixel560', 'pixel561', 'pixel562', 'pixel563', 'pixel564', 'pixel565', 'pixel566', 'pixel567', 'pixel568', 'pixel569', 'pixel570', 'pixel571', 'pixel572', 'pixel573', 'pixel574', 'pixel575', 'pixel576', 'pixel577', 'pixel578', 'pixel579', 'pixel580', 'pixel581', 'pixel582', 'pixel583', 'pixel584', 'pixel585', 'pixel586', 'pixel587', 'pixel588', 'pixel589', 'pixel590', 'pixel591', 'pixel592', 'pixel593', 'pixel594', 'pixel595', 'pixel596', 'pixel597', 'pixel598', 'pixel599', 'pixel600', 'pixel601', 'pixel602', 'pixel603', 'pixel604', 'pixel605', 'pixel606', 'pixel607', 'pixel608', 'pixel609', 'pixel610', 'pixel611', 'pixel612', 'pixel613', 'pixel614', 'pixel615', 'pixel616', 'pixel617', 'pixel618', 'pixel619', 'pixel620', 'pixel621', 'pixel622', 'pixel623', 'pixel624', 'pixel625', 'pixel626', 'pixel627', 'pixel628', 'pixel629', 'pixel630', 'pixel631', 'pixel632', 'pixel633', 'pixel634', 'pixel635', 'pixel636', 'pixel637', 'pixel638', 'pixel639', 'pixel640', 'pixel641', 'pixel642', 'pixel643', 'pixel644', 'pixel645', 'pixel646', 'pixel647', 'pixel648', 'pixel649', 'pixel650', 'pixel651', 'pixel652', 'pixel653', 'pixel654', 'pixel655', 'pixel656', 'pixel657', 'pixel658', 'pixel659', 'pixel660', 'pixel661', 'pixel662', 'pixel663', 'pixel664', 'pixel665', 'pixel666', 'pixel667', 'pixel668', 'pixel669', 'pixel670', 'pixel671', 'pixel672', 'pixel673', 'pixel674', 'pixel675', 'pixel676', 'pixel677', 'pixel678', 'pixel679', 'pixel680', 'pixel681', 'pixel682', 'pixel683', 'pixel684', 'pixel685', 'pixel686', 'pixel687', 'pixel688', 'pixel689', 'pixel690', 'pixel691', 'pixel692', 'pixel693', 'pixel694', 'pixel695', 'pixel696', 'pixel697', 'pixel698', 'pixel699', 'pixel700', 'pixel701', 'pixel702', 'pixel703', 'pixel704', 'pixel705', 'pixel706', 'pixel707', 'pixel708', 'pixel709', 'pixel710', 'pixel711', 'pixel712', 'pixel713', 'pixel714', 'pixel715', 'pixel716', 'pixel717', 'pixel718', 'pixel719', 'pixel720', 'pixel721', 'pixel722', 'pixel723', 'pixel724', 'pixel725', 'pixel726', 'pixel727', 'pixel728', 'pixel729', 'pixel730', 'pixel731', 'pixel732', 'pixel733', 'pixel734', 'pixel735', 'pixel736', 'pixel737', 'pixel738', 'pixel739', 'pixel740', 'pixel741', 'pixel742', 'pixel743', 'pixel744', 'pixel745', 'pixel746', 'pixel747', 'pixel748', 'pixel749', 'pixel750', 'pixel751', 'pixel752', 'pixel753', 'pixel754', 'pixel755', 'pixel756', 'pixel757', 'pixel758', 'pixel759', 'pixel760', 'pixel761', 'pixel762', 'pixel763', 'pixel764', 'pixel765', 'pixel766', 'pixel767', 'pixel768', 'pixel769', 'pixel770', 'pixel771', 'pixel772', 'pixel773', 'pixel774', 'pixel775', 'pixel776', 'pixel777', 'pixel778', 'pixel779', 'pixel780', 'pixel781', 'pixel782', 'pixel783', 'pixel784']\n",
      "Target name => ['class']\n",
      "Categories => None\n",
      "Categories => ['9', '0', '3', '2', '7', '5', '1', '6', '4', '8']\n",
      "Categories (10, object): ['0', '1', '2', '3', ..., '6', '7', '8', '9']\n"
     ]
    }
   ],
   "source": [
    "print(f'Feature name => {fashion_data[\"feature_names\"]}')\n",
    "print(f'Target name => {fashion_data[\"target_names\"]}')\n",
    "print(f'Categories => {fashion_data[\"categories\"]}')\n",
    "print(f'Categories => {target.unique()}')\n",
    "\n"
   ],
   "metadata": {
    "collapsed": false,
    "ExecuteTime": {
     "end_time": "2024-03-14T04:37:28.360591Z",
     "start_time": "2024-03-14T04:37:28.354317Z"
    }
   },
   "id": "9fca5f8b54194f82",
   "execution_count": 453
  },
  {
   "cell_type": "code",
   "outputs": [],
   "source": [],
   "metadata": {
    "collapsed": false,
    "ExecuteTime": {
     "end_time": "2024-03-14T04:37:28.800919Z",
     "start_time": "2024-03-14T04:37:28.792504Z"
    }
   },
   "id": "c3100fd525fddfa3",
   "execution_count": 453
  },
  {
   "cell_type": "markdown",
   "source": [
    "### [2] 데이터 가공 및 전처리 <hr>\n",
    "- 결측치/중복/이상치 => 이 데이터에는 없음\n",
    "- 다중분류 => 2진 분류 변환 : target 변환\n",
    "- 표준화 => 이미지 동일 크기 및 색상 채널 : 동일 크기와 채널이라 변경 필요 없음\n",
    "- 정규화 => 피쳐 정규화 / 타겟 정규화"
   ],
   "metadata": {
    "collapsed": false
   },
   "id": "45cdeba06bb64943"
  },
  {
   "cell_type": "markdown",
   "source": [
    "#### [2-1] 다중분류 => 2진분류 변환 : target 변환"
   ],
   "metadata": {
    "collapsed": false
   },
   "id": "b2ebd01b7210798"
  },
  {
   "cell_type": "code",
   "outputs": [
    {
     "data": {
      "text/plain": "array([False,  True])"
     },
     "execution_count": 454,
     "metadata": {},
     "output_type": "execute_result"
    }
   ],
   "source": [
    "# target.replace('0',1)\n",
    "target = target =='0'\n",
    "target.unique()"
   ],
   "metadata": {
    "collapsed": false,
    "ExecuteTime": {
     "end_time": "2024-03-14T04:37:30.063121Z",
     "start_time": "2024-03-14T04:37:30.058752Z"
    }
   },
   "id": "b97467a43e458beb",
   "execution_count": 454
  },
  {
   "cell_type": "code",
   "outputs": [
    {
     "data": {
      "text/plain": "0        False\n1         True\n2         True\n3        False\n4         True\n         ...  \n69995    False\n69996    False\n69997    False\n69998    False\n69999    False\nName: class, Length: 70000, dtype: bool"
     },
     "execution_count": 455,
     "metadata": {},
     "output_type": "execute_result"
    }
   ],
   "source": [
    "target"
   ],
   "metadata": {
    "collapsed": false,
    "ExecuteTime": {
     "end_time": "2024-03-14T04:37:30.569460Z",
     "start_time": "2024-03-14T04:37:30.550930Z"
    }
   },
   "id": "74567dd2d58852cf",
   "execution_count": 455
  },
  {
   "cell_type": "markdown",
   "source": [
    "#### [2-2] 정규화 ==> 피쳐 : 784개 색상값 즉, 0 ~ 255 범위 값"
   ],
   "metadata": {
    "collapsed": false
   },
   "id": "6a77cd0f8c9fe12e"
  },
  {
   "cell_type": "code",
   "outputs": [
    {
     "data": {
      "text/plain": "       pixel1  pixel2  pixel3  pixel4  pixel5    pixel6  pixel7  pixel8  \\\n0         0.0     0.0     0.0     0.0     0.0  0.000000     0.0     0.0   \n1         0.0     0.0     0.0     0.0     0.0  0.003922     0.0     0.0   \n2         0.0     0.0     0.0     0.0     0.0  0.000000     0.0     0.0   \n3         0.0     0.0     0.0     0.0     0.0  0.000000     0.0     0.0   \n4         0.0     0.0     0.0     0.0     0.0  0.000000     0.0     0.0   \n...       ...     ...     ...     ...     ...       ...     ...     ...   \n69995     0.0     0.0     0.0     0.0     0.0  0.000000     0.0     0.0   \n69996     0.0     0.0     0.0     0.0     0.0  0.000000     0.0     0.0   \n69997     0.0     0.0     0.0     0.0     0.0  0.000000     0.0     0.0   \n69998     0.0     0.0     0.0     0.0     0.0  0.000000     0.0     0.0   \n69999     0.0     0.0     0.0     0.0     0.0  0.000000     0.0     0.0   \n\n         pixel9   pixel10  ...  pixel775  pixel776  pixel777  pixel778  \\\n0      0.000000  0.000000  ...  0.000000  0.000000  0.000000  0.000000   \n1      0.000000  0.000000  ...  0.466667  0.447059  0.509804  0.298039   \n2      0.000000  0.086275  ...  0.000000  0.000000  0.003922  0.000000   \n3      0.129412  0.376471  ...  0.000000  0.000000  0.000000  0.000000   \n4      0.000000  0.000000  ...  0.000000  0.000000  0.000000  0.000000   \n...         ...       ...  ...       ...       ...       ...       ...   \n69995  0.000000  0.000000  ...  0.000000  0.000000  0.000000  0.000000   \n69996  0.000000  0.121569  ...  0.000000  0.000000  0.000000  0.000000   \n69997  0.000000  0.000000  ...  0.105882  0.000000  0.000000  0.000000   \n69998  0.000000  0.000000  ...  0.000000  0.000000  0.000000  0.000000   \n69999  0.000000  0.000000  ...  0.000000  0.000000  0.000000  0.000000   \n\n       pixel779  pixel780  pixel781  pixel782  pixel783  pixel784  \n0           0.0       0.0       0.0       0.0       0.0       0.0  \n1           0.0       0.0       0.0       0.0       0.0       0.0  \n2           0.0       0.0       0.0       0.0       0.0       0.0  \n3           0.0       0.0       0.0       0.0       0.0       0.0  \n4           0.0       0.0       0.0       0.0       0.0       0.0  \n...         ...       ...       ...       ...       ...       ...  \n69995       0.0       0.0       0.0       0.0       0.0       0.0  \n69996       0.0       0.0       0.0       0.0       0.0       0.0  \n69997       0.0       0.0       0.0       0.0       0.0       0.0  \n69998       0.0       0.0       0.0       0.0       0.0       0.0  \n69999       0.0       0.0       0.0       0.0       0.0       0.0  \n\n[70000 rows x 784 columns]",
      "text/html": "<div>\n<style scoped>\n    .dataframe tbody tr th:only-of-type {\n        vertical-align: middle;\n    }\n\n    .dataframe tbody tr th {\n        vertical-align: top;\n    }\n\n    .dataframe thead th {\n        text-align: right;\n    }\n</style>\n<table border=\"1\" class=\"dataframe\">\n  <thead>\n    <tr style=\"text-align: right;\">\n      <th></th>\n      <th>pixel1</th>\n      <th>pixel2</th>\n      <th>pixel3</th>\n      <th>pixel4</th>\n      <th>pixel5</th>\n      <th>pixel6</th>\n      <th>pixel7</th>\n      <th>pixel8</th>\n      <th>pixel9</th>\n      <th>pixel10</th>\n      <th>...</th>\n      <th>pixel775</th>\n      <th>pixel776</th>\n      <th>pixel777</th>\n      <th>pixel778</th>\n      <th>pixel779</th>\n      <th>pixel780</th>\n      <th>pixel781</th>\n      <th>pixel782</th>\n      <th>pixel783</th>\n      <th>pixel784</th>\n    </tr>\n  </thead>\n  <tbody>\n    <tr>\n      <th>0</th>\n      <td>0.0</td>\n      <td>0.0</td>\n      <td>0.0</td>\n      <td>0.0</td>\n      <td>0.0</td>\n      <td>0.000000</td>\n      <td>0.0</td>\n      <td>0.0</td>\n      <td>0.000000</td>\n      <td>0.000000</td>\n      <td>...</td>\n      <td>0.000000</td>\n      <td>0.000000</td>\n      <td>0.000000</td>\n      <td>0.000000</td>\n      <td>0.0</td>\n      <td>0.0</td>\n      <td>0.0</td>\n      <td>0.0</td>\n      <td>0.0</td>\n      <td>0.0</td>\n    </tr>\n    <tr>\n      <th>1</th>\n      <td>0.0</td>\n      <td>0.0</td>\n      <td>0.0</td>\n      <td>0.0</td>\n      <td>0.0</td>\n      <td>0.003922</td>\n      <td>0.0</td>\n      <td>0.0</td>\n      <td>0.000000</td>\n      <td>0.000000</td>\n      <td>...</td>\n      <td>0.466667</td>\n      <td>0.447059</td>\n      <td>0.509804</td>\n      <td>0.298039</td>\n      <td>0.0</td>\n      <td>0.0</td>\n      <td>0.0</td>\n      <td>0.0</td>\n      <td>0.0</td>\n      <td>0.0</td>\n    </tr>\n    <tr>\n      <th>2</th>\n      <td>0.0</td>\n      <td>0.0</td>\n      <td>0.0</td>\n      <td>0.0</td>\n      <td>0.0</td>\n      <td>0.000000</td>\n      <td>0.0</td>\n      <td>0.0</td>\n      <td>0.000000</td>\n      <td>0.086275</td>\n      <td>...</td>\n      <td>0.000000</td>\n      <td>0.000000</td>\n      <td>0.003922</td>\n      <td>0.000000</td>\n      <td>0.0</td>\n      <td>0.0</td>\n      <td>0.0</td>\n      <td>0.0</td>\n      <td>0.0</td>\n      <td>0.0</td>\n    </tr>\n    <tr>\n      <th>3</th>\n      <td>0.0</td>\n      <td>0.0</td>\n      <td>0.0</td>\n      <td>0.0</td>\n      <td>0.0</td>\n      <td>0.000000</td>\n      <td>0.0</td>\n      <td>0.0</td>\n      <td>0.129412</td>\n      <td>0.376471</td>\n      <td>...</td>\n      <td>0.000000</td>\n      <td>0.000000</td>\n      <td>0.000000</td>\n      <td>0.000000</td>\n      <td>0.0</td>\n      <td>0.0</td>\n      <td>0.0</td>\n      <td>0.0</td>\n      <td>0.0</td>\n      <td>0.0</td>\n    </tr>\n    <tr>\n      <th>4</th>\n      <td>0.0</td>\n      <td>0.0</td>\n      <td>0.0</td>\n      <td>0.0</td>\n      <td>0.0</td>\n      <td>0.000000</td>\n      <td>0.0</td>\n      <td>0.0</td>\n      <td>0.000000</td>\n      <td>0.000000</td>\n      <td>...</td>\n      <td>0.000000</td>\n      <td>0.000000</td>\n      <td>0.000000</td>\n      <td>0.000000</td>\n      <td>0.0</td>\n      <td>0.0</td>\n      <td>0.0</td>\n      <td>0.0</td>\n      <td>0.0</td>\n      <td>0.0</td>\n    </tr>\n    <tr>\n      <th>...</th>\n      <td>...</td>\n      <td>...</td>\n      <td>...</td>\n      <td>...</td>\n      <td>...</td>\n      <td>...</td>\n      <td>...</td>\n      <td>...</td>\n      <td>...</td>\n      <td>...</td>\n      <td>...</td>\n      <td>...</td>\n      <td>...</td>\n      <td>...</td>\n      <td>...</td>\n      <td>...</td>\n      <td>...</td>\n      <td>...</td>\n      <td>...</td>\n      <td>...</td>\n      <td>...</td>\n    </tr>\n    <tr>\n      <th>69995</th>\n      <td>0.0</td>\n      <td>0.0</td>\n      <td>0.0</td>\n      <td>0.0</td>\n      <td>0.0</td>\n      <td>0.000000</td>\n      <td>0.0</td>\n      <td>0.0</td>\n      <td>0.000000</td>\n      <td>0.000000</td>\n      <td>...</td>\n      <td>0.000000</td>\n      <td>0.000000</td>\n      <td>0.000000</td>\n      <td>0.000000</td>\n      <td>0.0</td>\n      <td>0.0</td>\n      <td>0.0</td>\n      <td>0.0</td>\n      <td>0.0</td>\n      <td>0.0</td>\n    </tr>\n    <tr>\n      <th>69996</th>\n      <td>0.0</td>\n      <td>0.0</td>\n      <td>0.0</td>\n      <td>0.0</td>\n      <td>0.0</td>\n      <td>0.000000</td>\n      <td>0.0</td>\n      <td>0.0</td>\n      <td>0.000000</td>\n      <td>0.121569</td>\n      <td>...</td>\n      <td>0.000000</td>\n      <td>0.000000</td>\n      <td>0.000000</td>\n      <td>0.000000</td>\n      <td>0.0</td>\n      <td>0.0</td>\n      <td>0.0</td>\n      <td>0.0</td>\n      <td>0.0</td>\n      <td>0.0</td>\n    </tr>\n    <tr>\n      <th>69997</th>\n      <td>0.0</td>\n      <td>0.0</td>\n      <td>0.0</td>\n      <td>0.0</td>\n      <td>0.0</td>\n      <td>0.000000</td>\n      <td>0.0</td>\n      <td>0.0</td>\n      <td>0.000000</td>\n      <td>0.000000</td>\n      <td>...</td>\n      <td>0.105882</td>\n      <td>0.000000</td>\n      <td>0.000000</td>\n      <td>0.000000</td>\n      <td>0.0</td>\n      <td>0.0</td>\n      <td>0.0</td>\n      <td>0.0</td>\n      <td>0.0</td>\n      <td>0.0</td>\n    </tr>\n    <tr>\n      <th>69998</th>\n      <td>0.0</td>\n      <td>0.0</td>\n      <td>0.0</td>\n      <td>0.0</td>\n      <td>0.0</td>\n      <td>0.000000</td>\n      <td>0.0</td>\n      <td>0.0</td>\n      <td>0.000000</td>\n      <td>0.000000</td>\n      <td>...</td>\n      <td>0.000000</td>\n      <td>0.000000</td>\n      <td>0.000000</td>\n      <td>0.000000</td>\n      <td>0.0</td>\n      <td>0.0</td>\n      <td>0.0</td>\n      <td>0.0</td>\n      <td>0.0</td>\n      <td>0.0</td>\n    </tr>\n    <tr>\n      <th>69999</th>\n      <td>0.0</td>\n      <td>0.0</td>\n      <td>0.0</td>\n      <td>0.0</td>\n      <td>0.0</td>\n      <td>0.000000</td>\n      <td>0.0</td>\n      <td>0.0</td>\n      <td>0.000000</td>\n      <td>0.000000</td>\n      <td>...</td>\n      <td>0.000000</td>\n      <td>0.000000</td>\n      <td>0.000000</td>\n      <td>0.000000</td>\n      <td>0.0</td>\n      <td>0.0</td>\n      <td>0.0</td>\n      <td>0.0</td>\n      <td>0.0</td>\n      <td>0.0</td>\n    </tr>\n  </tbody>\n</table>\n<p>70000 rows × 784 columns</p>\n</div>"
     },
     "execution_count": 456,
     "metadata": {},
     "output_type": "execute_result"
    }
   ],
   "source": [
    "norm_feature = feature/255.\n",
    "norm_feature"
   ],
   "metadata": {
    "collapsed": false,
    "ExecuteTime": {
     "end_time": "2024-03-14T04:37:31.683602Z",
     "start_time": "2024-03-14T04:37:31.413574Z"
    }
   },
   "id": "4a8b54704106308d",
   "execution_count": 456
  },
  {
   "cell_type": "markdown",
   "source": [
    "#### [2-2] 정규화 ==> 타겟 : One-Hot 인코딩으로 변환"
   ],
   "metadata": {
    "collapsed": false
   },
   "id": "a4d0ac288f25cb98"
  },
  {
   "cell_type": "code",
   "outputs": [
    {
     "data": {
      "text/plain": "[array([False]),\n array([ True]),\n array([ True]),\n array([False]),\n array([ True]),\n array([False]),\n array([False]),\n array([False]),\n array([False]),\n array([False]),\n array([ True]),\n array([False]),\n array([False]),\n array([False]),\n array([False]),\n array([False]),\n array([False]),\n array([ True]),\n array([False]),\n array([False]),\n array([False]),\n array([False]),\n array([False]),\n array([False]),\n array([False]),\n array([False]),\n array([ True]),\n array([False]),\n array([False]),\n array([False]),\n array([False]),\n array([False]),\n array([False]),\n array([False]),\n array([ True]),\n array([False]),\n array([False]),\n array([False]),\n array([False]),\n array([False]),\n array([False]),\n array([False]),\n array([False]),\n array([False]),\n array([False]),\n array([False]),\n array([False]),\n array([False]),\n array([ True]),\n array([False]),\n array([False]),\n array([False]),\n array([False]),\n array([False]),\n array([False]),\n array([False]),\n array([False]),\n array([False]),\n array([False]),\n array([False]),\n array([False]),\n array([ True]),\n array([False]),\n array([False]),\n array([ True]),\n array([False]),\n array([ True]),\n array([ True]),\n array([False]),\n array([False]),\n array([False]),\n array([False]),\n array([False]),\n array([False]),\n array([False]),\n array([False]),\n array([False]),\n array([False]),\n array([False]),\n array([False]),\n array([False]),\n array([False]),\n array([False]),\n array([False]),\n array([False]),\n array([False]),\n array([False]),\n array([False]),\n array([False]),\n array([False]),\n array([False]),\n array([False]),\n array([False]),\n array([False]),\n array([False]),\n array([False]),\n array([False]),\n array([False]),\n array([False]),\n array([False]),\n array([False]),\n array([ True]),\n array([False]),\n array([False]),\n array([False]),\n array([False]),\n array([False]),\n array([False]),\n array([False]),\n array([False]),\n array([False]),\n array([False]),\n array([False]),\n array([False]),\n array([False]),\n array([False]),\n array([False]),\n array([False]),\n array([False]),\n array([False]),\n array([False]),\n array([False]),\n array([False]),\n array([False]),\n array([False]),\n array([False]),\n array([False]),\n array([False]),\n array([False]),\n array([False]),\n array([False]),\n array([False]),\n array([False]),\n array([False]),\n array([False]),\n array([False]),\n array([False]),\n array([False]),\n array([False]),\n array([False]),\n array([False]),\n array([False]),\n array([False]),\n array([False]),\n array([False]),\n array([False]),\n array([False]),\n array([False]),\n array([False]),\n array([ True]),\n array([False]),\n array([False]),\n array([False]),\n array([False]),\n array([ True]),\n array([False]),\n array([False]),\n array([False]),\n array([False]),\n array([False]),\n array([ True]),\n array([False]),\n array([False]),\n array([False]),\n array([False]),\n array([False]),\n array([False]),\n array([False]),\n array([False]),\n array([ True]),\n array([False]),\n array([ True]),\n array([False]),\n array([False]),\n array([False]),\n array([False]),\n array([ True]),\n array([False]),\n array([False]),\n array([False]),\n array([ True]),\n array([False]),\n array([ True]),\n array([False]),\n array([False]),\n array([False]),\n array([ True]),\n array([ True]),\n array([False]),\n array([False]),\n array([False]),\n array([ True]),\n array([False]),\n array([False]),\n array([False]),\n array([False]),\n array([False]),\n array([False]),\n array([False]),\n array([False]),\n array([False]),\n array([False]),\n array([ True]),\n array([False]),\n array([False]),\n array([False]),\n array([False]),\n array([ True]),\n array([False]),\n array([False]),\n array([False]),\n array([False]),\n array([False]),\n array([False]),\n array([False]),\n array([False]),\n array([False]),\n array([False]),\n array([False]),\n array([ True]),\n array([False]),\n array([False]),\n array([ True]),\n array([False]),\n array([False]),\n array([ True]),\n array([False]),\n array([False]),\n array([False]),\n array([False]),\n array([False]),\n array([False]),\n array([False]),\n array([False]),\n array([False]),\n array([False]),\n array([False]),\n array([ True]),\n array([False]),\n array([False]),\n array([False]),\n array([False]),\n array([False]),\n array([False]),\n array([False]),\n array([False]),\n array([False]),\n array([False]),\n array([False]),\n array([False]),\n array([False]),\n array([False]),\n array([False]),\n array([False]),\n array([False]),\n array([False]),\n array([False]),\n array([False]),\n array([False]),\n array([False]),\n array([False]),\n array([False]),\n array([False]),\n array([False]),\n array([False]),\n array([False]),\n array([False]),\n array([False]),\n array([False]),\n array([ True]),\n array([False]),\n array([False]),\n array([ True]),\n array([False]),\n array([False]),\n array([False]),\n array([False]),\n array([False]),\n array([False]),\n array([False]),\n array([False]),\n array([False]),\n array([False]),\n array([False]),\n array([False]),\n array([False]),\n array([False]),\n array([False]),\n array([False]),\n array([False]),\n array([False]),\n array([False]),\n array([False]),\n array([False]),\n array([False]),\n array([False]),\n array([False]),\n array([False]),\n array([False]),\n array([False]),\n array([False]),\n array([False]),\n array([ True]),\n array([False]),\n array([ True]),\n array([False]),\n array([False]),\n array([False]),\n array([False]),\n array([False]),\n array([False]),\n array([False]),\n array([False]),\n array([False]),\n array([False]),\n array([False]),\n array([False]),\n array([False]),\n array([False]),\n array([False]),\n array([False]),\n array([ True]),\n array([False]),\n array([False]),\n array([False]),\n array([ True]),\n array([False]),\n array([False]),\n array([False]),\n array([ True]),\n array([False]),\n array([ True]),\n array([False]),\n array([False]),\n array([False]),\n array([False]),\n array([False]),\n array([False]),\n array([ True]),\n array([False]),\n array([False]),\n array([False]),\n array([False]),\n array([False]),\n array([False]),\n array([False]),\n array([False]),\n array([False]),\n array([False]),\n array([False]),\n array([False]),\n array([False]),\n array([False]),\n array([False]),\n array([ True]),\n array([False]),\n array([False]),\n array([False]),\n array([False]),\n array([False]),\n array([False]),\n array([False]),\n array([False]),\n array([False]),\n array([False]),\n array([False]),\n array([False]),\n array([False]),\n array([False]),\n array([False]),\n array([False]),\n array([False]),\n array([False]),\n array([False]),\n array([False]),\n array([False]),\n array([False]),\n array([ True]),\n array([False]),\n array([False]),\n array([False]),\n array([False]),\n array([False]),\n array([ True]),\n array([False]),\n array([False]),\n array([False]),\n array([False]),\n array([False]),\n array([False]),\n array([False]),\n array([False]),\n array([ True]),\n array([False]),\n array([False]),\n array([False]),\n array([False]),\n array([False]),\n array([False]),\n array([False]),\n array([False]),\n array([False]),\n array([False]),\n array([False]),\n array([False]),\n array([False]),\n array([False]),\n array([False]),\n array([False]),\n array([False]),\n array([False]),\n array([False]),\n array([False]),\n array([False]),\n array([False]),\n array([ True]),\n array([False]),\n array([False]),\n array([False]),\n array([False]),\n array([False]),\n array([False]),\n array([False]),\n array([False]),\n array([False]),\n array([False]),\n array([False]),\n array([False]),\n array([False]),\n array([ True]),\n array([False]),\n array([False]),\n array([False]),\n array([False]),\n array([False]),\n array([False]),\n array([False]),\n array([False]),\n array([ True]),\n array([False]),\n array([False]),\n array([ True]),\n array([False]),\n array([False]),\n array([ True]),\n array([ True]),\n array([False]),\n array([False]),\n array([ True]),\n array([False]),\n array([False]),\n array([False]),\n array([False]),\n array([False]),\n array([False]),\n array([False]),\n array([False]),\n array([False]),\n array([False]),\n array([False]),\n array([False]),\n array([False]),\n array([False]),\n array([False]),\n array([False]),\n array([False]),\n array([False]),\n array([False]),\n array([False]),\n array([False]),\n array([False]),\n array([False]),\n array([False]),\n array([False]),\n array([False]),\n array([False]),\n array([False]),\n array([False]),\n array([False]),\n array([False]),\n array([False]),\n array([False]),\n array([False]),\n array([False]),\n array([False]),\n array([False]),\n array([False]),\n array([False]),\n array([False]),\n array([ True]),\n array([False]),\n array([False]),\n array([False]),\n array([ True]),\n array([False]),\n array([False]),\n array([False]),\n array([False]),\n array([False]),\n array([False]),\n array([False]),\n array([False]),\n array([False]),\n array([False]),\n array([ True]),\n array([False]),\n array([False]),\n array([False]),\n array([False]),\n array([False]),\n array([False]),\n array([False]),\n array([False]),\n array([False]),\n array([False]),\n array([False]),\n array([ True]),\n array([False]),\n array([False]),\n array([ True]),\n array([False]),\n array([False]),\n array([ True]),\n array([False]),\n array([ True]),\n array([False]),\n array([False]),\n array([False]),\n array([False]),\n array([False]),\n array([ True]),\n array([False]),\n array([False]),\n array([False]),\n array([False]),\n array([False]),\n array([False]),\n array([False]),\n array([False]),\n array([False]),\n array([False]),\n array([False]),\n array([False]),\n array([False]),\n array([False]),\n array([False]),\n array([False]),\n array([False]),\n array([False]),\n array([False]),\n array([False]),\n array([False]),\n array([False]),\n array([False]),\n array([False]),\n array([False]),\n array([False]),\n array([False]),\n array([False]),\n array([False]),\n array([False]),\n array([False]),\n array([False]),\n array([False]),\n array([ True]),\n array([ True]),\n array([False]),\n array([False]),\n array([False]),\n array([False]),\n array([False]),\n array([False]),\n array([False]),\n array([False]),\n array([False]),\n array([False]),\n array([False]),\n array([False]),\n array([False]),\n array([False]),\n array([False]),\n array([False]),\n array([False]),\n array([False]),\n array([False]),\n array([False]),\n array([False]),\n array([False]),\n array([False]),\n array([False]),\n array([False]),\n array([ True]),\n array([ True]),\n array([False]),\n array([False]),\n array([False]),\n array([False]),\n array([False]),\n array([False]),\n array([False]),\n array([ True]),\n array([ True]),\n array([False]),\n array([False]),\n array([False]),\n array([False]),\n array([False]),\n array([False]),\n array([False]),\n array([False]),\n array([False]),\n array([False]),\n array([False]),\n array([False]),\n array([False]),\n array([False]),\n array([False]),\n array([False]),\n array([False]),\n array([False]),\n array([False]),\n array([False]),\n array([False]),\n array([False]),\n array([False]),\n array([False]),\n array([False]),\n array([False]),\n array([False]),\n array([False]),\n array([False]),\n array([False]),\n array([False]),\n array([False]),\n array([False]),\n array([False]),\n array([False]),\n array([False]),\n array([False]),\n array([ True]),\n array([ True]),\n array([ True]),\n array([False]),\n array([False]),\n array([False]),\n array([ True]),\n array([False]),\n array([False]),\n array([False]),\n array([False]),\n array([False]),\n array([False]),\n array([False]),\n array([False]),\n array([False]),\n array([False]),\n array([False]),\n array([False]),\n array([False]),\n array([False]),\n array([False]),\n array([False]),\n array([ True]),\n array([False]),\n array([False]),\n array([ True]),\n array([False]),\n array([False]),\n array([False]),\n array([False]),\n array([False]),\n array([False]),\n array([False]),\n array([False]),\n array([False]),\n array([False]),\n array([False]),\n array([False]),\n array([ True]),\n array([False]),\n array([False]),\n array([False]),\n array([False]),\n array([False]),\n array([False]),\n array([False]),\n array([False]),\n array([False]),\n array([False]),\n array([False]),\n array([False]),\n array([False]),\n array([False]),\n array([False]),\n array([False]),\n array([False]),\n array([False]),\n array([False]),\n array([False]),\n array([False]),\n array([ True]),\n array([False]),\n array([False]),\n array([False]),\n array([False]),\n array([False]),\n array([False]),\n array([False]),\n array([False]),\n array([False]),\n array([False]),\n array([False]),\n array([ True]),\n array([False]),\n array([False]),\n array([ True]),\n array([ True]),\n array([False]),\n array([False]),\n array([False]),\n array([False]),\n array([False]),\n array([False]),\n array([False]),\n array([False]),\n array([False]),\n array([False]),\n array([False]),\n array([False]),\n array([False]),\n array([False]),\n array([False]),\n array([ True]),\n array([False]),\n array([False]),\n array([False]),\n array([False]),\n array([False]),\n array([False]),\n array([False]),\n array([False]),\n array([ True]),\n array([False]),\n array([False]),\n array([False]),\n array([ True]),\n array([False]),\n array([False]),\n array([False]),\n array([False]),\n array([False]),\n array([False]),\n array([False]),\n array([False]),\n array([False]),\n array([False]),\n array([False]),\n array([False]),\n array([False]),\n array([False]),\n array([False]),\n array([False]),\n array([False]),\n array([False]),\n array([False]),\n array([False]),\n array([False]),\n array([False]),\n array([False]),\n array([False]),\n array([False]),\n array([ True]),\n array([False]),\n array([False]),\n array([False]),\n array([False]),\n array([False]),\n array([False]),\n array([False]),\n array([False]),\n array([ True]),\n array([False]),\n array([False]),\n array([False]),\n array([False]),\n array([False]),\n array([False]),\n array([False]),\n array([False]),\n array([ True]),\n array([False]),\n array([ True]),\n array([False]),\n array([False]),\n array([False]),\n array([False]),\n array([False]),\n array([False]),\n array([False]),\n array([False]),\n array([False]),\n array([False]),\n array([False]),\n array([False]),\n array([False]),\n array([False]),\n array([False]),\n array([False]),\n array([ True]),\n array([False]),\n array([False]),\n array([False]),\n array([ True]),\n array([False]),\n array([False]),\n array([ True]),\n array([ True]),\n array([False]),\n array([False]),\n array([False]),\n array([False]),\n array([False]),\n array([False]),\n array([ True]),\n array([False]),\n array([ True]),\n array([False]),\n array([False]),\n array([False]),\n array([ True]),\n array([ True]),\n array([False]),\n array([False]),\n array([False]),\n array([False]),\n array([False]),\n array([False]),\n array([ True]),\n array([False]),\n array([ True]),\n array([False]),\n array([False]),\n array([False]),\n array([False]),\n array([False]),\n array([False]),\n array([False]),\n array([False]),\n array([False]),\n array([ True]),\n array([False]),\n array([False]),\n array([False]),\n array([False]),\n array([False]),\n array([False]),\n array([False]),\n array([False]),\n array([ True]),\n array([False]),\n array([False]),\n array([False]),\n array([False]),\n array([False]),\n array([False]),\n array([False]),\n array([False]),\n array([False]),\n array([False]),\n array([False]),\n array([False]),\n array([False]),\n array([False]),\n array([False]),\n array([False]),\n array([False]),\n array([False]),\n array([ True]),\n array([False]),\n array([False]),\n array([ True]),\n array([False]),\n array([False]),\n array([False]),\n array([False]),\n array([False]),\n array([False]),\n array([False]),\n array([False]),\n array([False]),\n array([False]),\n array([False]),\n array([ True]),\n array([ True]),\n array([False]),\n array([False]),\n array([False]),\n array([False]),\n array([False]),\n array([False]),\n array([False]),\n array([False]),\n array([False]),\n array([False]),\n array([False]),\n array([ True]),\n array([False]),\n array([False]),\n array([False]),\n array([False]),\n array([ True]),\n array([False]),\n array([False]),\n array([False]),\n array([False]),\n array([False]),\n array([False]),\n array([False]),\n array([False]),\n array([False]),\n array([False]),\n array([False]),\n array([False]),\n array([False]),\n array([False]),\n array([False]),\n array([False]),\n array([False]),\n array([False]),\n array([False]),\n array([False]),\n array([False]),\n array([False]),\n array([False]),\n array([False]),\n array([False]),\n array([False]),\n array([False]),\n array([False]),\n array([False]),\n array([False]),\n array([False]),\n array([ True]),\n array([False]),\n array([False]),\n array([False]),\n array([False]),\n array([False]),\n array([False]),\n array([False]),\n array([ True]),\n array([False]),\n array([False]),\n array([False]),\n array([False]),\n array([False]),\n array([False]),\n array([False]),\n array([False]),\n array([False]),\n array([False]),\n array([False]),\n array([False]),\n array([False]),\n array([False]),\n array([ True]),\n array([False]),\n array([ True]),\n array([False]),\n array([False]),\n array([False]),\n array([False]),\n array([ True]),\n array([False]),\n array([False]),\n array([False]),\n array([ True]),\n array([False]),\n array([False]),\n array([False]),\n array([False]),\n array([False]),\n array([False]),\n array([False]),\n array([False]),\n array([False]),\n array([False]),\n array([False]),\n array([ True]),\n array([False]),\n array([False]),\n array([False]),\n array([False]),\n array([False]),\n array([False]),\n array([False]),\n array([False]),\n array([False]),\n array([False]),\n array([False]),\n ...]"
     },
     "execution_count": 457,
     "metadata": {},
     "output_type": "execute_result"
    }
   ],
   "source": [
    "from sklearn.preprocessing import OneHotEncoder\n",
    "\n",
    "ohEncoder = OneHotEncoder()\n",
    "ohEncoder.fit([target])\n",
    "ohEncoder.categories_"
   ],
   "metadata": {
    "collapsed": false,
    "ExecuteTime": {
     "end_time": "2024-03-14T04:37:32.830681Z",
     "start_time": "2024-03-14T04:37:32.306780Z"
    }
   },
   "id": "ee9a0143ae1ea531",
   "execution_count": 457
  },
  {
   "cell_type": "code",
   "outputs": [
    {
     "data": {
      "text/plain": "array([[1., 1., 1., ..., 1., 1., 1.]])"
     },
     "execution_count": 458,
     "metadata": {},
     "output_type": "execute_result"
    }
   ],
   "source": [
    "ohEncoder.transform([target]).toarray() # 리스트 안에 어레이"
   ],
   "metadata": {
    "collapsed": false,
    "ExecuteTime": {
     "end_time": "2024-03-14T04:37:35.704783Z",
     "start_time": "2024-03-14T04:37:33.390885Z"
    }
   },
   "id": "7492bff805ead5de",
   "execution_count": 458
  },
  {
   "cell_type": "code",
   "outputs": [
    {
     "data": {
      "text/plain": "array([[1., 1., 1., ..., 1., 1., 1.]])"
     },
     "execution_count": 459,
     "metadata": {},
     "output_type": "execute_result"
    }
   ],
   "source": [
    "ohEncoder = OneHotEncoder(sparse_output=False) # 리스트 안에 어레이\n",
    "ohEncoder.fit([target])\n",
    "ohEncoder.categories_\n",
    "ohEncoder.transform([target])            "
   ],
   "metadata": {
    "collapsed": false,
    "ExecuteTime": {
     "end_time": "2024-03-14T04:37:38.466298Z",
     "start_time": "2024-03-14T04:37:35.701557Z"
    }
   },
   "id": "3d37e98e4a7954f9",
   "execution_count": 459
  },
  {
   "cell_type": "code",
   "outputs": [
    {
     "data": {
      "text/plain": "array([[1., 0.],\n       [0., 1.],\n       [0., 1.],\n       ...,\n       [1., 0.],\n       [1., 0.],\n       [1., 0.]])"
     },
     "execution_count": 460,
     "metadata": {},
     "output_type": "execute_result"
    }
   ],
   "source": [
    "from sklearn.preprocessing import OneHotEncoder\n",
    "\n",
    "targetDF = target.to_frame()\n",
    "ohEncoder = OneHotEncoder(sparse_output=False) # 2차원 DF를 입력\n",
    "ohEncoder.fit(targetDF)\n",
    "ohEncoder.categories_\n",
    "norm_target = ohEncoder.transform(targetDF)\n",
    "norm_target"
   ],
   "metadata": {
    "collapsed": false,
    "ExecuteTime": {
     "end_time": "2024-03-14T04:37:38.479945Z",
     "start_time": "2024-03-14T04:37:38.473521Z"
    }
   },
   "id": "d7f93ed7872391fc",
   "execution_count": 460
  },
  {
   "cell_type": "code",
   "outputs": [
    {
     "data": {
      "text/plain": "((70000, 2), 2)"
     },
     "execution_count": 461,
     "metadata": {},
     "output_type": "execute_result"
    }
   ],
   "source": [
    "norm_target.shape, norm_target.ndim\n"
   ],
   "metadata": {
    "collapsed": false,
    "ExecuteTime": {
     "end_time": "2024-03-14T04:37:38.483305Z",
     "start_time": "2024-03-14T04:37:38.480842Z"
    }
   },
   "id": "23d197079e953271",
   "execution_count": 461
  },
  {
   "cell_type": "markdown",
   "source": [
    "데이터 ==> 숫자변환\n",
    "글자  ==> 정수변환 ==> 원핫인코딩 ==> 밀집행렬[임베딩]"
   ],
   "metadata": {
    "collapsed": false
   },
   "id": "9eab6489e6957593"
  },
  {
   "cell_type": "markdown",
   "source": [
    "### [3] 학습 준비 <hr>\n",
    "- 학습 방법 : 지도학습 - 이진분류 => Linear 클래스 + sigmoid 함수\n",
    "- 최적화 방법 : 경사하강법 기반의 방법 => Adam, SDG, ...\n",
    "- 손실 함수 : 이진분류 손실 계산 함수 => binary_cross_entropy"
   ],
   "metadata": {
    "collapsed": false
   },
   "id": "bfc6473f04815751"
  },
  {
   "cell_type": "code",
   "outputs": [
    {
     "data": {
      "text/plain": "         0    1\n0      1.0  0.0\n1      0.0  1.0\n2      0.0  1.0\n3      1.0  0.0\n4      0.0  1.0\n...    ...  ...\n69995  1.0  0.0\n69996  1.0  0.0\n69997  1.0  0.0\n69998  1.0  0.0\n69999  1.0  0.0\n\n[70000 rows x 2 columns]",
      "text/html": "<div>\n<style scoped>\n    .dataframe tbody tr th:only-of-type {\n        vertical-align: middle;\n    }\n\n    .dataframe tbody tr th {\n        vertical-align: top;\n    }\n\n    .dataframe thead th {\n        text-align: right;\n    }\n</style>\n<table border=\"1\" class=\"dataframe\">\n  <thead>\n    <tr style=\"text-align: right;\">\n      <th></th>\n      <th>0</th>\n      <th>1</th>\n    </tr>\n  </thead>\n  <tbody>\n    <tr>\n      <th>0</th>\n      <td>1.0</td>\n      <td>0.0</td>\n    </tr>\n    <tr>\n      <th>1</th>\n      <td>0.0</td>\n      <td>1.0</td>\n    </tr>\n    <tr>\n      <th>2</th>\n      <td>0.0</td>\n      <td>1.0</td>\n    </tr>\n    <tr>\n      <th>3</th>\n      <td>1.0</td>\n      <td>0.0</td>\n    </tr>\n    <tr>\n      <th>4</th>\n      <td>0.0</td>\n      <td>1.0</td>\n    </tr>\n    <tr>\n      <th>...</th>\n      <td>...</td>\n      <td>...</td>\n    </tr>\n    <tr>\n      <th>69995</th>\n      <td>1.0</td>\n      <td>0.0</td>\n    </tr>\n    <tr>\n      <th>69996</th>\n      <td>1.0</td>\n      <td>0.0</td>\n    </tr>\n    <tr>\n      <th>69997</th>\n      <td>1.0</td>\n      <td>0.0</td>\n    </tr>\n    <tr>\n      <th>69998</th>\n      <td>1.0</td>\n      <td>0.0</td>\n    </tr>\n    <tr>\n      <th>69999</th>\n      <td>1.0</td>\n      <td>0.0</td>\n    </tr>\n  </tbody>\n</table>\n<p>70000 rows × 2 columns</p>\n</div>"
     },
     "execution_count": 462,
     "metadata": {},
     "output_type": "execute_result"
    }
   ],
   "source": [
    "norm_feature = pd.DataFrame(norm_feature)\n",
    "norm_feature\n",
    "norm_target = pd.DataFrame(norm_target)\n",
    "norm_target"
   ],
   "metadata": {
    "collapsed": false,
    "ExecuteTime": {
     "end_time": "2024-03-14T04:37:39.514524Z",
     "start_time": "2024-03-14T04:37:39.511181Z"
    }
   },
   "id": "5a1cc561da3f71d8",
   "execution_count": 462
  },
  {
   "cell_type": "code",
   "outputs": [],
   "source": [
    "### == 데이터셋 준비 : 60,000개 훈련, 10,000개 테스트\n",
    "\n",
    "limit = 60000\n",
    "train = norm_feature.iloc[:limit]\n",
    "test = norm_feature.iloc[limit:]\n",
    "\n",
    "train_y = target[:limit]\n",
    "test_y = target[limit:]"
   ],
   "metadata": {
    "collapsed": false,
    "ExecuteTime": {
     "end_time": "2024-03-14T04:37:40.180937Z",
     "start_time": "2024-03-14T04:37:40.174831Z"
    }
   },
   "id": "968b748e880c51df",
   "execution_count": 463
  },
  {
   "cell_type": "code",
   "outputs": [
    {
     "data": {
      "text/plain": "array([False,  True,  True, ..., False,  True, False])"
     },
     "execution_count": 464,
     "metadata": {},
     "output_type": "execute_result"
    }
   ],
   "source": [
    "train_y.values"
   ],
   "metadata": {
    "collapsed": false,
    "ExecuteTime": {
     "end_time": "2024-03-14T04:37:40.711527Z",
     "start_time": "2024-03-14T04:37:40.705052Z"
    }
   },
   "id": "73f1aef3133f88ae",
   "execution_count": 464
  },
  {
   "cell_type": "code",
   "outputs": [
    {
     "name": "stdout",
     "output_type": "stream",
     "text": [
      "train (60000, 784), 2D, (60000,), 1D\n",
      "test (10000, 784), 2D, (10000,), 1D\n"
     ]
    }
   ],
   "source": [
    "print(f'train {train.shape}, {train.ndim}D, {train_y.shape}, {train_y.ndim}D')\n",
    "print(f'test {test.shape}, {test.ndim}D, {test_y.shape}, {test_y.ndim}D')"
   ],
   "metadata": {
    "collapsed": false,
    "ExecuteTime": {
     "end_time": "2024-03-14T04:37:41.384430Z",
     "start_time": "2024-03-14T04:37:41.377224Z"
    }
   },
   "id": "c97eca488ea9b10d",
   "execution_count": 465
  },
  {
   "cell_type": "code",
   "outputs": [],
   "source": [
    "### ==> 텐서로 변환\n",
    "X_train = torch.FloatTensor(train.values)\n",
    "x_test = torch.FloatTensor(test.values)\n",
    "y_train = torch.FloatTensor(train_y.values).unsqueeze(dim=1)\n",
    "y_test = torch.FloatTensor(test_y.values).unsqueeze(dim=1)"
   ],
   "metadata": {
    "collapsed": false,
    "ExecuteTime": {
     "end_time": "2024-03-14T04:50:09.385337Z",
     "start_time": "2024-03-14T04:50:09.218704Z"
    }
   },
   "id": "dfe0da6e6f3fb258",
   "execution_count": 475
  },
  {
   "cell_type": "code",
   "outputs": [
    {
     "name": "stdout",
     "output_type": "stream",
     "text": [
      "X_train torch.Size([60000, 784]), 2D, torch.Size([60000, 1]), 2D\n",
      "x_test  torch.Size([10000, 784]), 2D,   torch.Size([10000, 1]), 2D\n"
     ]
    }
   ],
   "source": [
    "print(f'X_train {X_train.shape}, {X_train.ndim}D, {y_train.shape}, {y_train.ndim}D')\n",
    "print(f'x_test  {x_test.shape}, {x_test.ndim}D,   {y_test.shape}, {y_test.ndim}D')"
   ],
   "metadata": {
    "collapsed": false,
    "ExecuteTime": {
     "end_time": "2024-03-14T04:50:09.624812Z",
     "start_time": "2024-03-14T04:50:09.618087Z"
    }
   },
   "id": "c4de1c9b6e71845d",
   "execution_count": 476
  },
  {
   "cell_type": "code",
   "outputs": [
    {
     "data": {
      "text/plain": "Linear(in_features=784, out_features=1, bias=True)"
     },
     "execution_count": 477,
     "metadata": {},
     "output_type": "execute_result"
    }
   ],
   "source": [
    "### 학습 인스턴스 생성\n",
    "in_, out_ = X_train.shape[1], y_train.shape[1]\n",
    "model=nn.Linear(in_,out_)\n",
    "model"
   ],
   "metadata": {
    "collapsed": false,
    "ExecuteTime": {
     "end_time": "2024-03-14T04:50:09.958953Z",
     "start_time": "2024-03-14T04:50:09.951914Z"
    }
   },
   "id": "9f209fa263b1f7ec",
   "execution_count": 477
  },
  {
   "cell_type": "code",
   "outputs": [],
   "source": [
    "### 최적화 인스턴스 생성 => 모델에서 사용하는 W, b 변수들 전달\n",
    "optimizer = optim.Adam(model.parameters())"
   ],
   "metadata": {
    "collapsed": false,
    "ExecuteTime": {
     "end_time": "2024-03-14T04:50:10.258941Z",
     "start_time": "2024-03-14T04:50:10.251506Z"
    }
   },
   "id": "1d6544169035e2bf",
   "execution_count": 478
  },
  {
   "cell_type": "code",
   "outputs": [],
   "source": [
    "### 학습 횟수 =>\n",
    "EPOCHS = 100"
   ],
   "metadata": {
    "collapsed": false,
    "ExecuteTime": {
     "end_time": "2024-03-14T04:50:10.566059Z",
     "start_time": "2024-03-14T04:50:10.555997Z"
    }
   },
   "id": "a62a343fdb849c02",
   "execution_count": 479
  },
  {
   "cell_type": "markdown",
   "source": [
    "### [4] 학습 <hr>\n",
    "- 반복횟수 만큼 학습 진행"
   ],
   "metadata": {
    "collapsed": false
   },
   "id": "f23c7ea2624aae0f"
  },
  {
   "cell_type": "code",
   "outputs": [],
   "source": [
    "loss_list = []\n",
    "loss_accuracy = [[],[]]\n",
    "for epoch in range(EPOCHS):\n",
    "    # 학습\n",
    "    pre_y = model(X_train)\n",
    "    # print(f'예측값 : {pre_y}')\n",
    "    # 분류값 변환\n",
    "    pre_y2 = F.sigmoid(pre_y)\n",
    "    # print(f'분류값 : {pre_y2}')\n",
    "\n",
    "    # 오차 즉 손실 계산\n",
    "    loss = F.binary_cross_entropy(pre_y2, y_train)\n",
    "    loss_accuracy[0].append(loss.item())\n",
    "    # print(f'[{epoch}] Loss = > {loss}')\n",
    "    \n",
    "    # W, b 업데이트\n",
    "    optimizer.zero_grad()\n",
    "    loss.backward()             # 손실함수 계산값으로 미분 진행하여 새로운 W, b 계산\n",
    "    optimizer.step()                # 새로운 값으로 W, b 업데이트\n",
    "    \n",
    "    # 정확도 계산 => 예측값을 0과 1로 변환 ==> 정답과 비교\n",
    "    train_accuracy = ((y_train == (pre_y2 >=0.5))).sum() / y_train.shape[0]\n",
    "    # print(train_accuracy)\n",
    "    loss_accuracy[1].append(train_accuracy.item())\n",
    "    "
   ],
   "metadata": {
    "collapsed": false,
    "ExecuteTime": {
     "end_time": "2024-03-14T05:05:52.710765Z",
     "start_time": "2024-03-14T05:05:39.134418Z"
    }
   },
   "id": "a9595bd150865e60",
   "execution_count": 489
  },
  {
   "cell_type": "code",
   "outputs": [
    {
     "data": {
      "text/plain": "<Figure size 640x480 with 2 Axes>",
      "image/png": "[encoded data removed]"
     },
     "metadata": {},
     "output_type": "display_data"
    }
   ],
   "source": [
    "## 손실과 정확도 시각화\n",
    "import matplotlib.pyplot as plt\n",
    "fig, ax1 = plt.subplots()\n",
    "ax1.plot(loss_accuracy[0], label='Loss', color='red')\n",
    "ax1.set_ylabel('Loss')\n",
    "ax2 = ax1.twinx()\n",
    "ax2.plot(loss_accuracy[1], label='Accuracy', color='blue')\n",
    "ax2.set_ylabel('Accuracy')\n",
    "ax1.legend()\n",
    "ax2.legend()\n",
    "plt.xlabel(\"Epochs\")\n",
    "plt.show()"
   ],
   "metadata": {
    "collapsed": false,
    "ExecuteTime": {
     "end_time": "2024-03-14T05:12:23.753198Z",
     "start_time": "2024-03-14T05:12:23.613818Z"
    }
   },
   "id": "44c66806064732ba",
   "execution_count": 504
  },
  {
   "cell_type": "code",
   "outputs": [
    {
     "data": {
      "text/plain": "[0.955216646194458,\n 0.9552000164985657,\n 0.955216646194458,\n 0.9552000164985657,\n 0.955216646194458,\n 0.9552666544914246,\n 0.9552500247955322,\n 0.955216646194458,\n 0.9552333354949951,\n 0.9552666544914246,\n 0.9552333354949951,\n 0.9552333354949951,\n 0.9552000164985657,\n 0.9552000164985657,\n 0.9552000164985657,\n 0.955216646194458,\n 0.9551833271980286,\n 0.9552333354949951,\n 0.9552666544914246,\n 0.9552666544914246,\n 0.9552500247955322,\n 0.9552666544914246,\n 0.9552833437919617,\n 0.9552833437919617,\n 0.955299973487854,\n 0.9553166627883911,\n 0.9553166627883911,\n 0.9553166627883911,\n 0.9552833437919617,\n 0.9552666544914246,\n 0.9552666544914246,\n 0.9552666544914246,\n 0.9552833437919617,\n 0.955299973487854,\n 0.955299973487854,\n 0.9552833437919617,\n 0.9552833437919617,\n 0.9552833437919617,\n 0.9552833437919617,\n 0.9552833437919617,\n 0.9552500247955322,\n 0.9552500247955322,\n 0.9552500247955322,\n 0.9552500247955322,\n 0.9552833437919617,\n 0.9552833437919617,\n 0.9552833437919617,\n 0.9552500247955322,\n 0.9552000164985657,\n 0.9551833271980286,\n 0.9552000164985657,\n 0.9552000164985657,\n 0.9552333354949951,\n 0.955216646194458,\n 0.955216646194458,\n 0.9552000164985657,\n 0.9552000164985657,\n 0.9552000164985657,\n 0.9552000164985657,\n 0.9552000164985657,\n 0.9551833271980286,\n 0.9551833271980286,\n 0.9551833271980286,\n 0.9552000164985657,\n 0.9552333354949951,\n 0.9552666544914246,\n 0.9552666544914246,\n 0.9552333354949951,\n 0.9552000164985657,\n 0.955216646194458,\n 0.9551833271980286,\n 0.9551666378974915,\n 0.9551833271980286,\n 0.9552000164985657,\n 0.9552833437919617,\n 0.9552666544914246,\n 0.9552666544914246,\n 0.955299973487854,\n 0.9552833437919617,\n 0.9552666544914246,\n 0.9552666544914246,\n 0.9553333520889282,\n 0.9553499817848206,\n 0.9553833603858948,\n 0.9553833603858948,\n 0.9553833603858948,\n 0.9553999900817871,\n 0.9554166793823242,\n 0.9554166793823242,\n 0.9553999900817871,\n 0.9553999900817871,\n 0.9553833603858948,\n 0.9554166793823242,\n 0.9554333090782166,\n 0.9554333090782166,\n 0.9554333090782166,\n 0.9554166793823242,\n 0.9554499983787537,\n 0.9554666876792908,\n 0.9554833173751831]"
     },
     "execution_count": 491,
     "metadata": {},
     "output_type": "execute_result"
    }
   ],
   "source": [],
   "metadata": {
    "collapsed": false,
    "ExecuteTime": {
     "end_time": "2024-03-14T05:05:55.558376Z",
     "start_time": "2024-03-14T05:05:55.552613Z"
    }
   },
   "id": "7653b86d0715246b",
   "execution_count": 491
  },
  {
   "cell_type": "code",
   "outputs": [],
   "source": [],
   "metadata": {
    "collapsed": false
   },
   "id": "c361adae18cff028"
  }
 ],
 "metadata": {
  "kernelspec": {
   "display_name": "Python 3",
   "language": "python",
   "name": "python3"
  },
  "language_info": {
   "codemirror_mode": {
    "name": "ipython",
    "version": 2
   },
   "file_extension": ".py",
   "mimetype": "text/x-python",
   "name": "python",
   "nbconvert_exporter": "python",
   "pygments_lexer": "ipython2",
   "version": "2.7.6"
  }
 },
 "nbformat": 4,
 "nbformat_minor": 5
}
