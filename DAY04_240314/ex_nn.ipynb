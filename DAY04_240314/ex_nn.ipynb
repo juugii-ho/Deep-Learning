{
 "cells": [
  {
   "cell_type": "markdown",
   "source": [
    "## 인공신경망 모델 클래스 만들기 <hr>\n",
    "- 부모 클래스 : nn.Module 상속 받음\n",
    "- 필수 오버라이딩 메서드 : _ _ init _ _(), forward()"
   ],
   "metadata": {
    "collapsed": false
   },
   "id": "78d788a3f2e6af16"
  },
  {
   "cell_type": "markdown",
   "source": [
    "### [1] 모듈 로딩 <hr>"
   ],
   "metadata": {
    "collapsed": false
   },
   "id": "a26fe9dd664561cf"
  },
  {
   "cell_type": "code",
   "outputs": [],
   "source": [
    "import torch\n",
    "import torch.nn as nn\n",
    "# 로지스틱회귀 모델 클래스 생성\n",
    "# - Linear + sigmoid\n",
    "\n",
    "class LogicLinear(nn.Module):\n",
    "    # 모델 구조\n",
    "    def __init__(self, in_, out_): # 은닉층 수는 *가변인자 통해서 가능\n",
    "        super().__init__()\n",
    "        self.layer1=nn.Linear(in_,10)\n",
    "        self.sigmoid1=nn.Sigmoid()\n",
    "        self.layer2=nn.Linear(10,out_)\n",
    "        self.sigmoid2=nn.Sigmoid()\n",
    "        \n",
    "    # 순방향 학습 진행 콜백함수\n",
    "    def forward(self,x):\n",
    "        x = self.layer1(x)\n",
    "        x = self.sigmoid1(x)\n",
    "        x = self.layer2(x)\n",
    "        x = self.sigmoid2(x)\n",
    "        return x\n"
   ],
   "metadata": {
    "collapsed": false,
    "ExecuteTime": {
     "end_time": "2024-03-14T08:44:08.487462Z",
     "start_time": "2024-03-14T08:44:08.485044Z"
    }
   },
   "id": "a688f9861cea16af",
   "execution_count": 33
  },
  {
   "cell_type": "code",
   "outputs": [
    {
     "name": "stdout",
     "output_type": "stream",
     "text": [
      "모델 구조 확인 ==> \n",
      " LogicLinear(\n",
      "  (layer1): Linear(in_features=8, out_features=10, bias=True)\n",
      "  (sigmoid1): Sigmoid()\n",
      "  (layer2): Linear(in_features=10, out_features=3, bias=True)\n",
      "  (sigmoid2): Sigmoid()\n",
      ")\n"
     ]
    }
   ],
   "source": [
    "# 모델 인스턴스 생성\n",
    "ll = LogicLinear(2**3,3)\n",
    "\n",
    "print(f'모델 구조 확인 ==> \\n {ll}')"
   ],
   "metadata": {
    "collapsed": false,
    "ExecuteTime": {
     "end_time": "2024-03-14T08:44:08.943204Z",
     "start_time": "2024-03-14T08:44:08.938423Z"
    }
   },
   "id": "53fe234a1226655e",
   "execution_count": 34
  },
  {
   "cell_type": "code",
   "outputs": [
    {
     "data": {
      "text/plain": "<generator object Module.parameters at 0x122750820>"
     },
     "execution_count": 35,
     "metadata": {},
     "output_type": "execute_result"
    }
   ],
   "source": [
    "ll.parameters()"
   ],
   "metadata": {
    "collapsed": false,
    "ExecuteTime": {
     "end_time": "2024-03-14T08:44:09.570236Z",
     "start_time": "2024-03-14T08:44:09.565605Z"
    }
   },
   "id": "b7121cb82781ecba",
   "execution_count": 35
  },
  {
   "cell_type": "code",
   "outputs": [
    {
     "name": "stdout",
     "output_type": "stream",
     "text": [
      "모델 구성 W, b ====\n",
      "Parameter containing:\n",
      "tensor([[ 0.2320, -0.3048, -0.0061, -0.1926,  0.1936, -0.2535,  0.2047, -0.3104],\n",
      "        [ 0.1085, -0.0067,  0.0058, -0.2545, -0.1426, -0.2086,  0.3000, -0.2417],\n",
      "        [-0.2031, -0.1958,  0.0930,  0.0531, -0.1689,  0.3235,  0.0978, -0.0679],\n",
      "        [ 0.3104,  0.3518,  0.1054,  0.0798, -0.2977,  0.2748, -0.0113, -0.1984],\n",
      "        [ 0.3395, -0.3010, -0.0634,  0.1016,  0.2537,  0.1745,  0.0648,  0.1213],\n",
      "        [ 0.1162,  0.0695,  0.0165, -0.3088, -0.0563, -0.0330, -0.1711, -0.2552],\n",
      "        [ 0.2026,  0.2739,  0.1139,  0.2658, -0.3269, -0.0752,  0.3515,  0.2085],\n",
      "        [ 0.2604,  0.2302,  0.0251, -0.3490, -0.2221,  0.0622, -0.1960, -0.0806],\n",
      "        [ 0.2815, -0.3408, -0.0632, -0.0067, -0.3230, -0.3481,  0.2021,  0.3034],\n",
      "        [ 0.0580,  0.1727, -0.0033, -0.0563,  0.0350,  0.1932,  0.3051,  0.2284]],\n",
      "       requires_grad=True)\n",
      "Parameter containing:\n",
      "tensor([-0.2283, -0.0803, -0.1943, -0.3315, -0.0728,  0.1563,  0.3529, -0.3146,\n",
      "        -0.2863,  0.2552], requires_grad=True)\n",
      "Parameter containing:\n",
      "tensor([[ 0.0742,  0.1025, -0.0853,  0.0306, -0.0099,  0.2752, -0.1239, -0.3132,\n",
      "          0.1704, -0.0035],\n",
      "        [-0.0559, -0.0320,  0.1367, -0.0440, -0.2451, -0.0602, -0.0930, -0.1776,\n",
      "         -0.1753,  0.0831],\n",
      "        [-0.1964,  0.1207,  0.1684, -0.1522,  0.1317, -0.1370,  0.1399, -0.3078,\n",
      "         -0.1971,  0.2270]], requires_grad=True)\n",
      "Parameter containing:\n",
      "tensor([ 0.2118,  0.2797, -0.2843], requires_grad=True)\n"
     ]
    }
   ],
   "source": [
    "print('모델 구성 W, b ====')\n",
    "for param in ll.parameters():\n",
    "    print(param)"
   ],
   "metadata": {
    "collapsed": false,
    "ExecuteTime": {
     "end_time": "2024-03-14T08:44:09.720779Z",
     "start_time": "2024-03-14T08:44:09.715752Z"
    }
   },
   "id": "44cb119d85ee9d51",
   "execution_count": 36
  },
  {
   "cell_type": "code",
   "outputs": [],
   "source": [],
   "metadata": {
    "collapsed": false,
    "ExecuteTime": {
     "end_time": "2024-03-14T08:42:02.115655Z",
     "start_time": "2024-03-14T08:42:02.112695Z"
    }
   },
   "id": "bf1568833d6d2ffe",
   "execution_count": 32
  },
  {
   "cell_type": "code",
   "outputs": [],
   "source": [],
   "metadata": {
    "collapsed": false
   },
   "id": "35209a83088cb811"
  }
 ],
 "metadata": {
  "kernelspec": {
   "display_name": "Python 3",
   "language": "python",
   "name": "python3"
  },
  "language_info": {
   "codemirror_mode": {
    "name": "ipython",
    "version": 2
   },
   "file_extension": ".py",
   "mimetype": "text/x-python",
   "name": "python",
   "nbconvert_exporter": "python",
   "pygments_lexer": "ipython2",
   "version": "2.7.6"
  }
 },
 "nbformat": 4,
 "nbformat_minor": 5
}
