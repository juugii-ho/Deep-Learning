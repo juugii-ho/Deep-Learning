{
 "cells": [
  {
   "cell_type": "code",
   "execution_count": 439,
   "id": "initial_id",
   "metadata": {
    "collapsed": true,
    "ExecuteTime": {
     "end_time": "2024-03-14T14:35:02.460643Z",
     "start_time": "2024-03-14T14:35:02.383998Z"
    }
   },
   "outputs": [],
   "source": [
    "import pandas as pd\n",
    "import numpy as np\n",
    "import torch\n",
    "import torch.nn as nn\n",
    "import torch.nn.functional as F\n",
    "import torch.optim as optim\n",
    "from sklearn.datasets import fetch_openml\n",
    "from sklearn.preprocessing import StandardScaler"
   ]
  },
  {
   "cell_type": "code",
   "outputs": [
    {
     "name": "stderr",
     "output_type": "stream",
     "text": [
      "/Users/sml/anaconda3/envs/Torch_PY38/lib/python3.8/site-packages/sklearn/datasets/_openml.py:1002: FutureWarning: The default value of `parser` will change from `'liac-arff'` to `'auto'` in 1.4. You can set `parser='auto'` to silence this warning. Therefore, an `ImportError` will be raised from 1.4 if the dataset is dense and pandas is not installed. Note that the pandas parser may return different data types. See the Notes Section in fetch_openml's API doc for details.\n",
      "  warn(\n"
     ]
    }
   ],
   "source": [
    "fashion = fetch_openml(\"Fashion-MNIST\", as_frame=False)"
   ],
   "metadata": {
    "collapsed": false,
    "ExecuteTime": {
     "end_time": "2024-03-14T14:35:13.304244Z",
     "start_time": "2024-03-14T14:35:02.463506Z"
    }
   },
   "id": "9aedd23b4072a9d6",
   "execution_count": 440
  },
  {
   "cell_type": "code",
   "outputs": [],
   "source": [
    "class LogicLinear(nn.Module):\n",
    "    def __init__(self,in_, out_):\n",
    "        super().__init__()\n",
    "        self.layers = nn.Sequential(\n",
    "            nn.Linear(in_,256),\n",
    "            nn.ReLU(),\n",
    "            nn.Linear(256,64),\n",
    "            nn.ReLU(),\n",
    "            nn.Linear(64,out_)\n",
    "        )\n",
    "    def forward(self,x):\n",
    "        x = self.layers(x)\n",
    "        return x"
   ],
   "metadata": {
    "collapsed": false,
    "ExecuteTime": {
     "end_time": "2024-03-14T14:35:13.309615Z",
     "start_time": "2024-03-14T14:35:13.305150Z"
    }
   },
   "id": "ad5ce8680b44c3",
   "execution_count": 441
  },
  {
   "cell_type": "code",
   "outputs": [
    {
     "data": {
      "text/plain": "array([[0., 0., 0., ..., 0., 0., 0.],\n       [0., 0., 0., ..., 0., 0., 0.],\n       [0., 0., 0., ..., 0., 0., 0.],\n       ...,\n       [0., 0., 0., ..., 0., 0., 0.],\n       [0., 0., 0., ..., 0., 0., 0.],\n       [0., 0., 0., ..., 0., 0., 0.]])"
     },
     "execution_count": 442,
     "metadata": {},
     "output_type": "execute_result"
    }
   ],
   "source": [
    "data = fashion.data\n",
    "data"
   ],
   "metadata": {
    "collapsed": false,
    "ExecuteTime": {
     "end_time": "2024-03-14T14:35:13.314761Z",
     "start_time": "2024-03-14T14:35:13.307672Z"
    }
   },
   "id": "23a2823db7233b09",
   "execution_count": 442
  },
  {
   "cell_type": "code",
   "outputs": [
    {
     "data": {
      "text/plain": "array(['9', '0', '0', ..., '8', '1', '5'], dtype=object)"
     },
     "execution_count": 443,
     "metadata": {},
     "output_type": "execute_result"
    }
   ],
   "source": [
    "target = fashion.target\n",
    "target"
   ],
   "metadata": {
    "collapsed": false,
    "ExecuteTime": {
     "end_time": "2024-03-14T14:35:13.315323Z",
     "start_time": "2024-03-14T14:35:13.312407Z"
    }
   },
   "id": "ea8e803dcd22fa81",
   "execution_count": 443
  },
  {
   "cell_type": "code",
   "outputs": [
    {
     "data": {
      "text/plain": "((70000, 784), (70000,))"
     },
     "execution_count": 444,
     "metadata": {},
     "output_type": "execute_result"
    }
   ],
   "source": [
    "data.shape, target.shape"
   ],
   "metadata": {
    "collapsed": false,
    "ExecuteTime": {
     "end_time": "2024-03-14T14:35:13.317477Z",
     "start_time": "2024-03-14T14:35:13.315336Z"
    }
   },
   "id": "337999e3ef1f256b",
   "execution_count": 444
  },
  {
   "cell_type": "code",
   "outputs": [],
   "source": [
    "type(data), type(target)\n",
    "data = pd.DataFrame(data)\n",
    "target = pd.DataFrame(target)"
   ],
   "metadata": {
    "collapsed": false,
    "ExecuteTime": {
     "end_time": "2024-03-14T14:35:13.322194Z",
     "start_time": "2024-03-14T14:35:13.318485Z"
    }
   },
   "id": "999582881421e00b",
   "execution_count": 445
  },
  {
   "cell_type": "code",
   "outputs": [],
   "source": [
    "total = pd.concat([data,target], axis=1)\n",
    "total1 = total.sample(n=30000)"
   ],
   "metadata": {
    "collapsed": false,
    "ExecuteTime": {
     "end_time": "2024-03-14T14:35:13.494486Z",
     "start_time": "2024-03-14T14:35:13.321482Z"
    }
   },
   "id": "f215a3f93c4b40b2",
   "execution_count": 446
  },
  {
   "cell_type": "code",
   "outputs": [
    {
     "data": {
      "text/plain": "       0    1    2    3    4    5    6    7     8      9    ...    775    776  \\\n4892   0.0  0.0  0.0  0.0  0.0  0.0  0.0  0.0   0.0    0.0  ...    0.0    0.0   \n49776  0.0  0.0  0.0  0.0  0.0  0.0  0.0  0.0   0.0   51.0  ...   99.0   83.0   \n61987  0.0  0.0  0.0  0.0  0.0  0.0  0.0  0.0   0.0    0.0  ...    0.0    0.0   \n7988   0.0  0.0  0.0  0.0  0.0  1.0  0.0  0.0  35.0  137.0  ...    0.0    0.0   \n62621  0.0  0.0  0.0  0.0  0.0  3.0  7.0  0.0   0.0    0.0  ...   47.0   37.0   \n...    ...  ...  ...  ...  ...  ...  ...  ...   ...    ...  ...    ...    ...   \n6265   0.0  0.0  0.0  0.0  0.0  0.0  0.0  0.0   0.0    0.0  ...    0.0    0.0   \n24653  0.0  0.0  0.0  0.0  0.0  0.0  0.0  0.0   0.0   79.0  ...  146.0  162.0   \n20087  0.0  0.0  0.0  0.0  0.0  0.0  0.0  0.0   0.0    0.0  ...    0.0    0.0   \n38005  0.0  0.0  0.0  0.0  0.0  0.0  0.0  2.0   1.0    3.0  ...   32.0   31.0   \n52063  0.0  0.0  0.0  0.0  0.0  0.0  2.0  0.0   0.0    0.0  ...    0.0    0.0   \n\n         777    778    779    780   781  782  783  0    \n4892    99.0  157.0   47.0    0.0   0.0  0.0  0.0    6  \n49776    0.0    0.0    2.0    0.0   0.0  0.0  0.0    0  \n61987    0.0    0.0    0.0    0.0   0.0  0.0  0.0    5  \n7988   110.0  121.0   37.0    0.0   0.0  0.0  0.0    2  \n62621   22.0   26.0   78.0   12.0   0.0  0.0  0.0    8  \n...      ...    ...    ...    ...   ...  ...  ...  ...  \n6265     0.0    0.0    0.0    0.0   0.0  0.0  0.0    8  \n24653  163.0    0.0    0.0    2.0   0.0  0.0  0.0    0  \n20087    0.0    0.0    0.0    0.0   0.0  0.0  0.0    5  \n38005    0.0    0.0  164.0  156.0  87.0  0.0  0.0    4  \n52063    0.0   88.0   77.0   12.0   0.0  0.0  0.0    2  \n\n[30000 rows x 785 columns]",
      "text/html": "<div>\n<style scoped>\n    .dataframe tbody tr th:only-of-type {\n        vertical-align: middle;\n    }\n\n    .dataframe tbody tr th {\n        vertical-align: top;\n    }\n\n    .dataframe thead th {\n        text-align: right;\n    }\n</style>\n<table border=\"1\" class=\"dataframe\">\n  <thead>\n    <tr style=\"text-align: right;\">\n      <th></th>\n      <th>0</th>\n      <th>1</th>\n      <th>2</th>\n      <th>3</th>\n      <th>4</th>\n      <th>5</th>\n      <th>6</th>\n      <th>7</th>\n      <th>8</th>\n      <th>9</th>\n      <th>...</th>\n      <th>775</th>\n      <th>776</th>\n      <th>777</th>\n      <th>778</th>\n      <th>779</th>\n      <th>780</th>\n      <th>781</th>\n      <th>782</th>\n      <th>783</th>\n      <th>0</th>\n    </tr>\n  </thead>\n  <tbody>\n    <tr>\n      <th>4892</th>\n      <td>0.0</td>\n      <td>0.0</td>\n      <td>0.0</td>\n      <td>0.0</td>\n      <td>0.0</td>\n      <td>0.0</td>\n      <td>0.0</td>\n      <td>0.0</td>\n      <td>0.0</td>\n      <td>0.0</td>\n      <td>...</td>\n      <td>0.0</td>\n      <td>0.0</td>\n      <td>99.0</td>\n      <td>157.0</td>\n      <td>47.0</td>\n      <td>0.0</td>\n      <td>0.0</td>\n      <td>0.0</td>\n      <td>0.0</td>\n      <td>6</td>\n    </tr>\n    <tr>\n      <th>49776</th>\n      <td>0.0</td>\n      <td>0.0</td>\n      <td>0.0</td>\n      <td>0.0</td>\n      <td>0.0</td>\n      <td>0.0</td>\n      <td>0.0</td>\n      <td>0.0</td>\n      <td>0.0</td>\n      <td>51.0</td>\n      <td>...</td>\n      <td>99.0</td>\n      <td>83.0</td>\n      <td>0.0</td>\n      <td>0.0</td>\n      <td>2.0</td>\n      <td>0.0</td>\n      <td>0.0</td>\n      <td>0.0</td>\n      <td>0.0</td>\n      <td>0</td>\n    </tr>\n    <tr>\n      <th>61987</th>\n      <td>0.0</td>\n      <td>0.0</td>\n      <td>0.0</td>\n      <td>0.0</td>\n      <td>0.0</td>\n      <td>0.0</td>\n      <td>0.0</td>\n      <td>0.0</td>\n      <td>0.0</td>\n      <td>0.0</td>\n      <td>...</td>\n      <td>0.0</td>\n      <td>0.0</td>\n      <td>0.0</td>\n      <td>0.0</td>\n      <td>0.0</td>\n      <td>0.0</td>\n      <td>0.0</td>\n      <td>0.0</td>\n      <td>0.0</td>\n      <td>5</td>\n    </tr>\n    <tr>\n      <th>7988</th>\n      <td>0.0</td>\n      <td>0.0</td>\n      <td>0.0</td>\n      <td>0.0</td>\n      <td>0.0</td>\n      <td>1.0</td>\n      <td>0.0</td>\n      <td>0.0</td>\n      <td>35.0</td>\n      <td>137.0</td>\n      <td>...</td>\n      <td>0.0</td>\n      <td>0.0</td>\n      <td>110.0</td>\n      <td>121.0</td>\n      <td>37.0</td>\n      <td>0.0</td>\n      <td>0.0</td>\n      <td>0.0</td>\n      <td>0.0</td>\n      <td>2</td>\n    </tr>\n    <tr>\n      <th>62621</th>\n      <td>0.0</td>\n      <td>0.0</td>\n      <td>0.0</td>\n      <td>0.0</td>\n      <td>0.0</td>\n      <td>3.0</td>\n      <td>7.0</td>\n      <td>0.0</td>\n      <td>0.0</td>\n      <td>0.0</td>\n      <td>...</td>\n      <td>47.0</td>\n      <td>37.0</td>\n      <td>22.0</td>\n      <td>26.0</td>\n      <td>78.0</td>\n      <td>12.0</td>\n      <td>0.0</td>\n      <td>0.0</td>\n      <td>0.0</td>\n      <td>8</td>\n    </tr>\n    <tr>\n      <th>...</th>\n      <td>...</td>\n      <td>...</td>\n      <td>...</td>\n      <td>...</td>\n      <td>...</td>\n      <td>...</td>\n      <td>...</td>\n      <td>...</td>\n      <td>...</td>\n      <td>...</td>\n      <td>...</td>\n      <td>...</td>\n      <td>...</td>\n      <td>...</td>\n      <td>...</td>\n      <td>...</td>\n      <td>...</td>\n      <td>...</td>\n      <td>...</td>\n      <td>...</td>\n      <td>...</td>\n    </tr>\n    <tr>\n      <th>6265</th>\n      <td>0.0</td>\n      <td>0.0</td>\n      <td>0.0</td>\n      <td>0.0</td>\n      <td>0.0</td>\n      <td>0.0</td>\n      <td>0.0</td>\n      <td>0.0</td>\n      <td>0.0</td>\n      <td>0.0</td>\n      <td>...</td>\n      <td>0.0</td>\n      <td>0.0</td>\n      <td>0.0</td>\n      <td>0.0</td>\n      <td>0.0</td>\n      <td>0.0</td>\n      <td>0.0</td>\n      <td>0.0</td>\n      <td>0.0</td>\n      <td>8</td>\n    </tr>\n    <tr>\n      <th>24653</th>\n      <td>0.0</td>\n      <td>0.0</td>\n      <td>0.0</td>\n      <td>0.0</td>\n      <td>0.0</td>\n      <td>0.0</td>\n      <td>0.0</td>\n      <td>0.0</td>\n      <td>0.0</td>\n      <td>79.0</td>\n      <td>...</td>\n      <td>146.0</td>\n      <td>162.0</td>\n      <td>163.0</td>\n      <td>0.0</td>\n      <td>0.0</td>\n      <td>2.0</td>\n      <td>0.0</td>\n      <td>0.0</td>\n      <td>0.0</td>\n      <td>0</td>\n    </tr>\n    <tr>\n      <th>20087</th>\n      <td>0.0</td>\n      <td>0.0</td>\n      <td>0.0</td>\n      <td>0.0</td>\n      <td>0.0</td>\n      <td>0.0</td>\n      <td>0.0</td>\n      <td>0.0</td>\n      <td>0.0</td>\n      <td>0.0</td>\n      <td>...</td>\n      <td>0.0</td>\n      <td>0.0</td>\n      <td>0.0</td>\n      <td>0.0</td>\n      <td>0.0</td>\n      <td>0.0</td>\n      <td>0.0</td>\n      <td>0.0</td>\n      <td>0.0</td>\n      <td>5</td>\n    </tr>\n    <tr>\n      <th>38005</th>\n      <td>0.0</td>\n      <td>0.0</td>\n      <td>0.0</td>\n      <td>0.0</td>\n      <td>0.0</td>\n      <td>0.0</td>\n      <td>0.0</td>\n      <td>2.0</td>\n      <td>1.0</td>\n      <td>3.0</td>\n      <td>...</td>\n      <td>32.0</td>\n      <td>31.0</td>\n      <td>0.0</td>\n      <td>0.0</td>\n      <td>164.0</td>\n      <td>156.0</td>\n      <td>87.0</td>\n      <td>0.0</td>\n      <td>0.0</td>\n      <td>4</td>\n    </tr>\n    <tr>\n      <th>52063</th>\n      <td>0.0</td>\n      <td>0.0</td>\n      <td>0.0</td>\n      <td>0.0</td>\n      <td>0.0</td>\n      <td>0.0</td>\n      <td>2.0</td>\n      <td>0.0</td>\n      <td>0.0</td>\n      <td>0.0</td>\n      <td>...</td>\n      <td>0.0</td>\n      <td>0.0</td>\n      <td>0.0</td>\n      <td>88.0</td>\n      <td>77.0</td>\n      <td>12.0</td>\n      <td>0.0</td>\n      <td>0.0</td>\n      <td>0.0</td>\n      <td>2</td>\n    </tr>\n  </tbody>\n</table>\n<p>30000 rows × 785 columns</p>\n</div>"
     },
     "execution_count": 447,
     "metadata": {},
     "output_type": "execute_result"
    }
   ],
   "source": [
    "total1"
   ],
   "metadata": {
    "collapsed": false,
    "ExecuteTime": {
     "end_time": "2024-03-14T14:35:13.515132Z",
     "start_time": "2024-03-14T14:35:13.497030Z"
    }
   },
   "id": "c1a06a2236e0b988",
   "execution_count": 447
  },
  {
   "cell_type": "code",
   "outputs": [],
   "source": [
    "data = total1.iloc[:,:-1]\n",
    "target = total1.iloc[:,-1]"
   ],
   "metadata": {
    "collapsed": false,
    "ExecuteTime": {
     "end_time": "2024-03-14T14:35:13.577624Z",
     "start_time": "2024-03-14T14:35:13.561533Z"
    }
   },
   "id": "9dd7e8521d0daed2",
   "execution_count": 448
  },
  {
   "cell_type": "code",
   "outputs": [],
   "source": [
    "data = np.array(data)\n",
    "target = np.array(target)"
   ],
   "metadata": {
    "collapsed": false,
    "ExecuteTime": {
     "end_time": "2024-03-14T14:35:13.620680Z",
     "start_time": "2024-03-14T14:35:13.567355Z"
    }
   },
   "id": "230a233aa87764d4",
   "execution_count": 449
  },
  {
   "cell_type": "code",
   "outputs": [
    {
     "data": {
      "text/plain": "array([[ 0.,  0.,  0., ...,  0.,  0.,  0.],\n       [ 0.,  0.,  0., ...,  0.,  0.,  0.],\n       [ 0.,  0.,  0., ...,  0.,  0.,  0.],\n       ...,\n       [ 0.,  0.,  0., ...,  0.,  0.,  0.],\n       [ 0.,  0.,  0., ..., 87.,  0.,  0.],\n       [ 0.,  0.,  0., ...,  0.,  0.,  0.]])"
     },
     "execution_count": 450,
     "metadata": {},
     "output_type": "execute_result"
    }
   ],
   "source": [
    "data"
   ],
   "metadata": {
    "collapsed": false,
    "ExecuteTime": {
     "end_time": "2024-03-14T14:35:13.624969Z",
     "start_time": "2024-03-14T14:35:13.619940Z"
    }
   },
   "id": "f7be6ede6fc9b2e",
   "execution_count": 450
  },
  {
   "cell_type": "code",
   "outputs": [
    {
     "data": {
      "text/plain": "array(['6', '0', '5', ..., '5', '4', '2'], dtype=object)"
     },
     "execution_count": 451,
     "metadata": {},
     "output_type": "execute_result"
    }
   ],
   "source": [
    "target"
   ],
   "metadata": {
    "collapsed": false,
    "ExecuteTime": {
     "end_time": "2024-03-14T14:35:13.626702Z",
     "start_time": "2024-03-14T14:35:13.623991Z"
    }
   },
   "id": "b8f203443ad71fac",
   "execution_count": 451
  },
  {
   "cell_type": "code",
   "outputs": [],
   "source": [
    "from sklearn.model_selection import train_test_split\n",
    "\n",
    "X_train, x_test, y_train, y_test = train_test_split(data,\n",
    "                                                    target,\n",
    "                                                    random_state=1)\n"
   ],
   "metadata": {
    "collapsed": false,
    "ExecuteTime": {
     "end_time": "2024-03-14T14:35:13.768066Z",
     "start_time": "2024-03-14T14:35:13.627236Z"
    }
   },
   "id": "2478afa93dc4935c",
   "execution_count": 452
  },
  {
   "cell_type": "code",
   "outputs": [],
   "source": [
    "X_train, x_val, y_train, y_val = train_test_split(X_train,\n",
    "                                                  y_train,\n",
    "                                                  random_state=1)"
   ],
   "metadata": {
    "collapsed": false,
    "ExecuteTime": {
     "end_time": "2024-03-14T14:35:13.822601Z",
     "start_time": "2024-03-14T14:35:13.767986Z"
    }
   },
   "id": "bc7f42eb35169473",
   "execution_count": 453
  },
  {
   "cell_type": "code",
   "outputs": [
    {
     "data": {
      "text/plain": "((16875, 784), (7500, 784), (5625, 784), (16875,), (7500,), (5625,))"
     },
     "execution_count": 454,
     "metadata": {},
     "output_type": "execute_result"
    }
   ],
   "source": [
    "X_train.shape, x_test.shape, x_val.shape, y_train.shape, y_test.shape, y_val.shape"
   ],
   "metadata": {
    "collapsed": false,
    "ExecuteTime": {
     "end_time": "2024-03-14T14:35:13.827210Z",
     "start_time": "2024-03-14T14:35:13.823526Z"
    }
   },
   "id": "e98706639385a3e7",
   "execution_count": 454
  },
  {
   "cell_type": "code",
   "outputs": [
    {
     "data": {
      "text/plain": "(numpy.ndarray,\n numpy.ndarray,\n numpy.ndarray,\n numpy.ndarray,\n numpy.ndarray,\n numpy.ndarray)"
     },
     "execution_count": 455,
     "metadata": {},
     "output_type": "execute_result"
    }
   ],
   "source": [
    "type(X_train), type(x_test), type(x_val), type(y_train), type(y_test), type(y_val)"
   ],
   "metadata": {
    "collapsed": false,
    "ExecuteTime": {
     "end_time": "2024-03-14T14:35:13.828894Z",
     "start_time": "2024-03-14T14:35:13.826622Z"
    }
   },
   "id": "529dd550f5bbb58f",
   "execution_count": 455
  },
  {
   "cell_type": "code",
   "outputs": [
    {
     "data": {
      "text/plain": "0        6\n1        4\n2        4\n3        9\n4        5\n        ..\n16870    4\n16871    7\n16872    4\n16873    0\n16874    8\nName: 0, Length: 16875, dtype: int64"
     },
     "execution_count": 456,
     "metadata": {},
     "output_type": "execute_result"
    }
   ],
   "source": [
    "pd.DataFrame(y_train)[0].astype('int')"
   ],
   "metadata": {
    "collapsed": false,
    "ExecuteTime": {
     "end_time": "2024-03-14T14:35:13.836119Z",
     "start_time": "2024-03-14T14:35:13.831223Z"
    }
   },
   "id": "3d629533e0e46ae9",
   "execution_count": 456
  },
  {
   "cell_type": "code",
   "outputs": [
    {
     "data": {
      "text/plain": "       0\n0      6\n1      4\n2      4\n3      9\n4      5\n...   ..\n16870  4\n16871  7\n16872  4\n16873  0\n16874  8\n\n[16875 rows x 1 columns]",
      "text/html": "<div>\n<style scoped>\n    .dataframe tbody tr th:only-of-type {\n        vertical-align: middle;\n    }\n\n    .dataframe tbody tr th {\n        vertical-align: top;\n    }\n\n    .dataframe thead th {\n        text-align: right;\n    }\n</style>\n<table border=\"1\" class=\"dataframe\">\n  <thead>\n    <tr style=\"text-align: right;\">\n      <th></th>\n      <th>0</th>\n    </tr>\n  </thead>\n  <tbody>\n    <tr>\n      <th>0</th>\n      <td>6</td>\n    </tr>\n    <tr>\n      <th>1</th>\n      <td>4</td>\n    </tr>\n    <tr>\n      <th>2</th>\n      <td>4</td>\n    </tr>\n    <tr>\n      <th>3</th>\n      <td>9</td>\n    </tr>\n    <tr>\n      <th>4</th>\n      <td>5</td>\n    </tr>\n    <tr>\n      <th>...</th>\n      <td>...</td>\n    </tr>\n    <tr>\n      <th>16870</th>\n      <td>4</td>\n    </tr>\n    <tr>\n      <th>16871</th>\n      <td>7</td>\n    </tr>\n    <tr>\n      <th>16872</th>\n      <td>4</td>\n    </tr>\n    <tr>\n      <th>16873</th>\n      <td>0</td>\n    </tr>\n    <tr>\n      <th>16874</th>\n      <td>8</td>\n    </tr>\n  </tbody>\n</table>\n<p>16875 rows × 1 columns</p>\n</div>"
     },
     "execution_count": 457,
     "metadata": {},
     "output_type": "execute_result"
    }
   ],
   "source": [
    "pd.DataFrame(y_train).astype('int')"
   ],
   "metadata": {
    "collapsed": false,
    "ExecuteTime": {
     "end_time": "2024-03-14T14:35:13.841135Z",
     "start_time": "2024-03-14T14:35:13.836462Z"
    }
   },
   "id": "51981e3ab921343f",
   "execution_count": 457
  },
  {
   "cell_type": "code",
   "outputs": [],
   "source": [
    "X_train = torch.FloatTensor(X_train) / 255.\n",
    "x_test = torch.FloatTensor(x_test) / 255.\n",
    "x_val = torch.FloatTensor(x_val) / 255.\n"
   ],
   "metadata": {
    "collapsed": false,
    "ExecuteTime": {
     "end_time": "2024-03-14T14:35:13.888541Z",
     "start_time": "2024-03-14T14:35:13.841361Z"
    }
   },
   "id": "9e2d21b159f91dd7",
   "execution_count": 458
  },
  {
   "cell_type": "code",
   "outputs": [],
   "source": [
    "\n",
    "y_train = torch.LongTensor(pd.DataFrame(y_train)[0].astype('int'))\n",
    "y_test = torch.LongTensor(pd.DataFrame(y_test)[0].astype('int'))\n",
    "y_val = torch.LongTensor(pd.DataFrame(y_val)[0].astype('int'))"
   ],
   "metadata": {
    "collapsed": false,
    "ExecuteTime": {
     "end_time": "2024-03-14T14:35:13.909067Z",
     "start_time": "2024-03-14T14:35:13.888713Z"
    }
   },
   "id": "58636db7525fd64f",
   "execution_count": 459
  },
  {
   "cell_type": "code",
   "outputs": [
    {
     "data": {
      "text/plain": "(torch.Size([16875, 784]),\n torch.Size([7500, 784]),\n torch.Size([5625, 784]),\n torch.Size([16875]),\n torch.Size([7500]),\n torch.Size([5625]))"
     },
     "execution_count": 460,
     "metadata": {},
     "output_type": "execute_result"
    }
   ],
   "source": [
    "X_train.shape, x_test.shape, x_val.shape, y_train.shape, y_test.shape, y_val.shape"
   ],
   "metadata": {
    "collapsed": false,
    "ExecuteTime": {
     "end_time": "2024-03-14T14:35:13.909783Z",
     "start_time": "2024-03-14T14:35:13.892641Z"
    }
   },
   "id": "ee4e2613280afa4a",
   "execution_count": 460
  },
  {
   "cell_type": "code",
   "outputs": [
    {
     "data": {
      "text/plain": "(784, 10)"
     },
     "execution_count": 461,
     "metadata": {},
     "output_type": "execute_result"
    }
   ],
   "source": [
    "in_ = X_train.shape[1]\n",
    "out_ = len(y_train.unique())\n",
    "in_, out_"
   ],
   "metadata": {
    "collapsed": false,
    "ExecuteTime": {
     "end_time": "2024-03-14T14:35:13.910970Z",
     "start_time": "2024-03-14T14:35:13.895733Z"
    }
   },
   "id": "88d9e961cb79a95c",
   "execution_count": 461
  },
  {
   "cell_type": "code",
   "outputs": [
    {
     "data": {
      "text/plain": "LogicLinear(\n  (layers): Sequential(\n    (0): Linear(in_features=784, out_features=256, bias=True)\n    (1): ReLU()\n    (2): Linear(in_features=256, out_features=64, bias=True)\n    (3): ReLU()\n    (4): Linear(in_features=64, out_features=10, bias=True)\n  )\n)"
     },
     "execution_count": 462,
     "metadata": {},
     "output_type": "execute_result"
    }
   ],
   "source": [
    "model = LogicLinear(in_,out_)\n",
    "model"
   ],
   "metadata": {
    "collapsed": false,
    "ExecuteTime": {
     "end_time": "2024-03-14T14:35:13.911537Z",
     "start_time": "2024-03-14T14:35:13.899941Z"
    }
   },
   "id": "556a82b94c481db4",
   "execution_count": 462
  },
  {
   "cell_type": "code",
   "outputs": [
    {
     "data": {
      "text/plain": "Adam (\nParameter Group 0\n    amsgrad: False\n    betas: (0.9, 0.999)\n    capturable: False\n    differentiable: False\n    eps: 1e-08\n    foreach: None\n    fused: None\n    lr: 0.001\n    maximize: False\n    weight_decay: 0\n)"
     },
     "execution_count": 463,
     "metadata": {},
     "output_type": "execute_result"
    }
   ],
   "source": [
    "optimizer = optim.Adam(model.parameters())\n",
    "optimizer"
   ],
   "metadata": {
    "collapsed": false,
    "ExecuteTime": {
     "end_time": "2024-03-14T14:35:13.912049Z",
     "start_time": "2024-03-14T14:35:13.904217Z"
    }
   },
   "id": "b8daac1f4f957123",
   "execution_count": 463
  },
  {
   "cell_type": "code",
   "outputs": [
    {
     "name": "stdout",
     "output_type": "stream",
     "text": [
      "0] Train loss : 0.372\tVal loss : 0.432\n",
      "Train Accuracy : 0.871, \t Val Accuracy : 0.853\n",
      "10] Train loss : 0.358\tVal loss : 0.425\n",
      "Train Accuracy : 0.876, \t Val Accuracy : 0.856\n",
      "20] Train loss : 0.348\tVal loss : 0.421\n",
      "Train Accuracy : 0.880, \t Val Accuracy : 0.858\n",
      "30] Train loss : 0.334\tVal loss : 0.412\n",
      "Train Accuracy : 0.885, \t Val Accuracy : 0.861\n",
      "40] Train loss : 0.324\tVal loss : 0.408\n",
      "Train Accuracy : 0.888, \t Val Accuracy : 0.862\n",
      "50] Train loss : 0.313\tVal loss : 0.404\n",
      "Train Accuracy : 0.891, \t Val Accuracy : 0.865\n",
      "60] Train loss : 0.303\tVal loss : 0.401\n",
      "Train Accuracy : 0.896, \t Val Accuracy : 0.865\n",
      "70] Train loss : 0.301\tVal loss : 0.405\n",
      "Train Accuracy : 0.896, \t Val Accuracy : 0.864\n",
      "80] Train loss : 0.290\tVal loss : 0.401\n",
      "Train Accuracy : 0.901, \t Val Accuracy : 0.864\n",
      "90] Train loss : 0.280\tVal loss : 0.397\n",
      "Train Accuracy : 0.905, \t Val Accuracy : 0.865\n",
      "100] Train loss : 0.270\tVal loss : 0.395\n",
      "Train Accuracy : 0.909, \t Val Accuracy : 0.866\n",
      "110] Train loss : 0.262\tVal loss : 0.393\n",
      "Train Accuracy : 0.912, \t Val Accuracy : 0.866\n",
      "120] Train loss : 0.258\tVal loss : 0.395\n",
      "Train Accuracy : 0.912, \t Val Accuracy : 0.867\n",
      "130] Train loss : 0.249\tVal loss : 0.393\n",
      "Train Accuracy : 0.916, \t Val Accuracy : 0.867\n",
      "140] Train loss : 0.244\tVal loss : 0.394\n",
      "Train Accuracy : 0.918, \t Val Accuracy : 0.867\n",
      "150] Train loss : 0.236\tVal loss : 0.394\n",
      "Train Accuracy : 0.922, \t Val Accuracy : 0.867\n",
      "160] Train loss : 0.230\tVal loss : 0.395\n",
      "Train Accuracy : 0.923, \t Val Accuracy : 0.868\n",
      "170] Train loss : 0.226\tVal loss : 0.398\n",
      "Train Accuracy : 0.925, \t Val Accuracy : 0.868\n",
      "180] Train loss : 0.221\tVal loss : 0.400\n",
      "Train Accuracy : 0.927, \t Val Accuracy : 0.865\n",
      "190] Train loss : 0.214\tVal loss : 0.400\n",
      "Train Accuracy : 0.930, \t Val Accuracy : 0.867\n",
      "200] Train loss : 0.207\tVal loss : 0.401\n",
      "Train Accuracy : 0.931, \t Val Accuracy : 0.866\n",
      "210] Train loss : 0.201\tVal loss : 0.403\n",
      "Train Accuracy : 0.935, \t Val Accuracy : 0.868\n",
      "220] Train loss : 0.203\tVal loss : 0.413\n",
      "Train Accuracy : 0.933, \t Val Accuracy : 0.870\n",
      "230] Train loss : 0.193\tVal loss : 0.409\n",
      "Train Accuracy : 0.938, \t Val Accuracy : 0.869\n",
      "240] Train loss : 0.187\tVal loss : 0.411\n",
      "Train Accuracy : 0.940, \t Val Accuracy : 0.869\n",
      "250] Train loss : 0.182\tVal loss : 0.413\n",
      "Train Accuracy : 0.941, \t Val Accuracy : 0.868\n",
      "260] Train loss : 0.177\tVal loss : 0.417\n",
      "Train Accuracy : 0.943, \t Val Accuracy : 0.869\n",
      "270] Train loss : 0.173\tVal loss : 0.418\n",
      "Train Accuracy : 0.945, \t Val Accuracy : 0.868\n",
      "280] Train loss : 0.168\tVal loss : 0.420\n",
      "Train Accuracy : 0.947, \t Val Accuracy : 0.870\n",
      "290] Train loss : 0.163\tVal loss : 0.423\n",
      "Train Accuracy : 0.948, \t Val Accuracy : 0.870\n",
      "300] Train loss : 0.160\tVal loss : 0.428\n",
      "Train Accuracy : 0.949, \t Val Accuracy : 0.870\n",
      "310] Train loss : 0.163\tVal loss : 0.437\n",
      "Train Accuracy : 0.946, \t Val Accuracy : 0.869\n",
      "320] Train loss : 0.155\tVal loss : 0.437\n",
      "Train Accuracy : 0.952, \t Val Accuracy : 0.871\n",
      "330] Train loss : 0.149\tVal loss : 0.439\n",
      "Train Accuracy : 0.953, \t Val Accuracy : 0.869\n",
      "340] Train loss : 0.144\tVal loss : 0.441\n",
      "Train Accuracy : 0.955, \t Val Accuracy : 0.870\n",
      "350] Train loss : 0.144\tVal loss : 0.448\n",
      "Train Accuracy : 0.953, \t Val Accuracy : 0.868\n",
      "360] Train loss : 0.139\tVal loss : 0.450\n",
      "Train Accuracy : 0.958, \t Val Accuracy : 0.868\n",
      "370] Train loss : 0.138\tVal loss : 0.455\n",
      "Train Accuracy : 0.957, \t Val Accuracy : 0.868\n",
      "380] Train loss : 0.130\tVal loss : 0.455\n",
      "Train Accuracy : 0.961, \t Val Accuracy : 0.870\n",
      "390] Train loss : 0.132\tVal loss : 0.465\n",
      "Train Accuracy : 0.959, \t Val Accuracy : 0.869\n",
      "400] Train loss : 0.127\tVal loss : 0.467\n",
      "Train Accuracy : 0.960, \t Val Accuracy : 0.868\n",
      "410] Train loss : 0.122\tVal loss : 0.468\n",
      "Train Accuracy : 0.963, \t Val Accuracy : 0.869\n",
      "420] Train loss : 0.119\tVal loss : 0.473\n",
      "Train Accuracy : 0.965, \t Val Accuracy : 0.869\n",
      "430] Train loss : 0.114\tVal loss : 0.475\n",
      "Train Accuracy : 0.967, \t Val Accuracy : 0.870\n",
      "440] Train loss : 0.114\tVal loss : 0.482\n",
      "Train Accuracy : 0.966, \t Val Accuracy : 0.870\n",
      "450] Train loss : 0.123\tVal loss : 0.499\n",
      "Train Accuracy : 0.958, \t Val Accuracy : 0.867\n",
      "460] Train loss : 0.108\tVal loss : 0.489\n",
      "Train Accuracy : 0.969, \t Val Accuracy : 0.868\n",
      "470] Train loss : 0.103\tVal loss : 0.491\n",
      "Train Accuracy : 0.971, \t Val Accuracy : 0.868\n",
      "480] Train loss : 0.101\tVal loss : 0.495\n",
      "Train Accuracy : 0.971, \t Val Accuracy : 0.868\n",
      "490] Train loss : 0.098\tVal loss : 0.500\n",
      "Train Accuracy : 0.973, \t Val Accuracy : 0.868\n",
      "500] Train loss : 0.097\tVal loss : 0.505\n",
      "Train Accuracy : 0.973, \t Val Accuracy : 0.868\n",
      "510] Train loss : 0.094\tVal loss : 0.508\n",
      "Train Accuracy : 0.974, \t Val Accuracy : 0.866\n",
      "520] Train loss : 0.094\tVal loss : 0.514\n",
      "Train Accuracy : 0.974, \t Val Accuracy : 0.867\n",
      "530] Train loss : 0.091\tVal loss : 0.518\n",
      "Train Accuracy : 0.974, \t Val Accuracy : 0.868\n",
      "540] Train loss : 0.088\tVal loss : 0.521\n",
      "Train Accuracy : 0.976, \t Val Accuracy : 0.868\n",
      "550] Train loss : 0.086\tVal loss : 0.526\n",
      "Train Accuracy : 0.977, \t Val Accuracy : 0.866\n",
      "560] Train loss : 0.085\tVal loss : 0.531\n",
      "Train Accuracy : 0.977, \t Val Accuracy : 0.866\n",
      "570] Train loss : 0.084\tVal loss : 0.538\n",
      "Train Accuracy : 0.976, \t Val Accuracy : 0.865\n",
      "580] Train loss : 0.082\tVal loss : 0.540\n",
      "Train Accuracy : 0.977, \t Val Accuracy : 0.866\n"
     ]
    },
    {
     "ename": "KeyboardInterrupt",
     "evalue": "",
     "output_type": "error",
     "traceback": [
      "\u001B[0;31m---------------------------------------------------------------------------\u001B[0m",
      "\u001B[0;31mKeyboardInterrupt\u001B[0m                         Traceback (most recent call last)",
      "Cell \u001B[0;32mIn[468], line 18\u001B[0m\n\u001B[1;32m     15\u001B[0m     \u001B[38;5;28;01massert\u001B[39;00m val_loss\u001B[38;5;241m.\u001B[39mrequires_grad \u001B[38;5;241m==\u001B[39m\u001B[38;5;28;01mFalse\u001B[39;00m\n\u001B[1;32m     17\u001B[0m optimizer\u001B[38;5;241m.\u001B[39mzero_grad()\n\u001B[0;32m---> 18\u001B[0m \u001B[43mtrain_loss\u001B[49m\u001B[38;5;241;43m.\u001B[39;49m\u001B[43mbackward\u001B[49m\u001B[43m(\u001B[49m\u001B[43m)\u001B[49m\n\u001B[1;32m     19\u001B[0m optimizer\u001B[38;5;241m.\u001B[39mstep()\n\u001B[1;32m     21\u001B[0m train_accuracy \u001B[38;5;241m=\u001B[39m ((y_train \u001B[38;5;241m==\u001B[39m F\u001B[38;5;241m.\u001B[39msoftmax(prediction, dim\u001B[38;5;241m=\u001B[39m\u001B[38;5;241m1\u001B[39m)\u001B[38;5;241m.\u001B[39margmax(dim\u001B[38;5;241m=\u001B[39m\u001B[38;5;241m1\u001B[39m))\u001B[38;5;241m.\u001B[39msum()) \u001B[38;5;241m/\u001B[39m y_train\u001B[38;5;241m.\u001B[39mshape[\u001B[38;5;241m0\u001B[39m]\n",
      "File \u001B[0;32m~/anaconda3/envs/Torch_PY38/lib/python3.8/site-packages/torch/_tensor.py:522\u001B[0m, in \u001B[0;36mTensor.backward\u001B[0;34m(self, gradient, retain_graph, create_graph, inputs)\u001B[0m\n\u001B[1;32m    512\u001B[0m \u001B[38;5;28;01mif\u001B[39;00m has_torch_function_unary(\u001B[38;5;28mself\u001B[39m):\n\u001B[1;32m    513\u001B[0m     \u001B[38;5;28;01mreturn\u001B[39;00m handle_torch_function(\n\u001B[1;32m    514\u001B[0m         Tensor\u001B[38;5;241m.\u001B[39mbackward,\n\u001B[1;32m    515\u001B[0m         (\u001B[38;5;28mself\u001B[39m,),\n\u001B[0;32m   (...)\u001B[0m\n\u001B[1;32m    520\u001B[0m         inputs\u001B[38;5;241m=\u001B[39minputs,\n\u001B[1;32m    521\u001B[0m     )\n\u001B[0;32m--> 522\u001B[0m \u001B[43mtorch\u001B[49m\u001B[38;5;241;43m.\u001B[39;49m\u001B[43mautograd\u001B[49m\u001B[38;5;241;43m.\u001B[39;49m\u001B[43mbackward\u001B[49m\u001B[43m(\u001B[49m\n\u001B[1;32m    523\u001B[0m \u001B[43m    \u001B[49m\u001B[38;5;28;43mself\u001B[39;49m\u001B[43m,\u001B[49m\u001B[43m \u001B[49m\u001B[43mgradient\u001B[49m\u001B[43m,\u001B[49m\u001B[43m \u001B[49m\u001B[43mretain_graph\u001B[49m\u001B[43m,\u001B[49m\u001B[43m \u001B[49m\u001B[43mcreate_graph\u001B[49m\u001B[43m,\u001B[49m\u001B[43m \u001B[49m\u001B[43minputs\u001B[49m\u001B[38;5;241;43m=\u001B[39;49m\u001B[43minputs\u001B[49m\n\u001B[1;32m    524\u001B[0m \u001B[43m\u001B[49m\u001B[43m)\u001B[49m\n",
      "File \u001B[0;32m~/anaconda3/envs/Torch_PY38/lib/python3.8/site-packages/torch/autograd/__init__.py:266\u001B[0m, in \u001B[0;36mbackward\u001B[0;34m(tensors, grad_tensors, retain_graph, create_graph, grad_variables, inputs)\u001B[0m\n\u001B[1;32m    261\u001B[0m     retain_graph \u001B[38;5;241m=\u001B[39m create_graph\n\u001B[1;32m    263\u001B[0m \u001B[38;5;66;03m# The reason we repeat the same comment below is that\u001B[39;00m\n\u001B[1;32m    264\u001B[0m \u001B[38;5;66;03m# some Python versions print out the first line of a multi-line function\u001B[39;00m\n\u001B[1;32m    265\u001B[0m \u001B[38;5;66;03m# calls in the traceback and some print out the last line\u001B[39;00m\n\u001B[0;32m--> 266\u001B[0m \u001B[43mVariable\u001B[49m\u001B[38;5;241;43m.\u001B[39;49m\u001B[43m_execution_engine\u001B[49m\u001B[38;5;241;43m.\u001B[39;49m\u001B[43mrun_backward\u001B[49m\u001B[43m(\u001B[49m\u001B[43m  \u001B[49m\u001B[38;5;66;43;03m# Calls into the C++ engine to run the backward pass\u001B[39;49;00m\n\u001B[1;32m    267\u001B[0m \u001B[43m    \u001B[49m\u001B[43mtensors\u001B[49m\u001B[43m,\u001B[49m\n\u001B[1;32m    268\u001B[0m \u001B[43m    \u001B[49m\u001B[43mgrad_tensors_\u001B[49m\u001B[43m,\u001B[49m\n\u001B[1;32m    269\u001B[0m \u001B[43m    \u001B[49m\u001B[43mretain_graph\u001B[49m\u001B[43m,\u001B[49m\n\u001B[1;32m    270\u001B[0m \u001B[43m    \u001B[49m\u001B[43mcreate_graph\u001B[49m\u001B[43m,\u001B[49m\n\u001B[1;32m    271\u001B[0m \u001B[43m    \u001B[49m\u001B[43minputs\u001B[49m\u001B[43m,\u001B[49m\n\u001B[1;32m    272\u001B[0m \u001B[43m    \u001B[49m\u001B[43mallow_unreachable\u001B[49m\u001B[38;5;241;43m=\u001B[39;49m\u001B[38;5;28;43;01mTrue\u001B[39;49;00m\u001B[43m,\u001B[49m\n\u001B[1;32m    273\u001B[0m \u001B[43m    \u001B[49m\u001B[43maccumulate_grad\u001B[49m\u001B[38;5;241;43m=\u001B[39;49m\u001B[38;5;28;43;01mTrue\u001B[39;49;00m\u001B[43m,\u001B[49m\n\u001B[1;32m    274\u001B[0m \u001B[43m\u001B[49m\u001B[43m)\u001B[49m\n",
      "\u001B[0;31mKeyboardInterrupt\u001B[0m: "
     ]
    }
   ],
   "source": [
    "lossList = [[],[]]\n",
    "accuracyList =[[],[]]\n",
    "\n",
    "nb_epochs = 1000\n",
    "\n",
    "for epochs in range(nb_epochs+1):\n",
    "    prediction = model(X_train)\n",
    "    train_loss = F.cross_entropy(prediction,y_train)\n",
    "    lossList[0].append(train_loss.item())\n",
    "    \n",
    "    with torch.no_grad():\n",
    "        val_prediction = model(x_val)\n",
    "        val_loss = F.cross_entropy(val_prediction, y_val)\n",
    "        lossList[1].append(val_loss.item())\n",
    "        assert val_loss.requires_grad ==False\n",
    "    \n",
    "    optimizer.zero_grad()\n",
    "    train_loss.backward()\n",
    "    optimizer.step()\n",
    "    \n",
    "    train_accuracy = ((y_train == F.softmax(prediction, dim=1).argmax(dim=1)).sum()) / y_train.shape[0]\n",
    "    accuracyList[0].append(train_accuracy.item())\n",
    "\n",
    "    val_accuracy = ((y_val == F.softmax(val_prediction, dim=1).argmax(dim=1)).sum()) / y_val.shape[0]\n",
    "    accuracyList[1].append(val_accuracy.item())\n",
    "    \n",
    "\n",
    "    if epochs % 10 ==0 :\n",
    "        print(f'{epochs}] Train loss : {train_loss.item():.3f}\\tVal loss : {val_loss.item():.3f}')\n",
    "        print(f'Train Accuracy : {train_accuracy:.3f}, \\t Val Accuracy : {val_accuracy:.3f}')"
   ],
   "metadata": {
    "collapsed": false,
    "ExecuteTime": {
     "end_time": "2024-03-14T14:43:04.638010Z",
     "start_time": "2024-03-14T14:39:37.976773Z"
    }
   },
   "id": "9e4c753d38ac420f",
   "execution_count": 468
  },
  {
   "cell_type": "markdown",
   "source": [
    "Train Accuracy : 9946.000, \t Val Accuracy : 9946.000 머선 일이고..\n",
    "램부족 메모리부족!"
   ],
   "metadata": {
    "collapsed": false
   },
   "id": "615cca43ce75717a"
  },
  {
   "cell_type": "markdown",
   "source": [
    "sample 뽑았더니 Accuracy 4점대는 머선 일이고...\n",
    "Train Accuracy : 4.512, \t Val Accuracy : 4.439"
   ],
   "metadata": {
    "collapsed": false
   },
   "id": "bd094c4706615619"
  },
  {
   "cell_type": "markdown",
   "source": [
    "계속 반복되는데 왜 안멈추노 ㅡㅡ"
   ],
   "metadata": {
    "collapsed": false
   },
   "id": "119a358d6fd33f1e"
  },
  {
   "cell_type": "code",
   "outputs": [],
   "source": [],
   "metadata": {
    "collapsed": false
   },
   "id": "f544bff801eb4c8e"
  }
 ],
 "metadata": {
  "kernelspec": {
   "display_name": "Python 3",
   "language": "python",
   "name": "python3"
  },
  "language_info": {
   "codemirror_mode": {
    "name": "ipython",
    "version": 2
   },
   "file_extension": ".py",
   "mimetype": "text/x-python",
   "name": "python",
   "nbconvert_exporter": "python",
   "pygments_lexer": "ipython2",
   "version": "2.7.6"
  }
 },
 "nbformat": 4,
 "nbformat_minor": 5
}
