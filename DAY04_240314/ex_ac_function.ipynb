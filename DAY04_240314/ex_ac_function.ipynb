{
 "cells": [
  {
   "cell_type": "markdown",
   "source": [
    "### softmax(), sigmoid() 함수 <hr>\n",
    "- sigmoid() : y=wx+b 결과   1개 전달 ==> 반환 : 0.0 ~ 1.0 사이 값으로 변환   => 이진분류\n",
    "- softmax() : y=wx+b 결과 여러개 전달 ==> 반환 : 여러 개의 결과값의 합이 1.0이 되도록 반환  ==> 다중분류"
   ],
   "metadata": {
    "collapsed": false
   },
   "id": "50ae6aa65fc70bc1"
  },
  {
   "cell_type": "code",
   "outputs": [],
   "source": [
    "## 모듈 로딩\n",
    "import torch                            # 파이토치 기본 모듈로 텐서 및 기본 함수들\n",
    "import torch.nn.functional as F         # 파이토치 인공신경망 관련 함수들"
   ],
   "metadata": {
    "collapsed": false,
    "ExecuteTime": {
     "end_time": "2024-03-14T01:30:05.375853Z",
     "start_time": "2024-03-14T01:30:04.552979Z"
    }
   },
   "id": "fb0dd47f2b2a388a",
   "execution_count": 1
  },
  {
   "cell_type": "code",
   "outputs": [
    {
     "data": {
      "text/plain": "torch.Size([5])"
     },
     "execution_count": 2,
     "metadata": {},
     "output_type": "execute_result"
    }
   ],
   "source": [
    "# 임의의 데이터 생성\n",
    "data1 = torch.tensor([1,2,1,1,2])\n",
    "data1.shape"
   ],
   "metadata": {
    "collapsed": false,
    "ExecuteTime": {
     "end_time": "2024-03-14T01:30:20.003958Z",
     "start_time": "2024-03-14T01:30:19.998787Z"
    }
   },
   "id": "34345b5f4922e1ea",
   "execution_count": 2
  },
  {
   "cell_type": "code",
   "outputs": [
    {
     "data": {
      "text/plain": "tensor([0.7311, 0.8808, 0.7311, 0.7311, 0.8808])"
     },
     "execution_count": 3,
     "metadata": {},
     "output_type": "execute_result"
    }
   ],
   "source": [
    "F.sigmoid(data1)"
   ],
   "metadata": {
    "collapsed": false,
    "ExecuteTime": {
     "end_time": "2024-03-14T01:30:36.791117Z",
     "start_time": "2024-03-14T01:30:36.772244Z"
    }
   },
   "id": "cad0515753ac2ffc",
   "execution_count": 3
  },
  {
   "cell_type": "code",
   "outputs": [],
   "source": [
    "import torch.nn as nn"
   ],
   "metadata": {
    "collapsed": false,
    "ExecuteTime": {
     "end_time": "2024-03-14T01:40:33.755469Z",
     "start_time": "2024-03-14T01:40:33.750980Z"
    }
   },
   "id": "cc29df2e6ce18b10",
   "execution_count": 11
  },
  {
   "cell_type": "code",
   "outputs": [
    {
     "ename": "RuntimeError",
     "evalue": "\"softmax_lastdim_kernel_impl\" not implemented for 'Long'",
     "output_type": "error",
     "traceback": [
      "\u001B[0;31m---------------------------------------------------------------------------\u001B[0m",
      "\u001B[0;31mRuntimeError\u001B[0m                              Traceback (most recent call last)",
      "Cell \u001B[0;32mIn[12], line 2\u001B[0m\n\u001B[1;32m      1\u001B[0m data2 \u001B[38;5;241m=\u001B[39m data1\u001B[38;5;241m.\u001B[39munsqueeze(dim\u001B[38;5;241m=\u001B[39m\u001B[38;5;241m0\u001B[39m)\n\u001B[0;32m----> 2\u001B[0m \u001B[43mF\u001B[49m\u001B[38;5;241;43m.\u001B[39;49m\u001B[43msoftmax\u001B[49m\u001B[43m(\u001B[49m\u001B[43mdata2\u001B[49m\u001B[43m,\u001B[49m\u001B[43m \u001B[49m\u001B[43mdim\u001B[49m\u001B[38;5;241;43m=\u001B[39;49m\u001B[38;5;241;43m1\u001B[39;49m\u001B[43m)\u001B[49m\n",
      "File \u001B[0;32m~/anaconda3/envs/Torch_PY38/lib/python3.8/site-packages/torch/nn/functional.py:1858\u001B[0m, in \u001B[0;36msoftmax\u001B[0;34m(input, dim, _stacklevel, dtype)\u001B[0m\n\u001B[1;32m   1856\u001B[0m     dim \u001B[38;5;241m=\u001B[39m _get_softmax_dim(\u001B[38;5;124m\"\u001B[39m\u001B[38;5;124msoftmax\u001B[39m\u001B[38;5;124m\"\u001B[39m, \u001B[38;5;28minput\u001B[39m\u001B[38;5;241m.\u001B[39mdim(), _stacklevel)\n\u001B[1;32m   1857\u001B[0m \u001B[38;5;28;01mif\u001B[39;00m dtype \u001B[38;5;129;01mis\u001B[39;00m \u001B[38;5;28;01mNone\u001B[39;00m:\n\u001B[0;32m-> 1858\u001B[0m     ret \u001B[38;5;241m=\u001B[39m \u001B[38;5;28;43minput\u001B[39;49m\u001B[38;5;241;43m.\u001B[39;49m\u001B[43msoftmax\u001B[49m\u001B[43m(\u001B[49m\u001B[43mdim\u001B[49m\u001B[43m)\u001B[49m\n\u001B[1;32m   1859\u001B[0m \u001B[38;5;28;01melse\u001B[39;00m:\n\u001B[1;32m   1860\u001B[0m     ret \u001B[38;5;241m=\u001B[39m \u001B[38;5;28minput\u001B[39m\u001B[38;5;241m.\u001B[39msoftmax(dim, dtype\u001B[38;5;241m=\u001B[39mdtype)\n",
      "\u001B[0;31mRuntimeError\u001B[0m: \"softmax_lastdim_kernel_impl\" not implemented for 'Long'"
     ]
    }
   ],
   "source": [
    "data2 = data1.unsqueeze(dim=0)\n",
    "F.softmax(data2, dim=1)"
   ],
   "metadata": {
    "collapsed": false,
    "ExecuteTime": {
     "end_time": "2024-03-14T01:40:33.976935Z",
     "start_time": "2024-03-14T01:40:33.945760Z"
    }
   },
   "id": "6d11f1127ed40ff0",
   "execution_count": 12
  },
  {
   "cell_type": "code",
   "outputs": [],
   "source": [
    "m = nn.Softmax(dim=1)\n",
    "input = torch.randn(2, 3)\n",
    "output = m(input)"
   ],
   "metadata": {
    "collapsed": false,
    "ExecuteTime": {
     "end_time": "2024-03-14T01:41:19.150042Z",
     "start_time": "2024-03-14T01:41:19.145504Z"
    }
   },
   "id": "aaf0ab218cdd4da2",
   "execution_count": 18
  },
  {
   "cell_type": "code",
   "outputs": [
    {
     "data": {
      "text/plain": "tensor([[0.3360, 0.1907, 0.4732],\n        [0.0222, 0.7261, 0.2517]])"
     },
     "execution_count": 19,
     "metadata": {},
     "output_type": "execute_result"
    }
   ],
   "source": [
    "output"
   ],
   "metadata": {
    "collapsed": false,
    "ExecuteTime": {
     "end_time": "2024-03-14T01:41:19.507679Z",
     "start_time": "2024-03-14T01:41:19.502788Z"
    }
   },
   "id": "b64ade9549183a86",
   "execution_count": 19
  },
  {
   "cell_type": "code",
   "outputs": [
    {
     "name": "stderr",
     "output_type": "stream",
     "text": [
      "/var/folders/9y/lpn0hjmn5csct06t4_r5qtjr0000gn/T/ipykernel_8461/3683852505.py:1: UserWarning: Implicit dimension choice for softmax has been deprecated. Change the call to include dim=X as an argument.\n",
      "  output = F.softmax(input)\n"
     ]
    },
    {
     "data": {
      "text/plain": "tensor([[0.3360, 0.1907, 0.4732],\n        [0.0222, 0.7261, 0.2517]])"
     },
     "execution_count": 20,
     "metadata": {},
     "output_type": "execute_result"
    }
   ],
   "source": [
    "output = F.softmax(input)\n",
    "output"
   ],
   "metadata": {
    "collapsed": false,
    "ExecuteTime": {
     "end_time": "2024-03-14T01:41:19.782894Z",
     "start_time": "2024-03-14T01:41:19.778058Z"
    }
   },
   "id": "e0dddfd395cc95ea",
   "execution_count": 20
  },
  {
   "cell_type": "code",
   "outputs": [
    {
     "data": {
      "text/plain": "torch.return_types.max(\nvalues=tensor([0.4732, 0.7261]),\nindices=tensor([2, 1]))"
     },
     "execution_count": 21,
     "metadata": {},
     "output_type": "execute_result"
    }
   ],
   "source": [
    "output.max(dim=1)"
   ],
   "metadata": {
    "collapsed": false,
    "ExecuteTime": {
     "end_time": "2024-03-14T01:41:20.133979Z",
     "start_time": "2024-03-14T01:41:20.128349Z"
    }
   },
   "id": "8e3baa0d7d001c9b",
   "execution_count": 21
  },
  {
   "cell_type": "code",
   "outputs": [
    {
     "data": {
      "text/plain": "2"
     },
     "execution_count": 24,
     "metadata": {},
     "output_type": "execute_result"
    }
   ],
   "source": [
    "output.max(dim=1)[1][0].item()"
   ],
   "metadata": {
    "collapsed": false,
    "ExecuteTime": {
     "end_time": "2024-03-14T01:41:52.770744Z",
     "start_time": "2024-03-14T01:41:52.767345Z"
    }
   },
   "id": "a9ad8373da8907d7",
   "execution_count": 24
  },
  {
   "cell_type": "code",
   "outputs": [],
   "source": [],
   "metadata": {
    "collapsed": false
   },
   "id": "f143e521900c0097"
  }
 ],
 "metadata": {
  "kernelspec": {
   "display_name": "Python 3",
   "language": "python",
   "name": "python3"
  },
  "language_info": {
   "codemirror_mode": {
    "name": "ipython",
    "version": 2
   },
   "file_extension": ".py",
   "mimetype": "text/x-python",
   "name": "python",
   "nbconvert_exporter": "python",
   "pygments_lexer": "ipython2",
   "version": "2.7.6"
  }
 },
 "nbformat": 4,
 "nbformat_minor": 5
}
