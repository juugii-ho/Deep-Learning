{
 "cells": [
  {
   "cell_type": "markdown",
   "source": [
    "## 행렬 곱셈\n",
    "- 피쳐와 가중치 연산에 활용\n",
    "- tensor.matmul()\n"
   ],
   "metadata": {
    "collapsed": false
   },
   "id": "a1566ce2b262ecc8"
  },
  {
   "cell_type": "code",
   "outputs": [],
   "source": [
    "# 모듈 로딩\n",
    "import torch\n",
    "import mlx"
   ],
   "metadata": {
    "collapsed": false,
    "ExecuteTime": {
     "end_time": "2024-03-12T04:15:16.629074Z",
     "start_time": "2024-03-12T04:15:16.625585Z"
    }
   },
   "id": "fe11ba9739c0cbfd",
   "execution_count": 2
  },
  {
   "cell_type": "code",
   "outputs": [],
   "source": [
    "data = torch.tensor([[1,2], [3,4]])\n",
    "w=torch.tensor([7])"
   ],
   "metadata": {
    "collapsed": false,
    "ExecuteTime": {
     "end_time": "2024-03-12T04:16:23.401741Z",
     "start_time": "2024-03-12T04:16:23.399143Z"
    }
   },
   "id": "6c72b1665fa9eccc",
   "execution_count": 3
  },
  {
   "cell_type": "code",
   "outputs": [
    {
     "name": "stdout",
     "output_type": "stream",
     "text": [
      "data.shape => torch.Size([2, 2])\n",
      "w.shape => torch.Size([1])\n"
     ]
    }
   ],
   "source": [
    "print(f'data.shape => {data.shape}')\n",
    "print(f'w.shape => {w.shape}')\n"
   ],
   "metadata": {
    "collapsed": false,
    "ExecuteTime": {
     "end_time": "2024-03-12T04:16:44.626324Z",
     "start_time": "2024-03-12T04:16:44.623646Z"
    }
   },
   "id": "92777282882c7d5",
   "execution_count": 5
  },
  {
   "cell_type": "code",
   "outputs": [
    {
     "name": "stdout",
     "output_type": "stream",
     "text": [
      "data.mul(w) => tensor([[ 7, 14],\n",
      "        [21, 28]])\n"
     ]
    }
   ],
   "source": [
    "# 원소단위 곱셈 => 인덱스에 1:1 대응하도록 브로드캐스팅\n",
    "print(f'data.mul(w) => {data.mul(w)}')"
   ],
   "metadata": {
    "collapsed": false,
    "ExecuteTime": {
     "end_time": "2024-03-12T04:17:41.832669Z",
     "start_time": "2024-03-12T04:17:41.827032Z"
    }
   },
   "id": "19f5bd78459a0f76",
   "execution_count": 7
  },
  {
   "cell_type": "code",
   "outputs": [
    {
     "name": "stdout",
     "output_type": "stream",
     "text": [
      "data.matmul(w2) => tensor([[23],\n",
      "        [53]])\n"
     ]
    }
   ],
   "source": [
    "# 행열단위 곱셈 => 행x열 : (행, 열) x (원소수, )\n",
    "# w = torch.tensor([7,8])    1행 2열 x 1행 2열이라 실패함\n",
    "# print(f'data.matmul(w) => {data.matmul(w)}')\n",
    "\n",
    "# 행열단위 곱셈 => 행x열 : (행, 열) x (행, 열)\n",
    "w2 = torch.tensor([[7], [8]]) # 1행 2열 x 2행 1열\n",
    "print(f'data.matmul(w2) => {data.matmul(w2)}')\n"
   ],
   "metadata": {
    "collapsed": false,
    "ExecuteTime": {
     "end_time": "2024-03-12T04:18:45.422501Z",
     "start_time": "2024-03-12T04:18:45.416129Z"
    }
   },
   "id": "17eccb27972a3ceb",
   "execution_count": 10
  },
  {
   "cell_type": "code",
   "outputs": [
    {
     "name": "stdout",
     "output_type": "stream",
     "text": [
      "Shape of Matrix 1:  torch.Size([2, 2])\n",
      "Shape of Matrix 2:  torch.Size([2, 2])\n",
      "tensor([[4., 6.],\n",
      "        [6., 4.]])\n",
      "tensor([[4., 6.],\n",
      "        [6., 4.]])\n"
     ]
    }
   ],
   "source": [
    "m1 = torch.FloatTensor([[1, 2], [3, 4]])\n",
    "m2 = torch.FloatTensor([[4,3], [2,1]])\n",
    "print('Shape of Matrix 1: ', m1.shape)\n",
    "print('Shape of Matrix 2: ', m2.shape)\n",
    "print( m1 * m2 )\n",
    "print( m1.mul( m2 ) )"
   ],
   "metadata": {
    "collapsed": false,
    "ExecuteTime": {
     "end_time": "2024-03-12T04:29:25.811275Z",
     "start_time": "2024-03-12T04:29:25.806033Z"
    }
   },
   "id": "f4ec288001135c5a",
   "execution_count": 16
  },
  {
   "cell_type": "code",
   "outputs": [
    {
     "data": {
      "text/plain": "tensor([[ 8.,  5.],\n        [20., 13.]])"
     },
     "execution_count": 17,
     "metadata": {},
     "output_type": "execute_result"
    }
   ],
   "source": [
    "m1.matmul(m2)"
   ],
   "metadata": {
    "collapsed": false,
    "ExecuteTime": {
     "end_time": "2024-03-12T04:37:08.715374Z",
     "start_time": "2024-03-12T04:37:08.694107Z"
    }
   },
   "id": "1b2f4c6654f8b0b1",
   "execution_count": 17
  },
  {
   "cell_type": "code",
   "outputs": [
    {
     "data": {
      "text/plain": "tensor([[13., 20.],\n        [ 5.,  8.]])"
     },
     "execution_count": 18,
     "metadata": {},
     "output_type": "execute_result"
    }
   ],
   "source": [
    "m2.matmul(m1)"
   ],
   "metadata": {
    "collapsed": false,
    "ExecuteTime": {
     "end_time": "2024-03-12T04:37:13.215061Z",
     "start_time": "2024-03-12T04:37:13.210979Z"
    }
   },
   "id": "296be96873d4d803",
   "execution_count": 18
  },
  {
   "cell_type": "code",
   "outputs": [
    {
     "data": {
      "text/plain": "tensor([[11.]])"
     },
     "execution_count": 20,
     "metadata": {},
     "output_type": "execute_result"
    }
   ],
   "source": [
    "m1 = torch.FloatTensor([[1,2]])\n",
    "m2 = torch.FloatTensor([[3],[4]])\n",
    "m1.matmul(m2)"
   ],
   "metadata": {
    "collapsed": false,
    "ExecuteTime": {
     "end_time": "2024-03-12T04:39:56.448004Z",
     "start_time": "2024-03-12T04:39:56.444456Z"
    }
   },
   "id": "5a85ddf75da03d06",
   "execution_count": 20
  },
  {
   "cell_type": "code",
   "outputs": [
    {
     "data": {
      "text/plain": "tensor([[3., 6.],\n        [4., 8.]])"
     },
     "execution_count": 21,
     "metadata": {},
     "output_type": "execute_result"
    }
   ],
   "source": [
    "m2.matmul(m1)"
   ],
   "metadata": {
    "collapsed": false,
    "ExecuteTime": {
     "end_time": "2024-03-12T04:40:18.622197Z",
     "start_time": "2024-03-12T04:40:18.618066Z"
    }
   },
   "id": "668d14b448321049",
   "execution_count": 21
  },
  {
   "cell_type": "code",
   "outputs": [],
   "source": [],
   "metadata": {
    "collapsed": false,
    "ExecuteTime": {
     "end_time": "2024-03-12T04:40:37.216158Z",
     "start_time": "2024-03-12T04:40:37.214258Z"
    }
   },
   "id": "26f4052f94d559e0",
   "execution_count": 21
  },
  {
   "cell_type": "code",
   "outputs": [],
   "source": [],
   "metadata": {
    "collapsed": false,
    "ExecuteTime": {
     "end_time": "2024-03-12T04:40:37.348056Z",
     "start_time": "2024-03-12T04:40:37.343871Z"
    }
   },
   "id": "9056d33f17b9228",
   "execution_count": 21
  },
  {
   "cell_type": "markdown",
   "source": [
    "element-wise\n",
    "[a,b] mul [c] = [a*c, b*c]\n",
    "[a,b] mul [c,d] = [a*c, b*d]\n",
    "[a,b] mul [[c],[d]] = [[a*c, b*c],[a*d, b*d]]\n"
   ],
   "metadata": {
    "collapsed": false
   },
   "id": "501cad74004bde02"
  },
  {
   "cell_type": "markdown",
   "source": [
    "matrix-wise\n",
    "[a,b] matmul [[c],[d]] = [[a*c+b*d]]\n",
    "[[a],[b]] matmul [c,d] = [[a*c,a*d], [b*c,b*d]]\n",
    "\n",
    "\n"
   ],
   "metadata": {
    "collapsed": false
   },
   "id": "e8bdaba5de8ba6e4"
  },
  {
   "cell_type": "code",
   "outputs": [],
   "source": [],
   "metadata": {
    "collapsed": false
   },
   "id": "38608fc1851f59cd"
  }
 ],
 "metadata": {
  "kernelspec": {
   "display_name": "Python 3",
   "language": "python",
   "name": "python3"
  },
  "language_info": {
   "codemirror_mode": {
    "name": "ipython",
    "version": 2
   },
   "file_extension": ".py",
   "mimetype": "text/x-python",
   "name": "python",
   "nbconvert_exporter": "python",
   "pygments_lexer": "ipython2",
   "version": "2.7.6"
  }
 },
 "nbformat": 4,
 "nbformat_minor": 5
}
