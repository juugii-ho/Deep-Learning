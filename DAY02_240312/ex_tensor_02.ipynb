{
 "cells": [
  {
   "cell_type": "markdown",
   "source": [
    "## Tensor 원소/요소 접근\n",
    "- 인덱싱과 슬라이싱\n"
   ],
   "metadata": {
    "collapsed": false
   },
   "id": "45252052c9bd63cc"
  },
  {
   "cell_type": "code",
   "outputs": [],
   "source": [
    "# 모듈로딩\n",
    "import torch"
   ],
   "metadata": {
    "collapsed": false,
    "ExecuteTime": {
     "end_time": "2024-03-12T02:02:49.979972Z",
     "start_time": "2024-03-12T02:02:49.075785Z"
    }
   },
   "id": "fcaf5c1b7c292eaa",
   "execution_count": 1
  },
  {
   "cell_type": "code",
   "outputs": [
    {
     "name": "stderr",
     "output_type": "stream",
     "text": [
      "/var/folders/9y/lpn0hjmn5csct06t4_r5qtjr0000gn/T/ipykernel_11879/2789555982.py:2: DeprecationWarning: an integer is required (got type float).  Implicit conversion to integers using __int__ is deprecated, and may be removed in a future version of Python.\n",
      "  points = torch.tensor([[4.,2.], [5.,3.], [6.,4.]], dtype=torch.int16)\n"
     ]
    },
    {
     "data": {
      "text/plain": "tensor([[4, 2],\n        [5, 3],\n        [6, 4]], dtype=torch.int16)"
     },
     "execution_count": 4,
     "metadata": {},
     "output_type": "execute_result"
    }
   ],
   "source": [
    "# 텐서 생성\n",
    "points = torch.tensor([[4.,2.], [5.,3.], [6.,4.]], dtype=torch.int16)\n",
    "points"
   ],
   "metadata": {
    "collapsed": false,
    "ExecuteTime": {
     "end_time": "2024-03-12T02:03:36.540474Z",
     "start_time": "2024-03-12T02:03:36.526921Z"
    }
   },
   "id": "2c5c629ff3af2331",
   "execution_count": 4
  },
  {
   "cell_type": "code",
   "outputs": [
    {
     "data": {
      "text/plain": "(tensor(4, dtype=torch.int16), tensor(4, dtype=torch.int16))"
     },
     "execution_count": 10,
     "metadata": {},
     "output_type": "execute_result"
    }
   ],
   "source": [
    "# 텐서의 원소 1개 접근\n",
    "# 데이터 3 추출\n",
    "\n",
    "points[1,1]\n",
    "\n",
    "# 2행의 두번째 데이터 4 추출\n",
    "points[2,1], points[-1,-1]"
   ],
   "metadata": {
    "collapsed": false,
    "ExecuteTime": {
     "end_time": "2024-03-12T02:06:55.424244Z",
     "start_time": "2024-03-12T02:06:55.421934Z"
    }
   },
   "id": "b3f3e95da80b380a",
   "execution_count": 10
  },
  {
   "cell_type": "code",
   "outputs": [
    {
     "data": {
      "text/plain": "tensor([[5, 3],\n        [6, 4]], dtype=torch.int16)"
     },
     "execution_count": 8,
     "metadata": {},
     "output_type": "execute_result"
    }
   ],
   "source": [
    "# 1번 행부터 나머지 모든 행 추출\n",
    "points[1:]"
   ],
   "metadata": {
    "collapsed": false,
    "ExecuteTime": {
     "end_time": "2024-03-12T02:05:16.324164Z",
     "start_time": "2024-03-12T02:05:16.319183Z"
    }
   },
   "id": "ce34333d59a08bec",
   "execution_count": 8
  },
  {
   "cell_type": "markdown",
   "source": [
    "- 브로드캐스팅 연산"
   ],
   "metadata": {
    "collapsed": false
   },
   "id": "45a250bc8fff7332"
  },
  {
   "cell_type": "code",
   "outputs": [
    {
     "name": "stdout",
     "output_type": "stream",
     "text": [
      "m1.shape => torch.Size([1, 2]), m2.shape => torch.Size([1])\n"
     ]
    }
   ],
   "source": [
    "m1 = torch.FloatTensor([[1,2]])\n",
    "m2 = torch.FloatTensor([3])\n",
    "print(f'm1.shape => {m1.shape}, m2.shape => {m2.shape}')"
   ],
   "metadata": {
    "collapsed": false,
    "ExecuteTime": {
     "end_time": "2024-03-12T02:22:55.667183Z",
     "start_time": "2024-03-12T02:22:55.664262Z"
    }
   },
   "id": "62059ab87e8fd0ef",
   "execution_count": 22
  },
  {
   "cell_type": "code",
   "outputs": [
    {
     "name": "stdout",
     "output_type": "stream",
     "text": [
      " m3.shape =>torch.Size([1, 2]) \n",
      " m3  => tensor([[4., 5.]])\n"
     ]
    }
   ],
   "source": [
    "m3 = m1 + m2\n",
    "print(f' m3.shape =>{m3.shape} \\n m3  => {m3}')"
   ],
   "metadata": {
    "collapsed": false,
    "ExecuteTime": {
     "end_time": "2024-03-12T02:22:55.920157Z",
     "start_time": "2024-03-12T02:22:55.915499Z"
    }
   },
   "id": "d09127fce2a06313",
   "execution_count": 23
  },
  {
   "cell_type": "code",
   "outputs": [
    {
     "name": "stdout",
     "output_type": "stream",
     "text": [
      "m1.shape => torch.Size([1, 2]), m2.shape => torch.Size([2, 1])\n"
     ]
    }
   ],
   "source": [
    "m1 = torch.FloatTensor([[1,2]])\n",
    "m2 = torch.FloatTensor([[3],[4]])\n",
    "print(f'm1.shape => {m1.shape}, m2.shape => {m2.shape}')"
   ],
   "metadata": {
    "collapsed": false,
    "ExecuteTime": {
     "end_time": "2024-03-12T02:23:10.173276Z",
     "start_time": "2024-03-12T02:23:10.169499Z"
    }
   },
   "id": "2ba57a0fc609bed9",
   "execution_count": 25
  },
  {
   "cell_type": "code",
   "outputs": [
    {
     "name": "stdout",
     "output_type": "stream",
     "text": [
      " m3.shape =>torch.Size([2, 2]) \n",
      " m3  => tensor([[4., 5.],\n",
      "        [5., 6.]])\n"
     ]
    }
   ],
   "source": [
    "m3 = m1 + m2\n",
    "print(f' m3.shape =>{m3.shape} \\n m3  => {m3}')"
   ],
   "metadata": {
    "collapsed": false,
    "ExecuteTime": {
     "end_time": "2024-03-12T02:23:10.628249Z",
     "start_time": "2024-03-12T02:23:10.625260Z"
    }
   },
   "id": "b7bb64ddb5550d20",
   "execution_count": 26
  },
  {
   "cell_type": "code",
   "outputs": [
    {
     "name": "stdout",
     "output_type": "stream",
     "text": [
      "m4.sahpe => torch.Size([2, 2]) \n",
      " m4 => tensor([[3., 6.],\n",
      "        [4., 8.]])\n"
     ]
    }
   ],
   "source": [
    "m4 = m1.mul(m2)\n",
    "print(f'm4.sahpe => {m4.shape} \\n m4 => {m4}')"
   ],
   "metadata": {
    "collapsed": false,
    "ExecuteTime": {
     "end_time": "2024-03-12T02:27:29.538589Z",
     "start_time": "2024-03-12T02:27:29.533496Z"
    }
   },
   "id": "579f5269fdcf798a",
   "execution_count": 27
  },
  {
   "cell_type": "code",
   "outputs": [
    {
     "data": {
      "text/plain": "(tensor([[4., 5.],\n         [5., 6.]]),\n tensor([[-2., -1.],\n         [-3., -2.]]),\n tensor([[3., 6.],\n         [4., 8.]]),\n tensor([[0.3333, 0.6667],\n         [0.2500, 0.5000]]))"
     },
     "execution_count": 28,
     "metadata": {},
     "output_type": "execute_result"
    }
   ],
   "source": [
    "# 원소 단위 연산 수행 메서드들\n",
    "m1.add(m2), m1.sub(m2), m1.mul(m2), m1.div(m2)"
   ],
   "metadata": {
    "collapsed": false,
    "ExecuteTime": {
     "end_time": "2024-03-12T02:28:05.146013Z",
     "start_time": "2024-03-12T02:28:05.137425Z"
    }
   },
   "id": "1ae655d4b58b6d92",
   "execution_count": 28
  },
  {
   "cell_type": "code",
   "outputs": [],
   "source": [],
   "metadata": {
    "collapsed": false
   },
   "id": "a856dcaede3aabcf"
  }
 ],
 "metadata": {
  "kernelspec": {
   "display_name": "Python 3",
   "language": "python",
   "name": "python3"
  },
  "language_info": {
   "codemirror_mode": {
    "name": "ipython",
    "version": 2
   },
   "file_extension": ".py",
   "mimetype": "text/x-python",
   "name": "python",
   "nbconvert_exporter": "python",
   "pygments_lexer": "ipython2",
   "version": "2.7.6"
  }
 },
 "nbformat": 4,
 "nbformat_minor": 5
}
