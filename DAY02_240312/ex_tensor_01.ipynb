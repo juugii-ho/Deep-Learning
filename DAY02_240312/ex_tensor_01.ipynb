{
 "cells": [
  {
   "cell_type": "markdown",
   "source": [
    "### 텐서(Tensor) 살펴보기\n",
    "- Pytorch에서 데이터 저장 자료형\n",
    "- 모델 입력(input), 출력(output) 데이터 형태"
   ],
   "metadata": {
    "collapsed": false
   },
   "id": "93691aff4a3c0899"
  },
  {
   "cell_type": "markdown",
   "source": [
    "- 모듈로딩\n"
   ],
   "metadata": {
    "collapsed": false
   },
   "id": "91253d79fccdc8ca"
  },
  {
   "cell_type": "code",
   "outputs": [],
   "source": [
    "import torch"
   ],
   "metadata": {
    "collapsed": false,
    "ExecuteTime": {
     "end_time": "2024-03-12T01:51:15.617750Z",
     "start_time": "2024-03-12T01:51:15.566548Z"
    }
   },
   "id": "2cc68c4d6263cd6f",
   "execution_count": 67
  },
  {
   "cell_type": "markdown",
   "source": [
    "- Tensor 속성 관련 함수"
   ],
   "metadata": {
    "collapsed": false
   },
   "id": "af4cad6b84fa56bc"
  },
  {
   "cell_type": "code",
   "outputs": [],
   "source": [
    "# 매개변수 : 텐서 인스턴스, 텐서 변수명\n",
    "def print_attribute(tensor, name):\n",
    "    print(f'[Tensor {name}\\'s Attribute ]')\n",
    "    print(f' - tensor.shape : {tensor.shape}')\n",
    "    print(f' - tensor.ndim : {tensor.ndim}D')\n",
    "    print(f' - tensor.dtype : {tensor.dtype}')\n",
    "    print(f' - tensor.device : {tensor.device}')\n",
    "    print(f' - tensor.requires_grad : {tensor.requires_grad}')\n",
    "    print(f' - tensor.data \\n {tensor.data}')\n"
   ],
   "metadata": {
    "collapsed": false,
    "ExecuteTime": {
     "end_time": "2024-03-12T01:51:15.619941Z",
     "start_time": "2024-03-12T01:51:15.595399Z"
    }
   },
   "id": "7804f6fd266a04f6",
   "execution_count": 68
  },
  {
   "cell_type": "markdown",
   "source": [
    "- Tensor 생성 (1) 특정 데이터 타입의 텐서 생성\n",
    "    - 타입별 텐서 클래스 생성자 활용\n",
    "    - 예) IntTensor(), FloatTensor(), BoolTensor()"
   ],
   "metadata": {
    "collapsed": false
   },
   "id": "8880c753c8e278d1"
  },
  {
   "cell_type": "code",
   "outputs": [
    {
     "name": "stdout",
     "output_type": "stream",
     "text": [
      "[Tensor t1's Attribute ]\n",
      " - tensor.shape : torch.Size([10])\n",
      " - tensor.ndim : 1D\n",
      " - tensor.dtype : torch.int32\n",
      " - tensor.device : cpu\n",
      " - tensor.requires_grad : False\n",
      " - tensor.data \n",
      " tensor([0, 0, 0, 0, 0, 0, 0, 0, 0, 0], dtype=torch.int32)\n",
      "[Tensor t2's Attribute ]\n",
      " - tensor.shape : torch.Size([2])\n",
      " - tensor.ndim : 1D\n",
      " - tensor.dtype : torch.int32\n",
      " - tensor.device : cpu\n",
      " - tensor.requires_grad : False\n",
      " - tensor.data \n",
      " tensor([10, 20], dtype=torch.int32)\n",
      "[Tensor t3's Attribute ]\n",
      " - tensor.shape : torch.Size([4])\n",
      " - tensor.ndim : 1D\n",
      " - tensor.dtype : torch.bool\n",
      " - tensor.device : cpu\n",
      " - tensor.requires_grad : False\n",
      " - tensor.data \n",
      " tensor([ True,  True, False,  True])\n",
      "[Tensor t4's Attribute ]\n",
      " - tensor.shape : torch.Size([2])\n",
      " - tensor.ndim : 1D\n",
      " - tensor.dtype : torch.float32\n",
      " - tensor.device : cpu\n",
      " - tensor.requires_grad : False\n",
      " - tensor.data \n",
      " tensor([10., 20.])\n"
     ]
    },
    {
     "name": "stderr",
     "output_type": "stream",
     "text": [
      "/var/folders/9y/lpn0hjmn5csct06t4_r5qtjr0000gn/T/ipykernel_4889/600922394.py:3: DeprecationWarning: an integer is required (got type float).  Implicit conversion to integers using __int__ is deprecated, and may be removed in a future version of Python.\n",
      "  t2 = torch.IntTensor([10.,20.]) # 실수를 정수로 바꿀 때는 데이터 손실 있으므로 경고가 뜨는 것\n"
     ]
    }
   ],
   "source": [
    "# 정수 타입 텐서 생성\n",
    "t1 = torch.IntTensor(10)\n",
    "t2 = torch.IntTensor([10.,20.]) # 실수를 정수로 바꿀 때는 데이터 손실 있으므로 경고가 뜨는 것\n",
    "t3 = torch.BoolTensor([1,1,0,-1])\n",
    "t4 = torch.FloatTensor([10,20])\n",
    "\n",
    "print_attribute(t1, 't1')\n",
    "print_attribute(t2, 't2')\n",
    "print_attribute(t3, 't3')\n",
    "print_attribute(t4, 't4')\n"
   ],
   "metadata": {
    "collapsed": false,
    "ExecuteTime": {
     "end_time": "2024-03-12T01:51:15.638038Z",
     "start_time": "2024-03-12T01:51:15.623629Z"
    }
   },
   "id": "42d4d85fac50ecb5",
   "execution_count": 69
  },
  {
   "cell_type": "markdown",
   "source": [
    "- Tensor 생성(2) 원하는 값으로 텐서 생성 => torch.tensor()"
   ],
   "metadata": {
    "collapsed": false
   },
   "id": "fb8a9983d65ff507"
  },
  {
   "cell_type": "code",
   "outputs": [],
   "source": [
    "t1 = torch.tensor(10)       # scalar 데이터, int64\n",
    "t2 = torch.tensor(10.)      # scalar 데이터, 왜 안 float32.."
   ],
   "metadata": {
    "collapsed": false,
    "ExecuteTime": {
     "end_time": "2024-03-12T01:51:15.647893Z",
     "start_time": "2024-03-12T01:51:15.639954Z"
    }
   },
   "id": "bfde4accf62ddaf7",
   "execution_count": 70
  },
  {
   "cell_type": "code",
   "outputs": [
    {
     "name": "stdout",
     "output_type": "stream",
     "text": [
      "[Tensor t1's Attribute ]\n",
      " - tensor.shape : torch.Size([])\n",
      " - tensor.ndim : 0D\n",
      " - tensor.dtype : torch.int64\n",
      " - tensor.device : cpu\n",
      " - tensor.requires_grad : False\n",
      " - tensor.data \n",
      " 10\n",
      "[Tensor t2's Attribute ]\n",
      " - tensor.shape : torch.Size([])\n",
      " - tensor.ndim : 0D\n",
      " - tensor.dtype : torch.float32\n",
      " - tensor.device : cpu\n",
      " - tensor.requires_grad : False\n",
      " - tensor.data \n",
      " 10.0\n"
     ]
    }
   ],
   "source": [
    "print_attribute(t1,'t1')\n",
    "print_attribute(t2, 't2')"
   ],
   "metadata": {
    "collapsed": false,
    "ExecuteTime": {
     "end_time": "2024-03-12T01:51:15.664622Z",
     "start_time": "2024-03-12T01:51:15.643486Z"
    }
   },
   "id": "5f8740ada6cbaa2",
   "execution_count": 71
  },
  {
   "cell_type": "code",
   "outputs": [
    {
     "name": "stdout",
     "output_type": "stream",
     "text": [
      "[Tensor t1's Attribute ]\n",
      " - tensor.shape : torch.Size([])\n",
      " - tensor.ndim : 0D\n",
      " - tensor.dtype : torch.int32\n",
      " - tensor.device : cpu\n",
      " - tensor.requires_grad : False\n",
      " - tensor.data \n",
      " 10\n"
     ]
    },
    {
     "name": "stderr",
     "output_type": "stream",
     "text": [
      "/var/folders/9y/lpn0hjmn5csct06t4_r5qtjr0000gn/T/ipykernel_4889/4157645560.py:2: DeprecationWarning: an integer is required (got type float).  Implicit conversion to integers using __int__ is deprecated, and may be removed in a future version of Python.\n",
      "  t1 = torch.tensor(10., dtype=torch.int32) # scalar 데이터 int32\n"
     ]
    }
   ],
   "source": [
    "# dtype 매개변수 : 원하는 데이터 타입 지정 가능\n",
    "t1 = torch.tensor(10., dtype=torch.int32) # scalar 데이터 int32\n",
    "print_attribute(t1,'t1')"
   ],
   "metadata": {
    "collapsed": false,
    "ExecuteTime": {
     "end_time": "2024-03-12T01:51:15.667630Z",
     "start_time": "2024-03-12T01:51:15.650102Z"
    }
   },
   "id": "74500b98f909d122",
   "execution_count": 72
  },
  {
   "cell_type": "code",
   "outputs": [
    {
     "name": "stdout",
     "output_type": "stream",
     "text": [
      "[Tensor t1's Attribute ]\n",
      " - tensor.shape : torch.Size([])\n",
      " - tensor.ndim : 0D\n",
      " - tensor.dtype : torch.bool\n",
      " - tensor.device : cpu\n",
      " - tensor.requires_grad : False\n",
      " - tensor.data \n",
      " True\n"
     ]
    }
   ],
   "source": [
    "t1 = torch.tensor(10., dtype=torch.bool) # scalar 데이터 bool\n",
    "print_attribute(t1,'t1')"
   ],
   "metadata": {
    "collapsed": false,
    "ExecuteTime": {
     "end_time": "2024-03-12T01:51:15.699997Z",
     "start_time": "2024-03-12T01:51:15.668794Z"
    }
   },
   "id": "597824722dd5f25e",
   "execution_count": 73
  },
  {
   "cell_type": "code",
   "outputs": [
    {
     "name": "stdout",
     "output_type": "stream",
     "text": [
      "[Tensor t1's Attribute ]\n",
      " - tensor.shape : torch.Size([3])\n",
      " - tensor.ndim : 1D\n",
      " - tensor.dtype : torch.int8\n",
      " - tensor.device : cpu\n",
      " - tensor.requires_grad : False\n",
      " - tensor.data \n",
      " tensor([1, 2, 3], dtype=torch.int8)\n"
     ]
    }
   ],
   "source": [
    "t1 = torch.tensor([1,2,3], dtype=torch.int8)        # 2D 데이터\n",
    "print_attribute(t1, 't1')"
   ],
   "metadata": {
    "collapsed": false,
    "ExecuteTime": {
     "end_time": "2024-03-12T01:51:15.700758Z",
     "start_time": "2024-03-12T01:51:15.672510Z"
    }
   },
   "id": "8c1e7aef31066b4b",
   "execution_count": 74
  },
  {
   "cell_type": "markdown",
   "source": [
    "- Tensor 생성 (3) 특정 값으로 채운 텐서 => 0,1 등의 값"
   ],
   "metadata": {
    "collapsed": false
   },
   "id": "33ef7bfc118c8d7a"
  },
  {
   "cell_type": "code",
   "outputs": [
    {
     "name": "stdout",
     "output_type": "stream",
     "text": [
      "[Tensor t1's Attribute ]\n",
      " - tensor.shape : torch.Size([5])\n",
      " - tensor.ndim : 1D\n",
      " - tensor.dtype : torch.float32\n",
      " - tensor.device : cpu\n",
      " - tensor.requires_grad : False\n",
      " - tensor.data \n",
      " tensor([0., 0., 0., 0., 0.])\n"
     ]
    }
   ],
   "source": [
    "# 0으로 채운 텐서\n",
    "t1 = torch.zeros(5)         #  tensor([0., 0., 0., 0., 0.])\n",
    "print_attribute(t1,'t1')"
   ],
   "metadata": {
    "collapsed": false,
    "ExecuteTime": {
     "end_time": "2024-03-12T01:51:15.703056Z",
     "start_time": "2024-03-12T01:51:15.681165Z"
    }
   },
   "id": "74bf0ebb88e6f5c6",
   "execution_count": 75
  },
  {
   "cell_type": "code",
   "outputs": [
    {
     "name": "stdout",
     "output_type": "stream",
     "text": [
      "[Tensor t1's Attribute ]\n",
      " - tensor.shape : torch.Size([5, 5])\n",
      " - tensor.ndim : 2D\n",
      " - tensor.dtype : torch.int8\n",
      " - tensor.device : cpu\n",
      " - tensor.requires_grad : False\n",
      " - tensor.data \n",
      " tensor([[0, 0, 0, 0, 0],\n",
      "        [0, 0, 0, 0, 0],\n",
      "        [0, 0, 0, 0, 0],\n",
      "        [0, 0, 0, 0, 0],\n",
      "        [0, 0, 0, 0, 0]], dtype=torch.int8)\n"
     ]
    }
   ],
   "source": [
    "t1 = torch.zeros((5,5), dtype=torch.int8)     \n",
    "print_attribute(t1,'t1')\n",
    " # tensor([[0., 0., 0., 0., 0.],\n",
    " #        [0., 0., 0., 0., 0.],\n",
    " #        [0., 0., 0., 0., 0.],\n",
    " #        [0., 0., 0., 0., 0.],\n",
    " #        [0., 0., 0., 0., 0.]])"
   ],
   "metadata": {
    "collapsed": false,
    "ExecuteTime": {
     "end_time": "2024-03-12T01:51:15.732733Z",
     "start_time": "2024-03-12T01:51:15.705393Z"
    }
   },
   "id": "574b3dd259d50de3",
   "execution_count": 76
  },
  {
   "cell_type": "code",
   "outputs": [
    {
     "name": "stdout",
     "output_type": "stream",
     "text": [
      "[Tensor t1's Attribute ]\n",
      " - tensor.shape : torch.Size([2, 4])\n",
      " - tensor.ndim : 2D\n",
      " - tensor.dtype : torch.int8\n",
      " - tensor.device : cpu\n",
      " - tensor.requires_grad : False\n",
      " - tensor.data \n",
      " tensor([[1, 1, 1, 1],\n",
      "        [1, 1, 1, 1]], dtype=torch.int8)\n"
     ]
    }
   ],
   "source": [
    "t1 = torch.ones((2,4), dtype=torch.int8)     \n",
    "print_attribute(t1,'t1')\n",
    " # tensor([[1, 1, 1, 1],\n",
    " #        [1, 1, 1, 1]], dtype=torch.int8)"
   ],
   "metadata": {
    "collapsed": false,
    "ExecuteTime": {
     "end_time": "2024-03-12T01:51:15.765340Z",
     "start_time": "2024-03-12T01:51:15.733458Z"
    }
   },
   "id": "368e6383b998d011",
   "execution_count": 77
  },
  {
   "cell_type": "code",
   "outputs": [
    {
     "name": "stdout",
     "output_type": "stream",
     "text": [
      "torch.Size([2, 6])\n"
     ]
    }
   ],
   "source": [
    "# 이미 존재하는 텐서와 동일한 shape으로 값 채우기 => zeros_like(), ones_like()\n",
    "img = torch.tensor([[2,3,4,5,6,7], [2,3,4,5,6,7]])\n",
    "print(img.shape)       # torch.Size([2, 6])"
   ],
   "metadata": {
    "collapsed": false,
    "ExecuteTime": {
     "end_time": "2024-03-12T01:51:15.767740Z",
     "start_time": "2024-03-12T01:51:15.758573Z"
    }
   },
   "id": "c1b0b781691b9337",
   "execution_count": 78
  },
  {
   "cell_type": "code",
   "outputs": [
    {
     "data": {
      "text/plain": "tensor([[0, 0, 0, 0, 0, 0],\n        [0, 0, 0, 0, 0, 0]])"
     },
     "execution_count": 79,
     "metadata": {},
     "output_type": "execute_result"
    }
   ],
   "source": [
    "zero_image = torch.zeros_like(img)\n",
    "zero_image\n",
    "# tensor([[0, 0, 0, 0, 0, 0],\n",
    "#         [0, 0, 0, 0, 0, 0]])"
   ],
   "metadata": {
    "collapsed": false,
    "ExecuteTime": {
     "end_time": "2024-03-12T01:51:15.776735Z",
     "start_time": "2024-03-12T01:51:15.770500Z"
    }
   },
   "id": "91bf31113817b8e3",
   "execution_count": 79
  },
  {
   "cell_type": "code",
   "outputs": [
    {
     "data": {
      "text/plain": "tensor([[1, 1, 1, 1, 1, 1],\n        [1, 1, 1, 1, 1, 1]])"
     },
     "execution_count": 80,
     "metadata": {},
     "output_type": "execute_result"
    }
   ],
   "source": [
    "one_imag = torch.ones_like(img)\n",
    "one_imag\n",
    "# tensor([[1, 1, 1, 1, 1, 1],\n",
    "#         [1, 1, 1, 1, 1, 1]])"
   ],
   "metadata": {
    "collapsed": false,
    "ExecuteTime": {
     "end_time": "2024-03-12T01:51:15.809635Z",
     "start_time": "2024-03-12T01:51:15.778001Z"
    }
   },
   "id": "e381deeeff351a48",
   "execution_count": 80
  },
  {
   "cell_type": "code",
   "outputs": [
    {
     "name": "stdout",
     "output_type": "stream",
     "text": [
      "tensor([[7, 7, 7, 7, 7, 7],\n",
      "        [7, 7, 7, 7, 7, 7]])\n"
     ]
    }
   ],
   "source": [
    "full_img = torch.full_like(img, 7)\n",
    "print(full_img)\n",
    "# tensor([[7, 7, 7, 7, 7, 7],\n",
    "#         [7, 7, 7, 7, 7, 7]])"
   ],
   "metadata": {
    "collapsed": false,
    "ExecuteTime": {
     "end_time": "2024-03-12T01:51:15.810211Z",
     "start_time": "2024-03-12T01:51:15.782905Z"
    }
   },
   "id": "7ae6e813fd8fd35a",
   "execution_count": 81
  },
  {
   "cell_type": "code",
   "outputs": [
    {
     "data": {
      "text/plain": "tensor([[1., 0., 0., 0., 0.],\n        [0., 1., 0., 0., 0.],\n        [0., 0., 1., 0., 0.],\n        [0., 0., 0., 1., 0.],\n        [0., 0., 0., 0., 1.]])"
     },
     "execution_count": 82,
     "metadata": {},
     "output_type": "execute_result"
    }
   ],
   "source": [
    "# 대각선 방향으로 1 채우기 => eye()\n",
    "t1 = torch.eye(5)\n",
    "t1\n",
    "# tensor([[1., 0., 0., 0., 0.],\n",
    "#         [0., 1., 0., 0., 0.],\n",
    "#         [0., 0., 1., 0., 0.],\n",
    "#         [0., 0., 0., 1., 0.],\n",
    "#         [0., 0., 0., 0., 1.]])"
   ],
   "metadata": {
    "collapsed": false,
    "ExecuteTime": {
     "end_time": "2024-03-12T01:51:15.821221Z",
     "start_time": "2024-03-12T01:51:15.812864Z"
    }
   },
   "id": "51a4195078a5dc3a",
   "execution_count": 82
  },
  {
   "cell_type": "code",
   "outputs": [
    {
     "data": {
      "text/plain": "tensor([[1., 0., 0., 0.],\n        [0., 1., 0., 0.]])"
     },
     "execution_count": 83,
     "metadata": {},
     "output_type": "execute_result"
    }
   ],
   "source": [
    "t1 = torch.eye(2,4)\n",
    "t1"
   ],
   "metadata": {
    "collapsed": false,
    "ExecuteTime": {
     "end_time": "2024-03-12T01:51:15.822246Z",
     "start_time": "2024-03-12T01:51:15.816468Z"
    }
   },
   "id": "8672c297d4bfcce7",
   "execution_count": 83
  },
  {
   "cell_type": "markdown",
   "source": [
    "- Tensor 생성 방법 (4) : 임의의 값으로 Tensor 생성 => torch.rand(), torch.randn(), torch.randint()"
   ],
   "metadata": {
    "collapsed": false
   },
   "id": "25fc7af1e8bd196d"
  },
  {
   "cell_type": "code",
   "outputs": [],
   "source": [
    "torch.manual_seed(12)\n",
    "\n",
    "t5 = torch.rand(2,3)\n",
    "t6 = torch.randn(2,3)\n",
    "t7 = torch.randint(low=1,high=10, size=(2,3))"
   ],
   "metadata": {
    "collapsed": false,
    "ExecuteTime": {
     "end_time": "2024-03-12T01:51:15.831881Z",
     "start_time": "2024-03-12T01:51:15.823796Z"
    }
   },
   "id": "eea25cdb6d00ea16",
   "execution_count": 84
  },
  {
   "cell_type": "code",
   "outputs": [
    {
     "data": {
      "text/plain": "tensor([[0.4657, 0.2328, 0.4527],\n        [0.5871, 0.4086, 0.1272]])"
     },
     "execution_count": 85,
     "metadata": {},
     "output_type": "execute_result"
    }
   ],
   "source": [
    "t5"
   ],
   "metadata": {
    "collapsed": false,
    "ExecuteTime": {
     "end_time": "2024-03-12T01:51:15.864058Z",
     "start_time": "2024-03-12T01:51:15.829464Z"
    }
   },
   "id": "2d8db224c7097ef5",
   "execution_count": 85
  },
  {
   "cell_type": "code",
   "outputs": [
    {
     "data": {
      "text/plain": "tensor([[ 1.5869,  1.1268, -1.2274],\n        [-0.8216, -1.7861,  0.6167]])"
     },
     "execution_count": 86,
     "metadata": {},
     "output_type": "execute_result"
    }
   ],
   "source": [
    "t6"
   ],
   "metadata": {
    "collapsed": false,
    "ExecuteTime": {
     "end_time": "2024-03-12T01:51:15.864997Z",
     "start_time": "2024-03-12T01:51:15.834400Z"
    }
   },
   "id": "8a504ee50ce4d506",
   "execution_count": 86
  },
  {
   "cell_type": "code",
   "outputs": [
    {
     "data": {
      "text/plain": "tensor([[8, 4, 6],\n        [2, 2, 2]])"
     },
     "execution_count": 87,
     "metadata": {},
     "output_type": "execute_result"
    }
   ],
   "source": [
    "t7"
   ],
   "metadata": {
    "collapsed": false,
    "ExecuteTime": {
     "end_time": "2024-03-12T01:51:15.897544Z",
     "start_time": "2024-03-12T01:51:15.866805Z"
    }
   },
   "id": "8e5b9bcb087bb086",
   "execution_count": 87
  },
  {
   "cell_type": "markdown",
   "source": [
    "- Tensor 생성 방법 (5) : Ndarray 객체 활용 => torch.from_numpy(), torch.as_tensor(), torch.tensor()"
   ],
   "metadata": {
    "collapsed": false
   },
   "id": "13d1f4ea2b12932c"
  },
  {
   "cell_type": "code",
   "outputs": [
    {
     "name": "stdout",
     "output_type": "stream",
     "text": [
      "[11 22 33] <class 'numpy.ndarray'>\n"
     ]
    }
   ],
   "source": [
    "# 데이터 생성\n",
    "import numpy as np\n",
    "\n",
    "data = np.array([11,22,33])\n",
    "print(data, type(data))"
   ],
   "metadata": {
    "collapsed": false,
    "ExecuteTime": {
     "end_time": "2024-03-12T01:51:15.919657Z",
     "start_time": "2024-03-12T01:51:15.893450Z"
    }
   },
   "id": "65dd0c29b597f5a6",
   "execution_count": 88
  },
  {
   "cell_type": "code",
   "outputs": [
    {
     "data": {
      "text/plain": "tensor([11, 22, 33])"
     },
     "execution_count": 89,
     "metadata": {},
     "output_type": "execute_result"
    }
   ],
   "source": [
    "t1 = torch.from_numpy(data)\n",
    "t1"
   ],
   "metadata": {
    "collapsed": false,
    "ExecuteTime": {
     "end_time": "2024-03-12T01:51:15.931161Z",
     "start_time": "2024-03-12T01:51:15.921773Z"
    }
   },
   "id": "325831624af1fa2e",
   "execution_count": 89
  },
  {
   "cell_type": "code",
   "outputs": [
    {
     "data": {
      "text/plain": "tensor([11, 22, 33])"
     },
     "execution_count": 90,
     "metadata": {},
     "output_type": "execute_result"
    }
   ],
   "source": [
    "t2 = torch.as_tensor(data)\n",
    "t2"
   ],
   "metadata": {
    "collapsed": false,
    "ExecuteTime": {
     "end_time": "2024-03-12T01:51:15.931756Z",
     "start_time": "2024-03-12T01:51:15.925475Z"
    }
   },
   "id": "6d23412f25842c5b",
   "execution_count": 90
  },
  {
   "cell_type": "code",
   "outputs": [
    {
     "data": {
      "text/plain": "tensor([11, 22, 33])"
     },
     "execution_count": 91,
     "metadata": {},
     "output_type": "execute_result"
    }
   ],
   "source": [
    "t3 = torch.tensor(data)\n",
    "t3"
   ],
   "metadata": {
    "collapsed": false,
    "ExecuteTime": {
     "end_time": "2024-03-12T01:51:15.940252Z",
     "start_time": "2024-03-12T01:51:15.933641Z"
    }
   },
   "id": "2351843c972ca19f",
   "execution_count": 91
  },
  {
   "cell_type": "code",
   "outputs": [
    {
     "name": "stdout",
     "output_type": "stream",
     "text": [
      "[100  22  33]\n",
      "tensor([100,  22,  33])\n",
      "tensor([100,  22,  33])\n",
      "tensor([11, 22, 33])\n"
     ]
    }
   ],
   "source": [
    "# ndarray 원소 변경\n",
    "data[0]=100\n",
    "\n",
    "# from_numpy(), as_tensor() ==> 데이터 공유\n",
    "print(data, t1, t2, t3, sep='\\n')\n",
    "\n",
    "# tensor() ==> 복사본 생성"
   ],
   "metadata": {
    "collapsed": false,
    "ExecuteTime": {
     "end_time": "2024-03-12T01:51:15.953243Z",
     "start_time": "2024-03-12T01:51:15.937967Z"
    }
   },
   "id": "9e3d7c3f6fc47633",
   "execution_count": 92
  },
  {
   "cell_type": "code",
   "outputs": [],
   "source": [],
   "metadata": {
    "collapsed": false,
    "ExecuteTime": {
     "end_time": "2024-03-12T01:51:15.954608Z",
     "start_time": "2024-03-12T01:51:15.942034Z"
    }
   },
   "id": "c1d832f193df07b6",
   "execution_count": 92
  }
 ],
 "metadata": {
  "kernelspec": {
   "display_name": "Python 3",
   "language": "python",
   "name": "python3"
  },
  "language_info": {
   "codemirror_mode": {
    "name": "ipython",
    "version": 2
   },
   "file_extension": ".py",
   "mimetype": "text/x-python",
   "name": "python",
   "nbconvert_exporter": "python",
   "pygments_lexer": "ipython2",
   "version": "2.7.6"
  }
 },
 "nbformat": 4,
 "nbformat_minor": 5
}
