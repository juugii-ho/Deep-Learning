{
 "cells": [
  {
   "cell_type": "markdown",
   "source": [
    "## 텐서 연결 & 결합"
   ],
   "metadata": {
    "collapsed": false
   },
   "id": "316069d3f453f0d"
  },
  {
   "cell_type": "code",
   "outputs": [],
   "source": [
    "import pandas as pd\n",
    "# 모듈 로딩\n",
    "import torch"
   ],
   "metadata": {
    "collapsed": false,
    "ExecuteTime": {
     "end_time": "2024-03-12T06:03:24.560254Z",
     "start_time": "2024-03-12T06:03:23.639171Z"
    }
   },
   "id": "53548159947086b5",
   "execution_count": 1
  },
  {
   "cell_type": "code",
   "outputs": [],
   "source": [
    "# 텐서 데이터 생성\n",
    "torch.manual_seed(12)\n",
    "\n",
    "# 임의의 0<=x<1의 실수\n",
    "X=torch.rand(2,10)\n",
    "# 0<= x < 2 범위의 임의의 정수\n",
    "y=torch.randint(0,2,(10,))\n",
    "y2=torch.randint(0,2,(2,10))\n"
   ],
   "metadata": {
    "collapsed": false,
    "ExecuteTime": {
     "end_time": "2024-03-12T06:10:59.802283Z",
     "start_time": "2024-03-12T06:10:59.798857Z"
    }
   },
   "id": "1119981d251bbd6c",
   "execution_count": 26
  },
  {
   "cell_type": "code",
   "outputs": [],
   "source": [],
   "metadata": {
    "collapsed": false,
    "ExecuteTime": {
     "end_time": "2024-03-12T06:10:59.956340Z",
     "start_time": "2024-03-12T06:10:59.954206Z"
    }
   },
   "id": "955f8ae6ce038eb6",
   "execution_count": 26
  },
  {
   "cell_type": "code",
   "outputs": [
    {
     "name": "stdout",
     "output_type": "stream",
     "text": [
      "X => torch.Size([2, 10]), 2D\n",
      "y => torch.Size([10]), 1D\n",
      "y2 => torch.Size([2, 10]), 2D\n"
     ]
    }
   ],
   "source": [
    "print(f'X => {X.shape}, {X.ndim}D')\n",
    "print(f'y => {y.shape}, {y.ndim}D')\n",
    "print(f'y2 => {y2.shape}, {y2.ndim}D')\n"
   ],
   "metadata": {
    "collapsed": false,
    "ExecuteTime": {
     "end_time": "2024-03-12T06:11:00.101659Z",
     "start_time": "2024-03-12T06:11:00.097581Z"
    }
   },
   "id": "20f1949f90ca95e3",
   "execution_count": 27
  },
  {
   "cell_type": "code",
   "outputs": [
    {
     "name": "stdout",
     "output_type": "stream",
     "text": [
      "xy1 => torch.Size([2, 20]), 2D\n"
     ]
    }
   ],
   "source": [
    "# tensor 연결 cat([텐서1, 텐서2, ...])\n",
    "xy1 = torch.cat([X,y2], dim=1)\n",
    "torch.cat([X,y2], dim=0)\n",
    "print(f'xy1 => {xy1.shape}, {xy1.ndim}D')\n"
   ],
   "metadata": {
    "collapsed": false,
    "ExecuteTime": {
     "end_time": "2024-03-12T06:13:59.863535Z",
     "start_time": "2024-03-12T06:13:59.859989Z"
    }
   },
   "id": "56f5b93ae9f806f5",
   "execution_count": 31
  },
  {
   "cell_type": "code",
   "outputs": [
    {
     "name": "stdout",
     "output_type": "stream",
     "text": [
      "tensor([[1, 1, 0, 1, 1, 0, 0, 0, 0, 0],\n",
      "        [0, 0, 1, 1, 1, 1, 0, 0, 0, 0]])\n",
      "tensor([[0.4657, 0.2328, 0.4527, 0.5871, 0.4086, 0.1272, 0.6373, 0.2421, 0.7312,\n",
      "         0.7224],\n",
      "        [0.1992, 0.6948, 0.5830, 0.6318, 0.5559, 0.1262, 0.9790, 0.8443, 0.1256,\n",
      "         0.4456]])\n"
     ]
    }
   ],
   "source": [
    "print(y2)\n",
    "print(X)"
   ],
   "metadata": {
    "collapsed": false,
    "ExecuteTime": {
     "end_time": "2024-03-12T06:14:11.214916Z",
     "start_time": "2024-03-12T06:14:11.209719Z"
    }
   },
   "id": "d06af03f99725b25",
   "execution_count": 32
  },
  {
   "cell_type": "code",
   "outputs": [
    {
     "name": "stdout",
     "output_type": "stream",
     "text": [
      "tensor(2.5000)\n",
      "tensor([2., 3.])\n",
      "tensor([1.5000, 3.5000])\n"
     ]
    }
   ],
   "source": [
    "t = torch.FloatTensor([[1, 2], [3, 4]])\n",
    "print(t.mean())\n",
    "print(t.mean(dim=0))\n",
    "print(t.mean(dim=1))"
   ],
   "metadata": {
    "collapsed": false,
    "ExecuteTime": {
     "end_time": "2024-03-12T06:19:02.016924Z",
     "start_time": "2024-03-12T06:19:02.011162Z"
    }
   },
   "id": "15bbf106b7bb54f",
   "execution_count": 34
  },
  {
   "cell_type": "code",
   "outputs": [
    {
     "name": "stdout",
     "output_type": "stream",
     "text": [
      "tensor(4.)\n",
      "torch.return_types.max(\n",
      "values=tensor([3., 4.]),\n",
      "indices=tensor([1, 1]))\n"
     ]
    }
   ],
   "source": [
    "t = torch.FloatTensor([[1, 2], [3, 4]])\n",
    "print(t.max()) # Returns one value: max\n",
    "print(t.max(dim=0)) # Returns two values: max and argmax"
   ],
   "metadata": {
    "collapsed": false,
    "ExecuteTime": {
     "end_time": "2024-03-12T06:20:07.788716Z",
     "start_time": "2024-03-12T06:20:07.784793Z"
    }
   },
   "id": "5657c61169ef34d7",
   "execution_count": 35
  },
  {
   "cell_type": "code",
   "outputs": [
    {
     "data": {
      "text/plain": "torch.return_types.max(\nvalues=tensor([1., 1.]),\nindices=tensor([10, 12]))"
     },
     "execution_count": 41,
     "metadata": {},
     "output_type": "execute_result"
    }
   ],
   "source": [
    "xy1.max(dim=1)"
   ],
   "metadata": {
    "collapsed": false,
    "ExecuteTime": {
     "end_time": "2024-03-12T06:20:51.185705Z",
     "start_time": "2024-03-12T06:20:51.179371Z"
    }
   },
   "id": "fa654cbeec3fef83",
   "execution_count": 41
  },
  {
   "cell_type": "code",
   "outputs": [
    {
     "data": {
      "text/plain": "tensor([1., 1.])"
     },
     "execution_count": 38,
     "metadata": {},
     "output_type": "execute_result"
    }
   ],
   "source": [
    "max_value = xy1.max(dim=1)[0]\n",
    "max_value"
   ],
   "metadata": {
    "collapsed": false,
    "ExecuteTime": {
     "end_time": "2024-03-12T06:20:27.759947Z",
     "start_time": "2024-03-12T06:20:27.755198Z"
    }
   },
   "id": "e453c3bdfb12f68d",
   "execution_count": 38
  },
  {
   "cell_type": "code",
   "outputs": [
    {
     "data": {
      "text/plain": "tensor([10, 12])"
     },
     "execution_count": 40,
     "metadata": {},
     "output_type": "execute_result"
    }
   ],
   "source": [
    "max_index = xy1.max(dim=1)[1]\n",
    "max_index"
   ],
   "metadata": {
    "collapsed": false,
    "ExecuteTime": {
     "end_time": "2024-03-12T06:20:39.792483Z",
     "start_time": "2024-03-12T06:20:39.788109Z"
    }
   },
   "id": "487e20215eefe5ba",
   "execution_count": 40
  },
  {
   "cell_type": "code",
   "outputs": [
    {
     "data": {
      "text/plain": "    A   B   C\n0  10  20  30\n1  11  22  33",
      "text/html": "<div>\n<style scoped>\n    .dataframe tbody tr th:only-of-type {\n        vertical-align: middle;\n    }\n\n    .dataframe tbody tr th {\n        vertical-align: top;\n    }\n\n    .dataframe thead th {\n        text-align: right;\n    }\n</style>\n<table border=\"1\" class=\"dataframe\">\n  <thead>\n    <tr style=\"text-align: right;\">\n      <th></th>\n      <th>A</th>\n      <th>B</th>\n      <th>C</th>\n    </tr>\n  </thead>\n  <tbody>\n    <tr>\n      <th>0</th>\n      <td>10</td>\n      <td>20</td>\n      <td>30</td>\n    </tr>\n    <tr>\n      <th>1</th>\n      <td>11</td>\n      <td>22</td>\n      <td>33</td>\n    </tr>\n  </tbody>\n</table>\n</div>"
     },
     "execution_count": 45,
     "metadata": {},
     "output_type": "execute_result"
    }
   ],
   "source": [
    "# 열 단위로 최대값 및 최대값의 인덱스\n",
    "import pandas as pd\n",
    "data = pd.DataFrame({'A':[10,11], 'B':[20,22], 'C':[30,33]})\n",
    "data"
   ],
   "metadata": {
    "collapsed": false,
    "ExecuteTime": {
     "end_time": "2024-03-12T06:28:58.937659Z",
     "start_time": "2024-03-12T06:28:58.930734Z"
    }
   },
   "id": "f28d38ff4859943",
   "execution_count": 45
  },
  {
   "cell_type": "code",
   "outputs": [
    {
     "data": {
      "text/plain": "A    11\nB    22\nC    33\ndtype: int64"
     },
     "execution_count": 49,
     "metadata": {},
     "output_type": "execute_result"
    }
   ],
   "source": [
    "data.max() # 디폴트가 0"
   ],
   "metadata": {
    "collapsed": false,
    "ExecuteTime": {
     "end_time": "2024-03-12T06:29:16.221857Z",
     "start_time": "2024-03-12T06:29:16.216332Z"
    }
   },
   "id": "5e2b36444c0a8006",
   "execution_count": 49
  },
  {
   "cell_type": "code",
   "outputs": [
    {
     "data": {
      "text/plain": "A    11\nB    22\nC    33\ndtype: int64"
     },
     "execution_count": 50,
     "metadata": {},
     "output_type": "execute_result"
    }
   ],
   "source": [
    "data.max(axis=0)"
   ],
   "metadata": {
    "collapsed": false,
    "ExecuteTime": {
     "end_time": "2024-03-12T06:29:16.373883Z",
     "start_time": "2024-03-12T06:29:16.369248Z"
    }
   },
   "id": "9d178a061a1bce03",
   "execution_count": 50
  },
  {
   "cell_type": "code",
   "outputs": [
    {
     "data": {
      "text/plain": "0    30\n1    33\ndtype: int64"
     },
     "execution_count": 51,
     "metadata": {},
     "output_type": "execute_result"
    }
   ],
   "source": [
    "data.max(axis=1)"
   ],
   "metadata": {
    "collapsed": false,
    "ExecuteTime": {
     "end_time": "2024-03-12T06:29:20.109214Z",
     "start_time": "2024-03-12T06:29:20.103505Z"
    }
   },
   "id": "2327e3c51a272686",
   "execution_count": 51
  },
  {
   "cell_type": "markdown",
   "source": [
    "## Tensor 차원/형태 변경"
   ],
   "metadata": {
    "collapsed": false
   },
   "id": "e5b525c49d2a479c"
  },
  {
   "cell_type": "code",
   "outputs": [
    {
     "name": "stdout",
     "output_type": "stream",
     "text": [
      "t1 => torch.Size([1, 3, 2]), 3D\n"
     ]
    }
   ],
   "source": [
    "t1 = torch.tensor([[[1,2],[11,22],[44,55]]])\n",
    "print(f't1 => {t1.shape}, {t1.ndim}D')"
   ],
   "metadata": {
    "collapsed": false,
    "ExecuteTime": {
     "end_time": "2024-03-12T06:38:13.365162Z",
     "start_time": "2024-03-12T06:38:13.361626Z"
    }
   },
   "id": "cacabd1ae90d9fbd",
   "execution_count": 54
  },
  {
   "cell_type": "code",
   "outputs": [
    {
     "name": "stdout",
     "output_type": "stream",
     "text": [
      "t11 => torch.Size([2, 3, 1]), 3D\n"
     ]
    }
   ],
   "source": [
    "# 2개의 차원을 변경하는 메서드\n",
    "t11 = t1.transpose(0,2) # 0번째의 1과 2번째의 2를 자리 바꿈, transpose는 두개만 가능\n",
    "print(f't11 => {t11.shape}, {t11.ndim}D')\n"
   ],
   "metadata": {
    "collapsed": false,
    "ExecuteTime": {
     "end_time": "2024-03-12T06:39:54.303611Z",
     "start_time": "2024-03-12T06:39:54.298022Z"
    }
   },
   "id": "b001d89153ad672e",
   "execution_count": 57
  },
  {
   "cell_type": "code",
   "outputs": [
    {
     "name": "stdout",
     "output_type": "stream",
     "text": [
      "t22 => torch.Size([3, 2, 1]), 3D\n"
     ]
    }
   ],
   "source": [
    "# 2개의 차원을 변경하는 메서드\n",
    "t22 = t1.permute(1,2,0) # 1번째의 3, 2번째의 1, 0번째의 2 순서대로 배치 하라\n",
    "print(f't22 => {t22.shape}, {t22.ndim}D')\n"
   ],
   "metadata": {
    "collapsed": false,
    "ExecuteTime": {
     "end_time": "2024-03-12T06:41:02.791078Z",
     "start_time": "2024-03-12T06:41:02.782942Z"
    }
   },
   "id": "a59081de7e2f3f1e",
   "execution_count": 58
  },
  {
   "cell_type": "code",
   "outputs": [
    {
     "data": {
      "text/plain": "torch.Size([1, 1, 3, 2])"
     },
     "execution_count": 59,
     "metadata": {},
     "output_type": "execute_result"
    }
   ],
   "source": [
    "t1[None].shape # 텐서플로는 비정형 데이터를 None으로 표기 가능"
   ],
   "metadata": {
    "collapsed": false,
    "ExecuteTime": {
     "end_time": "2024-03-12T06:47:34.574110Z",
     "start_time": "2024-03-12T06:47:34.570223Z"
    }
   },
   "id": "84919685fae5e29",
   "execution_count": 59
  },
  {
   "cell_type": "code",
   "outputs": [],
   "source": [],
   "metadata": {
    "collapsed": false
   },
   "id": "d5030ab8ca4e5c5a"
  }
 ],
 "metadata": {
  "kernelspec": {
   "display_name": "Python 3",
   "language": "python",
   "name": "python3"
  },
  "language_info": {
   "codemirror_mode": {
    "name": "ipython",
    "version": 2
   },
   "file_extension": ".py",
   "mimetype": "text/x-python",
   "name": "python",
   "nbconvert_exporter": "python",
   "pygments_lexer": "ipython2",
   "version": "2.7.6"
  }
 },
 "nbformat": 4,
 "nbformat_minor": 5
}
