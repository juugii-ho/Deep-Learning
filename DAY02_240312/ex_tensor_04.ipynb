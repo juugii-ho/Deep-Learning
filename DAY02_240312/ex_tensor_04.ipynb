{
 "cells": [
  {
   "cell_type": "markdown",
   "source": [
    "## Tensor shape 변경\n",
    "- reshape(), view() : 원소 갯수가 유지됨!, 기존 텐서 공유함"
   ],
   "metadata": {
    "collapsed": false
   },
   "id": "25bc101114b17991"
  },
  {
   "cell_type": "code",
   "outputs": [],
   "source": [
    "# 모듈 로딩\n",
    "import torch"
   ],
   "metadata": {
    "collapsed": false,
    "ExecuteTime": {
     "end_time": "2024-03-12T04:30:24.418479Z",
     "start_time": "2024-03-12T04:30:23.673232Z"
    }
   },
   "id": "8770f043b6bb2f4d",
   "execution_count": 1
  },
  {
   "cell_type": "code",
   "outputs": [
    {
     "name": "stdout",
     "output_type": "stream",
     "text": [
      "torch.Size([2, 3]) 2\n",
      "tensor([[1, 2, 3],\n",
      "        [4, 5, 6]])\n"
     ]
    }
   ],
   "source": [
    "# 텐서 데이터 생성\n",
    "t1 = torch.tensor([[1,2,3], [4,5,6]])\n",
    "\n",
    "print(t1.shape, t1.ndim)\n",
    "print(t1)"
   ],
   "metadata": {
    "collapsed": false,
    "ExecuteTime": {
     "end_time": "2024-03-12T04:32:48.982427Z",
     "start_time": "2024-03-12T04:32:48.980716Z"
    }
   },
   "id": "93a2df9a36e35b3f",
   "execution_count": 5
  },
  {
   "cell_type": "code",
   "outputs": [
    {
     "data": {
      "text/plain": "tensor([[1, 2],\n        [3, 4],\n        [5, 6]])"
     },
     "execution_count": 4,
     "metadata": {},
     "output_type": "execute_result"
    }
   ],
   "source": [
    "# [2,3] ==> [3,2] 형태 변경 : 원소 수 동일 6개\n",
    "t1.view(3,2) # 읽는 갯수를 조절함, 원본 안 바뀜"
   ],
   "metadata": {
    "collapsed": false,
    "ExecuteTime": {
     "end_time": "2024-03-12T04:32:30.270143Z",
     "start_time": "2024-03-12T04:32:30.246974Z"
    }
   },
   "id": "de5324b67708fb0a",
   "execution_count": 4
  },
  {
   "cell_type": "code",
   "outputs": [
    {
     "data": {
      "text/plain": "tensor([[1],\n        [2],\n        [3],\n        [4],\n        [5],\n        [6]])"
     },
     "execution_count": 9,
     "metadata": {},
     "output_type": "execute_result"
    }
   ],
   "source": [
    "# [2,3] ==> [3,2] 형태 변경 : 원소 수 동일 6개\n",
    "t1.view(6,1) # 읽는 갯수를 조절함"
   ],
   "metadata": {
    "collapsed": false,
    "ExecuteTime": {
     "end_time": "2024-03-12T04:34:14.425483Z",
     "start_time": "2024-03-12T04:34:14.423165Z"
    }
   },
   "id": "a08779082d8a94fa",
   "execution_count": 9
  },
  {
   "cell_type": "code",
   "outputs": [
    {
     "data": {
      "text/plain": "tensor([[1],\n        [2],\n        [3],\n        [4],\n        [5],\n        [6]])"
     },
     "execution_count": 10,
     "metadata": {},
     "output_type": "execute_result"
    }
   ],
   "source": [
    "t1.view(-1,1) # -1은 원소의 갯수 보고 알아서 지정해라"
   ],
   "metadata": {
    "collapsed": false,
    "ExecuteTime": {
     "end_time": "2024-03-12T04:38:01.078715Z",
     "start_time": "2024-03-12T04:38:01.075255Z"
    }
   },
   "id": "a9238a5cd8c5af1",
   "execution_count": 10
  },
  {
   "cell_type": "code",
   "outputs": [
    {
     "data": {
      "text/plain": "tensor([[1, 2, 3, 4, 5, 6]])"
     },
     "execution_count": 11,
     "metadata": {},
     "output_type": "execute_result"
    }
   ],
   "source": [
    "t1.view(1,-1)"
   ],
   "metadata": {
    "collapsed": false,
    "ExecuteTime": {
     "end_time": "2024-03-12T04:38:14.588706Z",
     "start_time": "2024-03-12T04:38:14.585008Z"
    }
   },
   "id": "4a58271808c1da54",
   "execution_count": 11
  },
  {
   "cell_type": "code",
   "outputs": [
    {
     "data": {
      "text/plain": "tensor([[1, 2, 3],\n        [4, 5, 6]])"
     },
     "execution_count": 14,
     "metadata": {},
     "output_type": "execute_result"
    }
   ],
   "source": [
    "# tensor.reshape()\n",
    "t1.reshape(-1,3)"
   ],
   "metadata": {
    "collapsed": false,
    "ExecuteTime": {
     "end_time": "2024-03-12T04:41:46.682352Z",
     "start_time": "2024-03-12T04:41:46.679084Z"
    }
   },
   "id": "a0d8fd0e86e5cbaf",
   "execution_count": 14
  },
  {
   "cell_type": "code",
   "outputs": [
    {
     "ename": "RuntimeError",
     "evalue": "shape '[-1, 7]' is invalid for input of size 6",
     "output_type": "error",
     "traceback": [
      "\u001B[0;31m---------------------------------------------------------------------------\u001B[0m",
      "\u001B[0;31mRuntimeError\u001B[0m                              Traceback (most recent call last)",
      "Cell \u001B[0;32mIn[18], line 2\u001B[0m\n\u001B[1;32m      1\u001B[0m \u001B[38;5;66;03m# 원소 수 유지되어야 함 !\u001B[39;00m\n\u001B[0;32m----> 2\u001B[0m \u001B[43mt1\u001B[49m\u001B[38;5;241;43m.\u001B[39;49m\u001B[43mreshape\u001B[49m\u001B[43m(\u001B[49m\u001B[38;5;241;43m-\u001B[39;49m\u001B[38;5;241;43m1\u001B[39;49m\u001B[43m,\u001B[49m\u001B[38;5;241;43m7\u001B[39;49m\u001B[43m)\u001B[49m\n",
      "\u001B[0;31mRuntimeError\u001B[0m: shape '[-1, 7]' is invalid for input of size 6"
     ]
    }
   ],
   "source": [
    "# 원소 수 유지되어야 함 !\n",
    "t1.reshape(-1,7) # shape '[-1, 7]' is invalid for input of size 6"
   ],
   "metadata": {
    "collapsed": false,
    "ExecuteTime": {
     "end_time": "2024-03-12T04:43:47.085114Z",
     "start_time": "2024-03-12T04:43:47.076045Z"
    }
   },
   "id": "ea2dd91dbda7d53f",
   "execution_count": 18
  },
  {
   "cell_type": "markdown",
   "source": [
    "- 전치 : 열 <-> 형 변경"
   ],
   "metadata": {
    "collapsed": false
   },
   "id": "91ff3932c9751def"
  },
  {
   "cell_type": "code",
   "outputs": [
    {
     "name": "stdout",
     "output_type": "stream",
     "text": [
      "torch.Size([2, 3])\n",
      "torch.Size([3, 2])\n"
     ]
    }
   ],
   "source": [
    "print(t1.shape)\n",
    "t2=t1.T\n",
    "print(t2.shape)"
   ],
   "metadata": {
    "collapsed": false,
    "ExecuteTime": {
     "end_time": "2024-03-12T04:44:23.509673Z",
     "start_time": "2024-03-12T04:44:23.507796Z"
    }
   },
   "id": "29cdfe5b8aabce4a",
   "execution_count": 19
  },
  {
   "cell_type": "code",
   "outputs": [
    {
     "ename": "RuntimeError",
     "evalue": "view size is not compatible with input tensor's size and stride (at least one dimension spans across two contiguous subspaces). Use .reshape(...) instead.",
     "output_type": "error",
     "traceback": [
      "\u001B[0;31m---------------------------------------------------------------------------\u001B[0m",
      "\u001B[0;31mRuntimeError\u001B[0m                              Traceback (most recent call last)",
      "Cell \u001B[0;32mIn[23], line 1\u001B[0m\n\u001B[0;32m----> 1\u001B[0m \u001B[43mt2\u001B[49m\u001B[38;5;241;43m.\u001B[39;49m\u001B[43mview\u001B[49m\u001B[43m(\u001B[49m\u001B[38;5;241;43m-\u001B[39;49m\u001B[38;5;241;43m1\u001B[39;49m\u001B[43m,\u001B[49m\u001B[38;5;241;43m6\u001B[39;49m\u001B[43m)\u001B[49m\n",
      "\u001B[0;31mRuntimeError\u001B[0m: view size is not compatible with input tensor's size and stride (at least one dimension spans across two contiguous subspaces). Use .reshape(...) instead."
     ]
    }
   ],
   "source": [
    "t2.view(-1,6)"
   ],
   "metadata": {
    "collapsed": false,
    "ExecuteTime": {
     "end_time": "2024-03-12T04:44:52.901335Z",
     "start_time": "2024-03-12T04:44:52.888738Z"
    }
   },
   "id": "f16fd9ee0634b5a5",
   "execution_count": 23
  },
  {
   "cell_type": "code",
   "outputs": [],
   "source": [
    "t1.matmul()"
   ],
   "metadata": {
    "collapsed": false
   },
   "id": "7742092dba68bdad"
  },
  {
   "cell_type": "code",
   "outputs": [
    {
     "name": "stdout",
     "output_type": "stream",
     "text": [
      "Shape of Matrix 1:  torch.Size([2, 2])\n",
      "Shape of Matrix 2:  torch.Size([2, 1])\n",
      "tensor([[ 5.],\n",
      "        [11.]])\n",
      "torch.Size([2, 1])\n"
     ]
    }
   ],
   "source": [
    "m1 = torch.FloatTensor([[1, 2], [3, 4]])\n",
    "m2 = torch.FloatTensor([[1], [2]])\n",
    "print('Shape of Matrix 1: ', m1.shape)\n",
    "print('Shape of Matrix 2: ', m2.shape)\n",
    "m12= m1.matmul( m2 )\n",
    "print(m12)\n",
    "print( m12.shape)"
   ],
   "metadata": {
    "collapsed": false,
    "ExecuteTime": {
     "end_time": "2024-03-12T04:41:14.605566Z",
     "start_time": "2024-03-12T04:41:14.603064Z"
    }
   },
   "id": "9adda4895fa11af",
   "execution_count": 13
  },
  {
   "cell_type": "code",
   "outputs": [],
   "source": [
    "# view size is not compatible with input tensor's size and stride\n",
    "# t2.view(-1,6)"
   ],
   "metadata": {
    "collapsed": false,
    "ExecuteTime": {
     "end_time": "2024-03-12T04:47:59.539946Z",
     "start_time": "2024-03-12T04:47:59.537126Z"
    }
   },
   "id": "72d9d234c96d9361",
   "execution_count": 25
  },
  {
   "cell_type": "code",
   "outputs": [
    {
     "name": "stdout",
     "output_type": "stream",
     "text": [
      "tensor([[1, 4, 2, 5, 3, 6]]) True\n"
     ]
    }
   ],
   "source": [
    "t3 = t2.reshape(-1,6)\n",
    "print(t3, t3.is_contiguous())"
   ],
   "metadata": {
    "collapsed": false,
    "ExecuteTime": {
     "end_time": "2024-03-12T04:48:09.218438Z",
     "start_time": "2024-03-12T04:48:09.215338Z"
    }
   },
   "id": "8c1f8db88595de42",
   "execution_count": 27
  },
  {
   "cell_type": "markdown",
   "source": [
    "### 텐서 데이터의 메모리 저장 정보 즉 메타데이터\n",
    "- 현재 저장 형태, 검색 방향 정보, 시작 정보"
   ],
   "metadata": {
    "collapsed": false
   },
   "id": "f3a020ec086cd408"
  },
  {
   "cell_type": "code",
   "outputs": [
    {
     "name": "stdout",
     "output_type": "stream",
     "text": [
      "torch.Size([2, 3]) 2\n",
      "t1.storage() = >  1\n",
      " 2\n",
      " 3\n",
      " 4\n",
      " 5\n",
      " 6\n",
      "[torch.storage.TypedStorage(dtype=torch.int64, device=cpu) of size 6]\n",
      "t1.storage_offset() = > 0\n",
      "t1.stride() = > (3, 1)\n",
      "t1.is_contiguous() = > True\n"
     ]
    }
   ],
   "source": [
    "t1 = torch.tensor([[1,2,3], [4,5,6]])\n",
    "print( t1.shape, t1.ndim)\n",
    "print( f't1.storage() = > {t1.storage()}')\n",
    "print( f't1.storage_offset() = > {t1.storage_offset()}')\n",
    "print( f't1.stride() = > {t1.stride()}')\n",
    "print( f't1.is_contiguous() = > {t1.is_contiguous()}')\n"
   ],
   "metadata": {
    "collapsed": false,
    "ExecuteTime": {
     "end_time": "2024-03-12T04:58:55.588183Z",
     "start_time": "2024-03-12T04:58:55.583547Z"
    }
   },
   "id": "bf48f56aefe2144c",
   "execution_count": 29
  },
  {
   "cell_type": "code",
   "outputs": [
    {
     "name": "stdout",
     "output_type": "stream",
     "text": [
      "torch.Size([2, 3]) 2\n",
      "t2.storage() = >  1\n",
      " 2\n",
      " 3\n",
      " 4\n",
      " 5\n",
      " 6\n",
      "[torch.storage.TypedStorage(dtype=torch.int64, device=cpu) of size 6]\n",
      "t2.storage_offset() = > 0\n",
      "t2.stride() = > (2, 1)\n",
      "t2.is_contiguous() = > True\n"
     ]
    }
   ],
   "source": [
    "t2 =t1.view(-1,2)\n",
    "print( t1.shape, t1.ndim)\n",
    "print( f't2.storage() = > {t2.storage()}')\n",
    "print( f't2.storage_offset() = > {t2.storage_offset()}')\n",
    "print( f't2.stride() = > {t2.stride()}')\n",
    "print( f't2.is_contiguous() = > {t2.is_contiguous()}')\n"
   ],
   "metadata": {
    "collapsed": false,
    "ExecuteTime": {
     "end_time": "2024-03-12T05:00:54.142143Z",
     "start_time": "2024-03-12T05:00:54.140140Z"
    }
   },
   "id": "ff186d51b0973861",
   "execution_count": 30
  },
  {
   "cell_type": "markdown",
   "source": [
    "### 차원 제거/추가\n",
    "- tensor.squeeze() : 텐서에서 차원이 1인 것 제거\n",
    "- tensor.unsqueeze(dim) : 텐서에서 차원이 1인 것 추가"
   ],
   "metadata": {
    "collapsed": false
   },
   "id": "eb12cef3e261b1f9"
  },
  {
   "cell_type": "code",
   "outputs": [],
   "source": [
    "# 데이터 생성\n",
    "t1=torch.tensor([[1,2],[3,4]])\n",
    "t2=torch.tensor([[1,2,3,4]])\n",
    "t3=torch.tensor([[[1,1,4]]])"
   ],
   "metadata": {
    "collapsed": false,
    "ExecuteTime": {
     "end_time": "2024-03-12T05:44:31.318275Z",
     "start_time": "2024-03-12T05:44:31.312463Z"
    }
   },
   "id": "69f1a633983e91b8",
   "execution_count": 38
  },
  {
   "cell_type": "code",
   "outputs": [
    {
     "name": "stdout",
     "output_type": "stream",
     "text": [
      "t1 => torch.Size([2, 2]), 2D\n",
      "t2 => torch.Size([1, 4]), 2D\n",
      "t3 => torch.Size([1, 1, 3]), 3D\n"
     ]
    }
   ],
   "source": [
    "print(f't1 => {t1.shape}, {t1.ndim}D')\n",
    "print(f't2 => {t2.shape}, {t2.ndim}D')\n",
    "print(f't3 => {t3.shape}, {t3.ndim}D')\n"
   ],
   "metadata": {
    "collapsed": false,
    "ExecuteTime": {
     "end_time": "2024-03-12T05:44:31.574208Z",
     "start_time": "2024-03-12T05:44:31.570292Z"
    }
   },
   "id": "bda26f46bf90d7df",
   "execution_count": 39
  },
  {
   "cell_type": "code",
   "outputs": [
    {
     "name": "stdout",
     "output_type": "stream",
     "text": [
      "t1 차원 축소 => torch.Size([2, 2]), 2D\n",
      "t2 차원 축소 => torch.Size([4]), 1D\n",
      "t3 차원 축소 => torch.Size([3]), 1D\n",
      "t3 차원 축소 => torch.Size([1, 3]), 2D\n"
     ]
    }
   ],
   "source": [
    "t11=t1.squeeze()\n",
    "t22=t2.squeeze()\n",
    "t33=t3.squeeze()\n",
    "t44=t3.squeeze(dim=0)\n",
    "\n",
    "\n",
    "print(f't1 차원 축소 => {t11.shape}, {t11.ndim}D') # 1차원인 것만 전체 제거\n",
    "print(f't2 차원 축소 => {t22.shape}, {t22.ndim}D') # 1차원인 것만 전체 제거\n",
    "print(f't3 차원 축소 => {t33.shape}, {t33.ndim}D') # 1차원인 것만 전체 제거\n",
    "print(f't3 차원 축소 => {t44.shape}, {t44.ndim}D') # dim=0, 0번 차원이 1이면 축소\n"
   ],
   "metadata": {
    "collapsed": false,
    "ExecuteTime": {
     "end_time": "2024-03-12T05:54:14.947404Z",
     "start_time": "2024-03-12T05:54:14.944121Z"
    }
   },
   "id": "1206d7a825f67f41",
   "execution_count": 45
  },
  {
   "cell_type": "code",
   "outputs": [
    {
     "name": "stdout",
     "output_type": "stream",
     "text": [
      "t1 정보 => torch.Size([2, 2]), 2D, 5764958720, (2, 1)\n"
     ]
    }
   ],
   "source": [
    "## 원소/요소 수 변경 없이 차원 한 차원 증가 시키기 => torch.unsqueeze()\n",
    "t1.shape\n",
    "print(f't1 정보 => {t1.shape}, {t1.ndim}D, {t1.data_ptr()}, {t1.stride()}')\n"
   ],
   "metadata": {
    "collapsed": false,
    "ExecuteTime": {
     "end_time": "2024-03-12T05:57:40.492422Z",
     "start_time": "2024-03-12T05:57:40.488354Z"
    }
   },
   "id": "2f34db8eceb8792a",
   "execution_count": 52
  },
  {
   "cell_type": "code",
   "outputs": [
    {
     "name": "stdout",
     "output_type": "stream",
     "text": [
      "t1 => tensor([[1, 2],\n",
      "        [3, 4]])\n",
      "t11 => tensor([[[1, 2],\n",
      "         [3, 4]]])\n",
      "t22 => tensor([[[1],\n",
      "         [2]],\n",
      "\n",
      "        [[3],\n",
      "         [4]]])\n",
      "t1 0번째 차원 추가 => torch.Size([1, 2, 2]), 3D, 5764958720, (4, 2, 1)\n",
      "t1 1번째 차원 추가 => torch.Size([2, 2, 1]), 3D, 5764958720, (2, 1, 1)\n"
     ]
    }
   ],
   "source": [
    "t11=t1.unsqueeze(dim=0)\n",
    "t22=t1.unsqueeze(dim=-1)\n",
    "\n",
    "print(f't1 => {t1}')\n",
    "print(f't11 => {t11}')\n",
    "print(f't22 => {t22}')\n",
    "\n",
    "print(f't1 0번째 차원 추가 => {t11.shape}, {t11.ndim}D, {t11.data_ptr()}, {t11.stride()}')\n",
    "print(f't1 1번째 차원 추가 => {t22.shape}, {t22.ndim}D, {t22.data_ptr()}, {t22.stride()}')\n"
   ],
   "metadata": {
    "collapsed": false,
    "ExecuteTime": {
     "end_time": "2024-03-12T05:59:11.342370Z",
     "start_time": "2024-03-12T05:59:11.338954Z"
    }
   },
   "id": "a278e73b122b6a9c",
   "execution_count": 61
  },
  {
   "cell_type": "code",
   "outputs": [],
   "source": [],
   "metadata": {
    "collapsed": false
   },
   "id": "5405ad51106e9c2f"
  }
 ],
 "metadata": {
  "kernelspec": {
   "display_name": "Python 3",
   "language": "python",
   "name": "python3"
  },
  "language_info": {
   "codemirror_mode": {
    "name": "ipython",
    "version": 2
   },
   "file_extension": ".py",
   "mimetype": "text/x-python",
   "name": "python",
   "nbconvert_exporter": "python",
   "pygments_lexer": "ipython2",
   "version": "2.7.6"
  }
 },
 "nbformat": 4,
 "nbformat_minor": 5
}
