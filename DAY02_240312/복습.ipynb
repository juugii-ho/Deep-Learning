{
 "cells": [
  {
   "cell_type": "markdown",
   "source": [
    "### 텐서(Tensor) 살펴보기\n",
    "- Pytorch에서 데이터 저장 자료형\n",
    "- 모델 입력(input), 출력(output) 데이터 형태\n"
   ],
   "metadata": {
    "collapsed": false
   },
   "id": "da50386e18476a15"
  },
  {
   "cell_type": "code",
   "outputs": [],
   "source": [
    "import torch"
   ],
   "metadata": {
    "collapsed": false,
    "ExecuteTime": {
     "end_time": "2024-03-12T07:40:05.395822Z",
     "start_time": "2024-03-12T07:40:04.452280Z"
    }
   },
   "id": "dcc4d5b11f2648bb",
   "execution_count": 2
  },
  {
   "cell_type": "markdown",
   "source": [
    "### 텐서 매개변수\n",
    "- .shape, .ndim, .dtype, .device, .requires_grad, .data\n",
    "- .requires_grad 미분 가능 여부\n",
    "- .data 실제 데이터 보기"
   ],
   "metadata": {
    "collapsed": false
   },
   "id": "1b09c518924be480"
  },
  {
   "cell_type": "code",
   "outputs": [
    {
     "name": "stdout",
     "output_type": "stream",
     "text": [
      "[Tensor t1's Attribute ]\n",
      " - tensor.shape : torch.Size([10])\n",
      " - tensor.ndim : 1D\n",
      " - tensor.dtype : torch.int32\n",
      " - tensor.device : cpu\n",
      " - tensor.requires_grad : False\n",
      " - tensor.data \n",
      " tensor([0, 0, 0, 0, 0, 0, 0, 0, 0, 0], dtype=torch.int32)\n"
     ]
    }
   ],
   "source": [
    "# 매개변수 : 텐서 인스턴스, 텐서 변수명\n",
    "def print_attribute(tensor, name):\n",
    "    print(f'[Tensor {name}\\'s Attribute ]')\n",
    "    print(f' - tensor.shape : {tensor.shape}')\n",
    "    print(f' - tensor.ndim : {tensor.ndim}D')\n",
    "    print(f' - tensor.dtype : {tensor.dtype}')\n",
    "    print(f' - tensor.device : {tensor.device}')\n",
    "    print(f' - tensor.requires_grad : {tensor.requires_grad}')\n",
    "    print(f' - tensor.data \\n {tensor.data}')\n",
    "t1 = torch.IntTensor(10)\n",
    "print_attribute(t1, 't1')"
   ],
   "metadata": {
    "collapsed": false,
    "ExecuteTime": {
     "end_time": "2024-03-12T07:40:05.407320Z",
     "start_time": "2024-03-12T07:40:05.394951Z"
    }
   },
   "id": "6338ff81ae7e8a28",
   "execution_count": 3
  },
  {
   "cell_type": "markdown",
   "source": [
    "- Tensor 생성 (1) 특정 데이터 타입의 텐서 생성\n",
    "    - 타입별 텐서 클래스 생성자 활용\n",
    "    - 예) IntTensor(), FloatTensor(), BoolTensor()"
   ],
   "metadata": {
    "collapsed": false
   },
   "id": "a2e2da68e443f421"
  },
  {
   "cell_type": "code",
   "outputs": [
    {
     "name": "stdout",
     "output_type": "stream",
     "text": [
      "[Tensor t1's Attribute ]\n",
      " - tensor.shape : torch.Size([10])\n",
      " - tensor.ndim : 1D\n",
      " - tensor.dtype : torch.int32\n",
      " - tensor.device : cpu\n",
      " - tensor.requires_grad : False\n",
      " - tensor.data \n",
      " tensor([0, 0, 0, 0, 0, 0, 0, 0, 0, 0], dtype=torch.int32)\n",
      "[Tensor t2's Attribute ]\n",
      " - tensor.shape : torch.Size([])\n",
      " - tensor.ndim : 0D\n",
      " - tensor.dtype : torch.float32\n",
      " - tensor.device : cpu\n",
      " - tensor.requires_grad : False\n",
      " - tensor.data \n",
      " 10.0\n"
     ]
    }
   ],
   "source": [
    "t1 = torch.IntTensor(10)\n",
    "t2 = torch.tensor(10.) # 자동으로 타입분류\n",
    "print_attribute(t1,'t1')\n",
    "print_attribute(t2, 't2')"
   ],
   "metadata": {
    "collapsed": false,
    "ExecuteTime": {
     "end_time": "2024-03-12T07:40:05.411317Z",
     "start_time": "2024-03-12T07:40:05.405762Z"
    }
   },
   "id": "64241556a3f6716f",
   "execution_count": 4
  },
  {
   "cell_type": "markdown",
   "source": [
    "- Tensor 생성(2) 원하는 값으로 텐서 생성 => torch.tensor()"
   ],
   "metadata": {
    "collapsed": false
   },
   "id": "1f7e1fe6e73c45e9"
  },
  {
   "cell_type": "code",
   "outputs": [
    {
     "name": "stdout",
     "output_type": "stream",
     "text": [
      "[Tensor t1's Attribute ]\n",
      " - tensor.shape : torch.Size([])\n",
      " - tensor.ndim : 0D\n",
      " - tensor.dtype : torch.int32\n",
      " - tensor.device : cpu\n",
      " - tensor.requires_grad : False\n",
      " - tensor.data \n",
      " 10\n"
     ]
    },
    {
     "name": "stderr",
     "output_type": "stream",
     "text": [
      "/var/folders/9y/lpn0hjmn5csct06t4_r5qtjr0000gn/T/ipykernel_34040/728258258.py:2: DeprecationWarning: an integer is required (got type float).  Implicit conversion to integers using __int__ is deprecated, and may be removed in a future version of Python.\n",
      "  t1 = torch.tensor(10., dtype=torch.int32)\n"
     ]
    }
   ],
   "source": [
    "# dtype 매개변수 : 원하는 데이터 타입 지정 가능\n",
    "t1 = torch.tensor(10., dtype=torch.int32)\n",
    "print_attribute(t1,'t1')\n"
   ],
   "metadata": {
    "collapsed": false,
    "ExecuteTime": {
     "end_time": "2024-03-12T07:40:05.415221Z",
     "start_time": "2024-03-12T07:40:05.411561Z"
    }
   },
   "id": "aae3c10e60e38a02",
   "execution_count": 5
  },
  {
   "cell_type": "markdown",
   "source": [
    "- Tensor 생성 (3) 특정 값으로 채운 텐서 => 0,1 등의 값\n",
    "    - .zeros, .ones, .zeros_like(), .ones_like(), .full_like()\n",
    "    - .zeros_like(), .ones_like() 동일한 크기의 텐서의 값을 전부 0 or 1로 바꿈\n",
    "    - .full_like(a,b) a 크기와 같은 텐서의 값을 모두 b로 바꿈"
   ],
   "metadata": {
    "collapsed": false
   },
   "id": "fb2638574e390af4"
  },
  {
   "cell_type": "code",
   "outputs": [
    {
     "name": "stdout",
     "output_type": "stream",
     "text": [
      "[Tensor t1's Attribute ]\n",
      " - tensor.shape : torch.Size([5, 5])\n",
      " - tensor.ndim : 2D\n",
      " - tensor.dtype : torch.int8\n",
      " - tensor.device : cpu\n",
      " - tensor.requires_grad : False\n",
      " - tensor.data \n",
      " tensor([[0, 0, 0, 0, 0],\n",
      "        [0, 0, 0, 0, 0],\n",
      "        [0, 0, 0, 0, 0],\n",
      "        [0, 0, 0, 0, 0],\n",
      "        [0, 0, 0, 0, 0]], dtype=torch.int8)\n"
     ]
    }
   ],
   "source": [
    "t1 = torch.zeros((5,5), dtype=torch.int8)     \n",
    "print_attribute(t1,'t1')"
   ],
   "metadata": {
    "collapsed": false,
    "ExecuteTime": {
     "end_time": "2024-03-12T07:40:05.550146Z",
     "start_time": "2024-03-12T07:40:05.541728Z"
    }
   },
   "id": "a3ba48ef7d9a34f3",
   "execution_count": 6
  },
  {
   "cell_type": "code",
   "outputs": [],
   "source": [],
   "metadata": {
    "collapsed": false
   },
   "id": "1a836bd48eceadba"
  },
  {
   "cell_type": "markdown",
   "source": [
    "- Tensor 생성 방법 (4) : 임의의 값으로 Tensor 생성 => torch.rand(), torch.randn(), torch.randint()"
   ],
   "metadata": {
    "collapsed": false
   },
   "id": "c9b173b8a49b722a"
  },
  {
   "cell_type": "code",
   "outputs": [
    {
     "name": "stdout",
     "output_type": "stream",
     "text": [
      "tensor([[0.4657, 0.2328, 0.4527],\n",
      "        [0.5871, 0.4086, 0.1272]])\n",
      "tensor([[ 1.5869,  1.1268, -1.2274],\n",
      "        [-0.8216, -1.7861,  0.6167]])\n",
      "tensor([[8, 4, 6],\n",
      "        [2, 2, 2]])\n"
     ]
    }
   ],
   "source": [
    "torch.manual_seed(12)\n",
    "\n",
    "# 0<= x <1 임의의 실수를 2행 3열 채우기 \n",
    "t5 = torch.rand(2,3)\n",
    "\n",
    "# 0<= x <1 임의의 정수를 2행 3열 채우기\n",
    "t6 = torch.randn(2,3)\n",
    "\n",
    "# low<= x <high 임의의 정수를 2행 3열 채우기\n",
    "t7 = torch.randint(low=1,high=10, size=(2,3))\n",
    "\n",
    "print(t5, t6, t7, sep='\\n')"
   ],
   "metadata": {
    "collapsed": false,
    "ExecuteTime": {
     "end_time": "2024-03-12T07:40:05.714082Z",
     "start_time": "2024-03-12T07:40:05.704145Z"
    }
   },
   "id": "a3d23f42c25975bf",
   "execution_count": 7
  },
  {
   "cell_type": "markdown",
   "source": [
    "- Tensor 생성 방법 (5) : Ndarray 객체 활용 => torch.from_numpy(), torch.as_tensor(), torch.tensor()\n",
    "    - .from_numpy() numpy 값 바탕으로 새로 객체 생성\n",
    "    - .as_tensor() numpy 배열 그대로 공유하며 변환\n",
    "    - .tensor() numpy 외에도 변환 가능"
   ],
   "metadata": {
    "collapsed": false
   },
   "id": "433a18f267f3e195"
  },
  {
   "cell_type": "code",
   "outputs": [
    {
     "name": "stdout",
     "output_type": "stream",
     "text": [
      "[11 22 33] <class 'numpy.ndarray'>\n",
      "tensor([11, 22, 33])\n"
     ]
    }
   ],
   "source": [
    "# 데이터 생성\n",
    "import numpy as np\n",
    "\n",
    "data = np.array([11,22,33])\n",
    "t1 = torch.from_numpy(data)\n",
    "print(data, type(data))\n",
    "print(t1)"
   ],
   "metadata": {
    "collapsed": false,
    "ExecuteTime": {
     "end_time": "2024-03-12T07:40:05.879128Z",
     "start_time": "2024-03-12T07:40:05.874363Z"
    }
   },
   "id": "418ed639bf1f0653",
   "execution_count": 8
  },
  {
   "cell_type": "markdown",
   "source": [
    "## Tensor 원소/요소 접근\n",
    "- 인덱싱과 슬라이싱\n",
    "- 브로드캐스팅 연산\n"
   ],
   "metadata": {
    "collapsed": false
   },
   "id": "83666a8ec29cbf1d"
  },
  {
   "cell_type": "code",
   "outputs": [
    {
     "name": "stdout",
     "output_type": "stream",
     "text": [
      " m3.shape =>torch.Size([2, 2]) \n",
      " m3  => tensor([[4., 5.],\n",
      "        [5., 6.]])\n"
     ]
    }
   ],
   "source": [
    "m1 = torch.FloatTensor([[1,2]])\n",
    "m2 = torch.FloatTensor([[3],[4]])\n",
    "m3 = m1 + m2\n",
    "print(f' m3.shape =>{m3.shape} \\n m3  => {m3}')"
   ],
   "metadata": {
    "collapsed": false,
    "ExecuteTime": {
     "end_time": "2024-03-12T07:40:06.040617Z",
     "start_time": "2024-03-12T07:40:06.036517Z"
    }
   },
   "id": "274fdcc784a2dbbb",
   "execution_count": 9
  },
  {
   "cell_type": "code",
   "outputs": [
    {
     "data": {
      "text/plain": "(tensor([[4., 5.],\n         [5., 6.]]),\n tensor([[-2., -1.],\n         [-3., -2.]]),\n tensor([[3., 6.],\n         [4., 8.]]),\n tensor([[0.3333, 0.6667],\n         [0.2500, 0.5000]]))"
     },
     "execution_count": 10,
     "metadata": {},
     "output_type": "execute_result"
    }
   ],
   "source": [
    "m1.add(m2), m1.sub(m2), m1.mul(m2), m1.div(m2)\n"
   ],
   "metadata": {
    "collapsed": false,
    "ExecuteTime": {
     "end_time": "2024-03-12T07:52:05.125349Z",
     "start_time": "2024-03-12T07:52:05.098093Z"
    }
   },
   "id": "3ade753ebc428c75",
   "execution_count": 10
  },
  {
   "cell_type": "markdown",
   "source": [],
   "metadata": {
    "collapsed": false
   },
   "id": "449a94a3daf60d6e"
  },
  {
   "cell_type": "markdown",
   "source": [
    "## 행렬 곱셈\n",
    "- 피쳐와 가중치 연산에 활용\n",
    "- tensor.matmul()\n"
   ],
   "metadata": {
    "collapsed": false
   },
   "id": "c91de7853872338e"
  },
  {
   "cell_type": "code",
   "outputs": [
    {
     "ename": "AttributeError",
     "evalue": "'numpy.ndarray' object has no attribute 'mul'",
     "output_type": "error",
     "traceback": [
      "\u001B[0;31m---------------------------------------------------------------------------\u001B[0m",
      "\u001B[0;31mAttributeError\u001B[0m                            Traceback (most recent call last)",
      "Cell \u001B[0;32mIn[11], line 2\u001B[0m\n\u001B[1;32m      1\u001B[0m \u001B[38;5;66;03m# 원소단위 곱셈 => 인덱스에 1:1 대응하도록 브로드캐스팅\u001B[39;00m\n\u001B[0;32m----> 2\u001B[0m \u001B[38;5;28mprint\u001B[39m(\u001B[38;5;124mf\u001B[39m\u001B[38;5;124m'\u001B[39m\u001B[38;5;124mdata.mul(w) => \u001B[39m\u001B[38;5;132;01m{\u001B[39;00mdata\u001B[38;5;241m.\u001B[39mmul(w)\u001B[38;5;132;01m}\u001B[39;00m\u001B[38;5;124m'\u001B[39m)\n",
      "\u001B[0;31mAttributeError\u001B[0m: 'numpy.ndarray' object has no attribute 'mul'"
     ]
    }
   ],
   "source": [
    "# 원소단위 곱셈 => 인덱스에 1:1 대응하도록 브로드캐스팅\n",
    "print(f'data.mul(w) => {data.mul(w)}')"
   ],
   "metadata": {
    "collapsed": false,
    "ExecuteTime": {
     "end_time": "2024-03-12T07:54:08.410890Z",
     "start_time": "2024-03-12T07:54:08.375644Z"
    }
   },
   "id": "1b0d29ea7655ac3a",
   "execution_count": 11
  },
  {
   "cell_type": "code",
   "outputs": [
    {
     "ename": "AttributeError",
     "evalue": "'numpy.ndarray' object has no attribute 'matmul'",
     "output_type": "error",
     "traceback": [
      "\u001B[0;31m---------------------------------------------------------------------------\u001B[0m",
      "\u001B[0;31mAttributeError\u001B[0m                            Traceback (most recent call last)",
      "Cell \u001B[0;32mIn[12], line 3\u001B[0m\n\u001B[1;32m      1\u001B[0m \u001B[38;5;66;03m# 행열단위 곱셈 => 행x열 : (행, 열) x (행, 열)\u001B[39;00m\n\u001B[1;32m      2\u001B[0m w2 \u001B[38;5;241m=\u001B[39m torch\u001B[38;5;241m.\u001B[39mtensor([[\u001B[38;5;241m7\u001B[39m], [\u001B[38;5;241m8\u001B[39m]]) \u001B[38;5;66;03m# 1행 2열 x 2행 1열\u001B[39;00m\n\u001B[0;32m----> 3\u001B[0m \u001B[38;5;28mprint\u001B[39m(\u001B[38;5;124mf\u001B[39m\u001B[38;5;124m'\u001B[39m\u001B[38;5;124mdata.matmul(w2) => \u001B[39m\u001B[38;5;132;01m{\u001B[39;00mdata\u001B[38;5;241m.\u001B[39mmatmul(w2)\u001B[38;5;132;01m}\u001B[39;00m\u001B[38;5;124m'\u001B[39m)\n",
      "\u001B[0;31mAttributeError\u001B[0m: 'numpy.ndarray' object has no attribute 'matmul'"
     ]
    }
   ],
   "source": [
    "# 행열단위 곱셈 => 행x열 : (행, 열) x (행, 열)\n",
    "w2 = torch.tensor([[7], [8]]) # 1행 2열 x 2행 1열\n",
    "print(f'data.matmul(w2) => {data.matmul(w2)}')"
   ],
   "metadata": {
    "collapsed": false,
    "ExecuteTime": {
     "end_time": "2024-03-12T07:54:08.562413Z",
     "start_time": "2024-03-12T07:54:08.556814Z"
    }
   },
   "id": "732b9991a6bce86b",
   "execution_count": 12
  },
  {
   "cell_type": "markdown",
   "source": [
    "## Tensor shape 변경\n",
    "- reshape(), view() : 원소 갯수가 유지됨!, 기존 텐서 공유함"
   ],
   "metadata": {
    "collapsed": false
   },
   "id": "8889206d32baee22"
  },
  {
   "cell_type": "code",
   "outputs": [
    {
     "data": {
      "text/plain": "tensor([[1, 2],\n        [3, 4],\n        [5, 6]])"
     },
     "execution_count": 16,
     "metadata": {},
     "output_type": "execute_result"
    }
   ],
   "source": [
    "t1 = torch.tensor([[1,2,3], [4,5,6]])\n",
    "t1.view(3,2) # 읽는 갯수를 조절함, 원본 안 바뀜"
   ],
   "metadata": {
    "collapsed": false,
    "ExecuteTime": {
     "end_time": "2024-03-12T07:54:37.530488Z",
     "start_time": "2024-03-12T07:54:37.524688Z"
    }
   },
   "id": "e57e233a242f1713",
   "execution_count": 16
  },
  {
   "cell_type": "code",
   "outputs": [
    {
     "data": {
      "text/plain": "tensor([[1],\n        [2],\n        [3],\n        [4],\n        [5],\n        [6]])"
     },
     "execution_count": 17,
     "metadata": {},
     "output_type": "execute_result"
    }
   ],
   "source": [
    "t1.view(6,1) # 읽는 갯수를 조절함"
   ],
   "metadata": {
    "collapsed": false,
    "ExecuteTime": {
     "end_time": "2024-03-12T07:54:37.630758Z",
     "start_time": "2024-03-12T07:54:37.626389Z"
    }
   },
   "id": "1efde6dc3602aa",
   "execution_count": 17
  },
  {
   "cell_type": "code",
   "outputs": [
    {
     "data": {
      "text/plain": "tensor([[1, 2, 3],\n        [4, 5, 6]])"
     },
     "execution_count": 18,
     "metadata": {},
     "output_type": "execute_result"
    }
   ],
   "source": [
    "# tensor.reshape()\n",
    "t1.reshape(-1,3)"
   ],
   "metadata": {
    "collapsed": false,
    "ExecuteTime": {
     "end_time": "2024-03-12T07:54:41.717161Z",
     "start_time": "2024-03-12T07:54:41.710341Z"
    }
   },
   "id": "bf0d449dcdc3c48b",
   "execution_count": 18
  },
  {
   "cell_type": "code",
   "outputs": [
    {
     "ename": "RuntimeError",
     "evalue": "view size is not compatible with input tensor's size and stride (at least one dimension spans across two contiguous subspaces). Use .reshape(...) instead.",
     "output_type": "error",
     "traceback": [
      "\u001B[0;31m---------------------------------------------------------------------------\u001B[0m",
      "\u001B[0;31mRuntimeError\u001B[0m                              Traceback (most recent call last)",
      "Cell \u001B[0;32mIn[19], line 2\u001B[0m\n\u001B[1;32m      1\u001B[0m t2\u001B[38;5;241m=\u001B[39mt1\u001B[38;5;241m.\u001B[39mT\n\u001B[0;32m----> 2\u001B[0m \u001B[43mt2\u001B[49m\u001B[38;5;241;43m.\u001B[39;49m\u001B[43mview\u001B[49m\u001B[43m(\u001B[49m\u001B[38;5;241;43m-\u001B[39;49m\u001B[38;5;241;43m1\u001B[39;49m\u001B[43m,\u001B[49m\u001B[38;5;241;43m6\u001B[39;49m\u001B[43m)\u001B[49m\n",
      "\u001B[0;31mRuntimeError\u001B[0m: view size is not compatible with input tensor's size and stride (at least one dimension spans across two contiguous subspaces). Use .reshape(...) instead."
     ]
    }
   ],
   "source": [
    "t2=t1.T\n",
    "t2.view(-1,6)\n"
   ],
   "metadata": {
    "collapsed": false,
    "ExecuteTime": {
     "end_time": "2024-03-12T07:54:59.607662Z",
     "start_time": "2024-03-12T07:54:59.573177Z"
    }
   },
   "id": "509c755252be8a17",
   "execution_count": 19
  },
  {
   "cell_type": "markdown",
   "source": [
    "### 텐서 데이터의 메모리 저장 정보 즉 메타데이터\n",
    "- 현재 저장 형태, 검색 방향 정보, 시작 정보\n",
    "- .storage(), .storage_offset(), stride(), is_contiguous()"
   ],
   "metadata": {
    "collapsed": false
   },
   "id": "57a13b7a048a72e7"
  },
  {
   "cell_type": "code",
   "outputs": [
    {
     "name": "stdout",
     "output_type": "stream",
     "text": [
      "torch.Size([2, 3]) 2\n",
      "t1.storage() = >  1\n",
      " 2\n",
      " 3\n",
      " 4\n",
      " 5\n",
      " 6\n",
      "[torch.storage.TypedStorage(dtype=torch.int64, device=cpu) of size 6]\n",
      "t1.storage_offset() = > 0\n",
      "t1.stride() = > (3, 1)\n",
      "t1.is_contiguous() = > True\n"
     ]
    }
   ],
   "source": [
    "t1 = torch.tensor([[1,2,3], [4,5,6]])\n",
    "print( t1.shape, t1.ndim)\n",
    "print( f't1.storage() = > {t1.storage()}')\n",
    "print( f't1.storage_offset() = > {t1.storage_offset()}')\n",
    "print( f't1.stride() = > {t1.stride()}')\n",
    "print( f't1.is_contiguous() = > {t1.is_contiguous()}')\n"
   ],
   "metadata": {
    "collapsed": false,
    "ExecuteTime": {
     "end_time": "2024-03-12T07:55:55.219275Z",
     "start_time": "2024-03-12T07:55:55.216777Z"
    }
   },
   "id": "d9397752503fcd24",
   "execution_count": 21
  },
  {
   "cell_type": "markdown",
   "source": [
    "### 차원 제거/추가\n",
    "- tensor.squeeze() : 텐서에서 차원이 1인 것 제거\n",
    "- tensor.unsqueeze(dim) : 텐서에서 차원이 1인 것 추가"
   ],
   "metadata": {
    "collapsed": false
   },
   "id": "1831a43df815df94"
  },
  {
   "cell_type": "code",
   "outputs": [
    {
     "name": "stdout",
     "output_type": "stream",
     "text": [
      "t1 차원 축소 => torch.Size([2, 2]), 2D\n",
      "t2 차원 축소 => torch.Size([4]), 1D\n",
      "t3 차원 축소 => torch.Size([3]), 1D\n",
      "t3 차원 축소 => torch.Size([1, 3]), 2D\n"
     ]
    }
   ],
   "source": [
    "# 데이터 생성\n",
    "t1=torch.tensor([[1,2],[3,4]])\n",
    "t2=torch.tensor([[1,2,3,4]])\n",
    "t3=torch.tensor([[[1,1,4]]])\n",
    "\n",
    "t11=t1.squeeze()\n",
    "t22=t2.squeeze()\n",
    "t33=t3.squeeze()\n",
    "t44=t3.squeeze(dim=0)\n",
    "\n",
    "\n",
    "print(f't1 차원 축소 => {t11.shape}, {t11.ndim}D') # 1차원인 것만 전체 제거\n",
    "print(f't2 차원 축소 => {t22.shape}, {t22.ndim}D') # 1차원인 것만 전체 제거\n",
    "print(f't3 차원 축소 => {t33.shape}, {t33.ndim}D') # 1차원인 것만 전체 제거\n",
    "print(f't3 차원 축소 => {t44.shape}, {t44.ndim}D') # dim=0, 0번 차원이 1이면 축소\n"
   ],
   "metadata": {
    "collapsed": false,
    "ExecuteTime": {
     "end_time": "2024-03-12T07:56:23.937947Z",
     "start_time": "2024-03-12T07:56:23.933398Z"
    }
   },
   "id": "132d7a36675c5cb8",
   "execution_count": 23
  },
  {
   "cell_type": "code",
   "outputs": [
    {
     "name": "stdout",
     "output_type": "stream",
     "text": [
      "t1 정보 => torch.Size([2, 2]), 2D, 4386965184, (2, 1)\n"
     ]
    }
   ],
   "source": [
    "## 원소/요소 수 변경 없이 차원 한 차원 증가 시키기 => torch.unsqueeze()\n",
    "t1.shape\n",
    "print(f't1 정보 => {t1.shape}, {t1.ndim}D, {t1.data_ptr()}, {t1.stride()}')\n"
   ],
   "metadata": {
    "collapsed": false,
    "ExecuteTime": {
     "end_time": "2024-03-12T07:56:33.833153Z",
     "start_time": "2024-03-12T07:56:33.827253Z"
    }
   },
   "id": "98c0c23b10ebbf00",
   "execution_count": 24
  },
  {
   "cell_type": "code",
   "outputs": [
    {
     "name": "stdout",
     "output_type": "stream",
     "text": [
      "t1 => tensor([[1, 2],\n",
      "        [3, 4]])\n",
      "t11 => tensor([[[1, 2],\n",
      "         [3, 4]]])\n",
      "t22 => tensor([[[1],\n",
      "         [2]],\n",
      "\n",
      "        [[3],\n",
      "         [4]]])\n",
      "t1 0번째 차원 추가 => torch.Size([1, 2, 2]), 3D, 4386965184, (4, 2, 1)\n",
      "t1 1번째 차원 추가 => torch.Size([2, 2, 1]), 3D, 4386965184, (2, 1, 1)\n"
     ]
    }
   ],
   "source": [
    "t11=t1.unsqueeze(dim=0)\n",
    "t22=t1.unsqueeze(dim=-1)\n",
    "\n",
    "print(f't1 => {t1}')\n",
    "print(f't11 => {t11}')\n",
    "print(f't22 => {t22}')\n",
    "\n",
    "print(f't1 0번째 차원 추가 => {t11.shape}, {t11.ndim}D, {t11.data_ptr()}, {t11.stride()}')\n",
    "print(f't1 1번째 차원 추가 => {t22.shape}, {t22.ndim}D, {t22.data_ptr()}, {t22.stride()}')\n"
   ],
   "metadata": {
    "collapsed": false,
    "ExecuteTime": {
     "end_time": "2024-03-12T07:56:43.492348Z",
     "start_time": "2024-03-12T07:56:43.469982Z"
    }
   },
   "id": "73895f3470670e0",
   "execution_count": 25
  },
  {
   "cell_type": "code",
   "outputs": [],
   "source": [],
   "metadata": {
    "collapsed": false
   },
   "id": "418ff755fdff47ad"
  }
 ],
 "metadata": {
  "kernelspec": {
   "display_name": "Python 3",
   "language": "python",
   "name": "python3"
  },
  "language_info": {
   "codemirror_mode": {
    "name": "ipython",
    "version": 2
   },
   "file_extension": ".py",
   "mimetype": "text/x-python",
   "name": "python",
   "nbconvert_exporter": "python",
   "pygments_lexer": "ipython2",
   "version": "2.7.6"
  }
 },
 "nbformat": 4,
 "nbformat_minor": 5
}
