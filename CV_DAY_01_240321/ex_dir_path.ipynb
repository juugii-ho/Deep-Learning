{
 "cells": [
  {
   "cell_type": "markdown",
   "metadata": {},
   "source": [
    "## 폴더 및 파일 다루기"
   ]
  },
  {
   "cell_type": "code",
   "execution_count": 2,
   "metadata": {},
   "outputs": [],
   "source": [
    "### 모듈 로딩\n",
    "import os"
   ]
  },
  {
   "cell_type": "code",
   "execution_count": 3,
   "metadata": {},
   "outputs": [
    {
     "data": {
      "text/plain": [
       "True"
      ]
     },
     "execution_count": 3,
     "metadata": {},
     "output_type": "execute_result"
    }
   ],
   "source": [
    "### 특정 폴더 내의 모든 데이터 리스트 가져오기\n",
    "my_folder = '../data/'\n",
    "\n",
    "# 해당 폴더 또는 파일이 존재하는지 검사 ==> 결과 : True, False\n",
    "os.path.exists(my_folder)"
   ]
  },
  {
   "cell_type": "code",
   "execution_count": 61,
   "metadata": {},
   "outputs": [
    {
     "name": "stdout",
     "output_type": "stream",
     "text": [
      "[ MNIST ]\n",
      "[ img ]\n",
      "[ model ]\n",
      "[ text ]\n",
      "\t[ t10k.csv ]\n",
      "\t[ wine-quality.csv ]\n",
      "\t[ iris.csv ]\n",
      "\t[ train.csv ]\n",
      "['MNIST', 'best_model28.pth', '.DS_Store', 'img', 'model', 'text', 'time.jpeg']\n"
     ]
    }
   ],
   "source": [
    "# 폴더 내 모든 파일, 폴더 리스트 반환\n",
    "datalist = os.listdir(my_folder)\n",
    "# data = os.listdir(datalist)\n",
    "\n",
    "for data_name in datalist:\n",
    "        # 폴더 여부 체크 후 폴더일 경우\n",
    "        if os.path.isdir(my_folder+data_name):\n",
    "                print(f'[ {data_name} ]')\n",
    "                sublist = os.listdir(my_folder+data_name)\n",
    "                for sub in sublist :\n",
    "                        if 'csv' in sub:\n",
    "                                print(f'\\t[ {sub} ]')\n",
    "        else:\n",
    "                if 'csv' in data_name:\n",
    "                        print(f'{data_name}')\n",
    "print(datalist)"
   ]
  },
  {
   "cell_type": "code",
   "execution_count": 82,
   "metadata": {},
   "outputs": [
    {
     "name": "stdout",
     "output_type": "stream",
     "text": [
      "t10k.csv\n",
      "wine-quality.csv\n",
      "iris.csv\n",
      "train.csv\n"
     ]
    }
   ],
   "source": [
    "def getFiles(dir, extension):\n",
    "    for d in os.listdir('../data/'+dir):\n",
    "        print(d)\n",
    "        # if extension in os.listdir('../data/'+dir)==True:\n",
    "        #     print(d)\n",
    "        #     for a in os.listdir('../data/'+dir+'/'+d):\n",
    "        #         print(a)\n",
    "        # else:\n",
    "        #     if extension in os.listdir('../data/'+dir)==True:\n",
    "        #         print(d)\n",
    "\n",
    "getFiles('text','csv')"
   ]
  },
  {
   "cell_type": "code",
   "execution_count": null,
   "metadata": {},
   "outputs": [],
   "source": [
    "## 원하는 데이터 파일 즉 확장자를 지정해서 해당 파일만 가져오기\n",
    "def getFiles(my_folder, data_type):\n",
    "    datalist = os.listdir(my_folder)\n",
    "    for data_name in datalist:\n",
    "      if data_name.endswith('.' + data_type):\n",
    "            print(data_name)"
   ]
  },
  {
   "cell_type": "code",
   "execution_count": 84,
   "metadata": {},
   "outputs": [
    {
     "data": {
      "text/plain": [
       "True"
      ]
     },
     "execution_count": 84,
     "metadata": {},
     "output_type": "execute_result"
    }
   ],
   "source": [
    "filename = '1.jpg'\n",
    "\n",
    "filename.find('.jpg')>0"
   ]
  },
  {
   "cell_type": "code",
   "execution_count": 85,
   "metadata": {},
   "outputs": [],
   "source": [
    "import cv2 "
   ]
  },
  {
   "cell_type": "code",
   "execution_count": 87,
   "metadata": {},
   "outputs": [
    {
     "data": {
      "text/plain": [
       "'4.6.0'"
      ]
     },
     "execution_count": 87,
     "metadata": {},
     "output_type": "execute_result"
    }
   ],
   "source": [
    "cv2.__version__"
   ]
  },
  {
   "cell_type": "code",
   "execution_count": null,
   "metadata": {},
   "outputs": [],
   "source": []
  }
 ],
 "metadata": {
  "kernelspec": {
   "display_name": "Torch_PY38",
   "language": "python",
   "name": "python3"
  },
  "language_info": {
   "codemirror_mode": {
    "name": "ipython",
    "version": 3
   },
   "file_extension": ".py",
   "mimetype": "text/x-python",
   "name": "python",
   "nbconvert_exporter": "python",
   "pygments_lexer": "ipython3",
   "version": "3.8.18"
  }
 },
 "nbformat": 4,
 "nbformat_minor": 2
}
