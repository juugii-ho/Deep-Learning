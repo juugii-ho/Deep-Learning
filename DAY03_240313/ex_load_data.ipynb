{
 "cells": [
  {
   "cell_type": "code",
   "execution_count": 17,
   "id": "initial_id",
   "metadata": {
    "collapsed": true,
    "ExecuteTime": {
     "end_time": "2024-03-13T04:59:00.500406Z",
     "start_time": "2024-03-13T04:59:00.498219Z"
    }
   },
   "outputs": [],
   "source": [
    "# 모듈로딩\n",
    "import imageio.v2 as imageio          # 이미지 데이터 관련 모듈\n",
    "import torch            # pytorch 텐서 및 기본 함수 관련 모듈"
   ]
  },
  {
   "cell_type": "code",
   "outputs": [],
   "source": [
    "# 이미지 데이터 로딩\n",
    "filename='../data/img/time.jpeg'\n"
   ],
   "metadata": {
    "collapsed": false,
    "ExecuteTime": {
     "end_time": "2024-03-13T04:59:00.684055Z",
     "start_time": "2024-03-13T04:59:00.681489Z"
    }
   },
   "id": "682282437550abca",
   "execution_count": 18
  },
  {
   "cell_type": "code",
   "outputs": [
    {
     "data": {
      "text/plain": "array([[[ 13,  33,  58],\n        [  0,  22,  46],\n        [  5,  31,  56],\n        ...,\n        [ 16,  33,  53],\n        [ 26,  43,  63],\n        [ 27,  44,  64]],\n\n       [[  7,  29,  53],\n        [  0,  20,  47],\n        [  5,  31,  56],\n        ...,\n        [ 38,  55,  75],\n        [ 12,  29,  49],\n        [ 30,  47,  67]],\n\n       [[  7,  29,  53],\n        [  0,  24,  50],\n        [  8,  34,  61],\n        ...,\n        [ 74,  91, 111],\n        [ 37,  54,  74],\n        [ 12,  29,  49]],\n\n       ...,\n\n       [[  0,  16,  44],\n        [  0,  21,  49],\n        [  9,  30,  59],\n        ...,\n        [ 11,  40,  70],\n        [  9,  38,  68],\n        [  8,  37,  67]],\n\n       [[  1,  24,  55],\n        [  7,  31,  59],\n        [ 16,  37,  66],\n        ...,\n        [ 10,  39,  69],\n        [  8,  37,  67],\n        [  6,  35,  65]],\n\n       [[  3,  26,  57],\n        [  2,  25,  56],\n        [  6,  27,  56],\n        ...,\n        [  6,  35,  65],\n        [  4,  33,  63],\n        [  1,  30,  60]]], dtype=uint8)"
     },
     "execution_count": 19,
     "metadata": {},
     "output_type": "execute_result"
    }
   ],
   "source": [
    "imageio.imread(filename)"
   ],
   "metadata": {
    "collapsed": false,
    "ExecuteTime": {
     "end_time": "2024-03-13T04:59:00.848032Z",
     "start_time": "2024-03-13T04:59:00.830697Z"
    }
   },
   "id": "33d424c27da0644f",
   "execution_count": 19
  },
  {
   "cell_type": "code",
   "outputs": [
    {
     "name": "stdout",
     "output_type": "stream",
     "text": [
      "(1024, 1024, 3) 3\n"
     ]
    }
   ],
   "source": [
    "img_data = imageio.imread(filename)\n",
    "\n",
    "print(img_data.shape, img_data.ndim)"
   ],
   "metadata": {
    "collapsed": false,
    "ExecuteTime": {
     "end_time": "2024-03-13T05:00:55.383747Z",
     "start_time": "2024-03-13T05:00:55.360542Z"
    }
   },
   "id": "db0e1fabec7b8a01",
   "execution_count": 26
  },
  {
   "cell_type": "code",
   "outputs": [],
   "source": [
    "# ndarray => # [행(높이), 열(너비), 채널]\n",
    "\n",
    "img_t1 = torch.tensor(img_data)\n",
    "img_t2 = torch.from_numpy(img_data) # 공유 \n",
    "img_t3 = torch.as_tensor(img_data)  # 공유\n"
   ],
   "metadata": {
    "collapsed": false,
    "ExecuteTime": {
     "end_time": "2024-03-13T05:02:35.220873Z",
     "start_time": "2024-03-13T05:02:35.217338Z"
    }
   },
   "id": "c509f866035d1e97",
   "execution_count": 30
  },
  {
   "cell_type": "code",
   "outputs": [
    {
     "name": "stdout",
     "output_type": "stream",
     "text": [
      "torch.Size([1024, 1024, 3]) 3\n",
      "torch.Size([1024, 1024, 3]) 3\n",
      "torch.Size([1024, 1024, 3]) 3\n"
     ]
    }
   ],
   "source": [
    "print(img_t1.shape, img_t1.ndim)\n",
    "print(img_t2.shape, img_t2.ndim)\n",
    "print(img_t3.shape, img_t3.ndim)\n"
   ],
   "metadata": {
    "collapsed": false,
    "ExecuteTime": {
     "end_time": "2024-03-13T05:02:35.802980Z",
     "start_time": "2024-03-13T05:02:35.799007Z"
    }
   },
   "id": "849275dadbea0671",
   "execution_count": 31
  },
  {
   "cell_type": "code",
   "outputs": [
    {
     "data": {
      "text/plain": "torch.Size([3, 1024, 1024])"
     },
     "execution_count": 32,
     "metadata": {},
     "output_type": "execute_result"
    }
   ],
   "source": [
    "# [행(높이), 열(너비), 채널] => [채널, 행(높이), 열(너비)]\n",
    "img_t1.permute(2,0,1).shape"
   ],
   "metadata": {
    "collapsed": false,
    "ExecuteTime": {
     "end_time": "2024-03-13T05:02:35.965821Z",
     "start_time": "2024-03-13T05:02:35.963066Z"
    }
   },
   "id": "a0c3b10a2c043cea",
   "execution_count": 32
  },
  {
   "cell_type": "markdown",
   "source": [
    "[배치사이즈, 채널, 높이, 너비]"
   ],
   "metadata": {
    "collapsed": false
   },
   "id": "5b94778614c71876"
  }
 ],
 "metadata": {
  "kernelspec": {
   "display_name": "Python 3",
   "language": "python",
   "name": "python3"
  },
  "language_info": {
   "codemirror_mode": {
    "name": "ipython",
    "version": 2
   },
   "file_extension": ".py",
   "mimetype": "text/x-python",
   "name": "python",
   "nbconvert_exporter": "python",
   "pygments_lexer": "ipython2",
   "version": "2.7.6"
  }
 },
 "nbformat": 4,
 "nbformat_minor": 5
}
