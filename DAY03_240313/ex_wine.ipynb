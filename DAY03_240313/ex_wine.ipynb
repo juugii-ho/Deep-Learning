{
 "cells": [
  {
   "cell_type": "markdown",
   "source": [
    "# Regression"
   ],
   "metadata": {
    "collapsed": false
   },
   "id": "7e8d71f8545bec43"
  },
  {
   "cell_type": "code",
   "execution_count": 1,
   "id": "initial_id",
   "metadata": {
    "collapsed": true,
    "ExecuteTime": {
     "end_time": "2024-03-14T05:02:59.017640Z",
     "start_time": "2024-03-14T05:02:58.152917Z"
    }
   },
   "outputs": [],
   "source": [
    "import torch\n",
    "import pandas as pd\n",
    "import numpy as np"
   ]
  },
  {
   "cell_type": "code",
   "outputs": [],
   "source": [
    "file_name = '../data/wine-quality.csv'\n",
    "\n",
    "wineDF = pd.read_csv(file_name)\n",
    "wineDF = wineDF[wineDF.type=='white']\n",
    "# wineDF\n",
    "wineDF = wineDF.iloc[:,1:]\n",
    "wineDF = wineDF.dropna()"
   ],
   "metadata": {
    "collapsed": false,
    "ExecuteTime": {
     "end_time": "2024-03-14T05:02:59.029789Z",
     "start_time": "2024-03-14T05:02:59.015979Z"
    }
   },
   "id": "34bdf7a4996e60cd",
   "execution_count": 2
  },
  {
   "cell_type": "code",
   "outputs": [
    {
     "name": "stdout",
     "output_type": "stream",
     "text": [
      "<class 'pandas.core.frame.DataFrame'>\n",
      "Index: 4870 entries, 0 to 4897\n",
      "Data columns (total 11 columns):\n",
      " #   Column                Non-Null Count  Dtype  \n",
      "---  ------                --------------  -----  \n",
      " 0   fixed acidity         4870 non-null   float64\n",
      " 1   volatile acidity      4870 non-null   float64\n",
      " 2   citric acid           4870 non-null   float64\n",
      " 3   residual sugar        4870 non-null   float64\n",
      " 4   chlorides             4870 non-null   float64\n",
      " 5   free sulfur dioxide   4870 non-null   float64\n",
      " 6   total sulfur dioxide  4870 non-null   float64\n",
      " 7   density               4870 non-null   float64\n",
      " 8   pH                    4870 non-null   float64\n",
      " 9   sulphates             4870 non-null   float64\n",
      " 10  alcohol               4870 non-null   float64\n",
      "dtypes: float64(11)\n",
      "memory usage: 456.6 KB\n"
     ]
    }
   ],
   "source": [
    "featureDF = wineDF.iloc[:,:-1]\n",
    "featureDF.info()"
   ],
   "metadata": {
    "collapsed": false,
    "ExecuteTime": {
     "end_time": "2024-03-14T05:02:59.036959Z",
     "start_time": "2024-03-14T05:02:59.027122Z"
    }
   },
   "id": "70a4c3e69bb6a37d",
   "execution_count": 3
  },
  {
   "cell_type": "code",
   "outputs": [
    {
     "data": {
      "text/plain": "                      fixed acidity  volatile acidity  citric acid  \\\nfixed acidity              1.000000         -0.020301     0.287439   \nvolatile acidity          -0.020301          1.000000    -0.148473   \ncitric acid                0.287439         -0.148473     1.000000   \nresidual sugar             0.087979          0.064111     0.094602   \nchlorides                  0.023588          0.072686     0.113034   \nfree sulfur dioxide       -0.049226         -0.096982     0.093018   \ntotal sulfur dioxide       0.091347          0.089975     0.122023   \ndensity                    0.265525          0.027326     0.150368   \npH                        -0.424343         -0.034612    -0.161527   \nsulphates                 -0.016492         -0.034965     0.064418   \nalcohol                   -0.121851          0.067772    -0.076580   \nquality                   -0.112172         -0.196657    -0.010079   \n\n                      residual sugar  chlorides  free sulfur dioxide  \\\nfixed acidity               0.087979   0.023588            -0.049226   \nvolatile acidity            0.064111   0.072686            -0.096982   \ncitric acid                 0.094602   0.113034             0.093018   \nresidual sugar              1.000000   0.089749             0.299177   \nchlorides                   0.089749   1.000000             0.101351   \nfree sulfur dioxide         0.299177   0.101351             1.000000   \ntotal sulfur dioxide        0.401275   0.199369             0.615601   \ndensity                     0.838841   0.258126             0.294327   \npH                         -0.193051  -0.089220             0.000672   \nsulphates                  -0.026080   0.017412             0.059679   \nalcohol                    -0.451398  -0.360138            -0.250329   \nquality                    -0.094923  -0.210754             0.007747   \n\n                      total sulfur dioxide   density        pH  sulphates  \\\nfixed acidity                     0.091347  0.265525 -0.424343  -0.016492   \nvolatile acidity                  0.089975  0.027326 -0.034612  -0.034965   \ncitric acid                       0.122023  0.150368 -0.161527   0.064418   \nresidual sugar                    0.401275  0.838841 -0.193051  -0.026080   \nchlorides                         0.199369  0.258126 -0.089220   0.017412   \nfree sulfur dioxide               0.615601  0.294327  0.000672   0.059679   \ntotal sulfur dioxide              1.000000  0.529564  0.003552   0.133955   \ndensity                           0.529564  1.000000 -0.092397   0.074537   \npH                                0.003552 -0.092397  1.000000   0.155553   \nsulphates                         0.133955  0.074537  0.155553   1.000000   \nalcohol                          -0.448730 -0.780561  0.121283  -0.016869   \nquality                          -0.174597 -0.305481  0.097292   0.054241   \n\n                       alcohol   quality  \nfixed acidity        -0.121851 -0.112172  \nvolatile acidity      0.067772 -0.196657  \ncitric acid          -0.076580 -0.010079  \nresidual sugar       -0.451398 -0.094923  \nchlorides            -0.360138 -0.210754  \nfree sulfur dioxide  -0.250329  0.007747  \ntotal sulfur dioxide -0.448730 -0.174597  \ndensity              -0.780561 -0.305481  \npH                    0.121283  0.097292  \nsulphates            -0.016869  0.054241  \nalcohol               1.000000  0.435383  \nquality               0.435383  1.000000  ",
      "text/html": "<div>\n<style scoped>\n    .dataframe tbody tr th:only-of-type {\n        vertical-align: middle;\n    }\n\n    .dataframe tbody tr th {\n        vertical-align: top;\n    }\n\n    .dataframe thead th {\n        text-align: right;\n    }\n</style>\n<table border=\"1\" class=\"dataframe\">\n  <thead>\n    <tr style=\"text-align: right;\">\n      <th></th>\n      <th>fixed acidity</th>\n      <th>volatile acidity</th>\n      <th>citric acid</th>\n      <th>residual sugar</th>\n      <th>chlorides</th>\n      <th>free sulfur dioxide</th>\n      <th>total sulfur dioxide</th>\n      <th>density</th>\n      <th>pH</th>\n      <th>sulphates</th>\n      <th>alcohol</th>\n      <th>quality</th>\n    </tr>\n  </thead>\n  <tbody>\n    <tr>\n      <th>fixed acidity</th>\n      <td>1.000000</td>\n      <td>-0.020301</td>\n      <td>0.287439</td>\n      <td>0.087979</td>\n      <td>0.023588</td>\n      <td>-0.049226</td>\n      <td>0.091347</td>\n      <td>0.265525</td>\n      <td>-0.424343</td>\n      <td>-0.016492</td>\n      <td>-0.121851</td>\n      <td>-0.112172</td>\n    </tr>\n    <tr>\n      <th>volatile acidity</th>\n      <td>-0.020301</td>\n      <td>1.000000</td>\n      <td>-0.148473</td>\n      <td>0.064111</td>\n      <td>0.072686</td>\n      <td>-0.096982</td>\n      <td>0.089975</td>\n      <td>0.027326</td>\n      <td>-0.034612</td>\n      <td>-0.034965</td>\n      <td>0.067772</td>\n      <td>-0.196657</td>\n    </tr>\n    <tr>\n      <th>citric acid</th>\n      <td>0.287439</td>\n      <td>-0.148473</td>\n      <td>1.000000</td>\n      <td>0.094602</td>\n      <td>0.113034</td>\n      <td>0.093018</td>\n      <td>0.122023</td>\n      <td>0.150368</td>\n      <td>-0.161527</td>\n      <td>0.064418</td>\n      <td>-0.076580</td>\n      <td>-0.010079</td>\n    </tr>\n    <tr>\n      <th>residual sugar</th>\n      <td>0.087979</td>\n      <td>0.064111</td>\n      <td>0.094602</td>\n      <td>1.000000</td>\n      <td>0.089749</td>\n      <td>0.299177</td>\n      <td>0.401275</td>\n      <td>0.838841</td>\n      <td>-0.193051</td>\n      <td>-0.026080</td>\n      <td>-0.451398</td>\n      <td>-0.094923</td>\n    </tr>\n    <tr>\n      <th>chlorides</th>\n      <td>0.023588</td>\n      <td>0.072686</td>\n      <td>0.113034</td>\n      <td>0.089749</td>\n      <td>1.000000</td>\n      <td>0.101351</td>\n      <td>0.199369</td>\n      <td>0.258126</td>\n      <td>-0.089220</td>\n      <td>0.017412</td>\n      <td>-0.360138</td>\n      <td>-0.210754</td>\n    </tr>\n    <tr>\n      <th>free sulfur dioxide</th>\n      <td>-0.049226</td>\n      <td>-0.096982</td>\n      <td>0.093018</td>\n      <td>0.299177</td>\n      <td>0.101351</td>\n      <td>1.000000</td>\n      <td>0.615601</td>\n      <td>0.294327</td>\n      <td>0.000672</td>\n      <td>0.059679</td>\n      <td>-0.250329</td>\n      <td>0.007747</td>\n    </tr>\n    <tr>\n      <th>total sulfur dioxide</th>\n      <td>0.091347</td>\n      <td>0.089975</td>\n      <td>0.122023</td>\n      <td>0.401275</td>\n      <td>0.199369</td>\n      <td>0.615601</td>\n      <td>1.000000</td>\n      <td>0.529564</td>\n      <td>0.003552</td>\n      <td>0.133955</td>\n      <td>-0.448730</td>\n      <td>-0.174597</td>\n    </tr>\n    <tr>\n      <th>density</th>\n      <td>0.265525</td>\n      <td>0.027326</td>\n      <td>0.150368</td>\n      <td>0.838841</td>\n      <td>0.258126</td>\n      <td>0.294327</td>\n      <td>0.529564</td>\n      <td>1.000000</td>\n      <td>-0.092397</td>\n      <td>0.074537</td>\n      <td>-0.780561</td>\n      <td>-0.305481</td>\n    </tr>\n    <tr>\n      <th>pH</th>\n      <td>-0.424343</td>\n      <td>-0.034612</td>\n      <td>-0.161527</td>\n      <td>-0.193051</td>\n      <td>-0.089220</td>\n      <td>0.000672</td>\n      <td>0.003552</td>\n      <td>-0.092397</td>\n      <td>1.000000</td>\n      <td>0.155553</td>\n      <td>0.121283</td>\n      <td>0.097292</td>\n    </tr>\n    <tr>\n      <th>sulphates</th>\n      <td>-0.016492</td>\n      <td>-0.034965</td>\n      <td>0.064418</td>\n      <td>-0.026080</td>\n      <td>0.017412</td>\n      <td>0.059679</td>\n      <td>0.133955</td>\n      <td>0.074537</td>\n      <td>0.155553</td>\n      <td>1.000000</td>\n      <td>-0.016869</td>\n      <td>0.054241</td>\n    </tr>\n    <tr>\n      <th>alcohol</th>\n      <td>-0.121851</td>\n      <td>0.067772</td>\n      <td>-0.076580</td>\n      <td>-0.451398</td>\n      <td>-0.360138</td>\n      <td>-0.250329</td>\n      <td>-0.448730</td>\n      <td>-0.780561</td>\n      <td>0.121283</td>\n      <td>-0.016869</td>\n      <td>1.000000</td>\n      <td>0.435383</td>\n    </tr>\n    <tr>\n      <th>quality</th>\n      <td>-0.112172</td>\n      <td>-0.196657</td>\n      <td>-0.010079</td>\n      <td>-0.094923</td>\n      <td>-0.210754</td>\n      <td>0.007747</td>\n      <td>-0.174597</td>\n      <td>-0.305481</td>\n      <td>0.097292</td>\n      <td>0.054241</td>\n      <td>0.435383</td>\n      <td>1.000000</td>\n    </tr>\n  </tbody>\n</table>\n</div>"
     },
     "execution_count": 4,
     "metadata": {},
     "output_type": "execute_result"
    }
   ],
   "source": [
    "wineDF.corr()"
   ],
   "metadata": {
    "collapsed": false,
    "ExecuteTime": {
     "end_time": "2024-03-14T05:02:59.064078Z",
     "start_time": "2024-03-14T05:02:59.034523Z"
    }
   },
   "id": "4f786df7beeecb1c",
   "execution_count": 4
  },
  {
   "cell_type": "code",
   "outputs": [
    {
     "data": {
      "text/plain": "<Axes: >"
     },
     "execution_count": 5,
     "metadata": {},
     "output_type": "execute_result"
    },
    {
     "data": {
      "text/plain": "<Figure size 640x480 with 2 Axes>",
      "image/png": "[encoded data removed]"
     },
     "metadata": {},
     "output_type": "display_data"
    }
   ],
   "source": [
    "import seaborn as sns\n",
    "sns.heatmap(wineDF.corr())"
   ],
   "metadata": {
    "collapsed": false,
    "ExecuteTime": {
     "end_time": "2024-03-14T05:02:59.244740Z",
     "start_time": "2024-03-14T05:02:59.046556Z"
    }
   },
   "id": "cacd263da05dc7ab",
   "execution_count": 5
  },
  {
   "cell_type": "code",
   "outputs": [],
   "source": [
    "# sns.pairplot(wineDF)"
   ],
   "metadata": {
    "collapsed": false,
    "ExecuteTime": {
     "end_time": "2024-03-14T05:02:59.245770Z",
     "start_time": "2024-03-14T05:02:59.241837Z"
    }
   },
   "id": "67772a93d501faa5",
   "execution_count": 6
  },
  {
   "cell_type": "code",
   "outputs": [],
   "source": [],
   "metadata": {
    "collapsed": false,
    "ExecuteTime": {
     "end_time": "2024-03-14T05:02:59.249305Z",
     "start_time": "2024-03-14T05:02:59.244514Z"
    }
   },
   "id": "52d26bb474803b05",
   "execution_count": 6
  },
  {
   "cell_type": "code",
   "outputs": [
    {
     "name": "stdout",
     "output_type": "stream",
     "text": [
      "<class 'pandas.core.series.Series'>\n",
      "Index: 4870 entries, 0 to 4897\n",
      "Series name: quality\n",
      "Non-Null Count  Dtype\n",
      "--------------  -----\n",
      "4870 non-null   int64\n",
      "dtypes: int64(1)\n",
      "memory usage: 76.1 KB\n"
     ]
    }
   ],
   "source": [
    "targetDF = wineDF.quality\n",
    "targetDF.info()"
   ],
   "metadata": {
    "collapsed": false,
    "ExecuteTime": {
     "end_time": "2024-03-14T05:02:59.255243Z",
     "start_time": "2024-03-14T05:02:59.249995Z"
    }
   },
   "id": "aa6a3f133435c275",
   "execution_count": 7
  },
  {
   "cell_type": "code",
   "outputs": [],
   "source": [
    "# torch.tensor(featureDF.ndarray)"
   ],
   "metadata": {
    "collapsed": false,
    "ExecuteTime": {
     "end_time": "2024-03-14T05:02:59.257880Z",
     "start_time": "2024-03-14T05:02:59.254213Z"
    }
   },
   "id": "8013e6c04d7df763",
   "execution_count": 8
  },
  {
   "cell_type": "code",
   "outputs": [
    {
     "data": {
      "text/plain": "(torch.Size([4870, 11]), torch.Size([4870]))"
     },
     "execution_count": 9,
     "metadata": {},
     "output_type": "execute_result"
    }
   ],
   "source": [
    "featureNP = np.array(featureDF)\n",
    "targetNP = np.array(targetDF)\n",
    "featureTS = torch.from_numpy(featureNP)\n",
    "targetTS = torch.from_numpy(targetNP)\n",
    "featureTS.shape, targetTS.shape"
   ],
   "metadata": {
    "collapsed": false,
    "ExecuteTime": {
     "end_time": "2024-03-14T05:02:59.259955Z",
     "start_time": "2024-03-14T05:02:59.257626Z"
    }
   },
   "id": "504339424d9973e",
   "execution_count": 9
  },
  {
   "cell_type": "code",
   "outputs": [
    {
     "data": {
      "text/plain": "tensor([[ 7.0000,  0.2700,  0.3600,  ...,  3.0000,  0.4500,  8.8000],\n        [ 6.3000,  0.3000,  0.3400,  ...,  3.3000,  0.4900,  9.5000],\n        [ 8.1000,  0.2800,  0.4000,  ...,  3.2600,  0.4400, 10.1000],\n        ...,\n        [ 6.6000,  0.3200,  0.3600,  ...,  3.1500,  0.4600,  9.6000],\n        [ 5.5000,  0.2900,  0.3000,  ...,  3.3400,  0.3800, 12.8000],\n        [ 6.0000,  0.2100,  0.3800,  ...,  3.2600,  0.3200, 11.8000]],\n       dtype=torch.float64)"
     },
     "execution_count": 10,
     "metadata": {},
     "output_type": "execute_result"
    }
   ],
   "source": [
    "featureTS"
   ],
   "metadata": {
    "collapsed": false,
    "ExecuteTime": {
     "end_time": "2024-03-14T05:02:59.297874Z",
     "start_time": "2024-03-14T05:02:59.261918Z"
    }
   },
   "id": "f45be313ab1999e8",
   "execution_count": 10
  },
  {
   "cell_type": "code",
   "outputs": [
    {
     "data": {
      "text/plain": "tensor([6, 6, 6,  ..., 5, 7, 6])"
     },
     "execution_count": 11,
     "metadata": {},
     "output_type": "execute_result"
    }
   ],
   "source": [
    "targetTS"
   ],
   "metadata": {
    "collapsed": false,
    "ExecuteTime": {
     "end_time": "2024-03-14T05:02:59.298823Z",
     "start_time": "2024-03-14T05:02:59.266216Z"
    }
   },
   "id": "79baea02d07d108c",
   "execution_count": 11
  },
  {
   "cell_type": "code",
   "outputs": [
    {
     "data": {
      "text/plain": "tensor([[0., 0., 0.,  ..., 0., 0., 0.],\n        [0., 0., 0.,  ..., 0., 0., 0.],\n        [0., 0., 0.,  ..., 0., 0., 0.],\n        ...,\n        [0., 0., 0.,  ..., 0., 0., 0.],\n        [0., 0., 0.,  ..., 1., 0., 0.],\n        [0., 0., 0.,  ..., 0., 0., 0.]])"
     },
     "execution_count": 12,
     "metadata": {},
     "output_type": "execute_result"
    }
   ],
   "source": [
    "targetTS_onehot = torch.zeros(targetTS.shape[0], 10)\n",
    "targetTS_onehot.scatter_(1,targetTS.unsqueeze(1), 1.0)\n",
    "# 함수뒤에 언더바 붙으면 inplace 속성 가진 것"
   ],
   "metadata": {
    "collapsed": false,
    "ExecuteTime": {
     "end_time": "2024-03-14T05:02:59.299921Z",
     "start_time": "2024-03-14T05:02:59.270745Z"
    }
   },
   "id": "f7eb7cfe78ed60e4",
   "execution_count": 12
  },
  {
   "cell_type": "code",
   "outputs": [
    {
     "data": {
      "text/plain": "fixed acidity           0\nvolatile acidity        0\ncitric acid             0\nresidual sugar          0\nchlorides               0\nfree sulfur dioxide     0\ntotal sulfur dioxide    0\ndensity                 0\npH                      0\nsulphates               0\nalcohol                 0\ndtype: int64"
     },
     "execution_count": 13,
     "metadata": {},
     "output_type": "execute_result"
    }
   ],
   "source": [
    "featureDF.isnull().sum()"
   ],
   "metadata": {
    "collapsed": false,
    "ExecuteTime": {
     "end_time": "2024-03-14T05:02:59.301029Z",
     "start_time": "2024-03-14T05:02:59.276148Z"
    }
   },
   "id": "2d1adeb5590c660",
   "execution_count": 13
  },
  {
   "cell_type": "code",
   "outputs": [
    {
     "data": {
      "text/plain": "0"
     },
     "execution_count": 14,
     "metadata": {},
     "output_type": "execute_result"
    }
   ],
   "source": [
    "targetDF.isnull().sum()"
   ],
   "metadata": {
    "collapsed": false,
    "ExecuteTime": {
     "end_time": "2024-03-14T05:02:59.301944Z",
     "start_time": "2024-03-14T05:02:59.281537Z"
    }
   },
   "id": "9128c4ba4faeed4a",
   "execution_count": 14
  },
  {
   "cell_type": "code",
   "outputs": [
    {
     "data": {
      "text/plain": "(0.37113419456676144, 0.33904034632162217)"
     },
     "execution_count": 15,
     "metadata": {},
     "output_type": "execute_result"
    }
   ],
   "source": [
    "from sklearn.preprocessing import StandardScaler, RobustScaler, PolynomialFeatures\n",
    "from sklearn.model_selection import train_test_split\n",
    "from sklearn.linear_model import LinearRegression\n",
    "\n",
    "X_train, x_test, y_train, y_test = train_test_split(featureDF,\n",
    "                                                    targetDF,\n",
    "                                                    random_state=1)\n",
    "y_train1 = y_train\n",
    "\n",
    "poly = PolynomialFeatures(degree=2)\n",
    "train = poly.fit_transform(X_train)\n",
    "test = poly.transform(x_test)\n",
    "# scaler = StandardScaler()\n",
    "# scaler.fit(X_train)\n",
    "# train = scaler.transform(X_train)\n",
    "# test = scaler.transform(x_test)\n",
    "\n",
    "model = LinearRegression()\n",
    "model.fit(train, y_train)\n",
    "trainScore = model.score(train, y_train)\n",
    "testScore = model.score(test, y_test)\n",
    "\n",
    "trainScore, testScore"
   ],
   "metadata": {
    "collapsed": false,
    "ExecuteTime": {
     "end_time": "2024-03-14T05:02:59.639886Z",
     "start_time": "2024-03-14T05:02:59.286077Z"
    }
   },
   "id": "2b9386322d5d30fd",
   "execution_count": 15
  },
  {
   "cell_type": "code",
   "outputs": [
    {
     "data": {
      "text/plain": "(3652, 78)"
     },
     "execution_count": 16,
     "metadata": {},
     "output_type": "execute_result"
    }
   ],
   "source": [
    "train.shape"
   ],
   "metadata": {
    "collapsed": false,
    "ExecuteTime": {
     "end_time": "2024-03-14T05:02:59.747386Z",
     "start_time": "2024-03-14T05:02:59.612097Z"
    }
   },
   "id": "a3ae68d43eafdc77",
   "execution_count": 16
  },
  {
   "cell_type": "code",
   "outputs": [],
   "source": [],
   "metadata": {
    "collapsed": false,
    "ExecuteTime": {
     "end_time": "2024-03-14T05:02:59.747467Z",
     "start_time": "2024-03-14T05:02:59.703992Z"
    }
   },
   "id": "fcdda3867eb0ad9d",
   "execution_count": 16
  },
  {
   "cell_type": "code",
   "outputs": [],
   "source": [
    "# W"
   ],
   "metadata": {
    "collapsed": false,
    "ExecuteTime": {
     "end_time": "2024-03-14T05:02:59.748385Z",
     "start_time": "2024-03-14T05:02:59.721416Z"
    }
   },
   "id": "67bca5dd6bff6cec",
   "execution_count": 17
  },
  {
   "cell_type": "code",
   "outputs": [
    {
     "data": {
      "text/plain": "(torch.Size([3652, 11]),\n torch.Size([1218, 11]),\n torch.Size([3652]),\n torch.Size([1218]))"
     },
     "execution_count": 18,
     "metadata": {},
     "output_type": "execute_result"
    }
   ],
   "source": [
    "X_train = torch.from_numpy(np.array(X_train))\n",
    "x_test = torch.from_numpy(np.array(x_test))\n",
    "y_train = torch.from_numpy(np.array(y_train))\n",
    "y_test = torch.from_numpy(np.array(y_test))\n",
    "train = torch.from_numpy(np.array(train))\n",
    "train = train.float()\n",
    "test = torch.from_numpy(np.array(test))\n",
    "test = test.float()\n",
    "\n",
    "X_train.shape, x_test.shape, y_train.shape, y_test.shape"
   ],
   "metadata": {
    "collapsed": false,
    "ExecuteTime": {
     "end_time": "2024-03-14T05:02:59.749912Z",
     "start_time": "2024-03-14T05:02:59.728002Z"
    }
   },
   "id": "c7d339d25c9f8448",
   "execution_count": 18
  },
  {
   "cell_type": "code",
   "outputs": [],
   "source": [
    "# X_train.shape, x_test.shape, y_train.shape, y_test.shape\n"
   ],
   "metadata": {
    "collapsed": false,
    "ExecuteTime": {
     "end_time": "2024-03-14T05:02:59.750973Z",
     "start_time": "2024-03-14T05:02:59.742893Z"
    }
   },
   "id": "3c993cb597389886",
   "execution_count": 19
  },
  {
   "cell_type": "code",
   "outputs": [],
   "source": [
    "# train"
   ],
   "metadata": {
    "collapsed": false,
    "ExecuteTime": {
     "end_time": "2024-03-14T05:02:59.769899Z",
     "start_time": "2024-03-14T05:02:59.745997Z"
    }
   },
   "id": "ed754e6c9e3af835",
   "execution_count": 20
  },
  {
   "cell_type": "code",
   "outputs": [],
   "source": [
    "# W"
   ],
   "metadata": {
    "collapsed": false,
    "ExecuteTime": {
     "end_time": "2024-03-14T05:02:59.778296Z",
     "start_time": "2024-03-14T05:02:59.754183Z"
    }
   },
   "id": "713be93eda5987cf",
   "execution_count": 21
  },
  {
   "cell_type": "code",
   "outputs": [],
   "source": [],
   "metadata": {
    "collapsed": false,
    "ExecuteTime": {
     "end_time": "2024-03-14T05:02:59.779774Z",
     "start_time": "2024-03-14T05:02:59.759649Z"
    }
   },
   "id": "e31d6399574af59",
   "execution_count": 21
  },
  {
   "cell_type": "code",
   "outputs": [],
   "source": [
    "import torch.nn as nn\n",
    "\n",
    "model = nn.Sequential(\n",
    "   nn.Linear(78, 1))"
   ],
   "metadata": {
    "collapsed": false,
    "ExecuteTime": {
     "end_time": "2024-03-14T05:02:59.807018Z",
     "start_time": "2024-03-14T05:02:59.763791Z"
    }
   },
   "id": "1b9e80b4084219da",
   "execution_count": 22
  },
  {
   "cell_type": "code",
   "outputs": [],
   "source": [],
   "metadata": {
    "collapsed": false,
    "ExecuteTime": {
     "end_time": "2024-03-14T05:02:59.810052Z",
     "start_time": "2024-03-14T05:02:59.776823Z"
    }
   },
   "id": "9b22d3e624ab0a03",
   "execution_count": 22
  },
  {
   "cell_type": "code",
   "outputs": [],
   "source": [],
   "metadata": {
    "collapsed": false,
    "ExecuteTime": {
     "end_time": "2024-03-14T05:02:59.811765Z",
     "start_time": "2024-03-14T05:02:59.779061Z"
    }
   },
   "id": "cc56e06904ebd998",
   "execution_count": 22
  },
  {
   "cell_type": "code",
   "outputs": [],
   "source": [
    "# import torch.optim as optim\n",
    "# \n",
    "# W = torch.zeros((78, 1), requires_grad=True)\n",
    "# b = torch.zeros(1, requires_grad=True)\n",
    "# # W.shape, b.shape\n",
    "# \n",
    "# optimizer = optim.SGD([W,b], lr=1e-9)\n",
    "# \n",
    "# nb_epochs = 1000\n",
    "# for epoch in range(nb_epochs+1):\n",
    "#     hypothesis = train.matmul(W) + b\n",
    "#     # print(hypothesis)\n",
    "#     cost = torch.mean((hypothesis-y_train)**2)\n",
    "#     optimizer.zero_grad()\n",
    "#     cost.backward()\n",
    "#     optimizer.step()\n",
    "# \n",
    "#     print(f'Epoch {epoch}번째 hypothesis : {hypothesis.squeeze().detach()} Cost: {cost.item():.3f}')"
   ],
   "metadata": {
    "collapsed": false,
    "ExecuteTime": {
     "end_time": "2024-03-14T05:02:59.823856Z",
     "start_time": "2024-03-14T05:02:59.781549Z"
    }
   },
   "id": "1b8b86469f2d0eb",
   "execution_count": 23
  },
  {
   "cell_type": "code",
   "outputs": [],
   "source": [
    "# import torch.nn as nn\n",
    "# \n",
    "# model = nn.Sequential(\n",
    "#    nn.Linear(2, 1))"
   ],
   "metadata": {
    "collapsed": false,
    "ExecuteTime": {
     "end_time": "2024-03-14T05:02:59.825500Z",
     "start_time": "2024-03-14T05:02:59.783958Z"
    }
   },
   "id": "6baf3a6af5bc6148",
   "execution_count": 24
  },
  {
   "cell_type": "code",
   "outputs": [
    {
     "name": "stdout",
     "output_type": "stream",
     "text": [
      "[Parameter containing:\n",
      "tensor([[ 6.4374e-02, -1.9065e-02, -5.4312e-02, -3.5358e-02, -7.1413e-02,\n",
      "          4.4442e-03, -1.0495e-01, -2.9521e-02,  2.6126e-02,  3.5196e-02,\n",
      "          4.0355e-02,  9.1243e-02,  6.7646e-02,  5.7631e-02, -2.4267e-02,\n",
      "          3.1779e-02, -6.5577e-02, -8.3950e-02, -1.2689e-02,  9.7934e-02,\n",
      "          6.0616e-02, -1.7078e-02, -5.4745e-02, -7.1307e-02, -1.1649e-05,\n",
      "         -1.0441e-01, -1.2434e-02,  8.9738e-02, -1.7950e-03,  8.9879e-02,\n",
      "          9.1428e-02,  5.7253e-02, -8.2795e-03, -4.9309e-02, -8.3275e-02,\n",
      "         -1.0927e-01, -4.8273e-02,  5.9937e-02, -9.0997e-02,  4.2035e-02,\n",
      "         -2.0563e-02,  9.9231e-02,  2.5593e-02, -3.4387e-02,  6.0759e-02,\n",
      "         -1.4301e-02, -4.6367e-02, -8.8541e-02,  4.6548e-02, -4.9171e-04,\n",
      "         -5.3029e-02,  9.6739e-02, -6.8172e-02, -3.2505e-02,  4.2879e-02,\n",
      "          2.9679e-02,  6.2804e-02, -5.5074e-02, -5.9361e-02, -9.0031e-02,\n",
      "          1.1093e-01, -1.0718e-01, -8.6923e-04, -6.8284e-02,  3.5494e-02,\n",
      "         -1.0127e-01, -1.9692e-02, -1.9671e-02, -5.4551e-02, -9.5182e-03,\n",
      "          5.0398e-02, -1.0083e-01, -5.9824e-02,  6.1948e-02,  2.3307e-02,\n",
      "          7.3007e-02,  4.7560e-02, -5.5253e-02]], requires_grad=True), Parameter containing:\n",
      "tensor([0.0625], requires_grad=True)]\n"
     ]
    },
    {
     "data": {
      "text/plain": "[Parameter containing:\n tensor([[ 6.4374e-02, -1.9065e-02, -5.4312e-02, -3.5358e-02, -7.1413e-02,\n           4.4442e-03, -1.0495e-01, -2.9521e-02,  2.6126e-02,  3.5196e-02,\n           4.0355e-02,  9.1243e-02,  6.7646e-02,  5.7631e-02, -2.4267e-02,\n           3.1779e-02, -6.5577e-02, -8.3950e-02, -1.2689e-02,  9.7934e-02,\n           6.0616e-02, -1.7078e-02, -5.4745e-02, -7.1307e-02, -1.1649e-05,\n          -1.0441e-01, -1.2434e-02,  8.9738e-02, -1.7950e-03,  8.9879e-02,\n           9.1428e-02,  5.7253e-02, -8.2795e-03, -4.9309e-02, -8.3275e-02,\n          -1.0927e-01, -4.8273e-02,  5.9937e-02, -9.0997e-02,  4.2035e-02,\n          -2.0563e-02,  9.9231e-02,  2.5593e-02, -3.4387e-02,  6.0759e-02,\n          -1.4301e-02, -4.6367e-02, -8.8541e-02,  4.6548e-02, -4.9171e-04,\n          -5.3029e-02,  9.6739e-02, -6.8172e-02, -3.2505e-02,  4.2879e-02,\n           2.9679e-02,  6.2804e-02, -5.5074e-02, -5.9361e-02, -9.0031e-02,\n           1.1093e-01, -1.0718e-01, -8.6923e-04, -6.8284e-02,  3.5494e-02,\n          -1.0127e-01, -1.9692e-02, -1.9671e-02, -5.4551e-02, -9.5182e-03,\n           5.0398e-02, -1.0083e-01, -5.9824e-02,  6.1948e-02,  2.3307e-02,\n           7.3007e-02,  4.7560e-02, -5.5253e-02]], requires_grad=True),\n Parameter containing:\n tensor([0.0625], requires_grad=True)]"
     },
     "execution_count": 25,
     "metadata": {},
     "output_type": "execute_result"
    }
   ],
   "source": [
    "print(list(model.parameters()))\n",
    "weights = list(model.parameters())\n",
    "\n",
    "weights"
   ],
   "metadata": {
    "collapsed": false,
    "ExecuteTime": {
     "end_time": "2024-03-14T05:02:59.827790Z",
     "start_time": "2024-03-14T05:02:59.786643Z"
    }
   },
   "id": "c36e5a2836773e6e",
   "execution_count": 25
  },
  {
   "cell_type": "code",
   "outputs": [
    {
     "data": {
      "text/plain": "tensor([1.0000e+00, 5.8000e+00, 2.6000e-01, 2.9000e-01, 1.0000e+00, 4.2000e-02,\n        3.5000e+01, 1.0100e+02, 9.9044e-01, 3.3600e+00, 4.8000e-01, 1.1400e+01,\n        3.3640e+01, 1.5080e+00, 1.6820e+00, 5.8000e+00, 2.4360e-01, 2.0300e+02,\n        5.8580e+02, 5.7446e+00, 1.9488e+01, 2.7840e+00, 6.6120e+01, 6.7600e-02,\n        7.5400e-02, 2.6000e-01, 1.0920e-02, 9.1000e+00, 2.6260e+01, 2.5751e-01,\n        8.7360e-01, 1.2480e-01, 2.9640e+00, 8.4100e-02, 2.9000e-01, 1.2180e-02,\n        1.0150e+01, 2.9290e+01, 2.8723e-01, 9.7440e-01, 1.3920e-01, 3.3060e+00,\n        1.0000e+00, 4.2000e-02, 3.5000e+01, 1.0100e+02, 9.9044e-01, 3.3600e+00,\n        4.8000e-01, 1.1400e+01, 1.7640e-03, 1.4700e+00, 4.2420e+00, 4.1598e-02,\n        1.4112e-01, 2.0160e-02, 4.7880e-01, 1.2250e+03, 3.5350e+03, 3.4665e+01,\n        1.1760e+02, 1.6800e+01, 3.9900e+02, 1.0201e+04, 1.0003e+02, 3.3936e+02,\n        4.8480e+01, 1.1514e+03, 9.8097e-01, 3.3279e+00, 4.7541e-01, 1.1291e+01,\n        1.1290e+01, 1.6128e+00, 3.8304e+01, 2.3040e-01, 5.4720e+00, 1.2996e+02])"
     },
     "execution_count": 26,
     "metadata": {},
     "output_type": "execute_result"
    }
   ],
   "source": [
    "test[0]"
   ],
   "metadata": {
    "collapsed": false,
    "ExecuteTime": {
     "end_time": "2024-03-14T05:02:59.827892Z",
     "start_time": "2024-03-14T05:02:59.793221Z"
    }
   },
   "id": "3802de92ea7d4f73",
   "execution_count": 26
  },
  {
   "cell_type": "code",
   "outputs": [],
   "source": [
    "# torch.tensor(weights).mul(test[0])+b"
   ],
   "metadata": {
    "collapsed": false,
    "ExecuteTime": {
     "end_time": "2024-03-14T05:02:59.828728Z",
     "start_time": "2024-03-14T05:02:59.798458Z"
    }
   },
   "id": "2cc176ac7879458d",
   "execution_count": 27
  },
  {
   "cell_type": "code",
   "outputs": [
    {
     "name": "stdout",
     "output_type": "stream",
     "text": [
      "tensor([-1055.0681], grad_fn=<AddBackward0>) tensor(5)\n"
     ]
    }
   ],
   "source": [
    "weights = list(model.parameters())[0]\n",
    "bias = list(model.parameters())[1]\n",
    "\n",
    "prediction = torch.mv(weights, test[0]) + bias\n",
    "print(prediction, y_train[0])"
   ],
   "metadata": {
    "collapsed": false,
    "ExecuteTime": {
     "end_time": "2024-03-14T05:02:59.864996Z",
     "start_time": "2024-03-14T05:02:59.804263Z"
    }
   },
   "id": "eb38d187fd283356",
   "execution_count": 28
  },
  {
   "cell_type": "markdown",
   "source": [
    "1점에서 10점 사이에 내라고 했는데 자꾸 -300~ 1500 사이에서 최소 300이상 차이나게 나옴..\n",
    "지나가는 개 짖는 소리로 점수줘도 이거보단 오차가 작겠다"
   ],
   "metadata": {
    "collapsed": false
   },
   "id": "612a0e8f489eb07f"
  },
  {
   "cell_type": "code",
   "outputs": [],
   "source": [],
   "metadata": {
    "collapsed": false,
    "ExecuteTime": {
     "end_time": "2024-03-14T05:02:59.866076Z",
     "start_time": "2024-03-14T05:02:59.807544Z"
    }
   },
   "id": "f3de5d3754faa90d",
   "execution_count": 28
  },
  {
   "cell_type": "markdown",
   "source": [
    "# classifier"
   ],
   "metadata": {
    "collapsed": false
   },
   "id": "e046e8068e3b61fa"
  },
  {
   "cell_type": "code",
   "outputs": [
    {
     "data": {
      "text/plain": "      fixed acidity  volatile acidity  citric acid  residual sugar  chlorides  \\\n0               7.0              0.27         0.36            20.7      0.045   \n1               6.3              0.30         0.34             1.6      0.049   \n2               8.1              0.28         0.40             6.9      0.050   \n3               7.2              0.23         0.32             8.5      0.058   \n4               7.2              0.23         0.32             8.5      0.058   \n...             ...               ...          ...             ...        ...   \n4891            5.7              0.21         0.32             0.9      0.038   \n4893            6.2              0.21         0.29             1.6      0.039   \n4894            6.6              0.32         0.36             8.0      0.047   \n4896            5.5              0.29         0.30             1.1      0.022   \n4897            6.0              0.21         0.38             0.8      0.020   \n\n      free sulfur dioxide  total sulfur dioxide  density    pH  sulphates  \\\n0                    45.0                 170.0  1.00100  3.00       0.45   \n1                    14.0                 132.0  0.99400  3.30       0.49   \n2                    30.0                  97.0  0.99510  3.26       0.44   \n3                    47.0                 186.0  0.99560  3.19       0.40   \n4                    47.0                 186.0  0.99560  3.19       0.40   \n...                   ...                   ...      ...   ...        ...   \n4891                 38.0                 121.0  0.99074  3.24       0.46   \n4893                 24.0                  92.0  0.99114  3.27       0.50   \n4894                 57.0                 168.0  0.99490  3.15       0.46   \n4896                 20.0                 110.0  0.98869  3.34       0.38   \n4897                 22.0                  98.0  0.98941  3.26       0.32   \n\n      alcohol  \n0         8.8  \n1         9.5  \n2        10.1  \n3         9.9  \n4         9.9  \n...       ...  \n4891     10.6  \n4893     11.2  \n4894      9.6  \n4896     12.8  \n4897     11.8  \n\n[4870 rows x 11 columns]",
      "text/html": "<div>\n<style scoped>\n    .dataframe tbody tr th:only-of-type {\n        vertical-align: middle;\n    }\n\n    .dataframe tbody tr th {\n        vertical-align: top;\n    }\n\n    .dataframe thead th {\n        text-align: right;\n    }\n</style>\n<table border=\"1\" class=\"dataframe\">\n  <thead>\n    <tr style=\"text-align: right;\">\n      <th></th>\n      <th>fixed acidity</th>\n      <th>volatile acidity</th>\n      <th>citric acid</th>\n      <th>residual sugar</th>\n      <th>chlorides</th>\n      <th>free sulfur dioxide</th>\n      <th>total sulfur dioxide</th>\n      <th>density</th>\n      <th>pH</th>\n      <th>sulphates</th>\n      <th>alcohol</th>\n    </tr>\n  </thead>\n  <tbody>\n    <tr>\n      <th>0</th>\n      <td>7.0</td>\n      <td>0.27</td>\n      <td>0.36</td>\n      <td>20.7</td>\n      <td>0.045</td>\n      <td>45.0</td>\n      <td>170.0</td>\n      <td>1.00100</td>\n      <td>3.00</td>\n      <td>0.45</td>\n      <td>8.8</td>\n    </tr>\n    <tr>\n      <th>1</th>\n      <td>6.3</td>\n      <td>0.30</td>\n      <td>0.34</td>\n      <td>1.6</td>\n      <td>0.049</td>\n      <td>14.0</td>\n      <td>132.0</td>\n      <td>0.99400</td>\n      <td>3.30</td>\n      <td>0.49</td>\n      <td>9.5</td>\n    </tr>\n    <tr>\n      <th>2</th>\n      <td>8.1</td>\n      <td>0.28</td>\n      <td>0.40</td>\n      <td>6.9</td>\n      <td>0.050</td>\n      <td>30.0</td>\n      <td>97.0</td>\n      <td>0.99510</td>\n      <td>3.26</td>\n      <td>0.44</td>\n      <td>10.1</td>\n    </tr>\n    <tr>\n      <th>3</th>\n      <td>7.2</td>\n      <td>0.23</td>\n      <td>0.32</td>\n      <td>8.5</td>\n      <td>0.058</td>\n      <td>47.0</td>\n      <td>186.0</td>\n      <td>0.99560</td>\n      <td>3.19</td>\n      <td>0.40</td>\n      <td>9.9</td>\n    </tr>\n    <tr>\n      <th>4</th>\n      <td>7.2</td>\n      <td>0.23</td>\n      <td>0.32</td>\n      <td>8.5</td>\n      <td>0.058</td>\n      <td>47.0</td>\n      <td>186.0</td>\n      <td>0.99560</td>\n      <td>3.19</td>\n      <td>0.40</td>\n      <td>9.9</td>\n    </tr>\n    <tr>\n      <th>...</th>\n      <td>...</td>\n      <td>...</td>\n      <td>...</td>\n      <td>...</td>\n      <td>...</td>\n      <td>...</td>\n      <td>...</td>\n      <td>...</td>\n      <td>...</td>\n      <td>...</td>\n      <td>...</td>\n    </tr>\n    <tr>\n      <th>4891</th>\n      <td>5.7</td>\n      <td>0.21</td>\n      <td>0.32</td>\n      <td>0.9</td>\n      <td>0.038</td>\n      <td>38.0</td>\n      <td>121.0</td>\n      <td>0.99074</td>\n      <td>3.24</td>\n      <td>0.46</td>\n      <td>10.6</td>\n    </tr>\n    <tr>\n      <th>4893</th>\n      <td>6.2</td>\n      <td>0.21</td>\n      <td>0.29</td>\n      <td>1.6</td>\n      <td>0.039</td>\n      <td>24.0</td>\n      <td>92.0</td>\n      <td>0.99114</td>\n      <td>3.27</td>\n      <td>0.50</td>\n      <td>11.2</td>\n    </tr>\n    <tr>\n      <th>4894</th>\n      <td>6.6</td>\n      <td>0.32</td>\n      <td>0.36</td>\n      <td>8.0</td>\n      <td>0.047</td>\n      <td>57.0</td>\n      <td>168.0</td>\n      <td>0.99490</td>\n      <td>3.15</td>\n      <td>0.46</td>\n      <td>9.6</td>\n    </tr>\n    <tr>\n      <th>4896</th>\n      <td>5.5</td>\n      <td>0.29</td>\n      <td>0.30</td>\n      <td>1.1</td>\n      <td>0.022</td>\n      <td>20.0</td>\n      <td>110.0</td>\n      <td>0.98869</td>\n      <td>3.34</td>\n      <td>0.38</td>\n      <td>12.8</td>\n    </tr>\n    <tr>\n      <th>4897</th>\n      <td>6.0</td>\n      <td>0.21</td>\n      <td>0.38</td>\n      <td>0.8</td>\n      <td>0.020</td>\n      <td>22.0</td>\n      <td>98.0</td>\n      <td>0.98941</td>\n      <td>3.26</td>\n      <td>0.32</td>\n      <td>11.8</td>\n    </tr>\n  </tbody>\n</table>\n<p>4870 rows × 11 columns</p>\n</div>"
     },
     "execution_count": 29,
     "metadata": {},
     "output_type": "execute_result"
    }
   ],
   "source": [
    "featureDF"
   ],
   "metadata": {
    "collapsed": false,
    "ExecuteTime": {
     "end_time": "2024-03-14T05:02:59.877827Z",
     "start_time": "2024-03-14T05:02:59.816211Z"
    }
   },
   "id": "c2de3b1cd83fabd3",
   "execution_count": 29
  },
  {
   "cell_type": "code",
   "outputs": [
    {
     "data": {
      "text/plain": "array([6, 5, 7, 8, 4, 3, 9])"
     },
     "execution_count": 30,
     "metadata": {},
     "output_type": "execute_result"
    }
   ],
   "source": [
    "targetDF.unique()"
   ],
   "metadata": {
    "collapsed": false,
    "ExecuteTime": {
     "end_time": "2024-03-14T05:02:59.890590Z",
     "start_time": "2024-03-14T05:02:59.822834Z"
    }
   },
   "id": "51c20ec031445801",
   "execution_count": 30
  },
  {
   "cell_type": "code",
   "outputs": [
    {
     "data": {
      "text/plain": "array([1, 0])"
     },
     "execution_count": 31,
     "metadata": {},
     "output_type": "execute_result"
    }
   ],
   "source": [
    "targetDF = targetDF.replace({1:0, 2:0, 3:0, 4:0, 5:0, 6:1,7:1,8:1,9:1,10:1})\n",
    "targetDF.unique()"
   ],
   "metadata": {
    "collapsed": false,
    "ExecuteTime": {
     "end_time": "2024-03-14T05:02:59.891986Z",
     "start_time": "2024-03-14T05:02:59.834187Z"
    }
   },
   "id": "cead39ef2d872a6b",
   "execution_count": 31
  },
  {
   "cell_type": "code",
   "outputs": [
    {
     "data": {
      "text/plain": "array([1, 1, 1, ..., 0, 1, 1])"
     },
     "execution_count": 32,
     "metadata": {},
     "output_type": "execute_result"
    }
   ],
   "source": [
    "targetNP = np.array(targetDF)\n",
    "targetNP"
   ],
   "metadata": {
    "collapsed": false,
    "ExecuteTime": {
     "end_time": "2024-03-14T05:02:59.892971Z",
     "start_time": "2024-03-14T05:02:59.838961Z"
    }
   },
   "id": "a47c9af0ed921600",
   "execution_count": 32
  },
  {
   "cell_type": "code",
   "outputs": [
    {
     "data": {
      "text/plain": "(torch.Size([4870, 11]), torch.Size([4870]))"
     },
     "execution_count": 33,
     "metadata": {},
     "output_type": "execute_result"
    }
   ],
   "source": [
    "targetTS = torch.tensor(targetNP)\n",
    "featureTS.shape, targetTS.shape"
   ],
   "metadata": {
    "collapsed": false,
    "ExecuteTime": {
     "end_time": "2024-03-14T05:02:59.893896Z",
     "start_time": "2024-03-14T05:02:59.842282Z"
    }
   },
   "id": "c6c988fa88ff5b6",
   "execution_count": 33
  },
  {
   "cell_type": "code",
   "outputs": [],
   "source": [
    "model = nn.Sequential(\n",
    "    nn.Linear(78, 1),\n",
    "    nn.LogSigmoid()\n",
    ")"
   ],
   "metadata": {
    "collapsed": false,
    "ExecuteTime": {
     "end_time": "2024-03-14T05:02:59.899425Z",
     "start_time": "2024-03-14T05:02:59.846377Z"
    }
   },
   "id": "fa70fbd7a5a6e57e",
   "execution_count": 34
  },
  {
   "cell_type": "code",
   "outputs": [],
   "source": [
    "import torch.nn.functional as F"
   ],
   "metadata": {
    "collapsed": false,
    "ExecuteTime": {
     "end_time": "2024-03-14T05:02:59.900382Z",
     "start_time": "2024-03-14T05:02:59.849173Z"
    }
   },
   "id": "715a2dea1ea69747",
   "execution_count": 35
  },
  {
   "cell_type": "code",
   "outputs": [],
   "source": [],
   "metadata": {
    "collapsed": false,
    "ExecuteTime": {
     "end_time": "2024-03-14T05:02:59.901201Z",
     "start_time": "2024-03-14T05:02:59.852782Z"
    }
   },
   "id": "609c54981a6b9f07",
   "execution_count": 35
  },
  {
   "cell_type": "code",
   "outputs": [
    {
     "data": {
      "text/plain": "array([0, 1])"
     },
     "execution_count": 36,
     "metadata": {},
     "output_type": "execute_result"
    }
   ],
   "source": [
    "y_train1 = y_train1.replace({1:0, 2:0, 3:0, 4:0, 5:0, 6:1,7:1,8:1,9:1,10:1})\n",
    "y_train1.unique()"
   ],
   "metadata": {
    "collapsed": false,
    "ExecuteTime": {
     "end_time": "2024-03-14T05:02:59.937446Z",
     "start_time": "2024-03-14T05:02:59.855572Z"
    }
   },
   "id": "a2871f3153372c1d",
   "execution_count": 36
  },
  {
   "cell_type": "code",
   "outputs": [
    {
     "data": {
      "text/plain": "tensor([[1.0000e+00, 5.2000e+00, 6.0000e-01,  ..., 3.3640e-01, 5.6260e+00,\n         9.4090e+01],\n        [1.0000e+00, 6.2000e+00, 2.5000e-01,  ..., 1.6000e-01, 4.4400e+00,\n         1.2321e+02],\n        [1.0000e+00, 7.1000e+00, 2.1000e-01,  ..., 1.5210e-01, 4.2120e+00,\n         1.1664e+02],\n        ...,\n        [1.0000e+00, 6.7000e+00, 2.5000e-01,  ..., 2.3040e-01, 4.5600e+00,\n         9.0250e+01],\n        [1.0000e+00, 5.4000e+00, 1.5000e-01,  ..., 3.3640e-01, 7.3080e+00,\n         1.5876e+02],\n        [1.0000e+00, 6.8000e+00, 2.4000e-01,  ..., 3.3640e-01, 5.6260e+00,\n         9.4090e+01]])"
     },
     "execution_count": 37,
     "metadata": {},
     "output_type": "execute_result"
    }
   ],
   "source": [
    "train"
   ],
   "metadata": {
    "collapsed": false,
    "ExecuteTime": {
     "end_time": "2024-03-14T05:02:59.938302Z",
     "start_time": "2024-03-14T05:02:59.860573Z"
    }
   },
   "id": "c481512f8949e7e1",
   "execution_count": 37
  },
  {
   "cell_type": "code",
   "outputs": [
    {
     "ename": "NameError",
     "evalue": "name 'W' is not defined",
     "output_type": "error",
     "traceback": [
      "\u001B[0;31m---------------------------------------------------------------------------\u001B[0m",
      "\u001B[0;31mNameError\u001B[0m                                 Traceback (most recent call last)",
      "Cell \u001B[0;32mIn[39], line 3\u001B[0m\n\u001B[1;32m      1\u001B[0m \u001B[38;5;28;01mimport\u001B[39;00m \u001B[38;5;21;01mtorch\u001B[39;00m\u001B[38;5;21;01m.\u001B[39;00m\u001B[38;5;21;01moptim\u001B[39;00m \u001B[38;5;28;01mas\u001B[39;00m \u001B[38;5;21;01moptim\u001B[39;00m\n\u001B[0;32m----> 3\u001B[0m optimizer \u001B[38;5;241m=\u001B[39m optim\u001B[38;5;241m.\u001B[39mSGD([\u001B[43mW\u001B[49m,b], lr\u001B[38;5;241m=\u001B[39m\u001B[38;5;241m1e-9\u001B[39m)\n\u001B[1;32m      6\u001B[0m nb_epochs \u001B[38;5;241m=\u001B[39m \u001B[38;5;241m1000\u001B[39m\n\u001B[1;32m      7\u001B[0m y_train1 \u001B[38;5;241m=\u001B[39m torch\u001B[38;5;241m.\u001B[39mfrom_numpy(np\u001B[38;5;241m.\u001B[39marray(y_train1))\u001B[38;5;241m.\u001B[39munsqueeze(\u001B[38;5;241m1\u001B[39m)\u001B[38;5;241m.\u001B[39mfloat()  \n",
      "\u001B[0;31mNameError\u001B[0m: name 'W' is not defined"
     ]
    }
   ],
   "source": [
    "import torch.optim as optim\n",
    "\n",
    "nb_epochs = 1000\n",
    "y_train1 = torch.from_numpy(np.array(y_train1)).unsqueeze(1).float()  \n",
    "\n",
    "for epoch in range(nb_epochs+1):\n",
    "    # hypothesis = model(train)\n",
    "\n",
    "    hypothesis = torch.sigmoid(model(train))\n",
    "    # print(hypothesis)\n",
    "    # print(train.shape, y_train1.shape)\n",
    "    # print(y_train.unsqueeze(1).shape)\n",
    "    # print(y_train1)\n",
    "\n",
    "\n",
    "    cost = F.binary_cross_entropy(hypothesis, y_train1)\n",
    "\n",
    "    optimizer.zero_grad()\n",
    "    cost.backward()\n",
    "    optimizer.step()\n",
    "\n",
    "    if epoch % 10 == 0:\n",
    "        prediction = (hypothesis >= 0.5).float()\n",
    "        correct_prediction = prediction == y_train1\n",
    "        accuracy = correct_prediction.sum().item() / len(correct_prediction)\n",
    "        print(f'Epoch {epoch}/{nb_epochs}, Cost: {cost.item():.4f}, Accuracy: {accuracy*100:.2f}%')"
   ],
   "metadata": {
    "collapsed": false,
    "ExecuteTime": {
     "end_time": "2024-03-14T05:03:18.790626Z",
     "start_time": "2024-03-14T05:03:18.762647Z"
    }
   },
   "id": "685014b141f73b68",
   "execution_count": 39
  },
  {
   "cell_type": "markdown",
   "source": [
    "어떻게 Cost, Accuracy가 단 한번도 안바뀌냐.."
   ],
   "metadata": {
    "collapsed": false
   },
   "id": "1d1f537bfb8f0eb7"
  },
  {
   "cell_type": "code",
   "outputs": [],
   "source": [
    "# 학습 후 W, b 확인\n",
    "print(list(model.parameters()))"
   ],
   "metadata": {
    "collapsed": false,
    "ExecuteTime": {
     "start_time": "2024-03-14T05:03:00.138342Z"
    }
   },
   "id": "39a778be1aebf918",
   "execution_count": null
  },
  {
   "cell_type": "code",
   "outputs": [],
   "source": [
    "weights = list(model.parameters())[0]\n",
    "bias = list(model.parameters())[1]\n",
    "\n",
    "prediction = torch.mv(weights, test[0]) + bias\n",
    "print(prediction, y_train[0])"
   ],
   "metadata": {
    "collapsed": false,
    "ExecuteTime": {
     "end_time": "2024-03-14T05:03:00.143387Z",
     "start_time": "2024-03-14T05:03:00.139939Z"
    }
   },
   "id": "6cbe522e85336a23",
   "execution_count": null
  },
  {
   "cell_type": "code",
   "outputs": [],
   "source": [],
   "metadata": {
    "collapsed": false,
    "ExecuteTime": {
     "start_time": "2024-03-14T05:03:00.141032Z"
    }
   },
   "id": "bcb74539d9c641bb",
   "execution_count": null
  }
 ],
 "metadata": {
  "kernelspec": {
   "display_name": "Python 3",
   "language": "python",
   "name": "python3"
  },
  "language_info": {
   "codemirror_mode": {
    "name": "ipython",
    "version": 2
   },
   "file_extension": ".py",
   "mimetype": "text/x-python",
   "name": "python",
   "nbconvert_exporter": "python",
   "pygments_lexer": "ipython2",
   "version": "2.7.6"
  }
 },
 "nbformat": 4,
 "nbformat_minor": 5
}
