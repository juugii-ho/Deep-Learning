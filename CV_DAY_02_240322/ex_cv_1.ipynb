{
 "cells": [
  {
   "cell_type": "code",
   "execution_count": 2,
   "metadata": {
    "ExecuteTime": {
     "end_time": "2024-03-22T01:55:03.209993Z",
     "start_time": "2024-03-22T01:55:00.340280Z"
    }
   },
   "outputs": [
    {
     "name": "stdout",
     "output_type": "stream",
     "text": [
      "[Color IMAGE]\n",
      "SHAPE : (484, 418, 3)     DIM : 3차원  DTYPE : uint8     SIZE : 606936바이트\n",
      "[Gray IMAGE]\n",
      "SHAPE : (484, 418)     DIM : 2차원  DTYPE : uint8     SIZE : 202312바이트\n"
     ]
    }
   ],
   "source": [
    "### ===> 모듈 로딩\n",
    "import cv2\n",
    "import numpy as np\n",
    "##%% md\n",
    "## [1] 이미지 데이터 로딩 <hr>\n",
    "### 컬러 / 회색이미지 변환 로딩 가능함\n",
    "##%%\n",
    "file='../data/img/han1.png'\n",
    "##%%\n",
    "### => 컬러 이미지 로딩 [기본값]\n",
    "img_rgb=cv2.imread(file, cv2.IMREAD_COLOR)\n",
    "\n",
    "### => 회색 이미지 로딩\n",
    "img_gray=cv2.imread(file, cv2.IMREAD_GRAYSCALE)\n",
    "##%%\n",
    "### => 이미지 데이터 정보확인\n",
    "print(f'[Color IMAGE]')\n",
    "print(f'SHAPE : {img_rgb.shape}     DIM : {img_rgb.ndim}차원', end='  ')\n",
    "print(f'DTYPE : {img_rgb.dtype}     SIZE : {img_rgb.size}바이트')\n",
    "##%%\n",
    "### => 이미지 데이터 정보확인\n",
    "print(f'[Gray IMAGE]')\n",
    "print(f'SHAPE : {img_gray.shape}     DIM : {img_gray.ndim}차원', end='  ')\n",
    "print(f'DTYPE : {img_gray.dtype}     SIZE : {img_gray.size}바이트')\n",
    "##%%\n",
    "### => 이미지 창 띄우기\n",
    "# cv2.imshow('Color Image', img_rgb)\n",
    "\n",
    "# ### => 이미지 창 제어\n",
    "# cv2.waitKey(0)\n",
    "\n",
    "# ### => 이미지 창 닫기\n",
    "# cv2.destroyWindow('Color Image')\n",
    "# cv2.waitKey(0)\n",
    "# cv2.waitKey(0)\n",
    "# cv2.waitKey(0)\n",
    "# cv2.waitKey(0)\n",
    "# cv2.waitKey(0)"
   ]
  },
  {
   "cell_type": "code",
   "execution_count": 2,
   "metadata": {},
   "outputs": [],
   "source": [
    "img_file = '../data/img/cha1.jpeg'\n",
    "img =cv2.imread(img_file)\n",
    "\n",
    "if img is not None:\n",
    "    cv2.imshow('cha', img)\n",
    "    cv2.waitKey()\n",
    "    cv2.destroyAllWindows()\n",
    "    cv2.waitKey()\n",
    "    cv2.waitKey()\n",
    "    cv2.waitKey()\n",
    "    cv2.waitKey()\n",
    "    cv2.waitKey()\n",
    "else:\n",
    "    print('No image file!!!')\n"
   ]
  },
  {
   "cell_type": "code",
   "execution_count": 3,
   "metadata": {},
   "outputs": [
    {
     "name": "stdout",
     "output_type": "stream",
     "text": [
      "key=>27-0x1b\n"
     ]
    }
   ],
   "source": [
    "if img is not None:\n",
    "    cv2.imshow('cha',img)\n",
    "    while True:\n",
    "        key=cv2.waitKey()\n",
    "        print(f'key=>{key}-{hex(key)}')\n",
    "\n",
    "        if key==27:\n",
    "            cv2.destroyAllWindows()\n",
    "            cv2.waitKey()\n",
    "            cv2.waitKey()\n",
    "            cv2.waitKey()\n",
    "\n",
    "            break\n",
    "else:\n",
    "    print('No image file!!')"
   ]
  },
  {
   "cell_type": "code",
   "execution_count": 4,
   "metadata": {},
   "outputs": [],
   "source": [
    "img_file = '../data/img/han2.png'\n",
    "img_gray = cv2.imread(img_file, cv2.IMREAD_GRAYSCALE)\n",
    "\n",
    "save_filename = '../data/img/han22.jpeg'\n",
    "gray_file = cv2.imwrite(save_filename, img_gray)"
   ]
  },
  {
   "cell_type": "code",
   "execution_count": 5,
   "metadata": {},
   "outputs": [
    {
     "data": {
      "text/plain": [
       "-1"
      ]
     },
     "execution_count": 5,
     "metadata": {},
     "output_type": "execute_result"
    }
   ],
   "source": [
    "import time \n",
    "\n",
    "img_file = '../data/img/han3.jpg.png'\n",
    "img = cv2.imread(img_file)\n",
    "\n",
    "img_b, img_g, img_r = cv2.split(img)\n",
    "\n",
    "cv2.imshow('[Blue Channel]', img_b)\n",
    "time.sleep(1)\n",
    "cv2.imshow('[Green Channel]', img_g)\n",
    "time.sleep(1)\n",
    "cv2.imshow('[Red Channel]', img_r)\n",
    "\n",
    "cv2.waitKey()\n",
    "cv2.destroyAllWindows()\n",
    "cv2.waitKey()\n",
    "cv2.waitKey()\n",
    "cv2.waitKey()\n",
    "cv2.waitKey()\n",
    "cv2.waitKey()\n"
   ]
  },
  {
   "cell_type": "code",
   "execution_count": 4,
   "metadata": {},
   "outputs": [],
   "source": [
    "img_file = '../data/img/han4.png'\n",
    "img = cv2.imread(img_file)\n",
    "\n",
    "b, g, r = img[:,:,0], img[:,:,1], img[:,:,2]\n",
    "\n",
    "cv2.imshow('b', b)\n",
    "cv2.imshow('g', g)\n",
    "cv2.imshow('r',r)\n",
    "cv2.waitKey()\n",
    "cv2.destroyAllWindows()\n",
    "cv2.waitKey()\n",
    "cv2.waitKey()\n",
    "cv2.waitKey()\n",
    "cv2.waitKey()\n",
    "cv2.waitKey()\n"
   ]
  },
  {
   "cell_type": "code",
   "execution_count": 3,
   "metadata": {},
   "outputs": [],
   "source": [
    "img_file = '../data/img/han4.png'\n",
    "img = cv2.imread(img_file)\n",
    "\n",
    "b, g, r = img[:,:,0], img[:,:,1], img[:,:,2]\n",
    "\n",
    "\n",
    "img_b, img_g, img_r = cv2.split(img)\n",
    "\n",
    "img_rgb = cv2.merge((img_r, img_g, img_b))\n",
    "\n",
    "cv2.imshow('[RGB IMAGE]', img_rgb)\n",
    "\n",
    "cv2.waitKey()\n",
    "cv2.destroyAllWindows()"
   ]
  },
  {
   "cell_type": "code",
   "execution_count": 4,
   "metadata": {},
   "outputs": [],
   "source": [
    "import cv2\n",
    "import numpy as np\n",
    "\n",
    "img_file = '../data/img/han2.png'\n",
    "img = cv2.imread(img_file)\n",
    "\n",
    "src_hsv = cv2.cvtColor(img, cv2.COLOR_BGR2HSV)\n",
    "planes = cv2.split(src_hsv)\n",
    "\n",
    "cv2.imshow('[HSV IMG]', src_hsv)\n",
    "\n",
    "cv2.waitKey()\n",
    "cv2.destroyAllWindows()"
   ]
  },
  {
   "cell_type": "code",
   "execution_count": 1,
   "metadata": {},
   "outputs": [],
   "source": [
    "import cv2\n",
    "import time\n",
    "import sys\n",
    "import numpy as np\n",
    "\n",
    "img_file = '../data/img/han1.png' # 이미지 경로\n",
    "img = cv2.imread(img_file) # 이미지 로딩\n",
    "down_img = cv2.resize(img, dsize=(30, 30), interpolation=cv2.INTER_AREA)\n",
    "up_img = cv2.resize(img, dsize=(0, 0), fx=1.5, fy=1.5, interpolation=cv2.INTER_CUBIC)\n",
    "\n",
    "# cv2.imshow( \"down_img\", down_img )\n",
    "# cv2.imshow( \"up_img\", up_img )\n",
    "# cv2.imshow('ORG', img)\n",
    "# time.sleep(1)\n",
    "# cv2.destroyAllWindows()\n",
    "# cv2.waitKey(1)\n",
    "# cv2.waitKey(1)\n",
    "# cv2.waitKey(1)\n",
    "# cv2.waitKey(1)\n",
    " "
   ]
  },
  {
   "cell_type": "code",
   "execution_count": 3,
   "metadata": {},
   "outputs": [
    {
     "data": {
      "text/plain": [
       "((300, 300), 2)"
      ]
     },
     "execution_count": 3,
     "metadata": {},
     "output_type": "execute_result"
    }
   ],
   "source": [
    "## 도화지 만들기\n",
    "\n",
    "img = np.zeros((300,300), dtype=np.uint8)\n",
    "img_w = np.full((300,300),255, dtype=np.uint8)\n",
    "ret = cv2.imwrite('../data/img/blank.jpg', img_w)\n",
    "ret\n",
    "\n",
    "img.shape, img.ndim"
   ]
  },
  {
   "cell_type": "code",
   "execution_count": 4,
   "metadata": {},
   "outputs": [
    {
     "name": "stdout",
     "output_type": "stream",
     "text": [
      "[[0 0 0 ... 0 0 0]\n",
      " [0 0 0 ... 0 0 0]\n",
      " [0 0 0 ... 0 0 0]\n",
      " ...\n",
      " [0 0 0 ... 0 0 0]\n",
      " [0 0 0 ... 0 0 0]\n",
      " [0 0 0 ... 0 0 0]]\n"
     ]
    }
   ],
   "source": [
    "cv2.line(img, (10,10), (70,70), (255,0,0))\n",
    "print(img)"
   ]
  },
  {
   "cell_type": "code",
   "execution_count": 5,
   "metadata": {},
   "outputs": [],
   "source": [
    "cv2.imshow('img',img)\n",
    "cv2.imshow('img_w',img_w)\n",
    "\n",
    "# cv2.destroyWindow('img')\n",
    "# cv2.destroyWindow('img_w')\n"
   ]
  },
  {
   "cell_type": "code",
   "execution_count": 6,
   "metadata": {},
   "outputs": [
    {
     "data": {
      "text/plain": [
       "-1"
      ]
     },
     "execution_count": 6,
     "metadata": {},
     "output_type": "execute_result"
    }
   ],
   "source": [
    "cv2.line(img,(50,50),(150,50),(255,0,0))\n",
    "cv2.line(img,(200,50),(300,50),(0,255,0))\n",
    "cv2.line(img,(350,50),(450,50),(0,0,255))\n",
    "cv2.line(img, (100,100),(400,100), (255,255,0),10)\n",
    "cv2.line(img,(100,150),(400,150),(255,0,255),10)\n",
    "cv2.line(img, (100, 200), (400, 200), (0,255,255), 10)          \n",
    "cv2.line(img, (100, 250), (400, 250), (200,200,200), 10)        \n",
    "cv2.line(img, (100, 300), (400, 300), (0,0,0), 10)                    \n",
    "\n",
    "cv2.line(img, (100, 350), (400, 400), (0,0,255), 20, cv2.LINE_4)   \n",
    "cv2.line(img, (100, 400), (400, 450), (0,0,255), 20, cv2.LINE_8)    \n",
    "cv2.line(img, (100, 450), (400, 500), (0,0,255), 20, cv2.LINE_AA)   \n",
    "cv2.line(img, (0,0), (500,500), (0,0,255))     \n",
    "cv2.imshow('line', img)\n",
    "cv2.destroyAllWindows()\n",
    "cv2.waitKey(1)\n",
    "cv2.waitKey(1)\n",
    "cv2.waitKey(1)\n",
    "cv2.waitKey(1)\n"
   ]
  },
  {
   "cell_type": "code",
   "execution_count": 2,
   "metadata": {},
   "outputs": [
    {
     "name": "stdout",
     "output_type": "stream",
     "text": [
      "** face_detictions RESULT\n",
      "[[46 34 80 80]]\n"
     ]
    },
    {
     "data": {
      "text/plain": [
       "-1"
      ]
     },
     "execution_count": 2,
     "metadata": {},
     "output_type": "execute_result"
    }
   ],
   "source": [
    "#사진용\n",
    "\n",
    "frontalface_model = '../data/haarcascades/haarcascade_frontalface_alt.xml'\n",
    "img_file = '../data/img/cha1.jpeg'\n",
    "\n",
    "\n",
    "face_detector = cv2.CascadeClassifier(frontalface_model)\n",
    "\n",
    "imgNP = cv2.imread(img_file)\n",
    "\n",
    "face_detections = face_detector.detectMultiScale(imgNP)\n",
    "print(f'** face_detictions RESULT\\n{face_detections}')\n",
    "\n",
    "for (x,y,w,h) in face_detections:\n",
    "    cv2.rectangle(imgNP,(x,y),(x+w,y+h),(0,255,0),2)\n",
    "\n",
    "cv2.imshow('[M]',imgNP)\n",
    "cv2.waitKey(1)\n",
    "cv2.destroyAllWindows()\n",
    "cv2.waitKey(1)"
   ]
  },
  {
   "cell_type": "code",
   "execution_count": 13,
   "metadata": {},
   "outputs": [
    {
     "name": "stderr",
     "output_type": "stream",
     "text": [
      "[ WARN:0@625.898] global /private/var/folders/k1/30mswbxs7r1g6zwn8y4fyt500000gp/T/abs_11nitadzeg/croot/opencv-suite_1691620374638/work/modules/videoio/src/cap_gstreamer.cpp (2386) handleMessage OpenCV | GStreamer warning: your GStreamer installation is missing a required plugin\n",
      "[ WARN:0@625.898] global /private/var/folders/k1/30mswbxs7r1g6zwn8y4fyt500000gp/T/abs_11nitadzeg/croot/opencv-suite_1691620374638/work/modules/videoio/src/cap_gstreamer.cpp (2402) handleMessage OpenCV | GStreamer warning: Embedded video playback halted; module uridecodebin5 reported: Your GStreamer installation is missing a plug-in.\n",
      "[ WARN:0@625.898] global /private/var/folders/k1/30mswbxs7r1g6zwn8y4fyt500000gp/T/abs_11nitadzeg/croot/opencv-suite_1691620374638/work/modules/videoio/src/cap_gstreamer.cpp (1356) open OpenCV | GStreamer warning: unable to start pipeline\n",
      "[ WARN:0@625.898] global /private/var/folders/k1/30mswbxs7r1g6zwn8y4fyt500000gp/T/abs_11nitadzeg/croot/opencv-suite_1691620374638/work/modules/videoio/src/cap_gstreamer.cpp (862) isPipelinePlaying OpenCV | GStreamer warning: GStreamer: pipeline have not been created\n"
     ]
    },
    {
     "name": "stdout",
     "output_type": "stream",
     "text": [
      "비디오 프레임을 읽을 수 없습니다.\n",
      "** face_detictions RESULT\n",
      "()\n"
     ]
    }
   ],
   "source": []
  },
  {
   "cell_type": "code",
   "execution_count": null,
   "metadata": {},
   "outputs": [],
   "source": []
  },
  {
   "cell_type": "code",
   "execution_count": 3,
   "metadata": {},
   "outputs": [
    {
     "name": "stderr",
     "output_type": "stream",
     "text": [
      "[ WARN:0@24.421] global /private/var/folders/k1/30mswbxs7r1g6zwn8y4fyt500000gp/T/abs_11nitadzeg/croot/opencv-suite_1691620374638/work/modules/videoio/src/cap_gstreamer.cpp (2386) handleMessage OpenCV | GStreamer warning: your GStreamer installation is missing a required plugin\n",
      "[ WARN:0@24.421] global /private/var/folders/k1/30mswbxs7r1g6zwn8y4fyt500000gp/T/abs_11nitadzeg/croot/opencv-suite_1691620374638/work/modules/videoio/src/cap_gstreamer.cpp (2402) handleMessage OpenCV | GStreamer warning: Embedded video playback halted; module uridecodebin0 reported: Your GStreamer installation is missing a plug-in.\n",
      "[ WARN:0@24.422] global /private/var/folders/k1/30mswbxs7r1g6zwn8y4fyt500000gp/T/abs_11nitadzeg/croot/opencv-suite_1691620374638/work/modules/videoio/src/cap_gstreamer.cpp (1356) open OpenCV | GStreamer warning: unable to start pipeline\n",
      "[ WARN:0@24.422] global /private/var/folders/k1/30mswbxs7r1g6zwn8y4fyt500000gp/T/abs_11nitadzeg/croot/opencv-suite_1691620374638/work/modules/videoio/src/cap_gstreamer.cpp (862) isPipelinePlaying OpenCV | GStreamer warning: GStreamer: pipeline have not been created\n"
     ]
    },
    {
     "name": "stdout",
     "output_type": "stream",
     "text": [
      "비디오 프레임을 읽을 수 없습니다.\n"
     ]
    }
   ],
   "source": [
    "# 영상용\n",
    "\n",
    "frontalface_model = '../data/haarcascades/haarcascade_frontalface_alt.xml'\n",
    "video_file = '../data/video/1234.mp4'\n",
    "\n",
    "face_detector = cv2.CascadeClassifier(frontalface_model)\n",
    "camera = cv2.VideoCapture(video_file)\n",
    "\n",
    "if not camera.isOpened():\n",
    "    print(\"비디오 파일을 열 수 없습니다.\")\n",
    "    exit()\n",
    "\n",
    "while True:\n",
    "    # 비디오 프레임 읽기\n",
    "    ret, frame = camera.read()\n",
    "\n",
    "    if not ret:\n",
    "        print(\"비디오 프레임을 읽을 수 없습니다.\")\n",
    "        break\n",
    "\n",
    "    # 얼굴 검출\n",
    "    face_detections = face_detector.detectMultiScale(frame)\n",
    "\n",
    "    # 검출된 얼굴에 사각형 그리기\n",
    "    for (x, y, w, h) in face_detections:\n",
    "        cv2.rectangle(frame, (x, y), (x+w, y+h), (0, 255, 0), 2)\n",
    "\n",
    "    # 프레임 화면에 표시\n",
    "    cv2.imshow('Face Detection', frame) \n",
    "\n",
    "    # 'q' 키를 누르면 종료\n",
    "    if cv2.waitKey(1) & 0xFF == ord('q'):\n",
    "        break\n",
    "\n",
    "# 리소스 해제\n",
    "camera.release()\n",
    "cv2.destroyAllWindows()"
   ]
  },
  {
   "cell_type": "code",
   "execution_count": 8,
   "metadata": {},
   "outputs": [
    {
     "name": "stderr",
     "output_type": "stream",
     "text": [
      "[ WARN:0@390.432] global /private/var/folders/k1/30mswbxs7r1g6zwn8y4fyt500000gp/T/abs_11nitadzeg/croot/opencv-suite_1691620374638/work/modules/videoio/src/cap_gstreamer.cpp (862) isPipelinePlaying OpenCV | GStreamer warning: GStreamer: pipeline have not been created\n"
     ]
    }
   ],
   "source": [
    "# 웹캠용\n",
    "\n",
    "import cv2\n",
    "import time\n",
    "import sys\n",
    "import numpy as np\n",
    "\n",
    "frontalface_model = '../data/haarcascades/haarcascade_frontalface_alt.xml'\n",
    "video_file = '../data/video/1234.mp4'\n",
    "\n",
    "face_detector = cv2.CascadeClassifier(frontalface_model)\n",
    "camera = cv2.VideoCapture(0)\n",
    "\n",
    "if not camera.isOpened():\n",
    "    print(\"비디오 파일을 열 수 없습니다.\")\n",
    "    exit()\n",
    "\n",
    "while True:\n",
    "    # 비디오 프레임 읽기\n",
    "    ret, frame = camera.read()\n",
    "\n",
    "    if not ret:\n",
    "        print(\"비디오 프레임을 읽을 수 없습니다.\")\n",
    "        break\n",
    "\n",
    "    # 얼굴 검출\n",
    "    face_detections = face_detector.detectMultiScale(frame)\n",
    "    \n",
    "    # 검출된 얼굴에 사각형 그리기\n",
    "    for (x, y, w, h) in face_detections:\n",
    "        cv2.rectangle(frame, (x, y), (x+w, y+h), (0, 255, 0), 2)\n",
    "\n",
    "    # 프레임 화면에 표시\n",
    "    cv2.imshow('Face Detection', frame) \n",
    "\n",
    "    # 'q' 키를 누르면 종료\n",
    "    if cv2.waitKey(1) & 0xFF == ord('q'):\n",
    "        break\n",
    "\n",
    "# 리소스 해제\n",
    "camera.release()\n",
    "cv2.destroyAllWindows()"
   ]
  },
  {
   "cell_type": "code",
   "execution_count": null,
   "metadata": {},
   "outputs": [],
   "source": []
  }
 ],
 "metadata": {
  "kernelspec": {
   "display_name": "Torch_PY38",
   "language": "python",
   "name": "python3"
  },
  "language_info": {
   "codemirror_mode": {
    "name": "ipython",
    "version": 3
   },
   "file_extension": ".py",
   "mimetype": "text/x-python",
   "name": "python",
   "nbconvert_exporter": "python",
   "pygments_lexer": "ipython3",
   "version": "3.8.18"
  }
 },
 "nbformat": 4,
 "nbformat_minor": 2
}
