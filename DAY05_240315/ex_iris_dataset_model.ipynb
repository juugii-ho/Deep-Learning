{
 "cells": [
  {
   "cell_type": "markdown",
   "source": [
    "## Dataset & DataLoader 살표보기\n",
    "- Pytorch에서 배치 크기만큼 데이터를 조절하기 위한 메카니즘\n",
    "- Dataset : 사용 데이터를 기반으로 사용자 정의 클래스 작성\n",
    "- DataLoader : 지정된 Dataset에서 지정된 batch size만큼 피쳐와 타겟을 추출하여 전달"
   ],
   "metadata": {
    "collapsed": false
   },
   "id": "9b967538b2fdf3a"
  },
  {
   "cell_type": "markdown",
   "source": [
    "### [1] 모듈 로딩 및 데이터 준비 <hr>"
   ],
   "metadata": {
    "collapsed": false
   },
   "id": "abdc69df542a426d"
  },
  {
   "cell_type": "code",
   "execution_count": 255,
   "id": "initial_id",
   "metadata": {
    "collapsed": true,
    "ExecuteTime": {
     "end_time": "2024-03-15T07:51:54.560280Z",
     "start_time": "2024-03-15T07:51:54.492858Z"
    }
   },
   "outputs": [
    {
     "name": "stdout",
     "output_type": "stream",
     "text": [
      "0.15.2a0\n"
     ]
    }
   ],
   "source": [
    "### 모듈 로딩\n",
    "import torch\n",
    "import torch.nn as nn\n",
    "from torch.utils.data import Dataset, DataLoader\n",
    "\n",
    "import numpy as np\n",
    "import pandas as pd\n",
    "\n",
    "import torchvision\n",
    "\n",
    "print(torchvision.__version__)"
   ]
  },
  {
   "cell_type": "markdown",
   "source": [
    "### [2] 데이터셋 생성 <hr>"
   ],
   "metadata": {
    "collapsed": false
   },
   "id": "cfdfe0a8fb79e337"
  },
  {
   "cell_type": "markdown",
   "source": [
    "#### [2-2] 사용자정의 데이터셋 생성"
   ],
   "metadata": {
    "collapsed": false
   },
   "id": "39632c000724f231"
  },
  {
   "cell_type": "code",
   "outputs": [
    {
     "name": "stdout",
     "output_type": "stream",
     "text": [
      "<class 'pandas.core.frame.DataFrame'>\n",
      "RangeIndex: 150 entries, 0 to 149\n",
      "Data columns (total 5 columns):\n",
      " #   Column        Non-Null Count  Dtype  \n",
      "---  ------        --------------  -----  \n",
      " 0   sepal_length  150 non-null    float64\n",
      " 1   sepal_width   150 non-null    float64\n",
      " 2   petal_length  150 non-null    float64\n",
      " 3   petal_width   150 non-null    float64\n",
      " 4   species       150 non-null    object \n",
      "dtypes: float64(4), object(1)\n",
      "memory usage: 6.0+ KB\n"
     ]
    }
   ],
   "source": [
    "### 데이터 준비\n",
    "filename = '../data/text/iris.csv'\n",
    "\n",
    "irisDF = pd.read_csv(filename)\n",
    "irisDF.info()"
   ],
   "metadata": {
    "collapsed": false,
    "ExecuteTime": {
     "end_time": "2024-03-15T07:51:54.580884Z",
     "start_time": "2024-03-15T07:51:54.564714Z"
    }
   },
   "id": "1a7a4a431e6e6783",
   "execution_count": 256
  },
  {
   "cell_type": "code",
   "outputs": [],
   "source": [
    "### [2-1] 사용자정의 Dataset 클래스\n",
    "### - 데이터의 Tensor 변환 필요\n",
    "from torch.utils.data import Dataset, DataLoader, TensorDataset\n",
    "\n",
    "class DLDataset(Dataset):  # DLDataset : 자식    /    Dataset : 부모\n",
    "    \n",
    "    # 초기화 함수 콜백함수(callback functon)\n",
    "    def __init__(self, x_data, y_data):\n",
    "        super().__init__()\n",
    "        \n",
    "        # x,y 데이터 ==> ndarray\n",
    "        x_data = x_data.values if isinstance(x_data, pd.DataFrame) else x_data\n",
    "        y_data = y_data.values if isinstance(y_data, pd.DataFrame) else y_data\n",
    "        \n",
    "        # ndarray ==> tensor\n",
    "        self.feature = torch.FloatTensor(x_data)\n",
    "        self.target = torch.LongTensor(y_data)\n",
    "        print('[target & target SHAPE]', self.target.shape, self.target.ndim)\n",
    "        \n",
    "    # 데이터셋의 갯수 체크 함수 콜백함수(callback functon)\n",
    "    def __len__(self):\n",
    "        return self.target.shape[0]\n",
    "    \n",
    "    # 특정 인덱스 데이터+라벨 반환 콜백함수(callback functon)\n",
    "    def __getitem__(self, index):\n",
    "        return self.feature[index], self.target[index]"
   ],
   "metadata": {
    "collapsed": false,
    "ExecuteTime": {
     "end_time": "2024-03-15T07:51:54.605554Z",
     "start_time": "2024-03-15T07:51:54.579004Z"
    }
   },
   "id": "180ba6cebce8936e",
   "execution_count": 257
  },
  {
   "cell_type": "markdown",
   "source": [
    "= [2-2] 데이터셋 인스턴스 생성"
   ],
   "metadata": {
    "collapsed": false
   },
   "id": "6ff9976e42abd6ee"
  },
  {
   "cell_type": "code",
   "outputs": [
    {
     "name": "stdout",
     "output_type": "stream",
     "text": [
      "(150, 4), 2D\n",
      "(150,), 1D\n"
     ]
    }
   ],
   "source": [
    "### 피쳐와 라벨로 분리\n",
    "featureDF = irisDF.iloc[:,:-1]\n",
    "targetDF = irisDF.species\n",
    "\n",
    "print(f'{featureDF.shape}, {featureDF.ndim}D')\n",
    "print(f'{targetDF.shape}, {targetDF.ndim}D')\n"
   ],
   "metadata": {
    "collapsed": false,
    "ExecuteTime": {
     "end_time": "2024-03-15T07:51:54.613615Z",
     "start_time": "2024-03-15T07:51:54.582718Z"
    }
   },
   "id": "75bf722574ea97d7",
   "execution_count": 258
  },
  {
   "cell_type": "code",
   "outputs": [
    {
     "data": {
      "text/plain": "((150, 1), 2)"
     },
     "execution_count": 259,
     "metadata": {},
     "output_type": "execute_result"
    }
   ],
   "source": [
    "# object 타입 타겟 ==> int 타입 타겟 변환\n",
    "from sklearn.preprocessing import LabelEncoder\n",
    "\n",
    "targetNP = LabelEncoder().fit_transform(targetDF)\n",
    "targetNP = targetNP.reshape(-1,1)\n",
    "\n",
    "targetNP.shape, targetNP.ndim\n"
   ],
   "metadata": {
    "collapsed": false,
    "ExecuteTime": {
     "end_time": "2024-03-15T07:51:54.614412Z",
     "start_time": "2024-03-15T07:51:54.588403Z"
    }
   },
   "id": "d5caa3774ee4bc50",
   "execution_count": 259
  },
  {
   "cell_type": "code",
   "outputs": [
    {
     "name": "stdout",
     "output_type": "stream",
     "text": [
      "[target & target SHAPE] torch.Size([150, 1]) 2\n"
     ]
    },
    {
     "data": {
      "text/plain": "((tensor([5.1000, 3.5000, 1.4000, 0.2000]), tensor([0])),\n sepal_length    5.1\n sepal_width     3.5\n petal_length    1.4\n petal_width     0.2\n Name: 0, dtype: float64,\n 'setosa')"
     },
     "execution_count": 260,
     "metadata": {},
     "output_type": "execute_result"
    }
   ],
   "source": [
    "# ===> 데이터셋 생성 -> DF, NP\n",
    "my_dataset = DLDataset(featureDF,targetNP)\n",
    "my_dataset[0], featureDF.iloc[0], targetDF[0]"
   ],
   "metadata": {
    "collapsed": false,
    "ExecuteTime": {
     "end_time": "2024-03-15T07:51:54.649911Z",
     "start_time": "2024-03-15T07:51:54.609032Z"
    }
   },
   "id": "f81d0958718c8dfc",
   "execution_count": 260
  },
  {
   "cell_type": "markdown",
   "source": [
    "#### [2-3]  학습용, 검증용, 테스트용 Dataset <hr>"
   ],
   "metadata": {
    "collapsed": false
   },
   "id": "e1802daf5edc32c6"
  },
  {
   "cell_type": "code",
   "outputs": [
    {
     "data": {
      "text/plain": "<torch.utils.data.dataset.Subset at 0x291293a30>"
     },
     "execution_count": 261,
     "metadata": {},
     "output_type": "execute_result"
    }
   ],
   "source": [
    "### ===> 파이토치\n",
    "from torch.utils.data import random_split\n",
    "\n",
    "# 학습용, 검증용, 테스트 데이터 비율\n",
    "seed = torch.Generator().manual_seed(42)\n",
    "trainDS, validDS, testDS = random_split(my_dataset, lengths=[0.7,0.1,0.2], generator=seed) \n",
    "trainDS"
   ],
   "metadata": {
    "collapsed": false,
    "ExecuteTime": {
     "end_time": "2024-03-15T07:51:54.661058Z",
     "start_time": "2024-03-15T07:51:54.644366Z"
    }
   },
   "id": "2e7f8d8a29b8d631",
   "execution_count": 261
  },
  {
   "cell_type": "code",
   "outputs": [
    {
     "name": "stdout",
     "output_type": "stream",
     "text": [
      "trainDS => 105개, validDS => 15개, testDS => 30개\n"
     ]
    }
   ],
   "source": [
    "print(f'trainDS => {len(trainDS)}개, validDS => {len(validDS)}개, testDS => {len(testDS)}개')"
   ],
   "metadata": {
    "collapsed": false,
    "ExecuteTime": {
     "end_time": "2024-03-15T07:51:54.677447Z",
     "start_time": "2024-03-15T07:51:54.656995Z"
    }
   },
   "id": "d60078c58d80a194",
   "execution_count": 262
  },
  {
   "cell_type": "code",
   "outputs": [
    {
     "name": "stdout",
     "output_type": "stream",
     "text": [
      "Subset 속성 =>\n",
      "indices : [42, 95, 30, 64, 52, 35, 130, 40, 82, 17, 108, 94, 68, 97, 117, 127, 41, 44, 57, 140, 149, 32, 23, 102, 16, 113, 71, 18, 67, 66, 0, 25, 101, 112, 91, 3, 59, 116, 86, 84, 106, 142, 43, 39, 26, 98, 93, 20, 87, 19, 120, 114, 7, 63, 76, 89, 36, 45, 37, 56, 58, 122, 51, 145, 24, 21, 105, 62, 15, 11, 48, 133, 88, 50, 6, 134, 111, 8, 49, 75, 69, 124, 4, 147, 80, 100, 99, 141, 47, 107, 13, 109, 129, 28, 38, 53, 121, 5, 55, 31, 73, 74, 54, 29, 12] \n",
      " dataset : <__main__.DLDataset object at 0x28b1a0820>\n",
      "Subset 속성 =>\n",
      "indices : [22, 104, 81, 1, 103, 125, 85, 2, 96, 128, 27, 118, 77, 110, 146] \n",
      " dataset : <__main__.DLDataset object at 0x28b1a0820>\n",
      "Subset 속성 =>\n",
      "indices : [72, 139, 131, 60, 65, 92, 135, 83, 14, 34, 137, 10, 119, 9, 148, 79, 78, 70, 144, 143, 123, 115, 61, 132, 90, 46, 126, 136, 33, 138] \n",
      " dataset : <__main__.DLDataset object at 0x28b1a0820>\n"
     ]
    }
   ],
   "source": [
    "print(f'Subset 속성 =>\\nindices : {trainDS.indices} \\n dataset : {trainDS.dataset}')\n",
    "print(f'Subset 속성 =>\\nindices : {validDS.indices} \\n dataset : {validDS.dataset}')\n",
    "print(f'Subset 속성 =>\\nindices : {testDS.indices} \\n dataset : {testDS.dataset}')\n"
   ],
   "metadata": {
    "collapsed": false,
    "ExecuteTime": {
     "end_time": "2024-03-15T07:51:54.703829Z",
     "start_time": "2024-03-15T07:51:54.679695Z"
    }
   },
   "id": "942d2fd5d00f0f0",
   "execution_count": 263
  },
  {
   "cell_type": "markdown",
   "source": [
    "[3] DataLoader 생성 : 학습용, 검증용, 테스트용"
   ],
   "metadata": {
    "collapsed": false
   },
   "id": "9a32fbe0ba175a13"
  },
  {
   "cell_type": "code",
   "outputs": [
    {
     "data": {
      "text/plain": "(105, 15, 30)"
     },
     "execution_count": 264,
     "metadata": {},
     "output_type": "execute_result"
    }
   ],
   "source": [
    "# DataLoader 생성\n",
    "# drop_list 매개변수 : 배치 사이즈로 데이터셋 분리 후 남는 데이터 처리 방법 설정 [기본 : False]\n",
    "batch = 5\n",
    "trainDL = DataLoader(trainDS, batch_size=batch)\n",
    "validDL = DataLoader(validDS, batch_size=batch)\n",
    "testDL = DataLoader(trainDS, batch_size=batch)\n",
    "\n",
    "len(trainDS), len(validDS), len(testDS)\n"
   ],
   "metadata": {
    "collapsed": false,
    "ExecuteTime": {
     "end_time": "2024-03-15T07:51:54.725380Z",
     "start_time": "2024-03-15T07:51:54.706951Z"
    }
   },
   "id": "396f52fd85f439ee",
   "execution_count": 264
  },
  {
   "cell_type": "code",
   "outputs": [
    {
     "name": "stdout",
     "output_type": "stream",
     "text": [
      "batch_size : 10\n",
      "trainDS => 105개, validDS => 15개, testDF => 30개\n",
      "trainDL => 21개, validDS => 3개, testDF => 21개\n"
     ]
    }
   ],
   "source": [
    "# Epoch당 반복 단위\n",
    "print('batch_size : 10')\n",
    "print(f'trainDS => {len(trainDS)}개, validDS => {len(validDS)}개, testDF => {len(testDS)}개')\n",
    "print(f'trainDL => {len(trainDL)}개, validDS => {len(validDL)}개, testDF => {len(testDL)}개')"
   ],
   "metadata": {
    "collapsed": false,
    "ExecuteTime": {
     "end_time": "2024-03-15T07:51:54.756302Z",
     "start_time": "2024-03-15T07:51:54.726412Z"
    }
   },
   "id": "d81df64bc0f053a8",
   "execution_count": 265
  },
  {
   "cell_type": "code",
   "outputs": [
    {
     "name": "stdout",
     "output_type": "stream",
     "text": [
      "[0] feature torch.Size([5, 4])\n",
      "[1] feature torch.Size([5, 4])\n",
      "[2] feature torch.Size([5, 4])\n"
     ]
    }
   ],
   "source": [
    "# DataLoader 속성\n",
    "for _ , (feature,target) in enumerate(validDL):\n",
    "    print(f'[{_}] feature {feature.shape}')"
   ],
   "metadata": {
    "collapsed": false,
    "ExecuteTime": {
     "end_time": "2024-03-15T07:51:54.757464Z",
     "start_time": "2024-03-15T07:51:54.731480Z"
    }
   },
   "id": "8c97ea1c1ffe02dd",
   "execution_count": 266
  },
  {
   "cell_type": "markdown",
   "source": [
    "### [4] Model 클래스의 정의 : 입/출력 피쳐  수, 층 수, 은닉층의 노드/퍼셉트론/유닛 수 <hr>\n",
    "- 구조 설계\n",
    "    - 입력 층 : 입력(=피쳐 갯수) => iris 4개\n",
    "    - 은닉 층 : 마음대로 알아서 잘\n",
    "    - 출력 층 : 출력(=[분류] 타겟 클래스 갯수, [회귀] 1개) - 지금은 iris 분류"
   ],
   "metadata": {
    "collapsed": false
   },
   "id": "2e3d69dfc9cb9d33"
  },
  {
   "cell_type": "code",
   "outputs": [],
   "source": [
    "## 모델 클래스 정의\n",
    "# 클래스명 : CModel\n",
    "\n",
    "class CModel(nn.Module):\n",
    "    # 구성요소 정의 함수\n",
    "    def __init__(self, in_dim, out_dim):\n",
    "        super().__init__()\n",
    "        self.input_layer = nn.Linear(in_dim, 100)\n",
    "        self.relu = nn.ReLU()\n",
    "        self.hidden_layer = nn.Linear(100, 27)\n",
    "        self.output_layer = nn.Linear(27, out_dim)\n",
    "        \n",
    "    # 순방향 학습 진행 함수\n",
    "    def forward(self, x):\n",
    "        x = self.input_layer(x)     # W1X1 + W2X2 + ... + WnXn + b 100개를 반환 함 \n",
    "        x = self.relu(x)            # relu() 결과 100개 반환\n",
    "        x = self.hidden_layer(x)    # W1X1 + W2X2 + ... + WnXn + b  27개를 반환 함\n",
    "        x = self.relu(x)            # relu() 결과  27개 반환\n",
    "        x = self.output_layer(x)    # W1X1 + W2X2 + ... + WnXn + b   3개를 반환 함 \n",
    "        return x\n",
    "    \n",
    "    \n",
    "class LinearClassifier(nn.Module):\n",
    "    def __init__(self,in_,out_):\n",
    "        super().__init__()\n",
    "        self.layers = nn.Sequential(\n",
    "            nn.Linear(in_,50),\n",
    "            nn.ReLU(),\n",
    "            nn.Linear(50,10),\n",
    "            nn.ReLU(),\n",
    "            nn.Linear(10,out_))\n",
    "        \n",
    "    def forward(self, x):\n",
    "        x = self.layers(x)\n",
    "        return x"
   ],
   "metadata": {
    "collapsed": false,
    "ExecuteTime": {
     "end_time": "2024-03-15T07:51:54.759457Z",
     "start_time": "2024-03-15T07:51:54.740783Z"
    }
   },
   "id": "aa594f2ac96b2767",
   "execution_count": 267
  },
  {
   "cell_type": "code",
   "outputs": [
    {
     "data": {
      "text/plain": "array(['setosa', 'versicolor', 'virginica'], dtype=object)"
     },
     "execution_count": 268,
     "metadata": {},
     "output_type": "execute_result"
    }
   ],
   "source": [
    "targetDF.unique()"
   ],
   "metadata": {
    "collapsed": false,
    "ExecuteTime": {
     "end_time": "2024-03-15T07:51:54.792711Z",
     "start_time": "2024-03-15T07:51:54.761896Z"
    }
   },
   "id": "76668e542128fad3",
   "execution_count": 268
  },
  {
   "cell_type": "code",
   "outputs": [
    {
     "data": {
      "text/plain": "(105, 3)"
     },
     "execution_count": 269,
     "metadata": {},
     "output_type": "execute_result"
    }
   ],
   "source": [
    "in_ = len(trainDS)\n",
    "out_ = len(targetDF.unique())\n",
    "in_, out_"
   ],
   "metadata": {
    "collapsed": false,
    "ExecuteTime": {
     "end_time": "2024-03-15T07:51:54.794941Z",
     "start_time": "2024-03-15T07:51:54.770776Z"
    }
   },
   "id": "bf6dfa8a5a833aa9",
   "execution_count": 269
  },
  {
   "cell_type": "code",
   "outputs": [
    {
     "data": {
      "text/plain": "LinearClassifier(\n  (layers): Sequential(\n    (0): Linear(in_features=105, out_features=50, bias=True)\n    (1): ReLU()\n    (2): Linear(in_features=50, out_features=10, bias=True)\n    (3): ReLU()\n    (4): Linear(in_features=10, out_features=3, bias=True)\n  )\n)"
     },
     "execution_count": 270,
     "metadata": {},
     "output_type": "execute_result"
    }
   ],
   "source": [
    "model2 = LinearClassifier(in_,out_)\n",
    "model2"
   ],
   "metadata": {
    "collapsed": false,
    "ExecuteTime": {
     "end_time": "2024-03-15T07:51:54.816743Z",
     "start_time": "2024-03-15T07:51:54.796368Z"
    }
   },
   "id": "ce8f892dd9f8582",
   "execution_count": 270
  },
  {
   "cell_type": "markdown",
   "source": [
    "### [5] 학습 준비 : 실행디바이스, 모델, 최적화, 손실함수, 학습횟수, 학습함수, 평가함수, 예측함수 <hr>"
   ],
   "metadata": {
    "collapsed": false
   },
   "id": "5c2fb257c3f1857f"
  },
  {
   "cell_type": "code",
   "outputs": [],
   "source": [
    "# 상수가 없기 때문에 대문자로 가독성 좋게 구분\n",
    "# 상수로 만들기 위해서 튜플로 만들어서 쓰는 방법도 - (A) or A,\n",
    "\n",
    "# 실행 디바이스 설정\n",
    "DEVICE = 'cuda' if torch.cuda.is_available() else 'cpu'\n",
    "\n",
    "# 학습횟수\n",
    "EPOCHS = 50\n"
   ],
   "metadata": {
    "collapsed": false,
    "ExecuteTime": {
     "end_time": "2024-03-15T07:51:54.849535Z",
     "start_time": "2024-03-15T07:51:54.818195Z"
    }
   },
   "id": "eea715240b59abef",
   "execution_count": 271
  },
  {
   "cell_type": "code",
   "outputs": [
    {
     "name": "stdout",
     "output_type": "stream",
     "text": [
      " IN : 4, OUT : 3\n",
      "CModel(\n",
      "  (input_layer): Linear(in_features=4, out_features=100, bias=True)\n",
      "  (relu): ReLU()\n",
      "  (hidden_layer): Linear(in_features=100, out_features=27, bias=True)\n",
      "  (output_layer): Linear(in_features=27, out_features=3, bias=True)\n",
      ")\n"
     ]
    }
   ],
   "source": [
    "# 모델 인스턴스\n",
    "IN, OUT = my_dataset.feature.shape[1], len(targetDF.unique())\n",
    "model = CModel(IN, OUT).to(DEVICE)\n",
    "print(f' IN : {IN}, OUT : {OUT}')\n",
    "print(model)"
   ],
   "metadata": {
    "collapsed": false,
    "ExecuteTime": {
     "end_time": "2024-03-15T07:51:54.851704Z",
     "start_time": "2024-03-15T07:51:54.827736Z"
    }
   },
   "id": "6e8220bf954866a0",
   "execution_count": 272
  },
  {
   "cell_type": "code",
   "outputs": [],
   "source": [
    "# 손실함수\n",
    "LOSS_FN = nn.CrossEntropyLoss().to(DEVICE)\n",
    "\n",
    "# 최적화 인스턴스\n",
    "import torch.optim as optim\n",
    "OPTIMIZER = optim.Adam(model.parameters())\n",
    "\n"
   ],
   "metadata": {
    "collapsed": false,
    "ExecuteTime": {
     "end_time": "2024-03-15T07:51:54.875217Z",
     "start_time": "2024-03-15T07:51:54.854541Z"
    }
   },
   "id": "a33133ca7f953b08",
   "execution_count": 273
  },
  {
   "cell_type": "markdown",
   "source": [
    "#### - 학습 및 검증 관련 함수 정의"
   ],
   "metadata": {
    "collapsed": false
   },
   "id": "834869b1ea7ef655"
  },
  {
   "cell_type": "code",
   "outputs": [],
   "source": [
    "### ==> 학습 진행함수\n",
    "def training():\n",
    "    # 학습모드 => 정규화, 경사하강법, 드랍아웃 등의 기능 활성화\n",
    "    model.train()\n",
    "    \n",
    "    # 배치크기 만큼 학습 진행\n",
    "    train_loss = []\n",
    "    for cnt, (feature, target) in enumerate(trainDL):\n",
    "        # print(cnt,feature,target)\n",
    "        feature, target = feature.to(DEVICE), target.to(DEVICE)\n",
    "        target = target.squeeze()\n",
    "        \n",
    "        # 학습\n",
    "        pre_target = model(feature)\n",
    "        \n",
    "        # 손실계산\n",
    "        loss = LOSS_FN(pre_target, target)\n",
    "        train_loss.append(loss)\n",
    "        \n",
    "        # W, b 업데이트\n",
    "        OPTIMIZER.zero_grad()\n",
    "        loss.backward()\n",
    "        OPTIMIZER.step()\n",
    "    \n",
    "        # 배치 단위 학습 진행 메시지 출력\n",
    "        # print(f'[Train {cnt} loss] => {loss}')\n",
    "    \n",
    "    # 에포크 단위 학습 진행 메시지 출력\n",
    "    # print(f'[Train loss] => {loss}')\n",
    "    \n",
    "    return train_loss\n",
    "        "
   ],
   "metadata": {
    "collapsed": false,
    "ExecuteTime": {
     "end_time": "2024-03-15T07:51:54.897272Z",
     "start_time": "2024-03-15T07:51:54.877216Z"
    }
   },
   "id": "31fc68daeb34c837",
   "execution_count": 274
  },
  {
   "cell_type": "code",
   "outputs": [],
   "source": [
    "### ==> 검증 및 평가 진행함수\n",
    "# 매개변수 dataLoader : 검증 또는 테스트 데이터셋에 대한 Loader\n",
    "\n",
    "import torchmetrics.functional as metrics\n",
    "\n",
    "def testing(dataLoader):\n",
    "    # 추론모드 => 정규화, 경사하강법, 드랍아웃 등의 기능 비활성화\n",
    "    model.eval()\n",
    "    \n",
    "    with torch.no_grad():\n",
    "    # 배치크기 만큼 학습 진행\n",
    "        val_loss = []\n",
    "        for cnt, (feature, target) in enumerate(validDL):\n",
    "            # print(cnt,feature,target)\n",
    "            feature, target = feature.to(DEVICE), target.to(DEVICE)\n",
    "            target = target.squeeze()\n",
    "            \n",
    "            # 학습\n",
    "            pre_target = model(feature)\n",
    "            \n",
    "            # 손실계산\n",
    "            loss = LOSS_FN(pre_target, target)\n",
    "            val_loss.append(loss)\n",
    "            \n",
    "    acc = metrics.accuracy(pre_target, target, task='multiclass', num_classes=3)\n",
    "    # print(f'[Valid loss] ==> {loss:.4f} [Valid Accuracy] ==> {acc:.4f}')\n",
    "        \n",
    "    return val_loss\n",
    "        "
   ],
   "metadata": {
    "collapsed": false,
    "ExecuteTime": {
     "end_time": "2024-03-15T08:00:43.599152Z",
     "start_time": "2024-03-15T08:00:43.592582Z"
    }
   },
   "id": "d97073943c8a7af2",
   "execution_count": 293
  },
  {
   "cell_type": "code",
   "outputs": [],
   "source": [
    "### ==> 예측함수\n",
    "def predict():\n",
    "    pass"
   ],
   "metadata": {
    "collapsed": false,
    "ExecuteTime": {
     "end_time": "2024-03-15T08:00:43.773921Z",
     "start_time": "2024-03-15T08:00:43.765909Z"
    }
   },
   "id": "9596d5ea25e2c9ec",
   "execution_count": 294
  },
  {
   "cell_type": "markdown",
   "source": [
    "### [6] 학습 진행 <hr>"
   ],
   "metadata": {
    "collapsed": false
   },
   "id": "f06bfa1a2924824d"
  },
  {
   "cell_type": "code",
   "outputs": [
    {
     "name": "stdout",
     "output_type": "stream",
     "text": [
      "[0/50] LOSS : 0.0194,           VALID : 0.0183\n",
      "\n",
      "count 1\n",
      "tensor(0.0183)\n",
      "[1/50] LOSS : 0.0196,           VALID : 0.0179\n",
      "\n",
      "count 2\n",
      "tensor(0.0179)\n",
      "[2/50] LOSS : 0.0198,           VALID : 0.0176\n",
      "\n",
      "count 3\n",
      "tensor(0.0176)\n",
      "[3/50] LOSS : 0.0189,           VALID : 0.0179\n",
      "\n",
      "[4/50] LOSS : 0.0192,           VALID : 0.0174\n",
      "\n",
      "count 1\n",
      "tensor(0.0174)\n",
      "[5/50] LOSS : 0.0184,           VALID : 0.0179\n",
      "\n",
      "[6/50] LOSS : 0.0190,           VALID : 0.0172\n",
      "\n",
      "count 1\n",
      "tensor(0.0172)\n",
      "[7/50] LOSS : 0.0193,           VALID : 0.0169\n",
      "\n",
      "count 2\n",
      "tensor(0.0169)\n",
      "[8/50] LOSS : 0.0182,           VALID : 0.0171\n",
      "\n",
      "[9/50] LOSS : 0.0184,           VALID : 0.0168\n",
      "\n",
      "count 1\n",
      "tensor(0.0168)\n",
      "[10/50] LOSS : 0.0177,           VALID : 0.0172\n",
      "\n",
      "[11/50] LOSS : 0.0183,           VALID : 0.0165\n",
      "\n",
      "count 1\n",
      "tensor(0.0165)\n",
      "[12/50] LOSS : 0.0186,           VALID : 0.0163\n",
      "\n",
      "count 2\n",
      "tensor(0.0163)\n",
      "[13/50] LOSS : 0.0176,           VALID : 0.0164\n",
      "\n",
      "[14/50] LOSS : 0.0177,           VALID : 0.0161\n",
      "\n",
      "count 1\n",
      "tensor(0.0161)\n",
      "[15/50] LOSS : 0.0170,           VALID : 0.0166\n",
      "\n",
      "[16/50] LOSS : 0.0176,           VALID : 0.0159\n",
      "\n",
      "count 1\n",
      "tensor(0.0159)\n",
      "[17/50] LOSS : 0.0168,           VALID : 0.0163\n",
      "\n",
      "[18/50] LOSS : 0.0173,           VALID : 0.0157\n",
      "\n",
      "count 1\n",
      "tensor(0.0157)\n",
      "[19/50] LOSS : 0.0165,           VALID : 0.0161\n",
      "\n",
      "[20/50] LOSS : 0.0171,           VALID : 0.0154\n",
      "\n",
      "count 1\n",
      "tensor(0.0154)\n",
      "[21/50] LOSS : 0.0163,           VALID : 0.0159\n",
      "\n",
      "[22/50] LOSS : 0.0168,           VALID : 0.0152\n",
      "\n",
      "count 1\n",
      "tensor(0.0152)\n",
      "[23/50] LOSS : 0.0160,           VALID : 0.0157\n",
      "\n",
      "[24/50] LOSS : 0.0166,           VALID : 0.0150\n",
      "\n",
      "count 1\n",
      "tensor(0.0150)\n",
      "[25/50] LOSS : 0.0158,           VALID : 0.0154\n",
      "\n",
      "[26/50] LOSS : 0.0163,           VALID : 0.0147\n",
      "\n",
      "count 1\n",
      "tensor(0.0147)\n",
      "[27/50] LOSS : 0.0155,           VALID : 0.0152\n",
      "\n",
      "[28/50] LOSS : 0.0161,           VALID : 0.0145\n",
      "\n",
      "count 1\n",
      "tensor(0.0145)\n",
      "[29/50] LOSS : 0.0152,           VALID : 0.0150\n",
      "\n",
      "[30/50] LOSS : 0.0158,           VALID : 0.0143\n",
      "\n",
      "count 1\n",
      "tensor(0.0143)\n",
      "[31/50] LOSS : 0.0150,           VALID : 0.0148\n",
      "\n",
      "[32/50] LOSS : 0.0156,           VALID : 0.0141\n",
      "\n",
      "count 1\n",
      "tensor(0.0141)\n",
      "[33/50] LOSS : 0.0147,           VALID : 0.0146\n",
      "\n",
      "[34/50] LOSS : 0.0153,           VALID : 0.0139\n",
      "\n",
      "count 1\n",
      "tensor(0.0139)\n",
      "[35/50] LOSS : 0.0145,           VALID : 0.0144\n",
      "\n",
      "[36/50] LOSS : 0.0151,           VALID : 0.0137\n",
      "\n",
      "count 1\n",
      "tensor(0.0137)\n",
      "[37/50] LOSS : 0.0143,           VALID : 0.0142\n",
      "\n",
      "[38/50] LOSS : 0.0149,           VALID : 0.0135\n",
      "\n",
      "count 1\n",
      "tensor(0.0135)\n",
      "[39/50] LOSS : 0.0140,           VALID : 0.0141\n",
      "\n",
      "[40/50] LOSS : 0.0146,           VALID : 0.0133\n",
      "\n",
      "count 1\n",
      "tensor(0.0133)\n",
      "[41/50] LOSS : 0.0138,           VALID : 0.0139\n",
      "\n",
      "[42/50] LOSS : 0.0144,           VALID : 0.0131\n",
      "\n",
      "count 1\n",
      "tensor(0.0131)\n",
      "[43/50] LOSS : 0.0135,           VALID : 0.0137\n",
      "\n",
      "[44/50] LOSS : 0.0141,           VALID : 0.0129\n",
      "\n",
      "count 1\n",
      "tensor(0.0129)\n",
      "[45/50] LOSS : 0.0133,           VALID : 0.0135\n",
      "\n",
      "[46/50] LOSS : 0.0139,           VALID : 0.0127\n",
      "\n",
      "count 1\n",
      "tensor(0.0127)\n",
      "[47/50] LOSS : 0.0131,           VALID : 0.0133\n",
      "\n",
      "[48/50] LOSS : 0.0137,           VALID : 0.0125\n",
      "\n",
      "count 1\n",
      "tensor(0.0125)\n",
      "[49/50] LOSS : 0.0128,           VALID : 0.0131\n"
     ]
    }
   ],
   "source": [
    "### ===> 지정된 횟수 만큼 처음부터 ~ 끝까지 학습 및 검증 진행\n",
    "### ===> 목표 : 최적(Error 최소화)의 W, b를 가진 모델 완성\n",
    "\n",
    "count = 0\n",
    "val = 10\n",
    "for eps in range(EPOCHS):\n",
    "    # 학습\n",
    "    train_loss = training()\n",
    "    \n",
    "    # 검증\n",
    "    valid_loss = testing(validDL)\n",
    "    \n",
    "    print(f'[{eps}/{EPOCHS}] LOSS : {sum(train_loss)/len(train_loss):.4f}, \\\n",
    "          VALID : {sum(valid_loss)/len(valid_loss):.4f}\\n')\n",
    "    \n",
    "    # 조기종료 기능 ==> 조건 : val_loss가 지정된 횟수(예:5) 이상 개선이 안되면 학습 종료\n",
    "    if count==5:\n",
    "        break\n",
    "    elif (sum(valid_loss)/len(valid_loss))<=val:\n",
    "         val = (sum(valid_loss)/len(valid_loss))\n",
    "         count +=1\n",
    "         print('count', count)\n",
    "         print(val)\n",
    "    else:\n",
    "        count = 0\n",
    "        "
   ],
   "metadata": {
    "collapsed": false,
    "ExecuteTime": {
     "end_time": "2024-03-15T08:02:54.307476Z",
     "start_time": "2024-03-15T08:02:53.813905Z"
    }
   },
   "id": "5ff88c7e1b2afcc2",
   "execution_count": 298
  },
  {
   "cell_type": "code",
   "outputs": [],
   "source": [],
   "metadata": {
    "collapsed": false,
    "ExecuteTime": {
     "end_time": "2024-03-15T08:00:35.151765Z",
     "start_time": "2024-03-15T08:00:35.144986Z"
    }
   },
   "id": "ebf88ea0b9d5b0c5",
   "execution_count": 291
  },
  {
   "cell_type": "code",
   "outputs": [
    {
     "name": "stdout",
     "output_type": "stream",
     "text": [
      "0번째 반복 ==> train_loss : [tensor(0.0005, grad_fn=<NllLossBackward0>), tensor(0.0001, grad_fn=<NllLossBackward0>), tensor(0.1344, grad_fn=<NllLossBackward0>), tensor(0.0145, grad_fn=<NllLossBackward0>), tensor(0.0005, grad_fn=<NllLossBackward0>), tensor(0.0202, grad_fn=<NllLossBackward0>), tensor(0.0010, grad_fn=<NllLossBackward0>), tensor(0.0535, grad_fn=<NllLossBackward0>), tensor(0.0003, grad_fn=<NllLossBackward0>), tensor(0.0028, grad_fn=<NllLossBackward0>), tensor(0.0024, grad_fn=<NllLossBackward0>), tensor(0.0006, grad_fn=<NllLossBackward0>), tensor(0.0013, grad_fn=<NllLossBackward0>), tensor(0.0001, grad_fn=<NllLossBackward0>), tensor(0.1428, grad_fn=<NllLossBackward0>), tensor(0.0006, grad_fn=<NllLossBackward0>), tensor(0.0050, grad_fn=<NllLossBackward0>), tensor(0.0199, grad_fn=<NllLossBackward0>), tensor(0.0175, grad_fn=<NllLossBackward0>), tensor(0.0058, grad_fn=<NllLossBackward0>), tensor(0.0020, grad_fn=<NllLossBackward0>)], valid_loss : [tensor(0.0002), tensor(0.0007), tensor(0.0533)]\n"
     ]
    },
    {
     "name": "stderr",
     "output_type": "stream",
     "text": [
      "/Users/sml/anaconda3/envs/Torch_PY38/lib/python3.8/site-packages/torch/optim/lr_scheduler.py:28: UserWarning: The verbose parameter is deprecated. Please use get_last_lr() to access the learning rate.\n",
      "  warnings.warn(\"The verbose parameter is deprecated. Please use get_last_lr() \"\n"
     ]
    },
    {
     "ename": "TypeError",
     "evalue": "float() argument must be a string or a number, not 'list'",
     "output_type": "error",
     "traceback": [
      "\u001B[0;31m---------------------------------------------------------------------------\u001B[0m",
      "\u001B[0;31mTypeError\u001B[0m                                 Traceback (most recent call last)",
      "Cell \u001B[0;32mIn[297], line 11\u001B[0m\n\u001B[1;32m      9\u001B[0m valid_loss\u001B[38;5;241m=\u001B[39mtesting(validDL)\n\u001B[1;32m     10\u001B[0m \u001B[38;5;28mprint\u001B[39m(\u001B[38;5;124mf\u001B[39m\u001B[38;5;124m'\u001B[39m\u001B[38;5;132;01m{\u001B[39;00meps\u001B[38;5;132;01m}\u001B[39;00m\u001B[38;5;124m번째 반복 ==> train_loss : \u001B[39m\u001B[38;5;132;01m{\u001B[39;00mtrain_loss\u001B[38;5;132;01m}\u001B[39;00m\u001B[38;5;124m, valid_loss : \u001B[39m\u001B[38;5;132;01m{\u001B[39;00mvalid_loss\u001B[38;5;132;01m}\u001B[39;00m\u001B[38;5;124m'\u001B[39m)\n\u001B[0;32m---> 11\u001B[0m \u001B[43mscheduler\u001B[49m\u001B[38;5;241;43m.\u001B[39;49m\u001B[43mstep\u001B[49m\u001B[43m(\u001B[49m\u001B[43mvalid_loss\u001B[49m\u001B[43m)\u001B[49m\n\u001B[1;32m     12\u001B[0m \u001B[38;5;28;01mif\u001B[39;00m scheduler\u001B[38;5;241m.\u001B[39mnum_bad_epochs \u001B[38;5;241m>\u001B[39m scheduler\u001B[38;5;241m.\u001B[39mpatience:\n\u001B[1;32m     13\u001B[0m     \u001B[38;5;28mprint\u001B[39m(\u001B[38;5;124mf\u001B[39m\u001B[38;5;124m\"\u001B[39m\u001B[38;5;124mEarly stopping at epoch \u001B[39m\u001B[38;5;132;01m{\u001B[39;00meps\u001B[38;5;132;01m}\u001B[39;00m\u001B[38;5;124m\"\u001B[39m)\n",
      "File \u001B[0;32m~/anaconda3/envs/Torch_PY38/lib/python3.8/site-packages/torch/optim/lr_scheduler.py:1052\u001B[0m, in \u001B[0;36mReduceLROnPlateau.step\u001B[0;34m(self, metrics, epoch)\u001B[0m\n\u001B[1;32m   1050\u001B[0m \u001B[38;5;28;01mdef\u001B[39;00m \u001B[38;5;21mstep\u001B[39m(\u001B[38;5;28mself\u001B[39m, metrics, epoch\u001B[38;5;241m=\u001B[39m\u001B[38;5;28;01mNone\u001B[39;00m):\n\u001B[1;32m   1051\u001B[0m     \u001B[38;5;66;03m# convert `metrics` to float, in case it's a zero-dim Tensor\u001B[39;00m\n\u001B[0;32m-> 1052\u001B[0m     current \u001B[38;5;241m=\u001B[39m \u001B[38;5;28;43mfloat\u001B[39;49m\u001B[43m(\u001B[49m\u001B[43mmetrics\u001B[49m\u001B[43m)\u001B[49m\n\u001B[1;32m   1053\u001B[0m     \u001B[38;5;28;01mif\u001B[39;00m epoch \u001B[38;5;129;01mis\u001B[39;00m \u001B[38;5;28;01mNone\u001B[39;00m:\n\u001B[1;32m   1054\u001B[0m         epoch \u001B[38;5;241m=\u001B[39m \u001B[38;5;28mself\u001B[39m\u001B[38;5;241m.\u001B[39mlast_epoch \u001B[38;5;241m+\u001B[39m \u001B[38;5;241m1\u001B[39m\n",
      "\u001B[0;31mTypeError\u001B[0m: float() argument must be a string or a number, not 'list'"
     ]
    }
   ],
   "source": [
    "from torch.optim.lr_scheduler import ReduceLROnPlateau\n",
    "optimizer = torch.optim.SGD(model.parameters(), lr=0.001, momentum=0.9)\n",
    "scheduler = ReduceLROnPlateau(optimizer, 'min', patience=10, verbose=True)\n",
    "\n",
    "\n",
    "\n",
    "for eps in range(EPOCHS): # 50\n",
    "    train_loss=training()\n",
    "    valid_loss=testing(validDL)\n",
    "    print(f'{eps}번째 반복 ==> train_loss : {train_loss}, valid_loss : {valid_loss}')\n",
    "    scheduler.step(valid_loss)\n",
    "    if scheduler.num_bad_epochs > scheduler.patience:\n",
    "        print(f\"Early stopping at epoch {eps}\")\n",
    "        break"
   ],
   "metadata": {
    "collapsed": false,
    "ExecuteTime": {
     "end_time": "2024-03-15T08:01:27.685787Z",
     "start_time": "2024-03-15T08:01:27.545493Z"
    }
   },
   "id": "3dca5ea17bffce30",
   "execution_count": 297
  },
  {
   "cell_type": "code",
   "outputs": [],
   "source": [],
   "metadata": {
    "collapsed": false,
    "ExecuteTime": {
     "end_time": "2024-03-15T07:51:54.931970Z",
     "start_time": "2024-03-15T07:51:54.923476Z"
    }
   },
   "id": "db4956b9a7e18680",
   "execution_count": 277
  },
  {
   "cell_type": "code",
   "outputs": [],
   "source": [],
   "metadata": {
    "collapsed": false,
    "ExecuteTime": {
     "end_time": "2024-03-15T07:51:54.948658Z",
     "start_time": "2024-03-15T07:51:54.933198Z"
    }
   },
   "id": "a38893b10c9dcd6e",
   "execution_count": 277
  }
 ],
 "metadata": {
  "kernelspec": {
   "display_name": "Python 3",
   "language": "python",
   "name": "python3"
  },
  "language_info": {
   "codemirror_mode": {
    "name": "ipython",
    "version": 2
   },
   "file_extension": ".py",
   "mimetype": "text/x-python",
   "name": "python",
   "nbconvert_exporter": "python",
   "pygments_lexer": "ipython2",
   "version": "2.7.6"
  }
 },
 "nbformat": 4,
 "nbformat_minor": 5
}
