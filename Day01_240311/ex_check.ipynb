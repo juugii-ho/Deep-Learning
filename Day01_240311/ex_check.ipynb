{
 "cells": [
  {
   "cell_type": "code",
   "execution_count": 1,
   "id": "initial_id",
   "metadata": {
    "collapsed": true,
    "ExecuteTime": {
     "end_time": "2024-03-11T00:44:38.786017Z",
     "start_time": "2024-03-11T00:44:37.918947Z"
    }
   },
   "outputs": [],
   "source": [
    "# 모듈 로딩 및 버전 체크\n",
    "\n",
    "import pandas as pd\n",
    "import seaborn as sns\n",
    "import matplotlib as mt\n",
    "import sklearn as sk\n",
    "import torch"
   ]
  },
  {
   "cell_type": "code",
   "outputs": [
    {
     "name": "stdout",
     "output_type": "stream",
     "text": [
      "Pandas v2.0.3\n",
      "Seaborn v0.12.2\n",
      "Matplotlib v3.7.2\n",
      "Scikit-learn v1.3.0\n",
      "Pytorch v2.2.0\n"
     ]
    }
   ],
   "source": [
    "# 버전 정보 출력\n",
    "print(f'Pandas v{pd.__version__}')\n",
    "print(f'Seaborn v{sns.__version__}')\n",
    "print(f'Matplotlib v{mt.__version__}')\n",
    "print(f'Scikit-learn v{sk.__version__}')\n",
    "print(f'Pytorch v{torch.__version__}')\n"
   ],
   "metadata": {
    "collapsed": false,
    "ExecuteTime": {
     "end_time": "2024-03-11T00:45:34.015905Z",
     "start_time": "2024-03-11T00:45:34.013620Z"
    }
   },
   "id": "31f1f62feacb0792",
   "execution_count": 2
  },
  {
   "cell_type": "code",
   "outputs": [
    {
     "name": "stdout",
     "output_type": "stream",
     "text": [
      "GPU =< False\n"
     ]
    }
   ],
   "source": [
    "# 해당 PC에 GPU 여부\n",
    "print(f'GPU =< {torch.cuda.is_available()}')"
   ],
   "metadata": {
    "collapsed": false,
    "ExecuteTime": {
     "end_time": "2024-03-11T00:49:50.123278Z",
     "start_time": "2024-03-11T00:49:50.120158Z"
    }
   },
   "id": "21b4cae95f8753e0",
   "execution_count": 3
  },
  {
   "cell_type": "code",
   "outputs": [],
   "source": [
    "# 저장 및 실행 Device 설정\n",
    "DEVICE = 'cuda' if torch.cuda.is_available() else 'cpu'"
   ],
   "metadata": {
    "collapsed": false,
    "ExecuteTime": {
     "end_time": "2024-03-11T00:51:26.517968Z",
     "start_time": "2024-03-11T00:51:26.514621Z"
    }
   },
   "id": "bb178ad0d8aef2dc",
   "execution_count": 4
  },
  {
   "cell_type": "code",
   "outputs": [
    {
     "name": "stdout",
     "output_type": "stream",
     "text": [
      "MPS 장치를 지원하도록 build가 되었는가? False\n",
      "MPS 장치가 사용 가능한가? False\n"
     ]
    }
   ],
   "source": [
    "import torch\n",
    "print(f\"MPS 장치를 지원하도록 build가 되었는가? {torch.backends.mps.is_built()}\")\n",
    "print(f\"MPS 장치가 사용 가능한가? {torch.backends.mps.is_available()}\") "
   ],
   "metadata": {
    "collapsed": false,
    "ExecuteTime": {
     "end_time": "2024-03-11T00:54:39.657312Z",
     "start_time": "2024-03-11T00:54:39.652897Z"
    }
   },
   "id": "300adf8edadd057a",
   "execution_count": 5
  },
  {
   "cell_type": "code",
   "outputs": [
    {
     "name": "stdout",
     "output_type": "stream",
     "text": [
      "False\n"
     ]
    }
   ],
   "source": [
    "print(torch.backends.mps.is_built())"
   ],
   "metadata": {
    "collapsed": false,
    "ExecuteTime": {
     "end_time": "2024-03-11T00:59:31.585645Z",
     "start_time": "2024-03-11T00:59:31.581492Z"
    }
   },
   "id": "243a76194e2f0eac",
   "execution_count": 6
  },
  {
   "cell_type": "code",
   "outputs": [],
   "source": [],
   "metadata": {
    "collapsed": false
   },
   "id": "71e752d13db26ccc"
  }
 ],
 "metadata": {
  "kernelspec": {
   "display_name": "Python 3",
   "language": "python",
   "name": "python3"
  },
  "language_info": {
   "codemirror_mode": {
    "name": "ipython",
    "version": 2
   },
   "file_extension": ".py",
   "mimetype": "text/x-python",
   "name": "python",
   "nbconvert_exporter": "python",
   "pygments_lexer": "ipython2",
   "version": "2.7.6"
  }
 },
 "nbformat": 4,
 "nbformat_minor": 5
}
